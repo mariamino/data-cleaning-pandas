{
 "cells": [
  {
   "cell_type": "code",
   "execution_count": 184,
   "id": "558fbd86",
   "metadata": {},
   "outputs": [
    {
     "name": "stdout",
     "output_type": "stream",
     "text": [
      "Requirement already satisfied: ipython in /Users/maria/opt/anaconda3/envs/clase/lib/python3.7/site-packages (7.34.0)\n",
      "Requirement already satisfied: pygments in /Users/maria/opt/anaconda3/envs/clase/lib/python3.7/site-packages (from ipython) (2.13.0)\n",
      "Requirement already satisfied: matplotlib-inline in /Users/maria/opt/anaconda3/envs/clase/lib/python3.7/site-packages (from ipython) (0.1.6)\n",
      "Requirement already satisfied: backcall in /Users/maria/opt/anaconda3/envs/clase/lib/python3.7/site-packages (from ipython) (0.2.0)\n",
      "Requirement already satisfied: jedi>=0.16 in /Users/maria/opt/anaconda3/envs/clase/lib/python3.7/site-packages (from ipython) (0.18.1)\n",
      "Requirement already satisfied: setuptools>=18.5 in /Users/maria/opt/anaconda3/envs/clase/lib/python3.7/site-packages (from ipython) (63.4.1)\n",
      "Requirement already satisfied: traitlets>=4.2 in /Users/maria/opt/anaconda3/envs/clase/lib/python3.7/site-packages (from ipython) (5.4.0)\n",
      "Requirement already satisfied: prompt-toolkit!=3.0.0,!=3.0.1,<3.1.0,>=2.0.0 in /Users/maria/opt/anaconda3/envs/clase/lib/python3.7/site-packages (from ipython) (3.0.31)\n",
      "Requirement already satisfied: pickleshare in /Users/maria/opt/anaconda3/envs/clase/lib/python3.7/site-packages (from ipython) (0.7.5)\n",
      "Requirement already satisfied: decorator in /Users/maria/opt/anaconda3/envs/clase/lib/python3.7/site-packages (from ipython) (5.1.1)\n",
      "Requirement already satisfied: pexpect>4.3 in /Users/maria/opt/anaconda3/envs/clase/lib/python3.7/site-packages (from ipython) (4.8.0)\n",
      "Requirement already satisfied: appnope in /Users/maria/opt/anaconda3/envs/clase/lib/python3.7/site-packages (from ipython) (0.1.3)\n",
      "Requirement already satisfied: parso<0.9.0,>=0.8.0 in /Users/maria/opt/anaconda3/envs/clase/lib/python3.7/site-packages (from jedi>=0.16->ipython) (0.8.3)\n",
      "Requirement already satisfied: ptyprocess>=0.5 in /Users/maria/opt/anaconda3/envs/clase/lib/python3.7/site-packages (from pexpect>4.3->ipython) (0.7.0)\n",
      "Requirement already satisfied: wcwidth in /Users/maria/opt/anaconda3/envs/clase/lib/python3.7/site-packages (from prompt-toolkit!=3.0.0,!=3.0.1,<3.1.0,>=2.0.0->ipython) (0.2.5)\n",
      "Note: you may need to restart the kernel to use updated packages.\n",
      "Requirement already satisfied: seaborn in /Users/maria/opt/anaconda3/envs/clase/lib/python3.7/site-packages (0.12.1)\n",
      "Requirement already satisfied: numpy>=1.17 in /Users/maria/opt/anaconda3/envs/clase/lib/python3.7/site-packages (from seaborn) (1.21.6)\n",
      "Requirement already satisfied: matplotlib!=3.6.1,>=3.1 in /Users/maria/opt/anaconda3/envs/clase/lib/python3.7/site-packages (from seaborn) (3.5.3)\n",
      "Requirement already satisfied: typing_extensions in /Users/maria/opt/anaconda3/envs/clase/lib/python3.7/site-packages (from seaborn) (4.4.0)\n",
      "Requirement already satisfied: pandas>=0.25 in /Users/maria/opt/anaconda3/envs/clase/lib/python3.7/site-packages (from seaborn) (1.3.5)\n",
      "Requirement already satisfied: cycler>=0.10 in /Users/maria/opt/anaconda3/envs/clase/lib/python3.7/site-packages (from matplotlib!=3.6.1,>=3.1->seaborn) (0.11.0)\n",
      "Requirement already satisfied: packaging>=20.0 in /Users/maria/opt/anaconda3/envs/clase/lib/python3.7/site-packages (from matplotlib!=3.6.1,>=3.1->seaborn) (21.3)\n",
      "Requirement already satisfied: pillow>=6.2.0 in /Users/maria/opt/anaconda3/envs/clase/lib/python3.7/site-packages (from matplotlib!=3.6.1,>=3.1->seaborn) (9.2.0)\n",
      "Requirement already satisfied: pyparsing>=2.2.1 in /Users/maria/opt/anaconda3/envs/clase/lib/python3.7/site-packages (from matplotlib!=3.6.1,>=3.1->seaborn) (3.0.9)\n",
      "Requirement already satisfied: kiwisolver>=1.0.1 in /Users/maria/opt/anaconda3/envs/clase/lib/python3.7/site-packages (from matplotlib!=3.6.1,>=3.1->seaborn) (1.4.4)\n",
      "Requirement already satisfied: fonttools>=4.22.0 in /Users/maria/opt/anaconda3/envs/clase/lib/python3.7/site-packages (from matplotlib!=3.6.1,>=3.1->seaborn) (4.38.0)\n",
      "Requirement already satisfied: python-dateutil>=2.7 in /Users/maria/opt/anaconda3/envs/clase/lib/python3.7/site-packages (from matplotlib!=3.6.1,>=3.1->seaborn) (2.8.2)\n",
      "Requirement already satisfied: pytz>=2017.3 in /Users/maria/opt/anaconda3/envs/clase/lib/python3.7/site-packages (from pandas>=0.25->seaborn) (2022.4)\n",
      "Requirement already satisfied: six>=1.5 in /Users/maria/opt/anaconda3/envs/clase/lib/python3.7/site-packages (from python-dateutil>=2.7->matplotlib!=3.6.1,>=3.1->seaborn) (1.16.0)\n",
      "Note: you may need to restart the kernel to use updated packages.\n"
     ]
    }
   ],
   "source": [
    "%pip install ipython\n",
    "%pip install seaborn"
   ]
  },
  {
   "cell_type": "code",
   "execution_count": 185,
   "id": "95e191ca",
   "metadata": {},
   "outputs": [],
   "source": [
    "import pandas as pd\n",
    "pd.set_option('display.max_columns', None)\n",
    "\n",
    "import numpy as np\n",
    "\n",
    "import warnings\n",
    "warnings.filterwarnings('ignore')\n",
    "\n",
    "\n",
    "# para pintar\n",
    "import pylab as plt\n",
    "import seaborn as sns\n",
    "\n",
    "#para que salga el grafico\n",
    "%matplotlib inline\n",
    "\n",
    "import csv"
   ]
  },
  {
   "cell_type": "code",
   "execution_count": 186,
   "id": "1d3613fc",
   "metadata": {},
   "outputs": [
    {
     "data": {
      "text/html": [
       "<div>\n",
       "<style scoped>\n",
       "    .dataframe tbody tr th:only-of-type {\n",
       "        vertical-align: middle;\n",
       "    }\n",
       "\n",
       "    .dataframe tbody tr th {\n",
       "        vertical-align: top;\n",
       "    }\n",
       "\n",
       "    .dataframe thead th {\n",
       "        text-align: right;\n",
       "    }\n",
       "</style>\n",
       "<table border=\"1\" class=\"dataframe\">\n",
       "  <thead>\n",
       "    <tr style=\"text-align: right;\">\n",
       "      <th></th>\n",
       "      <th>Case Number</th>\n",
       "      <th>Date</th>\n",
       "      <th>Year</th>\n",
       "      <th>Type</th>\n",
       "      <th>Country</th>\n",
       "      <th>Area</th>\n",
       "      <th>Location</th>\n",
       "      <th>Activity</th>\n",
       "      <th>Name</th>\n",
       "      <th>Sex</th>\n",
       "      <th>Age</th>\n",
       "      <th>Injury</th>\n",
       "      <th>Fatal (Y/N)</th>\n",
       "      <th>Time</th>\n",
       "      <th>Species</th>\n",
       "      <th>Investigator or Source</th>\n",
       "      <th>pdf</th>\n",
       "      <th>href formula</th>\n",
       "      <th>href</th>\n",
       "      <th>Case Number.1</th>\n",
       "      <th>Case Number.2</th>\n",
       "      <th>original order</th>\n",
       "      <th>Unnamed: 22</th>\n",
       "      <th>Unnamed: 23</th>\n",
       "    </tr>\n",
       "  </thead>\n",
       "  <tbody>\n",
       "    <tr>\n",
       "      <th>0</th>\n",
       "      <td>2018.06.25</td>\n",
       "      <td>25-Jun-2018</td>\n",
       "      <td>2018.0</td>\n",
       "      <td>Boating</td>\n",
       "      <td>USA</td>\n",
       "      <td>California</td>\n",
       "      <td>Oceanside, San Diego County</td>\n",
       "      <td>Paddling</td>\n",
       "      <td>Julie Wolfe</td>\n",
       "      <td>F</td>\n",
       "      <td>57</td>\n",
       "      <td>No injury to occupant, outrigger canoe and pad...</td>\n",
       "      <td>N</td>\n",
       "      <td>18h00</td>\n",
       "      <td>White shark</td>\n",
       "      <td>R. Collier, GSAF</td>\n",
       "      <td>2018.06.25-Wolfe.pdf</td>\n",
       "      <td>http://sharkattackfile.net/spreadsheets/pdf_di...</td>\n",
       "      <td>http://sharkattackfile.net/spreadsheets/pdf_di...</td>\n",
       "      <td>2018.06.25</td>\n",
       "      <td>2018.06.25</td>\n",
       "      <td>6303.0</td>\n",
       "      <td>NaN</td>\n",
       "      <td>NaN</td>\n",
       "    </tr>\n",
       "    <tr>\n",
       "      <th>1</th>\n",
       "      <td>2018.06.18</td>\n",
       "      <td>18-Jun-2018</td>\n",
       "      <td>2018.0</td>\n",
       "      <td>Unprovoked</td>\n",
       "      <td>USA</td>\n",
       "      <td>Georgia</td>\n",
       "      <td>St. Simon Island, Glynn County</td>\n",
       "      <td>Standing</td>\n",
       "      <td>Adyson McNeely</td>\n",
       "      <td>F</td>\n",
       "      <td>11</td>\n",
       "      <td>Minor injury to left thigh</td>\n",
       "      <td>N</td>\n",
       "      <td>14h00  -15h00</td>\n",
       "      <td>NaN</td>\n",
       "      <td>K.McMurray, TrackingSharks.com</td>\n",
       "      <td>2018.06.18-McNeely.pdf</td>\n",
       "      <td>http://sharkattackfile.net/spreadsheets/pdf_di...</td>\n",
       "      <td>http://sharkattackfile.net/spreadsheets/pdf_di...</td>\n",
       "      <td>2018.06.18</td>\n",
       "      <td>2018.06.18</td>\n",
       "      <td>6302.0</td>\n",
       "      <td>NaN</td>\n",
       "      <td>NaN</td>\n",
       "    </tr>\n",
       "    <tr>\n",
       "      <th>2</th>\n",
       "      <td>2018.06.09</td>\n",
       "      <td>09-Jun-2018</td>\n",
       "      <td>2018.0</td>\n",
       "      <td>Invalid</td>\n",
       "      <td>USA</td>\n",
       "      <td>Hawaii</td>\n",
       "      <td>Habush, Oahu</td>\n",
       "      <td>Surfing</td>\n",
       "      <td>John Denges</td>\n",
       "      <td>M</td>\n",
       "      <td>48</td>\n",
       "      <td>Injury to left lower leg from surfboard skeg</td>\n",
       "      <td>N</td>\n",
       "      <td>07h45</td>\n",
       "      <td>NaN</td>\n",
       "      <td>K.McMurray, TrackingSharks.com</td>\n",
       "      <td>2018.06.09-Denges.pdf</td>\n",
       "      <td>http://sharkattackfile.net/spreadsheets/pdf_di...</td>\n",
       "      <td>http://sharkattackfile.net/spreadsheets/pdf_di...</td>\n",
       "      <td>2018.06.09</td>\n",
       "      <td>2018.06.09</td>\n",
       "      <td>6301.0</td>\n",
       "      <td>NaN</td>\n",
       "      <td>NaN</td>\n",
       "    </tr>\n",
       "    <tr>\n",
       "      <th>3</th>\n",
       "      <td>2018.06.08</td>\n",
       "      <td>08-Jun-2018</td>\n",
       "      <td>2018.0</td>\n",
       "      <td>Unprovoked</td>\n",
       "      <td>AUSTRALIA</td>\n",
       "      <td>New South Wales</td>\n",
       "      <td>Arrawarra Headland</td>\n",
       "      <td>Surfing</td>\n",
       "      <td>male</td>\n",
       "      <td>M</td>\n",
       "      <td>NaN</td>\n",
       "      <td>Minor injury to lower leg</td>\n",
       "      <td>N</td>\n",
       "      <td>NaN</td>\n",
       "      <td>2 m shark</td>\n",
       "      <td>B. Myatt, GSAF</td>\n",
       "      <td>2018.06.08-Arrawarra.pdf</td>\n",
       "      <td>http://sharkattackfile.net/spreadsheets/pdf_di...</td>\n",
       "      <td>http://sharkattackfile.net/spreadsheets/pdf_di...</td>\n",
       "      <td>2018.06.08</td>\n",
       "      <td>2018.06.08</td>\n",
       "      <td>6300.0</td>\n",
       "      <td>NaN</td>\n",
       "      <td>NaN</td>\n",
       "    </tr>\n",
       "    <tr>\n",
       "      <th>4</th>\n",
       "      <td>2018.06.04</td>\n",
       "      <td>04-Jun-2018</td>\n",
       "      <td>2018.0</td>\n",
       "      <td>Provoked</td>\n",
       "      <td>MEXICO</td>\n",
       "      <td>Colima</td>\n",
       "      <td>La Ticla</td>\n",
       "      <td>Free diving</td>\n",
       "      <td>Gustavo Ramos</td>\n",
       "      <td>M</td>\n",
       "      <td>NaN</td>\n",
       "      <td>Lacerations to leg &amp; hand shark PROVOKED INCIDENT</td>\n",
       "      <td>N</td>\n",
       "      <td>NaN</td>\n",
       "      <td>Tiger shark, 3m</td>\n",
       "      <td>A .Kipper</td>\n",
       "      <td>2018.06.04-Ramos.pdf</td>\n",
       "      <td>http://sharkattackfile.net/spreadsheets/pdf_di...</td>\n",
       "      <td>http://sharkattackfile.net/spreadsheets/pdf_di...</td>\n",
       "      <td>2018.06.04</td>\n",
       "      <td>2018.06.04</td>\n",
       "      <td>6299.0</td>\n",
       "      <td>NaN</td>\n",
       "      <td>NaN</td>\n",
       "    </tr>\n",
       "  </tbody>\n",
       "</table>\n",
       "</div>"
      ],
      "text/plain": [
       "  Case Number         Date    Year        Type    Country             Area  \\\n",
       "0  2018.06.25  25-Jun-2018  2018.0     Boating        USA       California   \n",
       "1  2018.06.18  18-Jun-2018  2018.0  Unprovoked        USA          Georgia   \n",
       "2  2018.06.09  09-Jun-2018  2018.0     Invalid        USA           Hawaii   \n",
       "3  2018.06.08  08-Jun-2018  2018.0  Unprovoked  AUSTRALIA  New South Wales   \n",
       "4  2018.06.04  04-Jun-2018  2018.0    Provoked     MEXICO           Colima   \n",
       "\n",
       "                         Location     Activity             Name Sex   Age  \\\n",
       "0     Oceanside, San Diego County     Paddling      Julie Wolfe    F   57   \n",
       "1  St. Simon Island, Glynn County     Standing  Adyson McNeely     F   11   \n",
       "2                    Habush, Oahu      Surfing      John Denges    M   48   \n",
       "3              Arrawarra Headland      Surfing             male    M  NaN   \n",
       "4                        La Ticla  Free diving   Gustavo Ramos     M  NaN   \n",
       "\n",
       "                                              Injury Fatal (Y/N)  \\\n",
       "0  No injury to occupant, outrigger canoe and pad...           N   \n",
       "1                         Minor injury to left thigh           N   \n",
       "2       Injury to left lower leg from surfboard skeg           N   \n",
       "3                          Minor injury to lower leg           N   \n",
       "4  Lacerations to leg & hand shark PROVOKED INCIDENT           N   \n",
       "\n",
       "            Time         Species           Investigator or Source  \\\n",
       "0          18h00      White shark                R. Collier, GSAF   \n",
       "1  14h00  -15h00              NaN  K.McMurray, TrackingSharks.com   \n",
       "2          07h45              NaN  K.McMurray, TrackingSharks.com   \n",
       "3            NaN        2 m shark                  B. Myatt, GSAF   \n",
       "4            NaN  Tiger shark, 3m                       A .Kipper   \n",
       "\n",
       "                        pdf  \\\n",
       "0      2018.06.25-Wolfe.pdf   \n",
       "1    2018.06.18-McNeely.pdf   \n",
       "2     2018.06.09-Denges.pdf   \n",
       "3  2018.06.08-Arrawarra.pdf   \n",
       "4      2018.06.04-Ramos.pdf   \n",
       "\n",
       "                                        href formula  \\\n",
       "0  http://sharkattackfile.net/spreadsheets/pdf_di...   \n",
       "1  http://sharkattackfile.net/spreadsheets/pdf_di...   \n",
       "2  http://sharkattackfile.net/spreadsheets/pdf_di...   \n",
       "3  http://sharkattackfile.net/spreadsheets/pdf_di...   \n",
       "4  http://sharkattackfile.net/spreadsheets/pdf_di...   \n",
       "\n",
       "                                                href Case Number.1  \\\n",
       "0  http://sharkattackfile.net/spreadsheets/pdf_di...    2018.06.25   \n",
       "1  http://sharkattackfile.net/spreadsheets/pdf_di...    2018.06.18   \n",
       "2  http://sharkattackfile.net/spreadsheets/pdf_di...    2018.06.09   \n",
       "3  http://sharkattackfile.net/spreadsheets/pdf_di...    2018.06.08   \n",
       "4  http://sharkattackfile.net/spreadsheets/pdf_di...    2018.06.04   \n",
       "\n",
       "  Case Number.2  original order Unnamed: 22 Unnamed: 23  \n",
       "0    2018.06.25          6303.0         NaN         NaN  \n",
       "1    2018.06.18          6302.0         NaN         NaN  \n",
       "2    2018.06.09          6301.0         NaN         NaN  \n",
       "3    2018.06.08          6300.0         NaN         NaN  \n",
       "4    2018.06.04          6299.0         NaN         NaN  "
      ]
     },
     "execution_count": 186,
     "metadata": {},
     "output_type": "execute_result"
    }
   ],
   "source": [
    "sharks_ori = pd.read_csv('data/attacks.csv', encoding='latin1')\n",
    "\n",
    "sk=sharks_ori.copy()\n",
    "\n",
    "sk.head()"
   ]
  },
  {
   "cell_type": "code",
   "execution_count": 187,
   "id": "16902cfa",
   "metadata": {},
   "outputs": [
    {
     "data": {
      "text/plain": [
       "(25723, 24)"
      ]
     },
     "execution_count": 187,
     "metadata": {},
     "output_type": "execute_result"
    }
   ],
   "source": [
    "sharks_ori.shape"
   ]
  },
  {
   "cell_type": "code",
   "execution_count": 188,
   "id": "37172572",
   "metadata": {
    "scrolled": true
   },
   "outputs": [
    {
     "data": {
      "text/plain": [
       "(25723, 24)"
      ]
     },
     "execution_count": 188,
     "metadata": {},
     "output_type": "execute_result"
    }
   ],
   "source": [
    "sk.shape"
   ]
  },
  {
   "cell_type": "code",
   "execution_count": 189,
   "id": "c528ab60",
   "metadata": {
    "scrolled": true
   },
   "outputs": [
    {
     "name": "stdout",
     "output_type": "stream",
     "text": [
      "<class 'pandas.core.frame.DataFrame'>\n",
      "RangeIndex: 25723 entries, 0 to 25722\n",
      "Data columns (total 24 columns):\n",
      " #   Column                  Non-Null Count  Dtype  \n",
      "---  ------                  --------------  -----  \n",
      " 0   Case Number             8702 non-null   object \n",
      " 1   Date                    6302 non-null   object \n",
      " 2   Year                    6300 non-null   float64\n",
      " 3   Type                    6298 non-null   object \n",
      " 4   Country                 6252 non-null   object \n",
      " 5   Area                    5847 non-null   object \n",
      " 6   Location                5762 non-null   object \n",
      " 7   Activity                5758 non-null   object \n",
      " 8   Name                    6092 non-null   object \n",
      " 9   Sex                     5737 non-null   object \n",
      " 10  Age                     3471 non-null   object \n",
      " 11  Injury                  6274 non-null   object \n",
      " 12  Fatal (Y/N)             5763 non-null   object \n",
      " 13  Time                    2948 non-null   object \n",
      " 14  Species                 3464 non-null   object \n",
      " 15  Investigator or Source  6285 non-null   object \n",
      " 16  pdf                     6302 non-null   object \n",
      " 17  href formula            6301 non-null   object \n",
      " 18  href                    6302 non-null   object \n",
      " 19  Case Number.1           6302 non-null   object \n",
      " 20  Case Number.2           6302 non-null   object \n",
      " 21  original order          6309 non-null   float64\n",
      " 22  Unnamed: 22             1 non-null      object \n",
      " 23  Unnamed: 23             2 non-null      object \n",
      "dtypes: float64(2), object(22)\n",
      "memory usage: 22.8 MB\n"
     ]
    }
   ],
   "source": [
    "sk.info(memory_usage='deep')"
   ]
  },
  {
   "cell_type": "code",
   "execution_count": 190,
   "id": "41be6cc3",
   "metadata": {
    "scrolled": true
   },
   "outputs": [
    {
     "data": {
      "text/plain": [
       "Index(['Case Number', 'Date', 'Year', 'Type', 'Country', 'Area', 'Location',\n",
       "       'Activity', 'Name', 'Sex ', 'Age', 'Injury', 'Fatal (Y/N)', 'Time',\n",
       "       'Species ', 'Investigator or Source', 'pdf', 'href formula', 'href',\n",
       "       'Case Number.1', 'Case Number.2', 'original order', 'Unnamed: 22',\n",
       "       'Unnamed: 23'],\n",
       "      dtype='object')"
      ]
     },
     "execution_count": 190,
     "metadata": {},
     "output_type": "execute_result"
    }
   ],
   "source": [
    "sk.columns"
   ]
  },
  {
   "cell_type": "code",
   "execution_count": 191,
   "id": "ad8f38eb",
   "metadata": {},
   "outputs": [],
   "source": [
    "sk = sk.rename(columns={'Sex ': 'Sex','Fatal (Y/N)': 'Fatal','Species ': 'Species' })"
   ]
  },
  {
   "cell_type": "code",
   "execution_count": 192,
   "id": "a2524738",
   "metadata": {},
   "outputs": [
    {
     "data": {
      "text/plain": [
       "Int64Index([ 8702,  8703,  8704,  8705,  8706,  8707,  8708,  8709,  8710,\n",
       "             8711,\n",
       "            ...\n",
       "            25712, 25713, 25714, 25715, 25716, 25717, 25718, 25719, 25720,\n",
       "            25721],\n",
       "           dtype='int64', length=17020)"
      ]
     },
     "execution_count": 192,
     "metadata": {},
     "output_type": "execute_result"
    }
   ],
   "source": [
    "selected_rows = sk[sk.isnull().all(axis=1)]\n",
    "selected_rows.index"
   ]
  },
  {
   "cell_type": "code",
   "execution_count": 193,
   "id": "acc92664",
   "metadata": {},
   "outputs": [],
   "source": [
    "sk.drop(selected_rows.index,inplace=True)"
   ]
  },
  {
   "cell_type": "code",
   "execution_count": 194,
   "id": "4251cb59",
   "metadata": {},
   "outputs": [
    {
     "data": {
      "text/plain": [
       "(8703, 24)"
      ]
     },
     "execution_count": 194,
     "metadata": {},
     "output_type": "execute_result"
    }
   ],
   "source": [
    "sk.shape"
   ]
  },
  {
   "cell_type": "code",
   "execution_count": 195,
   "id": "6148b447",
   "metadata": {},
   "outputs": [
    {
     "data": {
      "text/plain": [
       "Unnamed: 22               99.988510\n",
       "Unnamed: 23               99.977019\n",
       "Time                      66.126623\n",
       "Species                   60.197633\n",
       "Age                       60.117201\n",
       "Sex                       34.080202\n",
       "Activity                  33.838906\n",
       "Location                  33.792945\n",
       "Fatal                     33.781455\n",
       "Area                      32.816270\n",
       "Name                      30.001149\n",
       "Country                   28.162703\n",
       "Injury                    27.909916\n",
       "Investigator or Source    27.783523\n",
       "Type                      27.634149\n",
       "Year                      27.611169\n",
       "href formula              27.599678\n",
       "Date                      27.588188\n",
       "pdf                       27.588188\n",
       "href                      27.588188\n",
       "Case Number.1             27.588188\n",
       "Case Number.2             27.588188\n",
       "original order            27.507756\n",
       "Case Number                0.011490\n",
       "dtype: float64"
      ]
     },
     "execution_count": 195,
     "metadata": {},
     "output_type": "execute_result"
    }
   ],
   "source": [
    "nan_cols=sk.isna().mean() * 100  # porcentaje de nulos por columna\n",
    "\n",
    "pepe= nan_cols[nan_cols>0].sort_values(ascending=False)\n",
    "\n",
    "pepe"
   ]
  },
  {
   "cell_type": "code",
   "execution_count": 196,
   "id": "f2660987",
   "metadata": {},
   "outputs": [],
   "source": [
    "sk.drop(columns=['Unnamed: 22', 'Unnamed: 23'], inplace=True)"
   ]
  },
  {
   "cell_type": "code",
   "execution_count": 197,
   "id": "12bbf4f6",
   "metadata": {},
   "outputs": [
    {
     "data": {
      "text/plain": [
       "(8703, 22)"
      ]
     },
     "execution_count": 197,
     "metadata": {},
     "output_type": "execute_result"
    }
   ],
   "source": [
    "sk.shape"
   ]
  },
  {
   "cell_type": "code",
   "execution_count": 198,
   "id": "74f194d0",
   "metadata": {
    "scrolled": true
   },
   "outputs": [],
   "source": [
    "sk.Species.fillna('unknown', inplace=True)"
   ]
  },
  {
   "cell_type": "code",
   "execution_count": 199,
   "id": "d0f07b67",
   "metadata": {
    "scrolled": true
   },
   "outputs": [
    {
     "data": {
      "text/plain": [
       "Time                      66.126623\n",
       "Age                       60.117201\n",
       "Sex                       34.080202\n",
       "Activity                  33.838906\n",
       "Location                  33.792945\n",
       "Fatal                     33.781455\n",
       "Area                      32.816270\n",
       "Name                      30.001149\n",
       "Country                   28.162703\n",
       "Injury                    27.909916\n",
       "Investigator or Source    27.783523\n",
       "Type                      27.634149\n",
       "Year                      27.611169\n",
       "href formula              27.599678\n",
       "Case Number.2             27.588188\n",
       "Date                      27.588188\n",
       "pdf                       27.588188\n",
       "href                      27.588188\n",
       "Case Number.1             27.588188\n",
       "original order            27.507756\n",
       "Case Number                0.011490\n",
       "dtype: float64"
      ]
     },
     "execution_count": 199,
     "metadata": {},
     "output_type": "execute_result"
    }
   ],
   "source": [
    "nan_cols=sk.isna().mean() * 100  # porcentaje de nulos por columna\n",
    "\n",
    "pepe= nan_cols[nan_cols>0].sort_values(ascending=False)\n",
    "\n",
    "pepe"
   ]
  },
  {
   "cell_type": "code",
   "execution_count": 200,
   "id": "91f6c2ab",
   "metadata": {},
   "outputs": [
    {
     "name": "stdout",
     "output_type": "stream",
     "text": [
      "<class 'pandas.core.frame.DataFrame'>\n",
      "Int64Index: 8703 entries, 0 to 25722\n",
      "Data columns (total 22 columns):\n",
      " #   Column                  Non-Null Count  Dtype  \n",
      "---  ------                  --------------  -----  \n",
      " 0   Case Number             8702 non-null   object \n",
      " 1   Date                    6302 non-null   object \n",
      " 2   Year                    6300 non-null   float64\n",
      " 3   Type                    6298 non-null   object \n",
      " 4   Country                 6252 non-null   object \n",
      " 5   Area                    5847 non-null   object \n",
      " 6   Location                5762 non-null   object \n",
      " 7   Activity                5758 non-null   object \n",
      " 8   Name                    6092 non-null   object \n",
      " 9   Sex                     5737 non-null   object \n",
      " 10  Age                     3471 non-null   object \n",
      " 11  Injury                  6274 non-null   object \n",
      " 12  Fatal                   5763 non-null   object \n",
      " 13  Time                    2948 non-null   object \n",
      " 14  Species                 8703 non-null   object \n",
      " 15  Investigator or Source  6285 non-null   object \n",
      " 16  pdf                     6302 non-null   object \n",
      " 17  href formula            6301 non-null   object \n",
      " 18  href                    6302 non-null   object \n",
      " 19  Case Number.1           6302 non-null   object \n",
      " 20  Case Number.2           6302 non-null   object \n",
      " 21  original order          6309 non-null   float64\n",
      "dtypes: float64(2), object(20)\n",
      "memory usage: 10.8 MB\n"
     ]
    }
   ],
   "source": [
    "sk.info(memory_usage='deep')"
   ]
  },
  {
   "cell_type": "markdown",
   "id": "e5576438",
   "metadata": {},
   "source": [
    "Convertir las columnas numéricas a float:"
   ]
  },
  {
   "cell_type": "code",
   "execution_count": 201,
   "id": "0a016b05",
   "metadata": {},
   "outputs": [],
   "source": [
    "col_deberian_num=['Age']"
   ]
  },
  {
   "cell_type": "code",
   "execution_count": 202,
   "id": "b14df62b",
   "metadata": {},
   "outputs": [],
   "source": [
    "sk['Age'] = pd.to_numeric(sk['Age'], errors='coerce',downcast='integer')"
   ]
  },
  {
   "cell_type": "code",
   "execution_count": 203,
   "id": "ecf97d3a",
   "metadata": {
    "scrolled": true
   },
   "outputs": [
    {
     "data": {
      "text/plain": [
       "dtype('float64')"
      ]
     },
     "execution_count": 203,
     "metadata": {},
     "output_type": "execute_result"
    }
   ],
   "source": [
    "sk.Age.dtype"
   ]
  },
  {
   "cell_type": "markdown",
   "id": "b8cf6eb0",
   "metadata": {},
   "source": [
    "Convertir las columnas con contenido temporal a datetime:"
   ]
  },
  {
   "cell_type": "code",
   "execution_count": 204,
   "id": "91932adf",
   "metadata": {},
   "outputs": [],
   "source": [
    "col_deberian_daytime=['Date','Case Number.1','Case Number.2']"
   ]
  },
  {
   "cell_type": "code",
   "execution_count": 205,
   "id": "f9a81f03",
   "metadata": {},
   "outputs": [],
   "source": [
    "sk['Case Number.1'] = pd.to_datetime(sk['Case Number.1'], errors='coerce')"
   ]
  },
  {
   "cell_type": "code",
   "execution_count": 206,
   "id": "3f988850",
   "metadata": {},
   "outputs": [],
   "source": [
    "sk['Case Number.2'] = pd.to_datetime(sk['Case Number.2'], errors='coerce')"
   ]
  },
  {
   "cell_type": "code",
   "execution_count": 207,
   "id": "9837ace8",
   "metadata": {},
   "outputs": [
    {
     "name": "stdout",
     "output_type": "stream",
     "text": [
      "<class 'pandas.core.frame.DataFrame'>\n",
      "Int64Index: 8703 entries, 0 to 25722\n",
      "Data columns (total 22 columns):\n",
      " #   Column                  Non-Null Count  Dtype         \n",
      "---  ------                  --------------  -----         \n",
      " 0   Case Number             8702 non-null   object        \n",
      " 1   Date                    6302 non-null   object        \n",
      " 2   Year                    6300 non-null   float64       \n",
      " 3   Type                    6298 non-null   object        \n",
      " 4   Country                 6252 non-null   object        \n",
      " 5   Area                    5847 non-null   object        \n",
      " 6   Location                5762 non-null   object        \n",
      " 7   Activity                5758 non-null   object        \n",
      " 8   Name                    6092 non-null   object        \n",
      " 9   Sex                     5737 non-null   object        \n",
      " 10  Age                     3369 non-null   float64       \n",
      " 11  Injury                  6274 non-null   object        \n",
      " 12  Fatal                   5763 non-null   object        \n",
      " 13  Time                    2948 non-null   object        \n",
      " 14  Species                 8703 non-null   object        \n",
      " 15  Investigator or Source  6285 non-null   object        \n",
      " 16  pdf                     6302 non-null   object        \n",
      " 17  href formula            6301 non-null   object        \n",
      " 18  href                    6302 non-null   object        \n",
      " 19  Case Number.1           3815 non-null   datetime64[ns]\n",
      " 20  Case Number.2           3813 non-null   datetime64[ns]\n",
      " 21  original order          6309 non-null   float64       \n",
      "dtypes: datetime64[ns](2), float64(3), object(17)\n",
      "memory usage: 9.6 MB\n"
     ]
    }
   ],
   "source": [
    "sk.info(memory_usage='deep')"
   ]
  },
  {
   "cell_type": "markdown",
   "id": "4a773467",
   "metadata": {},
   "source": [
    "Convetir los NaN a 'unknown':"
   ]
  },
  {
   "cell_type": "code",
   "execution_count": 208,
   "id": "30a91daa",
   "metadata": {},
   "outputs": [],
   "source": [
    "sk.Time.fillna('unknown', inplace=True)"
   ]
  },
  {
   "cell_type": "code",
   "execution_count": 209,
   "id": "ca63b835",
   "metadata": {},
   "outputs": [
    {
     "data": {
      "text/plain": [
       "array(['18h00', '14h00  -15h00', '07h45', 'unknown', 'Late afternoon',\n",
       "       '17h00', '14h00', 'Morning', '15h00', '08h15', '11h00', '10h30',\n",
       "       '10h40', '16h50', '07h00', '09h30', 'Afternoon', '21h50', '09h40',\n",
       "       '08h00', '17h35', '15h30', '07h30', '19h00, Dusk', 'Night',\n",
       "       '16h00', '15h01', '12h00', '13h45', '23h30', '09h00', '14h30',\n",
       "       '18h30', '12h30', '16h30', '18h45', '06h00', '10h00', '10h44',\n",
       "       '13h19', 'Midday', '13h30', '10h45', '11h20', '11h45', '19h30',\n",
       "       '08h30', '15h45', 'Shortly before 12h00', '17h34', '17h10',\n",
       "       '11h15', '08h50', '17h45', '13h00', '10h20', '13h20', '02h00',\n",
       "       '09h50', '11h30', '17h30', '9h00', '10h43', 'After noon', '15h15',\n",
       "       '15h40', '19h05', '1300', '14h30 / 15h30', '22h00', '16h20',\n",
       "       '14h34', '15h25', '14h55', '17h46', 'Morning ', '15h49', '19h00',\n",
       "       'Midnight', '09h30 / 10h00', '10h15', '18h15', '04h00', '14h50',\n",
       "       '13h50', '19h20', '10h25', '10h45-11h15', '16h45', '15h52',\n",
       "       '06h15', '14h40', '19h45', '10h10', '08h45', 'Evening', '12h10',\n",
       "       '18h05', '11h41', '12h25', '17h51', '16h12', '12h45', '10h50',\n",
       "       '14h15', '09h45', '06h45', '05h00', '03h30',\n",
       "       'Sometime between 06h00 & 08hoo', '06h30', '17h20', '20h00',\n",
       "       '16h40', '16h18', '11h10', 'Early afternoon', '17h50',\n",
       "       '07h00 - 08h00', '18h15-18h30', '17h01', '09h57', '08h20', '17h58',\n",
       "       '20h30', '15h19', '10h55', '15h55', '23h00', '12h40', '13h55',\n",
       "       '16h05', '14h10', '15h20', '12h50', '14h45', '13h40', '13h24',\n",
       "       '09h00 - 09h30', '0830', '11h40', '08h10', '15h56', '14h20',\n",
       "       'Just before noon', '07h56', '1600', '17h17', '16h35', '09h05',\n",
       "       '07h15', '07h20', '19h28', '12h38', '05h50', '15h50', '11h05',\n",
       "       'Early morning', 'Dawn', '05h45', '13h25', '12h20', '13h26',\n",
       "       '09h11', '12h15', '13h15', '18h20', '15h35', 'AM', '13h51', 'A.M.',\n",
       "       '08h05', '19h15', '10h35', '15h44', 'Dusk', '21h00', 'Lunchtime',\n",
       "       '15j45', '09h35', '10h27', '10h16', '0500', 'Before 07h00',\n",
       "       '09h20', '10h00 -- 11h00', '12h05', '14h21', '18h50', '15h53',\n",
       "       '\"Just before 11h00\"', '11h115', '13h42', '20h15', '12h39',\n",
       "       '07h05', 'Sunset', '  ', '13h05', '11h50', '\"Evening\"',\n",
       "       'Just before sundown', '17h55', '22h30', '17h15', '16h10',\n",
       "       '11h30 ', '06h10', '16h15', 'Between 05h00 and 08h00', '07h08',\n",
       "       '17h00 or 17h40', '03h00', '>08h00', '--', '12h02', '12h55',\n",
       "       '16h14', '17h11', '00h30', '14h37', '10h07', '13h53', '11h55',\n",
       "       '13h23', 'Just after 12h00', '02h30', '08h40', '11h56', '14h35',\n",
       "       ' ', 'Early Morning', '07h50', 'Shortly after midnight', '14h25',\n",
       "       '13h345', '\\xa0 ', '06h47', '09h00 -10h00', '20h45 (Sunset)',\n",
       "       'Late morning', 'P.M.', '18h40', '13h14', '13h06',\n",
       "       'Shortly before 13h00', '12h34', '11h53', '8:04 pm', '12h46',\n",
       "       '12h48', '17h42', '12h35', 'Possibly same incident as 2000.08.21',\n",
       "       'After Dusk', '11h57', 'Noon', '17h40', '11h25', '18h25', '10h28',\n",
       "       '09h15', '14h16', '09h55', '2 hours after Opperman', '15h05',\n",
       "       '09h30 ', 'Mid afternoon', 'Mid morning', '11h48', '11h00 / 11h30',\n",
       "       '07h19', '13h37', '11h06', '\"Night\"', '18h30?', '11h58', '11h51',\n",
       "       '18h12', '07h10', '07h40', '12h33',\n",
       "       '30 minutes after 1992.07.08.a', '>06h45', '15h06', '12h54',\n",
       "       'Between 06h00 & 07h20', '16h55', '05h40', '<07h30', '21h30',\n",
       "       '17h00 Sunset', 'Nightfall', 'X', '08h57', '18h30 (Sunset)',\n",
       "       '06j00', '08h35', '10h22', '02h45', 'Prior to 10h37', 'Daybreak',\n",
       "       '18h10', '>12h00', 'Mid-morning', '08h55', '16h30 or 18h00',\n",
       "       'Just before dawn', ' 14h00', 'Daytime', '06h50', '01h00', 'Dark',\n",
       "       '10h00 / 11h00', '\"After lunch\"', '07h32', '15h00 or 15h45',\n",
       "       '>17h00', '19h00 / 20h00', '12h45 / 13h45', '14h00 - 15h00',\n",
       "       'night', '03h45 - 04h00', '13h10', '09h30 / 15h30',\n",
       "       '08h00 / 09h30', '19h35', '12h00 to 14h00', '13h35', 'Late night',\n",
       "       '01h32', '10h30 or 13h30', '16h23', '15h00j', 'Midday.',\n",
       "       '\"After dark\"', '10h00 or 14h00', '19h10', '16h25',\n",
       "       '2 hrs before sunset', '18h15 to 21h30', '1500',\n",
       "       '\"shortly before dusk\"', '>17h30', '>14h30',\n",
       "       'Between 11h00 & 12h00', 'After 04h00',\n",
       "       '11h01 -time of ship sinking', 'Ship aban-doned at 03h10', '19h55',\n",
       "       'After dusk',\n",
       "       'FATAL  (Wire netting installed at local beaches after this incident.)',\n",
       "       '01h30', 'After midnight', 'Late afternon', '05h30', '08h58',\n",
       "       '\"Early evening\"', 'Late Afternoon', '   ', 'Before daybreak',\n",
       "       'dusk', 'Before 10h30', '06h00 -- 07h00', '01h50', '17h00-18h00',\n",
       "       '19h00-20h00'], dtype=object)"
      ]
     },
     "execution_count": 209,
     "metadata": {},
     "output_type": "execute_result"
    }
   ],
   "source": [
    "sk['Time'].unique()"
   ]
  },
  {
   "cell_type": "code",
   "execution_count": 210,
   "id": "6acf6f95",
   "metadata": {},
   "outputs": [],
   "source": [
    "import re\n",
    "def limpiar_time(x):\n",
    "    \n",
    "    let=re.findall('/[hH]', x)\n",
    "    \n",
    "    if let:\n",
    "        return x.remove(let)\n",
    "    else:\n",
    "        return x"
   ]
  },
  {
   "cell_type": "code",
   "execution_count": 211,
   "id": "1ce104f8",
   "metadata": {},
   "outputs": [],
   "source": [
    "def limpiar_time(x):\n",
    "    try:\n",
    "        return ''.join(filter(str.isdigit, x))\n",
    "    except:\n",
    "        return str(x)"
   ]
  },
  {
   "cell_type": "code",
   "execution_count": 212,
   "id": "f20c6dfb",
   "metadata": {
    "scrolled": true
   },
   "outputs": [
    {
     "data": {
      "text/html": [
       "<div>\n",
       "<style scoped>\n",
       "    .dataframe tbody tr th:only-of-type {\n",
       "        vertical-align: middle;\n",
       "    }\n",
       "\n",
       "    .dataframe tbody tr th {\n",
       "        vertical-align: top;\n",
       "    }\n",
       "\n",
       "    .dataframe thead th {\n",
       "        text-align: right;\n",
       "    }\n",
       "</style>\n",
       "<table border=\"1\" class=\"dataframe\">\n",
       "  <thead>\n",
       "    <tr style=\"text-align: right;\">\n",
       "      <th></th>\n",
       "      <th>Case Number</th>\n",
       "      <th>Date</th>\n",
       "      <th>Year</th>\n",
       "      <th>Type</th>\n",
       "      <th>Country</th>\n",
       "      <th>Area</th>\n",
       "      <th>Location</th>\n",
       "      <th>Activity</th>\n",
       "      <th>Name</th>\n",
       "      <th>Sex</th>\n",
       "      <th>Age</th>\n",
       "      <th>Injury</th>\n",
       "      <th>Fatal</th>\n",
       "      <th>Time</th>\n",
       "      <th>Species</th>\n",
       "      <th>Investigator or Source</th>\n",
       "      <th>pdf</th>\n",
       "      <th>href formula</th>\n",
       "      <th>href</th>\n",
       "      <th>Case Number.1</th>\n",
       "      <th>Case Number.2</th>\n",
       "      <th>original order</th>\n",
       "      <th>time</th>\n",
       "    </tr>\n",
       "  </thead>\n",
       "  <tbody>\n",
       "    <tr>\n",
       "      <th>0</th>\n",
       "      <td>2018.06.25</td>\n",
       "      <td>25-Jun-2018</td>\n",
       "      <td>2018.0</td>\n",
       "      <td>Boating</td>\n",
       "      <td>USA</td>\n",
       "      <td>California</td>\n",
       "      <td>Oceanside, San Diego County</td>\n",
       "      <td>Paddling</td>\n",
       "      <td>Julie Wolfe</td>\n",
       "      <td>F</td>\n",
       "      <td>57.0</td>\n",
       "      <td>No injury to occupant, outrigger canoe and pad...</td>\n",
       "      <td>N</td>\n",
       "      <td>18h00</td>\n",
       "      <td>White shark</td>\n",
       "      <td>R. Collier, GSAF</td>\n",
       "      <td>2018.06.25-Wolfe.pdf</td>\n",
       "      <td>http://sharkattackfile.net/spreadsheets/pdf_di...</td>\n",
       "      <td>http://sharkattackfile.net/spreadsheets/pdf_di...</td>\n",
       "      <td>2018-06-25</td>\n",
       "      <td>2018-06-25</td>\n",
       "      <td>6303.0</td>\n",
       "      <td>1800</td>\n",
       "    </tr>\n",
       "    <tr>\n",
       "      <th>1</th>\n",
       "      <td>2018.06.18</td>\n",
       "      <td>18-Jun-2018</td>\n",
       "      <td>2018.0</td>\n",
       "      <td>Unprovoked</td>\n",
       "      <td>USA</td>\n",
       "      <td>Georgia</td>\n",
       "      <td>St. Simon Island, Glynn County</td>\n",
       "      <td>Standing</td>\n",
       "      <td>Adyson McNeely</td>\n",
       "      <td>F</td>\n",
       "      <td>11.0</td>\n",
       "      <td>Minor injury to left thigh</td>\n",
       "      <td>N</td>\n",
       "      <td>14h00  -15h00</td>\n",
       "      <td>unknown</td>\n",
       "      <td>K.McMurray, TrackingSharks.com</td>\n",
       "      <td>2018.06.18-McNeely.pdf</td>\n",
       "      <td>http://sharkattackfile.net/spreadsheets/pdf_di...</td>\n",
       "      <td>http://sharkattackfile.net/spreadsheets/pdf_di...</td>\n",
       "      <td>2018-06-18</td>\n",
       "      <td>2018-06-18</td>\n",
       "      <td>6302.0</td>\n",
       "      <td>14001500</td>\n",
       "    </tr>\n",
       "    <tr>\n",
       "      <th>2</th>\n",
       "      <td>2018.06.09</td>\n",
       "      <td>09-Jun-2018</td>\n",
       "      <td>2018.0</td>\n",
       "      <td>Invalid</td>\n",
       "      <td>USA</td>\n",
       "      <td>Hawaii</td>\n",
       "      <td>Habush, Oahu</td>\n",
       "      <td>Surfing</td>\n",
       "      <td>John Denges</td>\n",
       "      <td>M</td>\n",
       "      <td>48.0</td>\n",
       "      <td>Injury to left lower leg from surfboard skeg</td>\n",
       "      <td>N</td>\n",
       "      <td>07h45</td>\n",
       "      <td>unknown</td>\n",
       "      <td>K.McMurray, TrackingSharks.com</td>\n",
       "      <td>2018.06.09-Denges.pdf</td>\n",
       "      <td>http://sharkattackfile.net/spreadsheets/pdf_di...</td>\n",
       "      <td>http://sharkattackfile.net/spreadsheets/pdf_di...</td>\n",
       "      <td>2018-06-09</td>\n",
       "      <td>2018-06-09</td>\n",
       "      <td>6301.0</td>\n",
       "      <td>0745</td>\n",
       "    </tr>\n",
       "    <tr>\n",
       "      <th>3</th>\n",
       "      <td>2018.06.08</td>\n",
       "      <td>08-Jun-2018</td>\n",
       "      <td>2018.0</td>\n",
       "      <td>Unprovoked</td>\n",
       "      <td>AUSTRALIA</td>\n",
       "      <td>New South Wales</td>\n",
       "      <td>Arrawarra Headland</td>\n",
       "      <td>Surfing</td>\n",
       "      <td>male</td>\n",
       "      <td>M</td>\n",
       "      <td>NaN</td>\n",
       "      <td>Minor injury to lower leg</td>\n",
       "      <td>N</td>\n",
       "      <td>unknown</td>\n",
       "      <td>2 m shark</td>\n",
       "      <td>B. Myatt, GSAF</td>\n",
       "      <td>2018.06.08-Arrawarra.pdf</td>\n",
       "      <td>http://sharkattackfile.net/spreadsheets/pdf_di...</td>\n",
       "      <td>http://sharkattackfile.net/spreadsheets/pdf_di...</td>\n",
       "      <td>2018-06-08</td>\n",
       "      <td>2018-06-08</td>\n",
       "      <td>6300.0</td>\n",
       "      <td></td>\n",
       "    </tr>\n",
       "    <tr>\n",
       "      <th>4</th>\n",
       "      <td>2018.06.04</td>\n",
       "      <td>04-Jun-2018</td>\n",
       "      <td>2018.0</td>\n",
       "      <td>Provoked</td>\n",
       "      <td>MEXICO</td>\n",
       "      <td>Colima</td>\n",
       "      <td>La Ticla</td>\n",
       "      <td>Free diving</td>\n",
       "      <td>Gustavo Ramos</td>\n",
       "      <td>M</td>\n",
       "      <td>NaN</td>\n",
       "      <td>Lacerations to leg &amp; hand shark PROVOKED INCIDENT</td>\n",
       "      <td>N</td>\n",
       "      <td>unknown</td>\n",
       "      <td>Tiger shark, 3m</td>\n",
       "      <td>A .Kipper</td>\n",
       "      <td>2018.06.04-Ramos.pdf</td>\n",
       "      <td>http://sharkattackfile.net/spreadsheets/pdf_di...</td>\n",
       "      <td>http://sharkattackfile.net/spreadsheets/pdf_di...</td>\n",
       "      <td>2018-06-04</td>\n",
       "      <td>2018-06-04</td>\n",
       "      <td>6299.0</td>\n",
       "      <td></td>\n",
       "    </tr>\n",
       "  </tbody>\n",
       "</table>\n",
       "</div>"
      ],
      "text/plain": [
       "  Case Number         Date    Year        Type    Country             Area  \\\n",
       "0  2018.06.25  25-Jun-2018  2018.0     Boating        USA       California   \n",
       "1  2018.06.18  18-Jun-2018  2018.0  Unprovoked        USA          Georgia   \n",
       "2  2018.06.09  09-Jun-2018  2018.0     Invalid        USA           Hawaii   \n",
       "3  2018.06.08  08-Jun-2018  2018.0  Unprovoked  AUSTRALIA  New South Wales   \n",
       "4  2018.06.04  04-Jun-2018  2018.0    Provoked     MEXICO           Colima   \n",
       "\n",
       "                         Location     Activity             Name Sex   Age  \\\n",
       "0     Oceanside, San Diego County     Paddling      Julie Wolfe   F  57.0   \n",
       "1  St. Simon Island, Glynn County     Standing  Adyson McNeely    F  11.0   \n",
       "2                    Habush, Oahu      Surfing      John Denges   M  48.0   \n",
       "3              Arrawarra Headland      Surfing             male   M   NaN   \n",
       "4                        La Ticla  Free diving   Gustavo Ramos    M   NaN   \n",
       "\n",
       "                                              Injury Fatal           Time  \\\n",
       "0  No injury to occupant, outrigger canoe and pad...     N          18h00   \n",
       "1                         Minor injury to left thigh     N  14h00  -15h00   \n",
       "2       Injury to left lower leg from surfboard skeg     N          07h45   \n",
       "3                          Minor injury to lower leg     N        unknown   \n",
       "4  Lacerations to leg & hand shark PROVOKED INCIDENT     N        unknown   \n",
       "\n",
       "           Species          Investigator or Source                       pdf  \\\n",
       "0      White shark                R. Collier, GSAF      2018.06.25-Wolfe.pdf   \n",
       "1          unknown  K.McMurray, TrackingSharks.com    2018.06.18-McNeely.pdf   \n",
       "2          unknown  K.McMurray, TrackingSharks.com     2018.06.09-Denges.pdf   \n",
       "3        2 m shark                  B. Myatt, GSAF  2018.06.08-Arrawarra.pdf   \n",
       "4  Tiger shark, 3m                       A .Kipper      2018.06.04-Ramos.pdf   \n",
       "\n",
       "                                        href formula  \\\n",
       "0  http://sharkattackfile.net/spreadsheets/pdf_di...   \n",
       "1  http://sharkattackfile.net/spreadsheets/pdf_di...   \n",
       "2  http://sharkattackfile.net/spreadsheets/pdf_di...   \n",
       "3  http://sharkattackfile.net/spreadsheets/pdf_di...   \n",
       "4  http://sharkattackfile.net/spreadsheets/pdf_di...   \n",
       "\n",
       "                                                href Case Number.1  \\\n",
       "0  http://sharkattackfile.net/spreadsheets/pdf_di...    2018-06-25   \n",
       "1  http://sharkattackfile.net/spreadsheets/pdf_di...    2018-06-18   \n",
       "2  http://sharkattackfile.net/spreadsheets/pdf_di...    2018-06-09   \n",
       "3  http://sharkattackfile.net/spreadsheets/pdf_di...    2018-06-08   \n",
       "4  http://sharkattackfile.net/spreadsheets/pdf_di...    2018-06-04   \n",
       "\n",
       "  Case Number.2  original order      time  \n",
       "0    2018-06-25          6303.0      1800  \n",
       "1    2018-06-18          6302.0  14001500  \n",
       "2    2018-06-09          6301.0      0745  \n",
       "3    2018-06-08          6300.0            \n",
       "4    2018-06-04          6299.0            "
      ]
     },
     "execution_count": 212,
     "metadata": {},
     "output_type": "execute_result"
    }
   ],
   "source": [
    "sk['time']=sk.Time.apply(limpiar_time)\n",
    "\n",
    "sk.head()"
   ]
  },
  {
   "cell_type": "code",
   "execution_count": 213,
   "id": "49255733",
   "metadata": {},
   "outputs": [
    {
     "data": {
      "text/plain": [
       "array(['1800', '14001500', '0745', '', '1700', '1400', '1500', '0815',\n",
       "       '1100', '1030', '1040', '1650', '0700', '0930', '2150', '0940',\n",
       "       '0800', '1735', '1530', '0730', '1900', '1600', '1501', '1200',\n",
       "       '1345', '2330', '0900', '1430', '1830', '1230', '1630', '1845',\n",
       "       '0600', '1000', '1044', '1319', '1330', '1045', '1120', '1145',\n",
       "       '1930', '0830', '1545', '1734', '1710', '1115', '0850', '1745',\n",
       "       '1300', '1020', '1320', '0200', '0950', '1130', '1730', '900',\n",
       "       '1043', '1515', '1540', '1905', '14301530', '2200', '1620', '1434',\n",
       "       '1525', '1455', '1746', '1549', '09301000', '1015', '1815', '0400',\n",
       "       '1450', '1350', '1920', '1025', '10451115', '1645', '1552', '0615',\n",
       "       '1440', '1945', '1010', '0845', '1210', '1805', '1141', '1225',\n",
       "       '1751', '1612', '1245', '1050', '1415', '0945', '0645', '0500',\n",
       "       '0330', '060008', '0630', '1720', '2000', '1640', '1618', '1110',\n",
       "       '1750', '07000800', '18151830', '1701', '0957', '0820', '1758',\n",
       "       '2030', '1519', '1055', '1555', '2300', '1240', '1355', '1605',\n",
       "       '1410', '1520', '1250', '1445', '1340', '1324', '09000930', '1140',\n",
       "       '0810', '1556', '1420', '0756', '1717', '1635', '0905', '0715',\n",
       "       '0720', '1928', '1238', '0550', '1550', '1105', '0545', '1325',\n",
       "       '1220', '1326', '0911', '1215', '1315', '1820', '1535', '1351',\n",
       "       '0805', '1915', '1035', '1544', '2100', '0935', '1027', '1016',\n",
       "       '0920', '10001100', '1205', '1421', '1850', '1553', '11115',\n",
       "       '1342', '2015', '1239', '0705', '1305', '1150', '1755', '2230',\n",
       "       '1715', '1610', '0610', '1615', '05000800', '0708', '17001740',\n",
       "       '0300', '1202', '1255', '1614', '1711', '0030', '1437', '1007',\n",
       "       '1353', '1155', '1323', '0230', '0840', '1156', '1435', '0750',\n",
       "       '1425', '13345', '0647', '09001000', '2045', '1840', '1314',\n",
       "       '1306', '1234', '1153', '804', '1246', '1248', '1742', '1235',\n",
       "       '20000821', '1157', '1740', '1125', '1825', '1028', '0915', '1416',\n",
       "       '0955', '2', '1505', '1148', '11001130', '0719', '1337', '1106',\n",
       "       '1158', '1151', '1812', '0710', '0740', '1233', '3019920708',\n",
       "       '1506', '1254', '06000720', '1655', '0540', '2130', '0857', '0835',\n",
       "       '1022', '0245', '1037', '1810', '0855', '16301800', '0650', '0100',\n",
       "       '0732', '15001545', '19002000', '12451345', '03450400', '1310',\n",
       "       '09301530', '08000930', '1935', '12001400', '1335', '0132',\n",
       "       '10301330', '1623', '10001400', '1910', '1625', '18152130',\n",
       "       '11001200', '1101', '0310', '1955', '0130', '0530', '0858',\n",
       "       '06000700', '0150', '17001800'], dtype=object)"
      ]
     },
     "execution_count": 213,
     "metadata": {},
     "output_type": "execute_result"
    }
   ],
   "source": [
    "sk['time'].unique()"
   ]
  },
  {
   "cell_type": "code",
   "execution_count": 214,
   "id": "57c62a98",
   "metadata": {},
   "outputs": [],
   "source": [
    "def limpiar_time2(x):\n",
    "    try:\n",
    "        return ''.join(x[0:4])\n",
    "    except:\n",
    "        return str(x)"
   ]
  },
  {
   "cell_type": "code",
   "execution_count": 215,
   "id": "565b9d26",
   "metadata": {
    "scrolled": false
   },
   "outputs": [
    {
     "data": {
      "text/html": [
       "<div>\n",
       "<style scoped>\n",
       "    .dataframe tbody tr th:only-of-type {\n",
       "        vertical-align: middle;\n",
       "    }\n",
       "\n",
       "    .dataframe tbody tr th {\n",
       "        vertical-align: top;\n",
       "    }\n",
       "\n",
       "    .dataframe thead th {\n",
       "        text-align: right;\n",
       "    }\n",
       "</style>\n",
       "<table border=\"1\" class=\"dataframe\">\n",
       "  <thead>\n",
       "    <tr style=\"text-align: right;\">\n",
       "      <th></th>\n",
       "      <th>Case Number</th>\n",
       "      <th>Date</th>\n",
       "      <th>Year</th>\n",
       "      <th>Type</th>\n",
       "      <th>Country</th>\n",
       "      <th>Area</th>\n",
       "      <th>Location</th>\n",
       "      <th>Activity</th>\n",
       "      <th>Name</th>\n",
       "      <th>Sex</th>\n",
       "      <th>Age</th>\n",
       "      <th>Injury</th>\n",
       "      <th>Fatal</th>\n",
       "      <th>Time</th>\n",
       "      <th>Species</th>\n",
       "      <th>Investigator or Source</th>\n",
       "      <th>pdf</th>\n",
       "      <th>href formula</th>\n",
       "      <th>href</th>\n",
       "      <th>Case Number.1</th>\n",
       "      <th>Case Number.2</th>\n",
       "      <th>original order</th>\n",
       "      <th>time</th>\n",
       "    </tr>\n",
       "  </thead>\n",
       "  <tbody>\n",
       "    <tr>\n",
       "      <th>0</th>\n",
       "      <td>2018.06.25</td>\n",
       "      <td>25-Jun-2018</td>\n",
       "      <td>2018.0</td>\n",
       "      <td>Boating</td>\n",
       "      <td>USA</td>\n",
       "      <td>California</td>\n",
       "      <td>Oceanside, San Diego County</td>\n",
       "      <td>Paddling</td>\n",
       "      <td>Julie Wolfe</td>\n",
       "      <td>F</td>\n",
       "      <td>57.0</td>\n",
       "      <td>No injury to occupant, outrigger canoe and pad...</td>\n",
       "      <td>N</td>\n",
       "      <td>18h00</td>\n",
       "      <td>White shark</td>\n",
       "      <td>R. Collier, GSAF</td>\n",
       "      <td>2018.06.25-Wolfe.pdf</td>\n",
       "      <td>http://sharkattackfile.net/spreadsheets/pdf_di...</td>\n",
       "      <td>http://sharkattackfile.net/spreadsheets/pdf_di...</td>\n",
       "      <td>2018-06-25</td>\n",
       "      <td>2018-06-25</td>\n",
       "      <td>6303.0</td>\n",
       "      <td>1800</td>\n",
       "    </tr>\n",
       "    <tr>\n",
       "      <th>1</th>\n",
       "      <td>2018.06.18</td>\n",
       "      <td>18-Jun-2018</td>\n",
       "      <td>2018.0</td>\n",
       "      <td>Unprovoked</td>\n",
       "      <td>USA</td>\n",
       "      <td>Georgia</td>\n",
       "      <td>St. Simon Island, Glynn County</td>\n",
       "      <td>Standing</td>\n",
       "      <td>Adyson McNeely</td>\n",
       "      <td>F</td>\n",
       "      <td>11.0</td>\n",
       "      <td>Minor injury to left thigh</td>\n",
       "      <td>N</td>\n",
       "      <td>14h00  -15h00</td>\n",
       "      <td>unknown</td>\n",
       "      <td>K.McMurray, TrackingSharks.com</td>\n",
       "      <td>2018.06.18-McNeely.pdf</td>\n",
       "      <td>http://sharkattackfile.net/spreadsheets/pdf_di...</td>\n",
       "      <td>http://sharkattackfile.net/spreadsheets/pdf_di...</td>\n",
       "      <td>2018-06-18</td>\n",
       "      <td>2018-06-18</td>\n",
       "      <td>6302.0</td>\n",
       "      <td>1400</td>\n",
       "    </tr>\n",
       "    <tr>\n",
       "      <th>2</th>\n",
       "      <td>2018.06.09</td>\n",
       "      <td>09-Jun-2018</td>\n",
       "      <td>2018.0</td>\n",
       "      <td>Invalid</td>\n",
       "      <td>USA</td>\n",
       "      <td>Hawaii</td>\n",
       "      <td>Habush, Oahu</td>\n",
       "      <td>Surfing</td>\n",
       "      <td>John Denges</td>\n",
       "      <td>M</td>\n",
       "      <td>48.0</td>\n",
       "      <td>Injury to left lower leg from surfboard skeg</td>\n",
       "      <td>N</td>\n",
       "      <td>07h45</td>\n",
       "      <td>unknown</td>\n",
       "      <td>K.McMurray, TrackingSharks.com</td>\n",
       "      <td>2018.06.09-Denges.pdf</td>\n",
       "      <td>http://sharkattackfile.net/spreadsheets/pdf_di...</td>\n",
       "      <td>http://sharkattackfile.net/spreadsheets/pdf_di...</td>\n",
       "      <td>2018-06-09</td>\n",
       "      <td>2018-06-09</td>\n",
       "      <td>6301.0</td>\n",
       "      <td>0745</td>\n",
       "    </tr>\n",
       "    <tr>\n",
       "      <th>3</th>\n",
       "      <td>2018.06.08</td>\n",
       "      <td>08-Jun-2018</td>\n",
       "      <td>2018.0</td>\n",
       "      <td>Unprovoked</td>\n",
       "      <td>AUSTRALIA</td>\n",
       "      <td>New South Wales</td>\n",
       "      <td>Arrawarra Headland</td>\n",
       "      <td>Surfing</td>\n",
       "      <td>male</td>\n",
       "      <td>M</td>\n",
       "      <td>NaN</td>\n",
       "      <td>Minor injury to lower leg</td>\n",
       "      <td>N</td>\n",
       "      <td>unknown</td>\n",
       "      <td>2 m shark</td>\n",
       "      <td>B. Myatt, GSAF</td>\n",
       "      <td>2018.06.08-Arrawarra.pdf</td>\n",
       "      <td>http://sharkattackfile.net/spreadsheets/pdf_di...</td>\n",
       "      <td>http://sharkattackfile.net/spreadsheets/pdf_di...</td>\n",
       "      <td>2018-06-08</td>\n",
       "      <td>2018-06-08</td>\n",
       "      <td>6300.0</td>\n",
       "      <td></td>\n",
       "    </tr>\n",
       "    <tr>\n",
       "      <th>4</th>\n",
       "      <td>2018.06.04</td>\n",
       "      <td>04-Jun-2018</td>\n",
       "      <td>2018.0</td>\n",
       "      <td>Provoked</td>\n",
       "      <td>MEXICO</td>\n",
       "      <td>Colima</td>\n",
       "      <td>La Ticla</td>\n",
       "      <td>Free diving</td>\n",
       "      <td>Gustavo Ramos</td>\n",
       "      <td>M</td>\n",
       "      <td>NaN</td>\n",
       "      <td>Lacerations to leg &amp; hand shark PROVOKED INCIDENT</td>\n",
       "      <td>N</td>\n",
       "      <td>unknown</td>\n",
       "      <td>Tiger shark, 3m</td>\n",
       "      <td>A .Kipper</td>\n",
       "      <td>2018.06.04-Ramos.pdf</td>\n",
       "      <td>http://sharkattackfile.net/spreadsheets/pdf_di...</td>\n",
       "      <td>http://sharkattackfile.net/spreadsheets/pdf_di...</td>\n",
       "      <td>2018-06-04</td>\n",
       "      <td>2018-06-04</td>\n",
       "      <td>6299.0</td>\n",
       "      <td></td>\n",
       "    </tr>\n",
       "  </tbody>\n",
       "</table>\n",
       "</div>"
      ],
      "text/plain": [
       "  Case Number         Date    Year        Type    Country             Area  \\\n",
       "0  2018.06.25  25-Jun-2018  2018.0     Boating        USA       California   \n",
       "1  2018.06.18  18-Jun-2018  2018.0  Unprovoked        USA          Georgia   \n",
       "2  2018.06.09  09-Jun-2018  2018.0     Invalid        USA           Hawaii   \n",
       "3  2018.06.08  08-Jun-2018  2018.0  Unprovoked  AUSTRALIA  New South Wales   \n",
       "4  2018.06.04  04-Jun-2018  2018.0    Provoked     MEXICO           Colima   \n",
       "\n",
       "                         Location     Activity             Name Sex   Age  \\\n",
       "0     Oceanside, San Diego County     Paddling      Julie Wolfe   F  57.0   \n",
       "1  St. Simon Island, Glynn County     Standing  Adyson McNeely    F  11.0   \n",
       "2                    Habush, Oahu      Surfing      John Denges   M  48.0   \n",
       "3              Arrawarra Headland      Surfing             male   M   NaN   \n",
       "4                        La Ticla  Free diving   Gustavo Ramos    M   NaN   \n",
       "\n",
       "                                              Injury Fatal           Time  \\\n",
       "0  No injury to occupant, outrigger canoe and pad...     N          18h00   \n",
       "1                         Minor injury to left thigh     N  14h00  -15h00   \n",
       "2       Injury to left lower leg from surfboard skeg     N          07h45   \n",
       "3                          Minor injury to lower leg     N        unknown   \n",
       "4  Lacerations to leg & hand shark PROVOKED INCIDENT     N        unknown   \n",
       "\n",
       "           Species          Investigator or Source                       pdf  \\\n",
       "0      White shark                R. Collier, GSAF      2018.06.25-Wolfe.pdf   \n",
       "1          unknown  K.McMurray, TrackingSharks.com    2018.06.18-McNeely.pdf   \n",
       "2          unknown  K.McMurray, TrackingSharks.com     2018.06.09-Denges.pdf   \n",
       "3        2 m shark                  B. Myatt, GSAF  2018.06.08-Arrawarra.pdf   \n",
       "4  Tiger shark, 3m                       A .Kipper      2018.06.04-Ramos.pdf   \n",
       "\n",
       "                                        href formula  \\\n",
       "0  http://sharkattackfile.net/spreadsheets/pdf_di...   \n",
       "1  http://sharkattackfile.net/spreadsheets/pdf_di...   \n",
       "2  http://sharkattackfile.net/spreadsheets/pdf_di...   \n",
       "3  http://sharkattackfile.net/spreadsheets/pdf_di...   \n",
       "4  http://sharkattackfile.net/spreadsheets/pdf_di...   \n",
       "\n",
       "                                                href Case Number.1  \\\n",
       "0  http://sharkattackfile.net/spreadsheets/pdf_di...    2018-06-25   \n",
       "1  http://sharkattackfile.net/spreadsheets/pdf_di...    2018-06-18   \n",
       "2  http://sharkattackfile.net/spreadsheets/pdf_di...    2018-06-09   \n",
       "3  http://sharkattackfile.net/spreadsheets/pdf_di...    2018-06-08   \n",
       "4  http://sharkattackfile.net/spreadsheets/pdf_di...    2018-06-04   \n",
       "\n",
       "  Case Number.2  original order  time  \n",
       "0    2018-06-25          6303.0  1800  \n",
       "1    2018-06-18          6302.0  1400  \n",
       "2    2018-06-09          6301.0  0745  \n",
       "3    2018-06-08          6300.0        \n",
       "4    2018-06-04          6299.0        "
      ]
     },
     "execution_count": 215,
     "metadata": {},
     "output_type": "execute_result"
    }
   ],
   "source": [
    "sk['time']=sk.time.apply(limpiar_time2)\n",
    "\n",
    "sk.head()"
   ]
  },
  {
   "cell_type": "code",
   "execution_count": 216,
   "id": "fa2457b8",
   "metadata": {
    "scrolled": false
   },
   "outputs": [
    {
     "data": {
      "text/plain": [
       "array(['1800', '1400', '0745', '', '1700', '1500', '0815', '1100', '1030',\n",
       "       '1040', '1650', '0700', '0930', '2150', '0940', '0800', '1735',\n",
       "       '1530', '0730', '1900', '1600', '1501', '1200', '1345', '2330',\n",
       "       '0900', '1430', '1830', '1230', '1630', '1845', '0600', '1000',\n",
       "       '1044', '1319', '1330', '1045', '1120', '1145', '1930', '0830',\n",
       "       '1545', '1734', '1710', '1115', '0850', '1745', '1300', '1020',\n",
       "       '1320', '0200', '0950', '1130', '1730', '900', '1043', '1515',\n",
       "       '1540', '1905', '2200', '1620', '1434', '1525', '1455', '1746',\n",
       "       '1549', '1015', '1815', '0400', '1450', '1350', '1920', '1025',\n",
       "       '1645', '1552', '0615', '1440', '1945', '1010', '0845', '1210',\n",
       "       '1805', '1141', '1225', '1751', '1612', '1245', '1050', '1415',\n",
       "       '0945', '0645', '0500', '0330', '0630', '1720', '2000', '1640',\n",
       "       '1618', '1110', '1750', '1701', '0957', '0820', '1758', '2030',\n",
       "       '1519', '1055', '1555', '2300', '1240', '1355', '1605', '1410',\n",
       "       '1520', '1250', '1445', '1340', '1324', '1140', '0810', '1556',\n",
       "       '1420', '0756', '1717', '1635', '0905', '0715', '0720', '1928',\n",
       "       '1238', '0550', '1550', '1105', '0545', '1325', '1220', '1326',\n",
       "       '0911', '1215', '1315', '1820', '1535', '1351', '0805', '1915',\n",
       "       '1035', '1544', '2100', '0935', '1027', '1016', '0920', '1205',\n",
       "       '1421', '1850', '1553', '1111', '1342', '2015', '1239', '0705',\n",
       "       '1305', '1150', '1755', '2230', '1715', '1610', '0610', '1615',\n",
       "       '0708', '0300', '1202', '1255', '1614', '1711', '0030', '1437',\n",
       "       '1007', '1353', '1155', '1323', '0230', '0840', '1156', '1435',\n",
       "       '0750', '1425', '1334', '0647', '2045', '1840', '1314', '1306',\n",
       "       '1234', '1153', '804', '1246', '1248', '1742', '1235', '1157',\n",
       "       '1740', '1125', '1825', '1028', '0915', '1416', '0955', '2',\n",
       "       '1505', '1148', '0719', '1337', '1106', '1158', '1151', '1812',\n",
       "       '0710', '0740', '1233', '3019', '1506', '1254', '1655', '0540',\n",
       "       '2130', '0857', '0835', '1022', '0245', '1037', '1810', '0855',\n",
       "       '0650', '0100', '0732', '0345', '1310', '1935', '1335', '0132',\n",
       "       '1623', '1910', '1625', '1101', '0310', '1955', '0130', '0530',\n",
       "       '0858', '0150'], dtype=object)"
      ]
     },
     "execution_count": 216,
     "metadata": {},
     "output_type": "execute_result"
    }
   ],
   "source": [
    "sk['time'].unique()"
   ]
  },
  {
   "cell_type": "code",
   "execution_count": 217,
   "id": "f26ec48b",
   "metadata": {},
   "outputs": [],
   "source": [
    "def limpiar_time3(x):\n",
    "    try:\n",
    "        return f\"{x[:2]}:{x[2:]}\"\n",
    "    except:\n",
    "        return str(x)"
   ]
  },
  {
   "cell_type": "code",
   "execution_count": 218,
   "id": "a649104b",
   "metadata": {},
   "outputs": [
    {
     "data": {
      "text/html": [
       "<div>\n",
       "<style scoped>\n",
       "    .dataframe tbody tr th:only-of-type {\n",
       "        vertical-align: middle;\n",
       "    }\n",
       "\n",
       "    .dataframe tbody tr th {\n",
       "        vertical-align: top;\n",
       "    }\n",
       "\n",
       "    .dataframe thead th {\n",
       "        text-align: right;\n",
       "    }\n",
       "</style>\n",
       "<table border=\"1\" class=\"dataframe\">\n",
       "  <thead>\n",
       "    <tr style=\"text-align: right;\">\n",
       "      <th></th>\n",
       "      <th>Case Number</th>\n",
       "      <th>Date</th>\n",
       "      <th>Year</th>\n",
       "      <th>Type</th>\n",
       "      <th>Country</th>\n",
       "      <th>Area</th>\n",
       "      <th>Location</th>\n",
       "      <th>Activity</th>\n",
       "      <th>Name</th>\n",
       "      <th>Sex</th>\n",
       "      <th>Age</th>\n",
       "      <th>Injury</th>\n",
       "      <th>Fatal</th>\n",
       "      <th>Time</th>\n",
       "      <th>Species</th>\n",
       "      <th>Investigator or Source</th>\n",
       "      <th>pdf</th>\n",
       "      <th>href formula</th>\n",
       "      <th>href</th>\n",
       "      <th>Case Number.1</th>\n",
       "      <th>Case Number.2</th>\n",
       "      <th>original order</th>\n",
       "      <th>time</th>\n",
       "    </tr>\n",
       "  </thead>\n",
       "  <tbody>\n",
       "    <tr>\n",
       "      <th>0</th>\n",
       "      <td>2018.06.25</td>\n",
       "      <td>25-Jun-2018</td>\n",
       "      <td>2018.0</td>\n",
       "      <td>Boating</td>\n",
       "      <td>USA</td>\n",
       "      <td>California</td>\n",
       "      <td>Oceanside, San Diego County</td>\n",
       "      <td>Paddling</td>\n",
       "      <td>Julie Wolfe</td>\n",
       "      <td>F</td>\n",
       "      <td>57.0</td>\n",
       "      <td>No injury to occupant, outrigger canoe and pad...</td>\n",
       "      <td>N</td>\n",
       "      <td>18h00</td>\n",
       "      <td>White shark</td>\n",
       "      <td>R. Collier, GSAF</td>\n",
       "      <td>2018.06.25-Wolfe.pdf</td>\n",
       "      <td>http://sharkattackfile.net/spreadsheets/pdf_di...</td>\n",
       "      <td>http://sharkattackfile.net/spreadsheets/pdf_di...</td>\n",
       "      <td>2018-06-25</td>\n",
       "      <td>2018-06-25</td>\n",
       "      <td>6303.0</td>\n",
       "      <td>18:00</td>\n",
       "    </tr>\n",
       "    <tr>\n",
       "      <th>1</th>\n",
       "      <td>2018.06.18</td>\n",
       "      <td>18-Jun-2018</td>\n",
       "      <td>2018.0</td>\n",
       "      <td>Unprovoked</td>\n",
       "      <td>USA</td>\n",
       "      <td>Georgia</td>\n",
       "      <td>St. Simon Island, Glynn County</td>\n",
       "      <td>Standing</td>\n",
       "      <td>Adyson McNeely</td>\n",
       "      <td>F</td>\n",
       "      <td>11.0</td>\n",
       "      <td>Minor injury to left thigh</td>\n",
       "      <td>N</td>\n",
       "      <td>14h00  -15h00</td>\n",
       "      <td>unknown</td>\n",
       "      <td>K.McMurray, TrackingSharks.com</td>\n",
       "      <td>2018.06.18-McNeely.pdf</td>\n",
       "      <td>http://sharkattackfile.net/spreadsheets/pdf_di...</td>\n",
       "      <td>http://sharkattackfile.net/spreadsheets/pdf_di...</td>\n",
       "      <td>2018-06-18</td>\n",
       "      <td>2018-06-18</td>\n",
       "      <td>6302.0</td>\n",
       "      <td>14:00</td>\n",
       "    </tr>\n",
       "    <tr>\n",
       "      <th>2</th>\n",
       "      <td>2018.06.09</td>\n",
       "      <td>09-Jun-2018</td>\n",
       "      <td>2018.0</td>\n",
       "      <td>Invalid</td>\n",
       "      <td>USA</td>\n",
       "      <td>Hawaii</td>\n",
       "      <td>Habush, Oahu</td>\n",
       "      <td>Surfing</td>\n",
       "      <td>John Denges</td>\n",
       "      <td>M</td>\n",
       "      <td>48.0</td>\n",
       "      <td>Injury to left lower leg from surfboard skeg</td>\n",
       "      <td>N</td>\n",
       "      <td>07h45</td>\n",
       "      <td>unknown</td>\n",
       "      <td>K.McMurray, TrackingSharks.com</td>\n",
       "      <td>2018.06.09-Denges.pdf</td>\n",
       "      <td>http://sharkattackfile.net/spreadsheets/pdf_di...</td>\n",
       "      <td>http://sharkattackfile.net/spreadsheets/pdf_di...</td>\n",
       "      <td>2018-06-09</td>\n",
       "      <td>2018-06-09</td>\n",
       "      <td>6301.0</td>\n",
       "      <td>07:45</td>\n",
       "    </tr>\n",
       "    <tr>\n",
       "      <th>3</th>\n",
       "      <td>2018.06.08</td>\n",
       "      <td>08-Jun-2018</td>\n",
       "      <td>2018.0</td>\n",
       "      <td>Unprovoked</td>\n",
       "      <td>AUSTRALIA</td>\n",
       "      <td>New South Wales</td>\n",
       "      <td>Arrawarra Headland</td>\n",
       "      <td>Surfing</td>\n",
       "      <td>male</td>\n",
       "      <td>M</td>\n",
       "      <td>NaN</td>\n",
       "      <td>Minor injury to lower leg</td>\n",
       "      <td>N</td>\n",
       "      <td>unknown</td>\n",
       "      <td>2 m shark</td>\n",
       "      <td>B. Myatt, GSAF</td>\n",
       "      <td>2018.06.08-Arrawarra.pdf</td>\n",
       "      <td>http://sharkattackfile.net/spreadsheets/pdf_di...</td>\n",
       "      <td>http://sharkattackfile.net/spreadsheets/pdf_di...</td>\n",
       "      <td>2018-06-08</td>\n",
       "      <td>2018-06-08</td>\n",
       "      <td>6300.0</td>\n",
       "      <td>:</td>\n",
       "    </tr>\n",
       "    <tr>\n",
       "      <th>4</th>\n",
       "      <td>2018.06.04</td>\n",
       "      <td>04-Jun-2018</td>\n",
       "      <td>2018.0</td>\n",
       "      <td>Provoked</td>\n",
       "      <td>MEXICO</td>\n",
       "      <td>Colima</td>\n",
       "      <td>La Ticla</td>\n",
       "      <td>Free diving</td>\n",
       "      <td>Gustavo Ramos</td>\n",
       "      <td>M</td>\n",
       "      <td>NaN</td>\n",
       "      <td>Lacerations to leg &amp; hand shark PROVOKED INCIDENT</td>\n",
       "      <td>N</td>\n",
       "      <td>unknown</td>\n",
       "      <td>Tiger shark, 3m</td>\n",
       "      <td>A .Kipper</td>\n",
       "      <td>2018.06.04-Ramos.pdf</td>\n",
       "      <td>http://sharkattackfile.net/spreadsheets/pdf_di...</td>\n",
       "      <td>http://sharkattackfile.net/spreadsheets/pdf_di...</td>\n",
       "      <td>2018-06-04</td>\n",
       "      <td>2018-06-04</td>\n",
       "      <td>6299.0</td>\n",
       "      <td>:</td>\n",
       "    </tr>\n",
       "  </tbody>\n",
       "</table>\n",
       "</div>"
      ],
      "text/plain": [
       "  Case Number         Date    Year        Type    Country             Area  \\\n",
       "0  2018.06.25  25-Jun-2018  2018.0     Boating        USA       California   \n",
       "1  2018.06.18  18-Jun-2018  2018.0  Unprovoked        USA          Georgia   \n",
       "2  2018.06.09  09-Jun-2018  2018.0     Invalid        USA           Hawaii   \n",
       "3  2018.06.08  08-Jun-2018  2018.0  Unprovoked  AUSTRALIA  New South Wales   \n",
       "4  2018.06.04  04-Jun-2018  2018.0    Provoked     MEXICO           Colima   \n",
       "\n",
       "                         Location     Activity             Name Sex   Age  \\\n",
       "0     Oceanside, San Diego County     Paddling      Julie Wolfe   F  57.0   \n",
       "1  St. Simon Island, Glynn County     Standing  Adyson McNeely    F  11.0   \n",
       "2                    Habush, Oahu      Surfing      John Denges   M  48.0   \n",
       "3              Arrawarra Headland      Surfing             male   M   NaN   \n",
       "4                        La Ticla  Free diving   Gustavo Ramos    M   NaN   \n",
       "\n",
       "                                              Injury Fatal           Time  \\\n",
       "0  No injury to occupant, outrigger canoe and pad...     N          18h00   \n",
       "1                         Minor injury to left thigh     N  14h00  -15h00   \n",
       "2       Injury to left lower leg from surfboard skeg     N          07h45   \n",
       "3                          Minor injury to lower leg     N        unknown   \n",
       "4  Lacerations to leg & hand shark PROVOKED INCIDENT     N        unknown   \n",
       "\n",
       "           Species          Investigator or Source                       pdf  \\\n",
       "0      White shark                R. Collier, GSAF      2018.06.25-Wolfe.pdf   \n",
       "1          unknown  K.McMurray, TrackingSharks.com    2018.06.18-McNeely.pdf   \n",
       "2          unknown  K.McMurray, TrackingSharks.com     2018.06.09-Denges.pdf   \n",
       "3        2 m shark                  B. Myatt, GSAF  2018.06.08-Arrawarra.pdf   \n",
       "4  Tiger shark, 3m                       A .Kipper      2018.06.04-Ramos.pdf   \n",
       "\n",
       "                                        href formula  \\\n",
       "0  http://sharkattackfile.net/spreadsheets/pdf_di...   \n",
       "1  http://sharkattackfile.net/spreadsheets/pdf_di...   \n",
       "2  http://sharkattackfile.net/spreadsheets/pdf_di...   \n",
       "3  http://sharkattackfile.net/spreadsheets/pdf_di...   \n",
       "4  http://sharkattackfile.net/spreadsheets/pdf_di...   \n",
       "\n",
       "                                                href Case Number.1  \\\n",
       "0  http://sharkattackfile.net/spreadsheets/pdf_di...    2018-06-25   \n",
       "1  http://sharkattackfile.net/spreadsheets/pdf_di...    2018-06-18   \n",
       "2  http://sharkattackfile.net/spreadsheets/pdf_di...    2018-06-09   \n",
       "3  http://sharkattackfile.net/spreadsheets/pdf_di...    2018-06-08   \n",
       "4  http://sharkattackfile.net/spreadsheets/pdf_di...    2018-06-04   \n",
       "\n",
       "  Case Number.2  original order   time  \n",
       "0    2018-06-25          6303.0  18:00  \n",
       "1    2018-06-18          6302.0  14:00  \n",
       "2    2018-06-09          6301.0  07:45  \n",
       "3    2018-06-08          6300.0      :  \n",
       "4    2018-06-04          6299.0      :  "
      ]
     },
     "execution_count": 218,
     "metadata": {},
     "output_type": "execute_result"
    }
   ],
   "source": [
    "sk['time']=sk.time.apply(limpiar_time3)\n",
    "\n",
    "sk.head()"
   ]
  },
  {
   "cell_type": "code",
   "execution_count": 219,
   "id": "2253ee0f",
   "metadata": {},
   "outputs": [],
   "source": [
    "sk.time.replace(':', '',inplace=True)"
   ]
  },
  {
   "cell_type": "code",
   "execution_count": 220,
   "id": "2beb8f4a",
   "metadata": {
    "scrolled": false
   },
   "outputs": [
    {
     "data": {
      "text/plain": [
       "0    18:00\n",
       "1    14:00\n",
       "2    07:45\n",
       "3         \n",
       "4         \n",
       "Name: time, dtype: object"
      ]
     },
     "execution_count": 220,
     "metadata": {},
     "output_type": "execute_result"
    }
   ],
   "source": [
    "sk.time.head()"
   ]
  },
  {
   "cell_type": "code",
   "execution_count": 221,
   "id": "eee8af62",
   "metadata": {
    "scrolled": true
   },
   "outputs": [
    {
     "data": {
      "text/plain": [
       "array(['18h00', '14h00  -15h00', '07h45', 'unknown', 'Late afternoon',\n",
       "       '17h00', '14h00', 'Morning', '15h00', '08h15', '11h00', '10h30',\n",
       "       '10h40', '16h50', '07h00', '09h30', 'Afternoon', '21h50', '09h40',\n",
       "       '08h00', '17h35', '15h30', '07h30', '19h00, Dusk', 'Night',\n",
       "       '16h00', '15h01', '12h00', '13h45', '23h30', '09h00', '14h30',\n",
       "       '18h30', '12h30', '16h30', '18h45', '06h00', '10h00', '10h44',\n",
       "       '13h19', 'Midday', '13h30', '10h45', '11h20', '11h45', '19h30',\n",
       "       '08h30', '15h45', 'Shortly before 12h00', '17h34', '17h10',\n",
       "       '11h15', '08h50', '17h45', '13h00', '10h20', '13h20', '02h00',\n",
       "       '09h50', '11h30', '17h30', '9h00', '10h43', 'After noon', '15h15',\n",
       "       '15h40', '19h05', '1300', '14h30 / 15h30', '22h00', '16h20',\n",
       "       '14h34', '15h25', '14h55', '17h46', 'Morning ', '15h49', '19h00',\n",
       "       'Midnight', '09h30 / 10h00', '10h15', '18h15', '04h00', '14h50',\n",
       "       '13h50', '19h20', '10h25', '10h45-11h15', '16h45', '15h52',\n",
       "       '06h15', '14h40', '19h45', '10h10', '08h45', 'Evening', '12h10',\n",
       "       '18h05', '11h41', '12h25', '17h51', '16h12', '12h45', '10h50',\n",
       "       '14h15', '09h45', '06h45', '05h00', '03h30',\n",
       "       'Sometime between 06h00 & 08hoo', '06h30', '17h20', '20h00',\n",
       "       '16h40', '16h18', '11h10', 'Early afternoon', '17h50',\n",
       "       '07h00 - 08h00', '18h15-18h30', '17h01', '09h57', '08h20', '17h58',\n",
       "       '20h30', '15h19', '10h55', '15h55', '23h00', '12h40', '13h55',\n",
       "       '16h05', '14h10', '15h20', '12h50', '14h45', '13h40', '13h24',\n",
       "       '09h00 - 09h30', '0830', '11h40', '08h10', '15h56', '14h20',\n",
       "       'Just before noon', '07h56', '1600', '17h17', '16h35', '09h05',\n",
       "       '07h15', '07h20', '19h28', '12h38', '05h50', '15h50', '11h05',\n",
       "       'Early morning', 'Dawn', '05h45', '13h25', '12h20', '13h26',\n",
       "       '09h11', '12h15', '13h15', '18h20', '15h35', 'AM', '13h51', 'A.M.',\n",
       "       '08h05', '19h15', '10h35', '15h44', 'Dusk', '21h00', 'Lunchtime',\n",
       "       '15j45', '09h35', '10h27', '10h16', '0500', 'Before 07h00',\n",
       "       '09h20', '10h00 -- 11h00', '12h05', '14h21', '18h50', '15h53',\n",
       "       '\"Just before 11h00\"', '11h115', '13h42', '20h15', '12h39',\n",
       "       '07h05', 'Sunset', '  ', '13h05', '11h50', '\"Evening\"',\n",
       "       'Just before sundown', '17h55', '22h30', '17h15', '16h10',\n",
       "       '11h30 ', '06h10', '16h15', 'Between 05h00 and 08h00', '07h08',\n",
       "       '17h00 or 17h40', '03h00', '>08h00', '--', '12h02', '12h55',\n",
       "       '16h14', '17h11', '00h30', '14h37', '10h07', '13h53', '11h55',\n",
       "       '13h23', 'Just after 12h00', '02h30', '08h40', '11h56', '14h35',\n",
       "       ' ', 'Early Morning', '07h50', 'Shortly after midnight', '14h25',\n",
       "       '13h345', '\\xa0 ', '06h47', '09h00 -10h00', '20h45 (Sunset)',\n",
       "       'Late morning', 'P.M.', '18h40', '13h14', '13h06',\n",
       "       'Shortly before 13h00', '12h34', '11h53', '8:04 pm', '12h46',\n",
       "       '12h48', '17h42', '12h35', 'Possibly same incident as 2000.08.21',\n",
       "       'After Dusk', '11h57', 'Noon', '17h40', '11h25', '18h25', '10h28',\n",
       "       '09h15', '14h16', '09h55', '2 hours after Opperman', '15h05',\n",
       "       '09h30 ', 'Mid afternoon', 'Mid morning', '11h48', '11h00 / 11h30',\n",
       "       '07h19', '13h37', '11h06', '\"Night\"', '18h30?', '11h58', '11h51',\n",
       "       '18h12', '07h10', '07h40', '12h33',\n",
       "       '30 minutes after 1992.07.08.a', '>06h45', '15h06', '12h54',\n",
       "       'Between 06h00 & 07h20', '16h55', '05h40', '<07h30', '21h30',\n",
       "       '17h00 Sunset', 'Nightfall', 'X', '08h57', '18h30 (Sunset)',\n",
       "       '06j00', '08h35', '10h22', '02h45', 'Prior to 10h37', 'Daybreak',\n",
       "       '18h10', '>12h00', 'Mid-morning', '08h55', '16h30 or 18h00',\n",
       "       'Just before dawn', ' 14h00', 'Daytime', '06h50', '01h00', 'Dark',\n",
       "       '10h00 / 11h00', '\"After lunch\"', '07h32', '15h00 or 15h45',\n",
       "       '>17h00', '19h00 / 20h00', '12h45 / 13h45', '14h00 - 15h00',\n",
       "       'night', '03h45 - 04h00', '13h10', '09h30 / 15h30',\n",
       "       '08h00 / 09h30', '19h35', '12h00 to 14h00', '13h35', 'Late night',\n",
       "       '01h32', '10h30 or 13h30', '16h23', '15h00j', 'Midday.',\n",
       "       '\"After dark\"', '10h00 or 14h00', '19h10', '16h25',\n",
       "       '2 hrs before sunset', '18h15 to 21h30', '1500',\n",
       "       '\"shortly before dusk\"', '>17h30', '>14h30',\n",
       "       'Between 11h00 & 12h00', 'After 04h00',\n",
       "       '11h01 -time of ship sinking', 'Ship aban-doned at 03h10', '19h55',\n",
       "       'After dusk',\n",
       "       'FATAL  (Wire netting installed at local beaches after this incident.)',\n",
       "       '01h30', 'After midnight', 'Late afternon', '05h30', '08h58',\n",
       "       '\"Early evening\"', 'Late Afternoon', '   ', 'Before daybreak',\n",
       "       'dusk', 'Before 10h30', '06h00 -- 07h00', '01h50', '17h00-18h00',\n",
       "       '19h00-20h00'], dtype=object)"
      ]
     },
     "execution_count": 221,
     "metadata": {},
     "output_type": "execute_result"
    }
   ],
   "source": [
    "sk.Time.unique()"
   ]
  },
  {
   "cell_type": "code",
   "execution_count": 222,
   "id": "1945384f",
   "metadata": {},
   "outputs": [],
   "source": [
    "afternoon_index=sk[sk.Time.str.contains('afternoon' or 'Afternoon')].index"
   ]
  },
  {
   "cell_type": "code",
   "execution_count": 223,
   "id": "fa2129b9",
   "metadata": {},
   "outputs": [],
   "source": [
    "sk.at[afternoon_index, 'time'] = '17:00'"
   ]
  },
  {
   "cell_type": "code",
   "execution_count": 224,
   "id": "749454ed",
   "metadata": {
    "scrolled": false
   },
   "outputs": [
    {
     "data": {
      "text/html": [
       "<div>\n",
       "<style scoped>\n",
       "    .dataframe tbody tr th:only-of-type {\n",
       "        vertical-align: middle;\n",
       "    }\n",
       "\n",
       "    .dataframe tbody tr th {\n",
       "        vertical-align: top;\n",
       "    }\n",
       "\n",
       "    .dataframe thead th {\n",
       "        text-align: right;\n",
       "    }\n",
       "</style>\n",
       "<table border=\"1\" class=\"dataframe\">\n",
       "  <thead>\n",
       "    <tr style=\"text-align: right;\">\n",
       "      <th></th>\n",
       "      <th>Case Number</th>\n",
       "      <th>Date</th>\n",
       "      <th>Year</th>\n",
       "      <th>Type</th>\n",
       "      <th>Country</th>\n",
       "      <th>Area</th>\n",
       "      <th>Location</th>\n",
       "      <th>Activity</th>\n",
       "      <th>Name</th>\n",
       "      <th>Sex</th>\n",
       "      <th>Age</th>\n",
       "      <th>Injury</th>\n",
       "      <th>Fatal</th>\n",
       "      <th>Time</th>\n",
       "      <th>Species</th>\n",
       "      <th>Investigator or Source</th>\n",
       "      <th>pdf</th>\n",
       "      <th>href formula</th>\n",
       "      <th>href</th>\n",
       "      <th>Case Number.1</th>\n",
       "      <th>Case Number.2</th>\n",
       "      <th>original order</th>\n",
       "      <th>time</th>\n",
       "    </tr>\n",
       "  </thead>\n",
       "  <tbody>\n",
       "    <tr>\n",
       "      <th>6</th>\n",
       "      <td>2018.06.03.a</td>\n",
       "      <td>03-Jun-2018</td>\n",
       "      <td>2018.0</td>\n",
       "      <td>Unprovoked</td>\n",
       "      <td>BRAZIL</td>\n",
       "      <td>Pernambuco</td>\n",
       "      <td>Piedade Beach, Recife</td>\n",
       "      <td>Swimming</td>\n",
       "      <td>Jose Ernesto da Silva</td>\n",
       "      <td>M</td>\n",
       "      <td>18.0</td>\n",
       "      <td>FATAL</td>\n",
       "      <td>Y</td>\n",
       "      <td>Late afternoon</td>\n",
       "      <td>Tiger shark</td>\n",
       "      <td>Diario de Pernambuco, 6/4/2018</td>\n",
       "      <td>2018.06.03.a-daSilva.pdf</td>\n",
       "      <td>http://sharkattackfile.net/spreadsheets/pdf_di...</td>\n",
       "      <td>http://sharkattackfile.net/spreadsheets/pdf_di...</td>\n",
       "      <td>NaT</td>\n",
       "      <td>NaT</td>\n",
       "      <td>6297.0</td>\n",
       "      <td>17:00</td>\n",
       "    </tr>\n",
       "    <tr>\n",
       "      <th>51</th>\n",
       "      <td>2018.01.12</td>\n",
       "      <td>12-Jan-2018</td>\n",
       "      <td>2018.0</td>\n",
       "      <td>Unprovoked</td>\n",
       "      <td>BRAZIL</td>\n",
       "      <td>Fernando de Noronha</td>\n",
       "      <td>Conceicao Beach</td>\n",
       "      <td>Surfing</td>\n",
       "      <td>Ricardo Ferrari Bulhoes</td>\n",
       "      <td>M</td>\n",
       "      <td>20.0</td>\n",
       "      <td>Minor injury to left forearm</td>\n",
       "      <td>N</td>\n",
       "      <td>Late afternoon</td>\n",
       "      <td>small shark</td>\n",
       "      <td>TrackingSharks.com</td>\n",
       "      <td>2018.01.12-Bulhoes.pdf</td>\n",
       "      <td>http://sharkattackfile.net/spreadsheets/pdf_di...</td>\n",
       "      <td>http://sharkattackfile.net/spreadsheets/pdf_di...</td>\n",
       "      <td>2018-01-12</td>\n",
       "      <td>2018-01-12</td>\n",
       "      <td>6252.0</td>\n",
       "      <td>17:00</td>\n",
       "    </tr>\n",
       "    <tr>\n",
       "      <th>61</th>\n",
       "      <td>2017.11.18</td>\n",
       "      <td>18-Nov-2017</td>\n",
       "      <td>2017.0</td>\n",
       "      <td>Unprovoked</td>\n",
       "      <td>USA</td>\n",
       "      <td>Florida</td>\n",
       "      <td>Floridana Beach, Brevard County</td>\n",
       "      <td>Surfing</td>\n",
       "      <td>Kaia Anderson</td>\n",
       "      <td>F</td>\n",
       "      <td>14.0</td>\n",
       "      <td>Heel bitten</td>\n",
       "      <td>N</td>\n",
       "      <td>Late afternoon</td>\n",
       "      <td>unknown</td>\n",
       "      <td>Florida Today, 11/21/2017</td>\n",
       "      <td>2017.11.18-Anderson.pdf</td>\n",
       "      <td>http://sharkattackfile.net/spreadsheets/pdf_di...</td>\n",
       "      <td>http://sharkattackfile.net/spreadsheets/pdf_di...</td>\n",
       "      <td>2017-11-18</td>\n",
       "      <td>2017-11-18</td>\n",
       "      <td>6242.0</td>\n",
       "      <td>17:00</td>\n",
       "    </tr>\n",
       "    <tr>\n",
       "      <th>222</th>\n",
       "      <td>2016.09.05.b</td>\n",
       "      <td>05-Sep-2016</td>\n",
       "      <td>2016.0</td>\n",
       "      <td>Unprovoked</td>\n",
       "      <td>USA</td>\n",
       "      <td>South Carolina</td>\n",
       "      <td>Kingston Plantation, Myrtle Beach, Horry County</td>\n",
       "      <td>Boogie boarding</td>\n",
       "      <td>Rylie Williams</td>\n",
       "      <td>F</td>\n",
       "      <td>12.0</td>\n",
       "      <td>Lacerations &amp; punctures to lower right leg</td>\n",
       "      <td>N</td>\n",
       "      <td>Late afternoon</td>\n",
       "      <td>unknown</td>\n",
       "      <td>C. Creswell, GSAF</td>\n",
       "      <td>2016.09.05.b-Williams.pdf</td>\n",
       "      <td>http://sharkattackfile.net/spreadsheets/pdf_di...</td>\n",
       "      <td>http://sharkattackfile.net/spreadsheets/pdf_di...</td>\n",
       "      <td>NaT</td>\n",
       "      <td>NaT</td>\n",
       "      <td>6081.0</td>\n",
       "      <td>17:00</td>\n",
       "    </tr>\n",
       "    <tr>\n",
       "      <th>223</th>\n",
       "      <td>2016.09.05.a</td>\n",
       "      <td>05-Sep-2016</td>\n",
       "      <td>2016.0</td>\n",
       "      <td>Unprovoked</td>\n",
       "      <td>AUSTRALIA</td>\n",
       "      <td>Western Australia</td>\n",
       "      <td>Injidup</td>\n",
       "      <td>Surfing</td>\n",
       "      <td>Fraser Penman</td>\n",
       "      <td>M</td>\n",
       "      <td>NaN</td>\n",
       "      <td>No inury, board broken in half by shark</td>\n",
       "      <td>N</td>\n",
       "      <td>Late afternoon</td>\n",
       "      <td>unknown</td>\n",
       "      <td>Perth Now, 9/5/2016</td>\n",
       "      <td>2016.09.05.a-Penman.pdf</td>\n",
       "      <td>http://sharkattackfile.net/spreadsheets/pdf_di...</td>\n",
       "      <td>http://sharkattackfile.net/spreadsheets/pdf_di...</td>\n",
       "      <td>NaT</td>\n",
       "      <td>NaT</td>\n",
       "      <td>6080.0</td>\n",
       "      <td>17:00</td>\n",
       "    </tr>\n",
       "  </tbody>\n",
       "</table>\n",
       "</div>"
      ],
      "text/plain": [
       "      Case Number         Date    Year        Type    Country  \\\n",
       "6    2018.06.03.a  03-Jun-2018  2018.0  Unprovoked     BRAZIL   \n",
       "51     2018.01.12  12-Jan-2018  2018.0  Unprovoked     BRAZIL   \n",
       "61     2017.11.18  18-Nov-2017  2017.0  Unprovoked        USA   \n",
       "222  2016.09.05.b  05-Sep-2016  2016.0  Unprovoked        USA   \n",
       "223  2016.09.05.a  05-Sep-2016  2016.0  Unprovoked  AUSTRALIA   \n",
       "\n",
       "                    Area                                         Location  \\\n",
       "6             Pernambuco                            Piedade Beach, Recife   \n",
       "51   Fernando de Noronha                                  Conceicao Beach   \n",
       "61               Florida                  Floridana Beach, Brevard County   \n",
       "222       South Carolina  Kingston Plantation, Myrtle Beach, Horry County   \n",
       "223    Western Australia                                         Injidup    \n",
       "\n",
       "            Activity                      Name Sex   Age  \\\n",
       "6           Swimming    Jose Ernesto da Silva    M  18.0   \n",
       "51           Surfing  Ricardo Ferrari Bulhoes    M  20.0   \n",
       "61           Surfing             Kaia Anderson   F  14.0   \n",
       "222  Boogie boarding            Rylie Williams   F  12.0   \n",
       "223          Surfing             Fraser Penman   M   NaN   \n",
       "\n",
       "                                         Injury Fatal            Time  \\\n",
       "6                                         FATAL     Y  Late afternoon   \n",
       "51                 Minor injury to left forearm     N  Late afternoon   \n",
       "61                                  Heel bitten     N  Late afternoon   \n",
       "222  Lacerations & punctures to lower right leg     N  Late afternoon   \n",
       "223     No inury, board broken in half by shark     N  Late afternoon   \n",
       "\n",
       "         Species          Investigator or Source                        pdf  \\\n",
       "6    Tiger shark  Diario de Pernambuco, 6/4/2018   2018.06.03.a-daSilva.pdf   \n",
       "51   small shark              TrackingSharks.com     2018.01.12-Bulhoes.pdf   \n",
       "61       unknown       Florida Today, 11/21/2017    2017.11.18-Anderson.pdf   \n",
       "222      unknown               C. Creswell, GSAF  2016.09.05.b-Williams.pdf   \n",
       "223      unknown             Perth Now, 9/5/2016    2016.09.05.a-Penman.pdf   \n",
       "\n",
       "                                          href formula  \\\n",
       "6    http://sharkattackfile.net/spreadsheets/pdf_di...   \n",
       "51   http://sharkattackfile.net/spreadsheets/pdf_di...   \n",
       "61   http://sharkattackfile.net/spreadsheets/pdf_di...   \n",
       "222  http://sharkattackfile.net/spreadsheets/pdf_di...   \n",
       "223  http://sharkattackfile.net/spreadsheets/pdf_di...   \n",
       "\n",
       "                                                  href Case Number.1  \\\n",
       "6    http://sharkattackfile.net/spreadsheets/pdf_di...           NaT   \n",
       "51   http://sharkattackfile.net/spreadsheets/pdf_di...    2018-01-12   \n",
       "61   http://sharkattackfile.net/spreadsheets/pdf_di...    2017-11-18   \n",
       "222  http://sharkattackfile.net/spreadsheets/pdf_di...           NaT   \n",
       "223  http://sharkattackfile.net/spreadsheets/pdf_di...           NaT   \n",
       "\n",
       "    Case Number.2  original order   time  \n",
       "6             NaT          6297.0  17:00  \n",
       "51     2018-01-12          6252.0  17:00  \n",
       "61     2017-11-18          6242.0  17:00  \n",
       "222           NaT          6081.0  17:00  \n",
       "223           NaT          6080.0  17:00  "
      ]
     },
     "execution_count": 224,
     "metadata": {},
     "output_type": "execute_result"
    }
   ],
   "source": [
    "sk[sk.Time.str.contains('afternoon' or 'Afternoon')].head()"
   ]
  },
  {
   "cell_type": "code",
   "execution_count": 225,
   "id": "8d3cec50",
   "metadata": {},
   "outputs": [],
   "source": [
    "morning_index=sk[sk.Time.str.contains('morning' or 'Morning')].index"
   ]
  },
  {
   "cell_type": "code",
   "execution_count": 226,
   "id": "fcb2103b",
   "metadata": {},
   "outputs": [],
   "source": [
    "sk.at[morning_index, 'time'] = '10:00'"
   ]
  },
  {
   "cell_type": "code",
   "execution_count": 227,
   "id": "31c4a536",
   "metadata": {
    "scrolled": true
   },
   "outputs": [
    {
     "data": {
      "text/html": [
       "<div>\n",
       "<style scoped>\n",
       "    .dataframe tbody tr th:only-of-type {\n",
       "        vertical-align: middle;\n",
       "    }\n",
       "\n",
       "    .dataframe tbody tr th {\n",
       "        vertical-align: top;\n",
       "    }\n",
       "\n",
       "    .dataframe thead th {\n",
       "        text-align: right;\n",
       "    }\n",
       "</style>\n",
       "<table border=\"1\" class=\"dataframe\">\n",
       "  <thead>\n",
       "    <tr style=\"text-align: right;\">\n",
       "      <th></th>\n",
       "      <th>Case Number</th>\n",
       "      <th>Date</th>\n",
       "      <th>Year</th>\n",
       "      <th>Type</th>\n",
       "      <th>Country</th>\n",
       "      <th>Area</th>\n",
       "      <th>Location</th>\n",
       "      <th>Activity</th>\n",
       "      <th>Name</th>\n",
       "      <th>Sex</th>\n",
       "      <th>Age</th>\n",
       "      <th>Injury</th>\n",
       "      <th>Fatal</th>\n",
       "      <th>Time</th>\n",
       "      <th>Species</th>\n",
       "      <th>Investigator or Source</th>\n",
       "      <th>pdf</th>\n",
       "      <th>href formula</th>\n",
       "      <th>href</th>\n",
       "      <th>Case Number.1</th>\n",
       "      <th>Case Number.2</th>\n",
       "      <th>original order</th>\n",
       "      <th>time</th>\n",
       "    </tr>\n",
       "  </thead>\n",
       "  <tbody>\n",
       "    <tr>\n",
       "      <th>830</th>\n",
       "      <td>2011.12.26.R</td>\n",
       "      <td>Reported 26-Dec-2011</td>\n",
       "      <td>2011.0</td>\n",
       "      <td>Invalid</td>\n",
       "      <td>ANTIGUA</td>\n",
       "      <td>St John's</td>\n",
       "      <td>Fort James Beach</td>\n",
       "      <td>Swimming</td>\n",
       "      <td>Veron Edwards, Sr.</td>\n",
       "      <td>M</td>\n",
       "      <td>NaN</td>\n",
       "      <td>Bitten on right hand &amp; wrist</td>\n",
       "      <td>NaN</td>\n",
       "      <td>Early morning</td>\n",
       "      <td>Shark involvement not confirmed</td>\n",
       "      <td>D. Francis, Caribarena, 12/26/2011</td>\n",
       "      <td>2011.12.26.R-Edwards.pdf</td>\n",
       "      <td>http://sharkattackfile.net/spreadsheets/pdf_di...</td>\n",
       "      <td>http://sharkattackfile.net/spreadsheets/pdf_di...</td>\n",
       "      <td>NaT</td>\n",
       "      <td>NaT</td>\n",
       "      <td>5473.0</td>\n",
       "      <td>10:00</td>\n",
       "    </tr>\n",
       "    <tr>\n",
       "      <th>1144</th>\n",
       "      <td>2009.03.19.b</td>\n",
       "      <td>19-Mar-2009</td>\n",
       "      <td>2009.0</td>\n",
       "      <td>Unprovoked</td>\n",
       "      <td>AUSTRALIA</td>\n",
       "      <td>New South Wales</td>\n",
       "      <td>South Broulee</td>\n",
       "      <td>Surfing</td>\n",
       "      <td>male</td>\n",
       "      <td>M</td>\n",
       "      <td>NaN</td>\n",
       "      <td>No injury, shark damaged surfboard</td>\n",
       "      <td>N</td>\n",
       "      <td>Early morning</td>\n",
       "      <td>unknown</td>\n",
       "      <td>ABC News, 3/19/2009</td>\n",
       "      <td>2009.03.19.b-SouthBroulee.pdf</td>\n",
       "      <td>http://sharkattackfile.net/spreadsheets/pdf_di...</td>\n",
       "      <td>http://sharkattackfile.net/spreadsheets/pdf_di...</td>\n",
       "      <td>NaT</td>\n",
       "      <td>NaT</td>\n",
       "      <td>5159.0</td>\n",
       "      <td>10:00</td>\n",
       "    </tr>\n",
       "    <tr>\n",
       "      <th>1256</th>\n",
       "      <td>2008.05.24.a</td>\n",
       "      <td>24-May-2008</td>\n",
       "      <td>2008.0</td>\n",
       "      <td>Unprovoked</td>\n",
       "      <td>MEXICO</td>\n",
       "      <td>Guerro</td>\n",
       "      <td>Playa Linda</td>\n",
       "      <td>Surfing</td>\n",
       "      <td>Bruce Grimes</td>\n",
       "      <td>M</td>\n",
       "      <td>49.0</td>\n",
       "      <td>Lacerations to right forearm and hand</td>\n",
       "      <td>N</td>\n",
       "      <td>Early morning</td>\n",
       "      <td>3 m shark</td>\n",
       "      <td>Associated Press</td>\n",
       "      <td>2008.05.24.a-Grimes.pdf</td>\n",
       "      <td>http://sharkattackfile.net/spreadsheets/pdf_di...</td>\n",
       "      <td>http://sharkattackfile.net/spreadsheets/pdf_di...</td>\n",
       "      <td>NaT</td>\n",
       "      <td>NaT</td>\n",
       "      <td>5047.0</td>\n",
       "      <td>10:00</td>\n",
       "    </tr>\n",
       "    <tr>\n",
       "      <th>1322</th>\n",
       "      <td>2007.09.30.a</td>\n",
       "      <td>30-Sep-2007</td>\n",
       "      <td>2007.0</td>\n",
       "      <td>Unprovoked</td>\n",
       "      <td>NEW CALEDONIA</td>\n",
       "      <td>Loyalty Islands</td>\n",
       "      <td>Bay of Luengoni, Lifou Island</td>\n",
       "      <td>Swimming</td>\n",
       "      <td>Stéphanie Belliard</td>\n",
       "      <td>F</td>\n",
       "      <td>23.0</td>\n",
       "      <td>FATAL</td>\n",
       "      <td>Y</td>\n",
       "      <td>Early morning</td>\n",
       "      <td>Tiger shark</td>\n",
       "      <td>Les Nouvelles Caledoniennes, 10/1/2007</td>\n",
       "      <td>2007.09.30.a-Belliard.pdf</td>\n",
       "      <td>http://sharkattackfile.net/spreadsheets/pdf_di...</td>\n",
       "      <td>http://sharkattackfile.net/spreadsheets/pdf_di...</td>\n",
       "      <td>NaT</td>\n",
       "      <td>NaT</td>\n",
       "      <td>4981.0</td>\n",
       "      <td>10:00</td>\n",
       "    </tr>\n",
       "    <tr>\n",
       "      <th>1331</th>\n",
       "      <td>2007.09.16.a</td>\n",
       "      <td>16-Sep-2007</td>\n",
       "      <td>2007.0</td>\n",
       "      <td>Unprovoked</td>\n",
       "      <td>USA</td>\n",
       "      <td>Florida</td>\n",
       "      <td>Flagler Beach, Flagler County</td>\n",
       "      <td>Surfing</td>\n",
       "      <td>Jessica Riley</td>\n",
       "      <td>F</td>\n",
       "      <td>NaN</td>\n",
       "      <td>No injury, surfboard bitten</td>\n",
       "      <td>N</td>\n",
       "      <td>Early morning</td>\n",
       "      <td>9.5' shark?</td>\n",
       "      <td>wsbtv.com</td>\n",
       "      <td>2007.09.16.a-Riley.pdf</td>\n",
       "      <td>http://sharkattackfile.net/spreadsheets/pdf_di...</td>\n",
       "      <td>http://sharkattackfile.net/spreadsheets/pdf_di...</td>\n",
       "      <td>NaT</td>\n",
       "      <td>NaT</td>\n",
       "      <td>4972.0</td>\n",
       "      <td>10:00</td>\n",
       "    </tr>\n",
       "  </tbody>\n",
       "</table>\n",
       "</div>"
      ],
      "text/plain": [
       "       Case Number                  Date    Year        Type        Country  \\\n",
       "830   2011.12.26.R  Reported 26-Dec-2011  2011.0     Invalid        ANTIGUA   \n",
       "1144  2009.03.19.b           19-Mar-2009  2009.0  Unprovoked      AUSTRALIA   \n",
       "1256  2008.05.24.a           24-May-2008  2008.0  Unprovoked         MEXICO   \n",
       "1322  2007.09.30.a           30-Sep-2007  2007.0  Unprovoked  NEW CALEDONIA   \n",
       "1331  2007.09.16.a           16-Sep-2007  2007.0  Unprovoked            USA   \n",
       "\n",
       "                 Area                       Location  Activity  \\\n",
       "830         St John's               Fort James Beach  Swimming   \n",
       "1144  New South Wales                  South Broulee   Surfing   \n",
       "1256           Guerro                    Playa Linda   Surfing   \n",
       "1322  Loyalty Islands  Bay of Luengoni, Lifou Island  Swimming   \n",
       "1331          Florida  Flagler Beach, Flagler County   Surfing   \n",
       "\n",
       "                     Name Sex   Age                                 Injury  \\\n",
       "830   Veron Edwards, Sr.    M   NaN           Bitten on right hand & wrist   \n",
       "1144                 male   M   NaN     No injury, shark damaged surfboard   \n",
       "1256         Bruce Grimes   M  49.0  Lacerations to right forearm and hand   \n",
       "1322  Stéphanie Belliard    F  23.0                                  FATAL   \n",
       "1331        Jessica Riley   F   NaN            No injury, surfboard bitten   \n",
       "\n",
       "     Fatal           Time                          Species  \\\n",
       "830    NaN  Early morning  Shark involvement not confirmed   \n",
       "1144     N  Early morning                          unknown   \n",
       "1256     N  Early morning                        3 m shark   \n",
       "1322     Y  Early morning                      Tiger shark   \n",
       "1331     N  Early morning                      9.5' shark?   \n",
       "\n",
       "                       Investigator or Source                            pdf  \\\n",
       "830        D. Francis, Caribarena, 12/26/2011       2011.12.26.R-Edwards.pdf   \n",
       "1144                      ABC News, 3/19/2009  2009.03.19.b-SouthBroulee.pdf   \n",
       "1256                         Associated Press        2008.05.24.a-Grimes.pdf   \n",
       "1322  Les Nouvelles Caledoniennes, 10/1/2007       2007.09.30.a-Belliard.pdf   \n",
       "1331                                wsbtv.com         2007.09.16.a-Riley.pdf   \n",
       "\n",
       "                                           href formula  \\\n",
       "830   http://sharkattackfile.net/spreadsheets/pdf_di...   \n",
       "1144  http://sharkattackfile.net/spreadsheets/pdf_di...   \n",
       "1256  http://sharkattackfile.net/spreadsheets/pdf_di...   \n",
       "1322  http://sharkattackfile.net/spreadsheets/pdf_di...   \n",
       "1331  http://sharkattackfile.net/spreadsheets/pdf_di...   \n",
       "\n",
       "                                                   href Case Number.1  \\\n",
       "830   http://sharkattackfile.net/spreadsheets/pdf_di...           NaT   \n",
       "1144  http://sharkattackfile.net/spreadsheets/pdf_di...           NaT   \n",
       "1256  http://sharkattackfile.net/spreadsheets/pdf_di...           NaT   \n",
       "1322  http://sharkattackfile.net/spreadsheets/pdf_di...           NaT   \n",
       "1331  http://sharkattackfile.net/spreadsheets/pdf_di...           NaT   \n",
       "\n",
       "     Case Number.2  original order   time  \n",
       "830            NaT          5473.0  10:00  \n",
       "1144           NaT          5159.0  10:00  \n",
       "1256           NaT          5047.0  10:00  \n",
       "1322           NaT          4981.0  10:00  \n",
       "1331           NaT          4972.0  10:00  "
      ]
     },
     "execution_count": 227,
     "metadata": {},
     "output_type": "execute_result"
    }
   ],
   "source": [
    "sk[sk.Time.str.contains('morning' or 'Morning')].head()"
   ]
  },
  {
   "cell_type": "code",
   "execution_count": 228,
   "id": "d61c694c",
   "metadata": {},
   "outputs": [
    {
     "name": "stdout",
     "output_type": "stream",
     "text": [
      "<class 'pandas.core.frame.DataFrame'>\n",
      "Int64Index: 8703 entries, 0 to 25722\n",
      "Data columns (total 23 columns):\n",
      " #   Column                  Non-Null Count  Dtype         \n",
      "---  ------                  --------------  -----         \n",
      " 0   Case Number             8702 non-null   object        \n",
      " 1   Date                    6302 non-null   object        \n",
      " 2   Year                    6300 non-null   float64       \n",
      " 3   Type                    6298 non-null   object        \n",
      " 4   Country                 6252 non-null   object        \n",
      " 5   Area                    5847 non-null   object        \n",
      " 6   Location                5762 non-null   object        \n",
      " 7   Activity                5758 non-null   object        \n",
      " 8   Name                    6092 non-null   object        \n",
      " 9   Sex                     5737 non-null   object        \n",
      " 10  Age                     3369 non-null   float64       \n",
      " 11  Injury                  6274 non-null   object        \n",
      " 12  Fatal                   5763 non-null   object        \n",
      " 13  Time                    8703 non-null   object        \n",
      " 14  Species                 8703 non-null   object        \n",
      " 15  Investigator or Source  6285 non-null   object        \n",
      " 16  pdf                     6302 non-null   object        \n",
      " 17  href formula            6301 non-null   object        \n",
      " 18  href                    6302 non-null   object        \n",
      " 19  Case Number.1           3815 non-null   datetime64[ns]\n",
      " 20  Case Number.2           3813 non-null   datetime64[ns]\n",
      " 21  original order          6309 non-null   float64       \n",
      " 22  time                    8703 non-null   object        \n",
      "dtypes: datetime64[ns](2), float64(3), object(18)\n",
      "memory usage: 10.6 MB\n"
     ]
    }
   ],
   "source": [
    "sk.info(memory_usage='deep')"
   ]
  },
  {
   "cell_type": "code",
   "execution_count": 229,
   "id": "6b558974",
   "metadata": {},
   "outputs": [
    {
     "data": {
      "text/plain": [
       "array(['18:00', '14:00', '07:45', '', '17:00', '15:00', '08:15', '11:00',\n",
       "       '10:30', '10:40', '16:50', '07:00', '09:30', '21:50', '09:40',\n",
       "       '08:00', '17:35', '15:30', '07:30', '19:00', '16:00', '15:01',\n",
       "       '12:00', '13:45', '23:30', '09:00', '14:30', '18:30', '12:30',\n",
       "       '16:30', '18:45', '06:00', '10:00', '10:44', '13:19', '13:30',\n",
       "       '10:45', '11:20', '11:45', '19:30', '08:30', '15:45', '17:34',\n",
       "       '17:10', '11:15', '08:50', '17:45', '13:00', '10:20', '13:20',\n",
       "       '02:00', '09:50', '11:30', '17:30', '90:0', '10:43', '15:15',\n",
       "       '15:40', '19:05', '22:00', '16:20', '14:34', '15:25', '14:55',\n",
       "       '17:46', '15:49', '10:15', '18:15', '04:00', '14:50', '13:50',\n",
       "       '19:20', '10:25', '16:45', '15:52', '06:15', '14:40', '19:45',\n",
       "       '10:10', '08:45', '12:10', '18:05', '11:41', '12:25', '17:51',\n",
       "       '16:12', '12:45', '10:50', '14:15', '09:45', '06:45', '05:00',\n",
       "       '03:30', '06:30', '17:20', '20:00', '16:40', '16:18', '11:10',\n",
       "       '17:50', '17:01', '09:57', '08:20', '17:58', '20:30', '15:19',\n",
       "       '10:55', '15:55', '23:00', '12:40', '13:55', '16:05', '14:10',\n",
       "       '15:20', '12:50', '14:45', '13:40', '13:24', '11:40', '08:10',\n",
       "       '15:56', '14:20', '07:56', '17:17', '16:35', '09:05', '07:15',\n",
       "       '07:20', '19:28', '12:38', '05:50', '15:50', '11:05', '05:45',\n",
       "       '13:25', '12:20', '13:26', '09:11', '12:15', '13:15', '18:20',\n",
       "       '15:35', '13:51', '08:05', '19:15', '10:35', '15:44', '21:00',\n",
       "       '09:35', '10:27', '10:16', '09:20', '12:05', '14:21', '18:50',\n",
       "       '15:53', '11:11', '13:42', '20:15', '12:39', '07:05', '13:05',\n",
       "       '11:50', '17:55', '22:30', '17:15', '16:10', '06:10', '16:15',\n",
       "       '07:08', '03:00', '12:02', '12:55', '16:14', '17:11', '00:30',\n",
       "       '14:37', '10:07', '13:53', '11:55', '13:23', '02:30', '08:40',\n",
       "       '11:56', '14:35', '07:50', '14:25', '13:34', '06:47', '20:45',\n",
       "       '18:40', '13:14', '13:06', '12:34', '11:53', '80:4', '12:46',\n",
       "       '12:48', '17:42', '12:35', '11:57', '17:40', '11:25', '18:25',\n",
       "       '10:28', '09:15', '14:16', '09:55', '2:', '15:05', '11:48',\n",
       "       '07:19', '13:37', '11:06', '11:58', '11:51', '18:12', '07:10',\n",
       "       '07:40', '12:33', '30:19', '15:06', '12:54', '16:55', '05:40',\n",
       "       '21:30', '08:57', '08:35', '10:22', '02:45', '10:37', '18:10',\n",
       "       '08:55', '06:50', '01:00', '07:32', '03:45', '13:10', '19:35',\n",
       "       '13:35', '01:32', '16:23', '19:10', '16:25', '11:01', '03:10',\n",
       "       '19:55', '01:30', '05:30', '08:58', '01:50'], dtype=object)"
      ]
     },
     "execution_count": 229,
     "metadata": {},
     "output_type": "execute_result"
    }
   ],
   "source": [
    "sk.time.unique()"
   ]
  },
  {
   "cell_type": "code",
   "execution_count": 230,
   "id": "eba8730f",
   "metadata": {},
   "outputs": [],
   "source": [
    "reemplazar=['2:','80:4','90:0','']"
   ]
  },
  {
   "cell_type": "code",
   "execution_count": 231,
   "id": "968cea94",
   "metadata": {},
   "outputs": [],
   "source": [
    "sk.time.replace(reemplazar, 'unknown', inplace=True)"
   ]
  },
  {
   "cell_type": "code",
   "execution_count": 232,
   "id": "36e7594f",
   "metadata": {},
   "outputs": [
    {
     "data": {
      "text/plain": [
       "array(['18:00', '14:00', '07:45', 'unknown', '17:00', '15:00', '08:15',\n",
       "       '11:00', '10:30', '10:40', '16:50', '07:00', '09:30', '21:50',\n",
       "       '09:40', '08:00', '17:35', '15:30', '07:30', '19:00', '16:00',\n",
       "       '15:01', '12:00', '13:45', '23:30', '09:00', '14:30', '18:30',\n",
       "       '12:30', '16:30', '18:45', '06:00', '10:00', '10:44', '13:19',\n",
       "       '13:30', '10:45', '11:20', '11:45', '19:30', '08:30', '15:45',\n",
       "       '17:34', '17:10', '11:15', '08:50', '17:45', '13:00', '10:20',\n",
       "       '13:20', '02:00', '09:50', '11:30', '17:30', '10:43', '15:15',\n",
       "       '15:40', '19:05', '22:00', '16:20', '14:34', '15:25', '14:55',\n",
       "       '17:46', '15:49', '10:15', '18:15', '04:00', '14:50', '13:50',\n",
       "       '19:20', '10:25', '16:45', '15:52', '06:15', '14:40', '19:45',\n",
       "       '10:10', '08:45', '12:10', '18:05', '11:41', '12:25', '17:51',\n",
       "       '16:12', '12:45', '10:50', '14:15', '09:45', '06:45', '05:00',\n",
       "       '03:30', '06:30', '17:20', '20:00', '16:40', '16:18', '11:10',\n",
       "       '17:50', '17:01', '09:57', '08:20', '17:58', '20:30', '15:19',\n",
       "       '10:55', '15:55', '23:00', '12:40', '13:55', '16:05', '14:10',\n",
       "       '15:20', '12:50', '14:45', '13:40', '13:24', '11:40', '08:10',\n",
       "       '15:56', '14:20', '07:56', '17:17', '16:35', '09:05', '07:15',\n",
       "       '07:20', '19:28', '12:38', '05:50', '15:50', '11:05', '05:45',\n",
       "       '13:25', '12:20', '13:26', '09:11', '12:15', '13:15', '18:20',\n",
       "       '15:35', '13:51', '08:05', '19:15', '10:35', '15:44', '21:00',\n",
       "       '09:35', '10:27', '10:16', '09:20', '12:05', '14:21', '18:50',\n",
       "       '15:53', '11:11', '13:42', '20:15', '12:39', '07:05', '13:05',\n",
       "       '11:50', '17:55', '22:30', '17:15', '16:10', '06:10', '16:15',\n",
       "       '07:08', '03:00', '12:02', '12:55', '16:14', '17:11', '00:30',\n",
       "       '14:37', '10:07', '13:53', '11:55', '13:23', '02:30', '08:40',\n",
       "       '11:56', '14:35', '07:50', '14:25', '13:34', '06:47', '20:45',\n",
       "       '18:40', '13:14', '13:06', '12:34', '11:53', '12:46', '12:48',\n",
       "       '17:42', '12:35', '11:57', '17:40', '11:25', '18:25', '10:28',\n",
       "       '09:15', '14:16', '09:55', '15:05', '11:48', '07:19', '13:37',\n",
       "       '11:06', '11:58', '11:51', '18:12', '07:10', '07:40', '12:33',\n",
       "       '30:19', '15:06', '12:54', '16:55', '05:40', '21:30', '08:57',\n",
       "       '08:35', '10:22', '02:45', '10:37', '18:10', '08:55', '06:50',\n",
       "       '01:00', '07:32', '03:45', '13:10', '19:35', '13:35', '01:32',\n",
       "       '16:23', '19:10', '16:25', '11:01', '03:10', '19:55', '01:30',\n",
       "       '05:30', '08:58', '01:50'], dtype=object)"
      ]
     },
     "execution_count": 232,
     "metadata": {},
     "output_type": "execute_result"
    }
   ],
   "source": [
    "sk.time.unique()"
   ]
  },
  {
   "cell_type": "code",
   "execution_count": 233,
   "id": "005a1760",
   "metadata": {},
   "outputs": [],
   "source": [
    "sk.drop(columns='Time',inplace=True)"
   ]
  },
  {
   "cell_type": "code",
   "execution_count": 234,
   "id": "03afcd62",
   "metadata": {
    "scrolled": true
   },
   "outputs": [
    {
     "data": {
      "text/html": [
       "<div>\n",
       "<style scoped>\n",
       "    .dataframe tbody tr th:only-of-type {\n",
       "        vertical-align: middle;\n",
       "    }\n",
       "\n",
       "    .dataframe tbody tr th {\n",
       "        vertical-align: top;\n",
       "    }\n",
       "\n",
       "    .dataframe thead th {\n",
       "        text-align: right;\n",
       "    }\n",
       "</style>\n",
       "<table border=\"1\" class=\"dataframe\">\n",
       "  <thead>\n",
       "    <tr style=\"text-align: right;\">\n",
       "      <th></th>\n",
       "      <th>Case Number</th>\n",
       "      <th>Date</th>\n",
       "      <th>Year</th>\n",
       "      <th>Type</th>\n",
       "      <th>Country</th>\n",
       "      <th>Area</th>\n",
       "      <th>Location</th>\n",
       "      <th>Activity</th>\n",
       "      <th>Name</th>\n",
       "      <th>Sex</th>\n",
       "      <th>Age</th>\n",
       "      <th>Injury</th>\n",
       "      <th>Fatal</th>\n",
       "      <th>Species</th>\n",
       "      <th>Investigator or Source</th>\n",
       "      <th>pdf</th>\n",
       "      <th>href formula</th>\n",
       "      <th>href</th>\n",
       "      <th>Case Number.1</th>\n",
       "      <th>Case Number.2</th>\n",
       "      <th>original order</th>\n",
       "      <th>time</th>\n",
       "    </tr>\n",
       "  </thead>\n",
       "  <tbody>\n",
       "    <tr>\n",
       "      <th>0</th>\n",
       "      <td>2018.06.25</td>\n",
       "      <td>25-Jun-2018</td>\n",
       "      <td>2018.0</td>\n",
       "      <td>Boating</td>\n",
       "      <td>USA</td>\n",
       "      <td>California</td>\n",
       "      <td>Oceanside, San Diego County</td>\n",
       "      <td>Paddling</td>\n",
       "      <td>Julie Wolfe</td>\n",
       "      <td>F</td>\n",
       "      <td>57.0</td>\n",
       "      <td>No injury to occupant, outrigger canoe and pad...</td>\n",
       "      <td>N</td>\n",
       "      <td>White shark</td>\n",
       "      <td>R. Collier, GSAF</td>\n",
       "      <td>2018.06.25-Wolfe.pdf</td>\n",
       "      <td>http://sharkattackfile.net/spreadsheets/pdf_di...</td>\n",
       "      <td>http://sharkattackfile.net/spreadsheets/pdf_di...</td>\n",
       "      <td>2018-06-25</td>\n",
       "      <td>2018-06-25</td>\n",
       "      <td>6303.0</td>\n",
       "      <td>18:00</td>\n",
       "    </tr>\n",
       "    <tr>\n",
       "      <th>1</th>\n",
       "      <td>2018.06.18</td>\n",
       "      <td>18-Jun-2018</td>\n",
       "      <td>2018.0</td>\n",
       "      <td>Unprovoked</td>\n",
       "      <td>USA</td>\n",
       "      <td>Georgia</td>\n",
       "      <td>St. Simon Island, Glynn County</td>\n",
       "      <td>Standing</td>\n",
       "      <td>Adyson McNeely</td>\n",
       "      <td>F</td>\n",
       "      <td>11.0</td>\n",
       "      <td>Minor injury to left thigh</td>\n",
       "      <td>N</td>\n",
       "      <td>unknown</td>\n",
       "      <td>K.McMurray, TrackingSharks.com</td>\n",
       "      <td>2018.06.18-McNeely.pdf</td>\n",
       "      <td>http://sharkattackfile.net/spreadsheets/pdf_di...</td>\n",
       "      <td>http://sharkattackfile.net/spreadsheets/pdf_di...</td>\n",
       "      <td>2018-06-18</td>\n",
       "      <td>2018-06-18</td>\n",
       "      <td>6302.0</td>\n",
       "      <td>14:00</td>\n",
       "    </tr>\n",
       "    <tr>\n",
       "      <th>2</th>\n",
       "      <td>2018.06.09</td>\n",
       "      <td>09-Jun-2018</td>\n",
       "      <td>2018.0</td>\n",
       "      <td>Invalid</td>\n",
       "      <td>USA</td>\n",
       "      <td>Hawaii</td>\n",
       "      <td>Habush, Oahu</td>\n",
       "      <td>Surfing</td>\n",
       "      <td>John Denges</td>\n",
       "      <td>M</td>\n",
       "      <td>48.0</td>\n",
       "      <td>Injury to left lower leg from surfboard skeg</td>\n",
       "      <td>N</td>\n",
       "      <td>unknown</td>\n",
       "      <td>K.McMurray, TrackingSharks.com</td>\n",
       "      <td>2018.06.09-Denges.pdf</td>\n",
       "      <td>http://sharkattackfile.net/spreadsheets/pdf_di...</td>\n",
       "      <td>http://sharkattackfile.net/spreadsheets/pdf_di...</td>\n",
       "      <td>2018-06-09</td>\n",
       "      <td>2018-06-09</td>\n",
       "      <td>6301.0</td>\n",
       "      <td>07:45</td>\n",
       "    </tr>\n",
       "    <tr>\n",
       "      <th>3</th>\n",
       "      <td>2018.06.08</td>\n",
       "      <td>08-Jun-2018</td>\n",
       "      <td>2018.0</td>\n",
       "      <td>Unprovoked</td>\n",
       "      <td>AUSTRALIA</td>\n",
       "      <td>New South Wales</td>\n",
       "      <td>Arrawarra Headland</td>\n",
       "      <td>Surfing</td>\n",
       "      <td>male</td>\n",
       "      <td>M</td>\n",
       "      <td>NaN</td>\n",
       "      <td>Minor injury to lower leg</td>\n",
       "      <td>N</td>\n",
       "      <td>2 m shark</td>\n",
       "      <td>B. Myatt, GSAF</td>\n",
       "      <td>2018.06.08-Arrawarra.pdf</td>\n",
       "      <td>http://sharkattackfile.net/spreadsheets/pdf_di...</td>\n",
       "      <td>http://sharkattackfile.net/spreadsheets/pdf_di...</td>\n",
       "      <td>2018-06-08</td>\n",
       "      <td>2018-06-08</td>\n",
       "      <td>6300.0</td>\n",
       "      <td>unknown</td>\n",
       "    </tr>\n",
       "    <tr>\n",
       "      <th>4</th>\n",
       "      <td>2018.06.04</td>\n",
       "      <td>04-Jun-2018</td>\n",
       "      <td>2018.0</td>\n",
       "      <td>Provoked</td>\n",
       "      <td>MEXICO</td>\n",
       "      <td>Colima</td>\n",
       "      <td>La Ticla</td>\n",
       "      <td>Free diving</td>\n",
       "      <td>Gustavo Ramos</td>\n",
       "      <td>M</td>\n",
       "      <td>NaN</td>\n",
       "      <td>Lacerations to leg &amp; hand shark PROVOKED INCIDENT</td>\n",
       "      <td>N</td>\n",
       "      <td>Tiger shark, 3m</td>\n",
       "      <td>A .Kipper</td>\n",
       "      <td>2018.06.04-Ramos.pdf</td>\n",
       "      <td>http://sharkattackfile.net/spreadsheets/pdf_di...</td>\n",
       "      <td>http://sharkattackfile.net/spreadsheets/pdf_di...</td>\n",
       "      <td>2018-06-04</td>\n",
       "      <td>2018-06-04</td>\n",
       "      <td>6299.0</td>\n",
       "      <td>unknown</td>\n",
       "    </tr>\n",
       "  </tbody>\n",
       "</table>\n",
       "</div>"
      ],
      "text/plain": [
       "  Case Number         Date    Year        Type    Country             Area  \\\n",
       "0  2018.06.25  25-Jun-2018  2018.0     Boating        USA       California   \n",
       "1  2018.06.18  18-Jun-2018  2018.0  Unprovoked        USA          Georgia   \n",
       "2  2018.06.09  09-Jun-2018  2018.0     Invalid        USA           Hawaii   \n",
       "3  2018.06.08  08-Jun-2018  2018.0  Unprovoked  AUSTRALIA  New South Wales   \n",
       "4  2018.06.04  04-Jun-2018  2018.0    Provoked     MEXICO           Colima   \n",
       "\n",
       "                         Location     Activity             Name Sex   Age  \\\n",
       "0     Oceanside, San Diego County     Paddling      Julie Wolfe   F  57.0   \n",
       "1  St. Simon Island, Glynn County     Standing  Adyson McNeely    F  11.0   \n",
       "2                    Habush, Oahu      Surfing      John Denges   M  48.0   \n",
       "3              Arrawarra Headland      Surfing             male   M   NaN   \n",
       "4                        La Ticla  Free diving   Gustavo Ramos    M   NaN   \n",
       "\n",
       "                                              Injury Fatal          Species  \\\n",
       "0  No injury to occupant, outrigger canoe and pad...     N      White shark   \n",
       "1                         Minor injury to left thigh     N          unknown   \n",
       "2       Injury to left lower leg from surfboard skeg     N          unknown   \n",
       "3                          Minor injury to lower leg     N        2 m shark   \n",
       "4  Lacerations to leg & hand shark PROVOKED INCIDENT     N  Tiger shark, 3m   \n",
       "\n",
       "           Investigator or Source                       pdf  \\\n",
       "0                R. Collier, GSAF      2018.06.25-Wolfe.pdf   \n",
       "1  K.McMurray, TrackingSharks.com    2018.06.18-McNeely.pdf   \n",
       "2  K.McMurray, TrackingSharks.com     2018.06.09-Denges.pdf   \n",
       "3                  B. Myatt, GSAF  2018.06.08-Arrawarra.pdf   \n",
       "4                       A .Kipper      2018.06.04-Ramos.pdf   \n",
       "\n",
       "                                        href formula  \\\n",
       "0  http://sharkattackfile.net/spreadsheets/pdf_di...   \n",
       "1  http://sharkattackfile.net/spreadsheets/pdf_di...   \n",
       "2  http://sharkattackfile.net/spreadsheets/pdf_di...   \n",
       "3  http://sharkattackfile.net/spreadsheets/pdf_di...   \n",
       "4  http://sharkattackfile.net/spreadsheets/pdf_di...   \n",
       "\n",
       "                                                href Case Number.1  \\\n",
       "0  http://sharkattackfile.net/spreadsheets/pdf_di...    2018-06-25   \n",
       "1  http://sharkattackfile.net/spreadsheets/pdf_di...    2018-06-18   \n",
       "2  http://sharkattackfile.net/spreadsheets/pdf_di...    2018-06-09   \n",
       "3  http://sharkattackfile.net/spreadsheets/pdf_di...    2018-06-08   \n",
       "4  http://sharkattackfile.net/spreadsheets/pdf_di...    2018-06-04   \n",
       "\n",
       "  Case Number.2  original order     time  \n",
       "0    2018-06-25          6303.0    18:00  \n",
       "1    2018-06-18          6302.0    14:00  \n",
       "2    2018-06-09          6301.0    07:45  \n",
       "3    2018-06-08          6300.0  unknown  \n",
       "4    2018-06-04          6299.0  unknown  "
      ]
     },
     "execution_count": 234,
     "metadata": {},
     "output_type": "execute_result"
    }
   ],
   "source": [
    "sk.head()"
   ]
  },
  {
   "cell_type": "markdown",
   "id": "2b153e3e",
   "metadata": {},
   "source": [
    "Convertir los NaN de las columnas objeto a 'unknown':"
   ]
  },
  {
   "cell_type": "code",
   "execution_count": 235,
   "id": "af26315c",
   "metadata": {
    "scrolled": true
   },
   "outputs": [
    {
     "data": {
      "text/plain": [
       "['Case Number',\n",
       " 'Type',\n",
       " 'Country',\n",
       " 'Area',\n",
       " 'Location',\n",
       " 'Activity',\n",
       " 'Name',\n",
       " 'Sex',\n",
       " 'Injury',\n",
       " 'Fatal',\n",
       " 'Species',\n",
       " 'Investigator or Source',\n",
       " 'pdf',\n",
       " 'href formula',\n",
       " 'href']"
      ]
     },
     "execution_count": 235,
     "metadata": {},
     "output_type": "execute_result"
    }
   ],
   "source": [
    "str_cols = ['Case Number', 'Type', 'Country', 'Area', 'Location', 'Activity',\n",
    "       'Name', 'Sex', 'Injury', 'Fatal', 'Species', 'Investigator or Source',\n",
    "       'pdf', 'href formula', 'href']\n",
    "str_cols"
   ]
  },
  {
   "cell_type": "code",
   "execution_count": 236,
   "id": "a21be620",
   "metadata": {},
   "outputs": [],
   "source": [
    "sk[str_cols] = sk[str_cols].fillna('unknown')"
   ]
  },
  {
   "cell_type": "markdown",
   "id": "d0ac0cd8",
   "metadata": {},
   "source": [
    "Columnas repetidas:"
   ]
  },
  {
   "cell_type": "code",
   "execution_count": 237,
   "id": "25831384",
   "metadata": {},
   "outputs": [],
   "source": [
    "#sk['href formula']==sk['href'] esta formula da True"
   ]
  },
  {
   "cell_type": "code",
   "execution_count": 238,
   "id": "877b680b",
   "metadata": {},
   "outputs": [],
   "source": [
    "sk.drop(columns='href formula', inplace=True)"
   ]
  },
  {
   "cell_type": "code",
   "execution_count": 239,
   "id": "2577e8af",
   "metadata": {},
   "outputs": [
    {
     "data": {
      "text/plain": [
       "(8703, 21)"
      ]
     },
     "execution_count": 239,
     "metadata": {},
     "output_type": "execute_result"
    }
   ],
   "source": [
    "sk.shape"
   ]
  },
  {
   "cell_type": "code",
   "execution_count": 240,
   "id": "722927c2",
   "metadata": {
    "scrolled": true
   },
   "outputs": [
    {
     "data": {
      "text/plain": [
       "Age               61.289211\n",
       "Case Number.2     56.187522\n",
       "Case Number.1     56.164541\n",
       "Year              27.611169\n",
       "Date              27.588188\n",
       "original order    27.507756\n",
       "dtype: float64"
      ]
     },
     "execution_count": 240,
     "metadata": {},
     "output_type": "execute_result"
    }
   ],
   "source": [
    "nan_cols=sk.isna().mean() * 100  # porcentaje de nulos por columna\n",
    "\n",
    "pepe= nan_cols[nan_cols>0].sort_values(ascending=False)\n",
    "\n",
    "pepe"
   ]
  },
  {
   "cell_type": "markdown",
   "id": "1bc98f32",
   "metadata": {},
   "source": [
    "Eliminar columnas que no aportan valor (Case Number.1,Case Number.2) ya que equivalen a Date:"
   ]
  },
  {
   "cell_type": "code",
   "execution_count": 241,
   "id": "6f828c37",
   "metadata": {},
   "outputs": [],
   "source": [
    "sk.drop(columns=['Case Number.1', 'Case Number.2'], inplace=True)"
   ]
  },
  {
   "cell_type": "code",
   "execution_count": 242,
   "id": "6e920519",
   "metadata": {},
   "outputs": [
    {
     "data": {
      "text/plain": [
       "(8703, 19)"
      ]
     },
     "execution_count": 242,
     "metadata": {},
     "output_type": "execute_result"
    }
   ],
   "source": [
    "sk.shape"
   ]
  },
  {
   "cell_type": "markdown",
   "id": "325483d8",
   "metadata": {},
   "source": [
    "Convertir NaN de original order en 'unknown':"
   ]
  },
  {
   "cell_type": "code",
   "execution_count": 243,
   "id": "bad44885",
   "metadata": {},
   "outputs": [],
   "source": [
    "sk['original order'].fillna('unknown', inplace=True)"
   ]
  },
  {
   "cell_type": "code",
   "execution_count": 244,
   "id": "65b0e917",
   "metadata": {
    "scrolled": true
   },
   "outputs": [
    {
     "data": {
      "text/plain": [
       "Age     61.289211\n",
       "Year    27.611169\n",
       "Date    27.588188\n",
       "dtype: float64"
      ]
     },
     "execution_count": 244,
     "metadata": {},
     "output_type": "execute_result"
    }
   ],
   "source": [
    "nan_cols=sk.isna().mean() * 100  # porcentaje de nulos por columna\n",
    "\n",
    "pepe= nan_cols[nan_cols>0].sort_values(ascending=False)\n",
    "\n",
    "pepe"
   ]
  },
  {
   "cell_type": "markdown",
   "id": "1563af8b",
   "metadata": {},
   "source": [
    "Convertir los NaN de Age en la media:"
   ]
  },
  {
   "cell_type": "code",
   "execution_count": 245,
   "id": "c46af2b3",
   "metadata": {},
   "outputs": [
    {
     "data": {
      "text/plain": [
       "array([57., 11., 48., nan, 18., 52., 15., 12., 32., 10., 21., 34., 30.,\n",
       "       60., 33., 29., 54., 41., 37., 56., 19., 25., 69., 38., 55., 35.,\n",
       "       46., 45., 14., 28., 20., 24., 26., 49., 22.,  7., 31., 17., 40.,\n",
       "       13., 42.,  3.,  8., 50., 16., 82., 73., 68., 51., 39., 58., 47.,\n",
       "       61., 65., 36., 66., 43.,  9., 72., 59.,  6., 27., 64., 23., 71.,\n",
       "       44., 62., 63., 70., 53., 77., 74.,  5., 86., 84., 75., 87., 67.,\n",
       "        1., 81., 78.])"
      ]
     },
     "execution_count": 245,
     "metadata": {},
     "output_type": "execute_result"
    }
   ],
   "source": [
    "sk.Age.unique()"
   ]
  },
  {
   "cell_type": "code",
   "execution_count": 246,
   "id": "1e6b3a33",
   "metadata": {},
   "outputs": [
    {
     "data": {
      "text/plain": [
       "27.36835856337192"
      ]
     },
     "execution_count": 246,
     "metadata": {},
     "output_type": "execute_result"
    }
   ],
   "source": [
    "sk.Age.mean()"
   ]
  },
  {
   "cell_type": "code",
   "execution_count": 247,
   "id": "7c7a78a5",
   "metadata": {},
   "outputs": [],
   "source": [
    "sk.Age = sk.Age.fillna(27.36).astype(int)"
   ]
  },
  {
   "cell_type": "code",
   "execution_count": 248,
   "id": "8581d4e3",
   "metadata": {},
   "outputs": [
    {
     "data": {
      "text/plain": [
       "array([57, 11, 48, 27, 18, 52, 15, 12, 32, 10, 21, 34, 30, 60, 33, 29, 54,\n",
       "       41, 37, 56, 19, 25, 69, 38, 55, 35, 46, 45, 14, 28, 20, 24, 26, 49,\n",
       "       22,  7, 31, 17, 40, 13, 42,  3,  8, 50, 16, 82, 73, 68, 51, 39, 58,\n",
       "       47, 61, 65, 36, 66, 43,  9, 72, 59,  6, 64, 23, 71, 44, 62, 63, 70,\n",
       "       53, 77, 74,  5, 86, 84, 75, 87, 67,  1, 81, 78])"
      ]
     },
     "execution_count": 248,
     "metadata": {},
     "output_type": "execute_result"
    }
   ],
   "source": [
    "sk.Age.unique()"
   ]
  },
  {
   "cell_type": "code",
   "execution_count": 249,
   "id": "c692aab8",
   "metadata": {},
   "outputs": [],
   "source": [
    "sk['Age'] = pd.to_numeric(sk['Age'], errors='coerce',downcast='integer')"
   ]
  },
  {
   "cell_type": "code",
   "execution_count": 250,
   "id": "71d846e5",
   "metadata": {},
   "outputs": [
    {
     "name": "stdout",
     "output_type": "stream",
     "text": [
      "<class 'pandas.core.frame.DataFrame'>\n",
      "Int64Index: 8703 entries, 0 to 25722\n",
      "Data columns (total 19 columns):\n",
      " #   Column                  Non-Null Count  Dtype  \n",
      "---  ------                  --------------  -----  \n",
      " 0   Case Number             8703 non-null   object \n",
      " 1   Date                    6302 non-null   object \n",
      " 2   Year                    6300 non-null   float64\n",
      " 3   Type                    8703 non-null   object \n",
      " 4   Country                 8703 non-null   object \n",
      " 5   Area                    8703 non-null   object \n",
      " 6   Location                8703 non-null   object \n",
      " 7   Activity                8703 non-null   object \n",
      " 8   Name                    8703 non-null   object \n",
      " 9   Sex                     8703 non-null   object \n",
      " 10  Age                     8703 non-null   int8   \n",
      " 11  Injury                  8703 non-null   object \n",
      " 12  Fatal                   8703 non-null   object \n",
      " 13  Species                 8703 non-null   object \n",
      " 14  Investigator or Source  8703 non-null   object \n",
      " 15  pdf                     8703 non-null   object \n",
      " 16  href                    8703 non-null   object \n",
      " 17  original order          8703 non-null   object \n",
      " 18  time                    8703 non-null   object \n",
      "dtypes: float64(1), int8(1), object(17)\n",
      "memory usage: 10.2 MB\n"
     ]
    }
   ],
   "source": [
    "sk.info(memory_usage='deep')"
   ]
  },
  {
   "cell_type": "code",
   "execution_count": 251,
   "id": "986a6aaf",
   "metadata": {},
   "outputs": [
    {
     "data": {
      "text/plain": [
       "Year    27.611169\n",
       "Date    27.588188\n",
       "dtype: float64"
      ]
     },
     "execution_count": 251,
     "metadata": {},
     "output_type": "execute_result"
    }
   ],
   "source": [
    "nan_cols=sk.isna().mean() * 100  # porcentaje de nulos por columna\n",
    "\n",
    "pepe= nan_cols[nan_cols>0].sort_values(ascending=False)\n",
    "\n",
    "pepe"
   ]
  },
  {
   "cell_type": "markdown",
   "id": "7f36e7bc",
   "metadata": {},
   "source": [
    "Vamos a ver si tenemos los mismos nulos en Date y en Year:"
   ]
  },
  {
   "cell_type": "code",
   "execution_count": 252,
   "id": "4cbf65cd",
   "metadata": {},
   "outputs": [],
   "source": [
    "null_date=np.where(sk['Date'].isnull())[0]"
   ]
  },
  {
   "cell_type": "code",
   "execution_count": 253,
   "id": "dc2e6033",
   "metadata": {},
   "outputs": [],
   "source": [
    "null_year=np.where(sk['Year'].isnull())[0]"
   ]
  },
  {
   "cell_type": "code",
   "execution_count": 254,
   "id": "abae4d8a",
   "metadata": {},
   "outputs": [
    {
     "data": {
      "text/plain": [
       "False"
      ]
     },
     "execution_count": 254,
     "metadata": {},
     "output_type": "execute_result"
    }
   ],
   "source": [
    "null_date==null_year"
   ]
  },
  {
   "cell_type": "markdown",
   "id": "c45c40b9",
   "metadata": {},
   "source": [
    "Ya que no tienen los mismos nulos, vamos a investigar qué contenido tienen"
   ]
  },
  {
   "cell_type": "code",
   "execution_count": 255,
   "id": "067c2688",
   "metadata": {
    "scrolled": true
   },
   "outputs": [
    {
     "data": {
      "text/html": [
       "<div>\n",
       "<style scoped>\n",
       "    .dataframe tbody tr th:only-of-type {\n",
       "        vertical-align: middle;\n",
       "    }\n",
       "\n",
       "    .dataframe tbody tr th {\n",
       "        vertical-align: top;\n",
       "    }\n",
       "\n",
       "    .dataframe thead th {\n",
       "        text-align: right;\n",
       "    }\n",
       "</style>\n",
       "<table border=\"1\" class=\"dataframe\">\n",
       "  <thead>\n",
       "    <tr style=\"text-align: right;\">\n",
       "      <th></th>\n",
       "      <th>Case Number</th>\n",
       "      <th>Date</th>\n",
       "      <th>Year</th>\n",
       "      <th>Type</th>\n",
       "      <th>Country</th>\n",
       "      <th>Area</th>\n",
       "      <th>Location</th>\n",
       "      <th>Activity</th>\n",
       "      <th>Name</th>\n",
       "      <th>Sex</th>\n",
       "      <th>Age</th>\n",
       "      <th>Injury</th>\n",
       "      <th>Fatal</th>\n",
       "      <th>Species</th>\n",
       "      <th>Investigator or Source</th>\n",
       "      <th>pdf</th>\n",
       "      <th>href</th>\n",
       "      <th>original order</th>\n",
       "      <th>time</th>\n",
       "    </tr>\n",
       "  </thead>\n",
       "  <tbody>\n",
       "    <tr>\n",
       "      <th>0</th>\n",
       "      <td>2018.06.25</td>\n",
       "      <td>25-Jun-2018</td>\n",
       "      <td>2018.0</td>\n",
       "      <td>Boating</td>\n",
       "      <td>USA</td>\n",
       "      <td>California</td>\n",
       "      <td>Oceanside, San Diego County</td>\n",
       "      <td>Paddling</td>\n",
       "      <td>Julie Wolfe</td>\n",
       "      <td>F</td>\n",
       "      <td>57</td>\n",
       "      <td>No injury to occupant, outrigger canoe and pad...</td>\n",
       "      <td>N</td>\n",
       "      <td>White shark</td>\n",
       "      <td>R. Collier, GSAF</td>\n",
       "      <td>2018.06.25-Wolfe.pdf</td>\n",
       "      <td>http://sharkattackfile.net/spreadsheets/pdf_di...</td>\n",
       "      <td>6303.0</td>\n",
       "      <td>18:00</td>\n",
       "    </tr>\n",
       "    <tr>\n",
       "      <th>1</th>\n",
       "      <td>2018.06.18</td>\n",
       "      <td>18-Jun-2018</td>\n",
       "      <td>2018.0</td>\n",
       "      <td>Unprovoked</td>\n",
       "      <td>USA</td>\n",
       "      <td>Georgia</td>\n",
       "      <td>St. Simon Island, Glynn County</td>\n",
       "      <td>Standing</td>\n",
       "      <td>Adyson McNeely</td>\n",
       "      <td>F</td>\n",
       "      <td>11</td>\n",
       "      <td>Minor injury to left thigh</td>\n",
       "      <td>N</td>\n",
       "      <td>unknown</td>\n",
       "      <td>K.McMurray, TrackingSharks.com</td>\n",
       "      <td>2018.06.18-McNeely.pdf</td>\n",
       "      <td>http://sharkattackfile.net/spreadsheets/pdf_di...</td>\n",
       "      <td>6302.0</td>\n",
       "      <td>14:00</td>\n",
       "    </tr>\n",
       "    <tr>\n",
       "      <th>2</th>\n",
       "      <td>2018.06.09</td>\n",
       "      <td>09-Jun-2018</td>\n",
       "      <td>2018.0</td>\n",
       "      <td>Invalid</td>\n",
       "      <td>USA</td>\n",
       "      <td>Hawaii</td>\n",
       "      <td>Habush, Oahu</td>\n",
       "      <td>Surfing</td>\n",
       "      <td>John Denges</td>\n",
       "      <td>M</td>\n",
       "      <td>48</td>\n",
       "      <td>Injury to left lower leg from surfboard skeg</td>\n",
       "      <td>N</td>\n",
       "      <td>unknown</td>\n",
       "      <td>K.McMurray, TrackingSharks.com</td>\n",
       "      <td>2018.06.09-Denges.pdf</td>\n",
       "      <td>http://sharkattackfile.net/spreadsheets/pdf_di...</td>\n",
       "      <td>6301.0</td>\n",
       "      <td>07:45</td>\n",
       "    </tr>\n",
       "    <tr>\n",
       "      <th>3</th>\n",
       "      <td>2018.06.08</td>\n",
       "      <td>08-Jun-2018</td>\n",
       "      <td>2018.0</td>\n",
       "      <td>Unprovoked</td>\n",
       "      <td>AUSTRALIA</td>\n",
       "      <td>New South Wales</td>\n",
       "      <td>Arrawarra Headland</td>\n",
       "      <td>Surfing</td>\n",
       "      <td>male</td>\n",
       "      <td>M</td>\n",
       "      <td>27</td>\n",
       "      <td>Minor injury to lower leg</td>\n",
       "      <td>N</td>\n",
       "      <td>2 m shark</td>\n",
       "      <td>B. Myatt, GSAF</td>\n",
       "      <td>2018.06.08-Arrawarra.pdf</td>\n",
       "      <td>http://sharkattackfile.net/spreadsheets/pdf_di...</td>\n",
       "      <td>6300.0</td>\n",
       "      <td>unknown</td>\n",
       "    </tr>\n",
       "    <tr>\n",
       "      <th>4</th>\n",
       "      <td>2018.06.04</td>\n",
       "      <td>04-Jun-2018</td>\n",
       "      <td>2018.0</td>\n",
       "      <td>Provoked</td>\n",
       "      <td>MEXICO</td>\n",
       "      <td>Colima</td>\n",
       "      <td>La Ticla</td>\n",
       "      <td>Free diving</td>\n",
       "      <td>Gustavo Ramos</td>\n",
       "      <td>M</td>\n",
       "      <td>27</td>\n",
       "      <td>Lacerations to leg &amp; hand shark PROVOKED INCIDENT</td>\n",
       "      <td>N</td>\n",
       "      <td>Tiger shark, 3m</td>\n",
       "      <td>A .Kipper</td>\n",
       "      <td>2018.06.04-Ramos.pdf</td>\n",
       "      <td>http://sharkattackfile.net/spreadsheets/pdf_di...</td>\n",
       "      <td>6299.0</td>\n",
       "      <td>unknown</td>\n",
       "    </tr>\n",
       "  </tbody>\n",
       "</table>\n",
       "</div>"
      ],
      "text/plain": [
       "  Case Number         Date    Year        Type    Country             Area  \\\n",
       "0  2018.06.25  25-Jun-2018  2018.0     Boating        USA       California   \n",
       "1  2018.06.18  18-Jun-2018  2018.0  Unprovoked        USA          Georgia   \n",
       "2  2018.06.09  09-Jun-2018  2018.0     Invalid        USA           Hawaii   \n",
       "3  2018.06.08  08-Jun-2018  2018.0  Unprovoked  AUSTRALIA  New South Wales   \n",
       "4  2018.06.04  04-Jun-2018  2018.0    Provoked     MEXICO           Colima   \n",
       "\n",
       "                         Location     Activity             Name Sex  Age  \\\n",
       "0     Oceanside, San Diego County     Paddling      Julie Wolfe   F   57   \n",
       "1  St. Simon Island, Glynn County     Standing  Adyson McNeely    F   11   \n",
       "2                    Habush, Oahu      Surfing      John Denges   M   48   \n",
       "3              Arrawarra Headland      Surfing             male   M   27   \n",
       "4                        La Ticla  Free diving   Gustavo Ramos    M   27   \n",
       "\n",
       "                                              Injury Fatal          Species  \\\n",
       "0  No injury to occupant, outrigger canoe and pad...     N      White shark   \n",
       "1                         Minor injury to left thigh     N          unknown   \n",
       "2       Injury to left lower leg from surfboard skeg     N          unknown   \n",
       "3                          Minor injury to lower leg     N        2 m shark   \n",
       "4  Lacerations to leg & hand shark PROVOKED INCIDENT     N  Tiger shark, 3m   \n",
       "\n",
       "           Investigator or Source                       pdf  \\\n",
       "0                R. Collier, GSAF      2018.06.25-Wolfe.pdf   \n",
       "1  K.McMurray, TrackingSharks.com    2018.06.18-McNeely.pdf   \n",
       "2  K.McMurray, TrackingSharks.com     2018.06.09-Denges.pdf   \n",
       "3                  B. Myatt, GSAF  2018.06.08-Arrawarra.pdf   \n",
       "4                       A .Kipper      2018.06.04-Ramos.pdf   \n",
       "\n",
       "                                                href original order     time  \n",
       "0  http://sharkattackfile.net/spreadsheets/pdf_di...         6303.0    18:00  \n",
       "1  http://sharkattackfile.net/spreadsheets/pdf_di...         6302.0    14:00  \n",
       "2  http://sharkattackfile.net/spreadsheets/pdf_di...         6301.0    07:45  \n",
       "3  http://sharkattackfile.net/spreadsheets/pdf_di...         6300.0  unknown  \n",
       "4  http://sharkattackfile.net/spreadsheets/pdf_di...         6299.0  unknown  "
      ]
     },
     "execution_count": 255,
     "metadata": {},
     "output_type": "execute_result"
    }
   ],
   "source": [
    "sk.head()"
   ]
  },
  {
   "cell_type": "code",
   "execution_count": 256,
   "id": "941e094f",
   "metadata": {},
   "outputs": [
    {
     "data": {
      "text/plain": [
       "array([2018., 2017.,   nan, 2016., 2015., 2014., 2013., 2012., 2011.,\n",
       "       2010., 2009., 2008., 2007., 2006., 2005., 2004., 2003., 2002.,\n",
       "       2001., 2000., 1999., 1998., 1997., 1996., 1995., 1984., 1994.,\n",
       "       1993., 1992., 1991., 1990., 1989., 1969., 1988., 1987., 1986.,\n",
       "       1985., 1983., 1982., 1981., 1980., 1979., 1978., 1977., 1976.,\n",
       "       1975., 1974., 1973., 1972., 1971., 1970., 1968., 1967., 1966.,\n",
       "       1965., 1964., 1963., 1962., 1961., 1960., 1959., 1958., 1957.,\n",
       "       1956., 1955., 1954., 1953., 1952., 1951., 1950., 1949., 1948.,\n",
       "       1848., 1947., 1946., 1945., 1944., 1943., 1942., 1941., 1940.,\n",
       "       1939., 1938., 1937., 1936., 1935., 1934., 1933., 1932., 1931.,\n",
       "       1930., 1929., 1928., 1927., 1926., 1925., 1924., 1923., 1922.,\n",
       "       1921., 1920., 1919., 1918., 1917., 1916., 1915., 1914., 1913.,\n",
       "       1912., 1911., 1910., 1909., 1908., 1907., 1906., 1905., 1904.,\n",
       "       1903., 1902., 1901., 1900., 1899., 1898., 1897., 1896., 1895.,\n",
       "       1894., 1893., 1892., 1891., 1890., 1889., 1888., 1887., 1886.,\n",
       "       1885., 1884., 1883., 1882., 1881., 1880., 1879., 1878., 1877.,\n",
       "       1876., 1875., 1874., 1873., 1872., 1871., 1870., 1869., 1868.,\n",
       "       1867., 1866., 1865., 1864., 1863., 1862., 1861., 1860., 1859.,\n",
       "       1858., 1857., 1856., 1855., 1853., 1852., 1851., 1850., 1849.,\n",
       "       1847., 1846., 1845., 1844., 1842., 1841., 1840., 1839., 1837.,\n",
       "       1836., 1835., 1834., 1832., 1831., 1830., 1829., 1828., 1827.,\n",
       "       1826., 1825., 1823., 1822., 1819., 1818., 1817., 1816., 1815.,\n",
       "       1812., 1811., 1810., 1808., 1807., 1805., 1804., 1803., 1802.,\n",
       "       1801., 1800., 1797., 1792., 1791., 1788., 1787., 1786., 1785.,\n",
       "       1784., 1783., 1780., 1779., 1776., 1771., 1767., 1764., 1758.,\n",
       "       1753., 1751., 1749., 1755., 1748., 1742., 1738., 1733., 1723.,\n",
       "       1721., 1703., 1700., 1642., 1638., 1637., 1617., 1595., 1580.,\n",
       "       1555., 1554., 1543.,  500.,   77.,    5.,    0.])"
      ]
     },
     "execution_count": 256,
     "metadata": {},
     "output_type": "execute_result"
    }
   ],
   "source": [
    "sk.Year.unique()"
   ]
  },
  {
   "cell_type": "markdown",
   "id": "c3d32ede",
   "metadata": {},
   "source": [
    "Ya que case number y Date tienen la misma información, vamos a convertir case number a datetime y eliminar Date."
   ]
  },
  {
   "cell_type": "code",
   "execution_count": 257,
   "id": "78b114df",
   "metadata": {},
   "outputs": [],
   "source": [
    "sk=sk.rename(columns = {'Case Number':'date'})"
   ]
  },
  {
   "cell_type": "code",
   "execution_count": 258,
   "id": "256be282",
   "metadata": {},
   "outputs": [],
   "source": [
    "def limpiar_date(x):\n",
    "    try:\n",
    "        return ''.join(filter(str.isdigit, x))\n",
    "    except:\n",
    "        return str(x)"
   ]
  },
  {
   "cell_type": "code",
   "execution_count": 259,
   "id": "a6fcddc6",
   "metadata": {},
   "outputs": [],
   "source": [
    "def limpiar_date2(x):\n",
    "    try:\n",
    "        return f\"{x[:4]}-{x[4:6]}-{x[6:]}\"\n",
    "    except:\n",
    "        return str(x)"
   ]
  },
  {
   "cell_type": "code",
   "execution_count": 260,
   "id": "6e9041e6",
   "metadata": {},
   "outputs": [
    {
     "data": {
      "text/html": [
       "<div>\n",
       "<style scoped>\n",
       "    .dataframe tbody tr th:only-of-type {\n",
       "        vertical-align: middle;\n",
       "    }\n",
       "\n",
       "    .dataframe tbody tr th {\n",
       "        vertical-align: top;\n",
       "    }\n",
       "\n",
       "    .dataframe thead th {\n",
       "        text-align: right;\n",
       "    }\n",
       "</style>\n",
       "<table border=\"1\" class=\"dataframe\">\n",
       "  <thead>\n",
       "    <tr style=\"text-align: right;\">\n",
       "      <th></th>\n",
       "      <th>date</th>\n",
       "      <th>Date</th>\n",
       "      <th>Year</th>\n",
       "      <th>Type</th>\n",
       "      <th>Country</th>\n",
       "      <th>Area</th>\n",
       "      <th>Location</th>\n",
       "      <th>Activity</th>\n",
       "      <th>Name</th>\n",
       "      <th>Sex</th>\n",
       "      <th>Age</th>\n",
       "      <th>Injury</th>\n",
       "      <th>Fatal</th>\n",
       "      <th>Species</th>\n",
       "      <th>Investigator or Source</th>\n",
       "      <th>pdf</th>\n",
       "      <th>href</th>\n",
       "      <th>original order</th>\n",
       "      <th>time</th>\n",
       "    </tr>\n",
       "  </thead>\n",
       "  <tbody>\n",
       "    <tr>\n",
       "      <th>0</th>\n",
       "      <td>20180625</td>\n",
       "      <td>25-Jun-2018</td>\n",
       "      <td>2018.0</td>\n",
       "      <td>Boating</td>\n",
       "      <td>USA</td>\n",
       "      <td>California</td>\n",
       "      <td>Oceanside, San Diego County</td>\n",
       "      <td>Paddling</td>\n",
       "      <td>Julie Wolfe</td>\n",
       "      <td>F</td>\n",
       "      <td>57</td>\n",
       "      <td>No injury to occupant, outrigger canoe and pad...</td>\n",
       "      <td>N</td>\n",
       "      <td>White shark</td>\n",
       "      <td>R. Collier, GSAF</td>\n",
       "      <td>2018.06.25-Wolfe.pdf</td>\n",
       "      <td>http://sharkattackfile.net/spreadsheets/pdf_di...</td>\n",
       "      <td>6303.0</td>\n",
       "      <td>18:00</td>\n",
       "    </tr>\n",
       "    <tr>\n",
       "      <th>1</th>\n",
       "      <td>20180618</td>\n",
       "      <td>18-Jun-2018</td>\n",
       "      <td>2018.0</td>\n",
       "      <td>Unprovoked</td>\n",
       "      <td>USA</td>\n",
       "      <td>Georgia</td>\n",
       "      <td>St. Simon Island, Glynn County</td>\n",
       "      <td>Standing</td>\n",
       "      <td>Adyson McNeely</td>\n",
       "      <td>F</td>\n",
       "      <td>11</td>\n",
       "      <td>Minor injury to left thigh</td>\n",
       "      <td>N</td>\n",
       "      <td>unknown</td>\n",
       "      <td>K.McMurray, TrackingSharks.com</td>\n",
       "      <td>2018.06.18-McNeely.pdf</td>\n",
       "      <td>http://sharkattackfile.net/spreadsheets/pdf_di...</td>\n",
       "      <td>6302.0</td>\n",
       "      <td>14:00</td>\n",
       "    </tr>\n",
       "    <tr>\n",
       "      <th>2</th>\n",
       "      <td>20180609</td>\n",
       "      <td>09-Jun-2018</td>\n",
       "      <td>2018.0</td>\n",
       "      <td>Invalid</td>\n",
       "      <td>USA</td>\n",
       "      <td>Hawaii</td>\n",
       "      <td>Habush, Oahu</td>\n",
       "      <td>Surfing</td>\n",
       "      <td>John Denges</td>\n",
       "      <td>M</td>\n",
       "      <td>48</td>\n",
       "      <td>Injury to left lower leg from surfboard skeg</td>\n",
       "      <td>N</td>\n",
       "      <td>unknown</td>\n",
       "      <td>K.McMurray, TrackingSharks.com</td>\n",
       "      <td>2018.06.09-Denges.pdf</td>\n",
       "      <td>http://sharkattackfile.net/spreadsheets/pdf_di...</td>\n",
       "      <td>6301.0</td>\n",
       "      <td>07:45</td>\n",
       "    </tr>\n",
       "    <tr>\n",
       "      <th>3</th>\n",
       "      <td>20180608</td>\n",
       "      <td>08-Jun-2018</td>\n",
       "      <td>2018.0</td>\n",
       "      <td>Unprovoked</td>\n",
       "      <td>AUSTRALIA</td>\n",
       "      <td>New South Wales</td>\n",
       "      <td>Arrawarra Headland</td>\n",
       "      <td>Surfing</td>\n",
       "      <td>male</td>\n",
       "      <td>M</td>\n",
       "      <td>27</td>\n",
       "      <td>Minor injury to lower leg</td>\n",
       "      <td>N</td>\n",
       "      <td>2 m shark</td>\n",
       "      <td>B. Myatt, GSAF</td>\n",
       "      <td>2018.06.08-Arrawarra.pdf</td>\n",
       "      <td>http://sharkattackfile.net/spreadsheets/pdf_di...</td>\n",
       "      <td>6300.0</td>\n",
       "      <td>unknown</td>\n",
       "    </tr>\n",
       "    <tr>\n",
       "      <th>4</th>\n",
       "      <td>20180604</td>\n",
       "      <td>04-Jun-2018</td>\n",
       "      <td>2018.0</td>\n",
       "      <td>Provoked</td>\n",
       "      <td>MEXICO</td>\n",
       "      <td>Colima</td>\n",
       "      <td>La Ticla</td>\n",
       "      <td>Free diving</td>\n",
       "      <td>Gustavo Ramos</td>\n",
       "      <td>M</td>\n",
       "      <td>27</td>\n",
       "      <td>Lacerations to leg &amp; hand shark PROVOKED INCIDENT</td>\n",
       "      <td>N</td>\n",
       "      <td>Tiger shark, 3m</td>\n",
       "      <td>A .Kipper</td>\n",
       "      <td>2018.06.04-Ramos.pdf</td>\n",
       "      <td>http://sharkattackfile.net/spreadsheets/pdf_di...</td>\n",
       "      <td>6299.0</td>\n",
       "      <td>unknown</td>\n",
       "    </tr>\n",
       "  </tbody>\n",
       "</table>\n",
       "</div>"
      ],
      "text/plain": [
       "       date         Date    Year        Type    Country             Area  \\\n",
       "0  20180625  25-Jun-2018  2018.0     Boating        USA       California   \n",
       "1  20180618  18-Jun-2018  2018.0  Unprovoked        USA          Georgia   \n",
       "2  20180609  09-Jun-2018  2018.0     Invalid        USA           Hawaii   \n",
       "3  20180608  08-Jun-2018  2018.0  Unprovoked  AUSTRALIA  New South Wales   \n",
       "4  20180604  04-Jun-2018  2018.0    Provoked     MEXICO           Colima   \n",
       "\n",
       "                         Location     Activity             Name Sex  Age  \\\n",
       "0     Oceanside, San Diego County     Paddling      Julie Wolfe   F   57   \n",
       "1  St. Simon Island, Glynn County     Standing  Adyson McNeely    F   11   \n",
       "2                    Habush, Oahu      Surfing      John Denges   M   48   \n",
       "3              Arrawarra Headland      Surfing             male   M   27   \n",
       "4                        La Ticla  Free diving   Gustavo Ramos    M   27   \n",
       "\n",
       "                                              Injury Fatal          Species  \\\n",
       "0  No injury to occupant, outrigger canoe and pad...     N      White shark   \n",
       "1                         Minor injury to left thigh     N          unknown   \n",
       "2       Injury to left lower leg from surfboard skeg     N          unknown   \n",
       "3                          Minor injury to lower leg     N        2 m shark   \n",
       "4  Lacerations to leg & hand shark PROVOKED INCIDENT     N  Tiger shark, 3m   \n",
       "\n",
       "           Investigator or Source                       pdf  \\\n",
       "0                R. Collier, GSAF      2018.06.25-Wolfe.pdf   \n",
       "1  K.McMurray, TrackingSharks.com    2018.06.18-McNeely.pdf   \n",
       "2  K.McMurray, TrackingSharks.com     2018.06.09-Denges.pdf   \n",
       "3                  B. Myatt, GSAF  2018.06.08-Arrawarra.pdf   \n",
       "4                       A .Kipper      2018.06.04-Ramos.pdf   \n",
       "\n",
       "                                                href original order     time  \n",
       "0  http://sharkattackfile.net/spreadsheets/pdf_di...         6303.0    18:00  \n",
       "1  http://sharkattackfile.net/spreadsheets/pdf_di...         6302.0    14:00  \n",
       "2  http://sharkattackfile.net/spreadsheets/pdf_di...         6301.0    07:45  \n",
       "3  http://sharkattackfile.net/spreadsheets/pdf_di...         6300.0  unknown  \n",
       "4  http://sharkattackfile.net/spreadsheets/pdf_di...         6299.0  unknown  "
      ]
     },
     "execution_count": 260,
     "metadata": {},
     "output_type": "execute_result"
    }
   ],
   "source": [
    "sk['date']=sk.date.apply(limpiar_date)\n",
    "\n",
    "sk.head()"
   ]
  },
  {
   "cell_type": "code",
   "execution_count": 261,
   "id": "ba392d9a",
   "metadata": {
    "scrolled": true
   },
   "outputs": [
    {
     "data": {
      "text/html": [
       "<div>\n",
       "<style scoped>\n",
       "    .dataframe tbody tr th:only-of-type {\n",
       "        vertical-align: middle;\n",
       "    }\n",
       "\n",
       "    .dataframe tbody tr th {\n",
       "        vertical-align: top;\n",
       "    }\n",
       "\n",
       "    .dataframe thead th {\n",
       "        text-align: right;\n",
       "    }\n",
       "</style>\n",
       "<table border=\"1\" class=\"dataframe\">\n",
       "  <thead>\n",
       "    <tr style=\"text-align: right;\">\n",
       "      <th></th>\n",
       "      <th>date</th>\n",
       "      <th>Date</th>\n",
       "      <th>Year</th>\n",
       "      <th>Type</th>\n",
       "      <th>Country</th>\n",
       "      <th>Area</th>\n",
       "      <th>Location</th>\n",
       "      <th>Activity</th>\n",
       "      <th>Name</th>\n",
       "      <th>Sex</th>\n",
       "      <th>Age</th>\n",
       "      <th>Injury</th>\n",
       "      <th>Fatal</th>\n",
       "      <th>Species</th>\n",
       "      <th>Investigator or Source</th>\n",
       "      <th>pdf</th>\n",
       "      <th>href</th>\n",
       "      <th>original order</th>\n",
       "      <th>time</th>\n",
       "    </tr>\n",
       "  </thead>\n",
       "  <tbody>\n",
       "    <tr>\n",
       "      <th>0</th>\n",
       "      <td>2018-06-25</td>\n",
       "      <td>25-Jun-2018</td>\n",
       "      <td>2018.0</td>\n",
       "      <td>Boating</td>\n",
       "      <td>USA</td>\n",
       "      <td>California</td>\n",
       "      <td>Oceanside, San Diego County</td>\n",
       "      <td>Paddling</td>\n",
       "      <td>Julie Wolfe</td>\n",
       "      <td>F</td>\n",
       "      <td>57</td>\n",
       "      <td>No injury to occupant, outrigger canoe and pad...</td>\n",
       "      <td>N</td>\n",
       "      <td>White shark</td>\n",
       "      <td>R. Collier, GSAF</td>\n",
       "      <td>2018.06.25-Wolfe.pdf</td>\n",
       "      <td>http://sharkattackfile.net/spreadsheets/pdf_di...</td>\n",
       "      <td>6303.0</td>\n",
       "      <td>18:00</td>\n",
       "    </tr>\n",
       "    <tr>\n",
       "      <th>1</th>\n",
       "      <td>2018-06-18</td>\n",
       "      <td>18-Jun-2018</td>\n",
       "      <td>2018.0</td>\n",
       "      <td>Unprovoked</td>\n",
       "      <td>USA</td>\n",
       "      <td>Georgia</td>\n",
       "      <td>St. Simon Island, Glynn County</td>\n",
       "      <td>Standing</td>\n",
       "      <td>Adyson McNeely</td>\n",
       "      <td>F</td>\n",
       "      <td>11</td>\n",
       "      <td>Minor injury to left thigh</td>\n",
       "      <td>N</td>\n",
       "      <td>unknown</td>\n",
       "      <td>K.McMurray, TrackingSharks.com</td>\n",
       "      <td>2018.06.18-McNeely.pdf</td>\n",
       "      <td>http://sharkattackfile.net/spreadsheets/pdf_di...</td>\n",
       "      <td>6302.0</td>\n",
       "      <td>14:00</td>\n",
       "    </tr>\n",
       "    <tr>\n",
       "      <th>2</th>\n",
       "      <td>2018-06-09</td>\n",
       "      <td>09-Jun-2018</td>\n",
       "      <td>2018.0</td>\n",
       "      <td>Invalid</td>\n",
       "      <td>USA</td>\n",
       "      <td>Hawaii</td>\n",
       "      <td>Habush, Oahu</td>\n",
       "      <td>Surfing</td>\n",
       "      <td>John Denges</td>\n",
       "      <td>M</td>\n",
       "      <td>48</td>\n",
       "      <td>Injury to left lower leg from surfboard skeg</td>\n",
       "      <td>N</td>\n",
       "      <td>unknown</td>\n",
       "      <td>K.McMurray, TrackingSharks.com</td>\n",
       "      <td>2018.06.09-Denges.pdf</td>\n",
       "      <td>http://sharkattackfile.net/spreadsheets/pdf_di...</td>\n",
       "      <td>6301.0</td>\n",
       "      <td>07:45</td>\n",
       "    </tr>\n",
       "    <tr>\n",
       "      <th>3</th>\n",
       "      <td>2018-06-08</td>\n",
       "      <td>08-Jun-2018</td>\n",
       "      <td>2018.0</td>\n",
       "      <td>Unprovoked</td>\n",
       "      <td>AUSTRALIA</td>\n",
       "      <td>New South Wales</td>\n",
       "      <td>Arrawarra Headland</td>\n",
       "      <td>Surfing</td>\n",
       "      <td>male</td>\n",
       "      <td>M</td>\n",
       "      <td>27</td>\n",
       "      <td>Minor injury to lower leg</td>\n",
       "      <td>N</td>\n",
       "      <td>2 m shark</td>\n",
       "      <td>B. Myatt, GSAF</td>\n",
       "      <td>2018.06.08-Arrawarra.pdf</td>\n",
       "      <td>http://sharkattackfile.net/spreadsheets/pdf_di...</td>\n",
       "      <td>6300.0</td>\n",
       "      <td>unknown</td>\n",
       "    </tr>\n",
       "    <tr>\n",
       "      <th>4</th>\n",
       "      <td>2018-06-04</td>\n",
       "      <td>04-Jun-2018</td>\n",
       "      <td>2018.0</td>\n",
       "      <td>Provoked</td>\n",
       "      <td>MEXICO</td>\n",
       "      <td>Colima</td>\n",
       "      <td>La Ticla</td>\n",
       "      <td>Free diving</td>\n",
       "      <td>Gustavo Ramos</td>\n",
       "      <td>M</td>\n",
       "      <td>27</td>\n",
       "      <td>Lacerations to leg &amp; hand shark PROVOKED INCIDENT</td>\n",
       "      <td>N</td>\n",
       "      <td>Tiger shark, 3m</td>\n",
       "      <td>A .Kipper</td>\n",
       "      <td>2018.06.04-Ramos.pdf</td>\n",
       "      <td>http://sharkattackfile.net/spreadsheets/pdf_di...</td>\n",
       "      <td>6299.0</td>\n",
       "      <td>unknown</td>\n",
       "    </tr>\n",
       "  </tbody>\n",
       "</table>\n",
       "</div>"
      ],
      "text/plain": [
       "         date         Date    Year        Type    Country             Area  \\\n",
       "0  2018-06-25  25-Jun-2018  2018.0     Boating        USA       California   \n",
       "1  2018-06-18  18-Jun-2018  2018.0  Unprovoked        USA          Georgia   \n",
       "2  2018-06-09  09-Jun-2018  2018.0     Invalid        USA           Hawaii   \n",
       "3  2018-06-08  08-Jun-2018  2018.0  Unprovoked  AUSTRALIA  New South Wales   \n",
       "4  2018-06-04  04-Jun-2018  2018.0    Provoked     MEXICO           Colima   \n",
       "\n",
       "                         Location     Activity             Name Sex  Age  \\\n",
       "0     Oceanside, San Diego County     Paddling      Julie Wolfe   F   57   \n",
       "1  St. Simon Island, Glynn County     Standing  Adyson McNeely    F   11   \n",
       "2                    Habush, Oahu      Surfing      John Denges   M   48   \n",
       "3              Arrawarra Headland      Surfing             male   M   27   \n",
       "4                        La Ticla  Free diving   Gustavo Ramos    M   27   \n",
       "\n",
       "                                              Injury Fatal          Species  \\\n",
       "0  No injury to occupant, outrigger canoe and pad...     N      White shark   \n",
       "1                         Minor injury to left thigh     N          unknown   \n",
       "2       Injury to left lower leg from surfboard skeg     N          unknown   \n",
       "3                          Minor injury to lower leg     N        2 m shark   \n",
       "4  Lacerations to leg & hand shark PROVOKED INCIDENT     N  Tiger shark, 3m   \n",
       "\n",
       "           Investigator or Source                       pdf  \\\n",
       "0                R. Collier, GSAF      2018.06.25-Wolfe.pdf   \n",
       "1  K.McMurray, TrackingSharks.com    2018.06.18-McNeely.pdf   \n",
       "2  K.McMurray, TrackingSharks.com     2018.06.09-Denges.pdf   \n",
       "3                  B. Myatt, GSAF  2018.06.08-Arrawarra.pdf   \n",
       "4                       A .Kipper      2018.06.04-Ramos.pdf   \n",
       "\n",
       "                                                href original order     time  \n",
       "0  http://sharkattackfile.net/spreadsheets/pdf_di...         6303.0    18:00  \n",
       "1  http://sharkattackfile.net/spreadsheets/pdf_di...         6302.0    14:00  \n",
       "2  http://sharkattackfile.net/spreadsheets/pdf_di...         6301.0    07:45  \n",
       "3  http://sharkattackfile.net/spreadsheets/pdf_di...         6300.0  unknown  \n",
       "4  http://sharkattackfile.net/spreadsheets/pdf_di...         6299.0  unknown  "
      ]
     },
     "execution_count": 261,
     "metadata": {},
     "output_type": "execute_result"
    }
   ],
   "source": [
    "sk['date']=sk.date.apply(limpiar_date2)\n",
    "\n",
    "sk.head()"
   ]
  },
  {
   "cell_type": "code",
   "execution_count": 262,
   "id": "7b49876d",
   "metadata": {},
   "outputs": [
    {
     "data": {
      "text/plain": [
       "0--           2400\n",
       "1950-00-00      13\n",
       "1957-00-00      11\n",
       "1942-00-00      11\n",
       "1960-00-00      10\n",
       "              ... \n",
       "1994-05-15       1\n",
       "1994-05-23       1\n",
       "1994-05-24       1\n",
       "1994-05-28       1\n",
       "1975-11-07       1\n",
       "Name: date, Length: 5334, dtype: int64"
      ]
     },
     "execution_count": 262,
     "metadata": {},
     "output_type": "execute_result"
    }
   ],
   "source": [
    "sk.date.value_counts()"
   ]
  },
  {
   "cell_type": "code",
   "execution_count": 263,
   "id": "a570f289",
   "metadata": {},
   "outputs": [],
   "source": [
    "sk.date.replace('0--', 'unknown', inplace=True)"
   ]
  },
  {
   "cell_type": "code",
   "execution_count": 264,
   "id": "a422bf83",
   "metadata": {
    "scrolled": true
   },
   "outputs": [
    {
     "data": {
      "text/plain": [
       "unknown       2400\n",
       "1950-00-00      13\n",
       "1957-00-00      11\n",
       "1942-00-00      11\n",
       "1960-00-00      10\n",
       "              ... \n",
       "1994-05-15       1\n",
       "1994-05-23       1\n",
       "1994-05-24       1\n",
       "1994-05-28       1\n",
       "1975-11-07       1\n",
       "Name: date, Length: 5334, dtype: int64"
      ]
     },
     "execution_count": 264,
     "metadata": {},
     "output_type": "execute_result"
    }
   ],
   "source": [
    "sk.date.value_counts()"
   ]
  },
  {
   "cell_type": "code",
   "execution_count": 265,
   "id": "81051cf0",
   "metadata": {
    "scrolled": true
   },
   "outputs": [
    {
     "data": {
      "text/html": [
       "<div>\n",
       "<style scoped>\n",
       "    .dataframe tbody tr th:only-of-type {\n",
       "        vertical-align: middle;\n",
       "    }\n",
       "\n",
       "    .dataframe tbody tr th {\n",
       "        vertical-align: top;\n",
       "    }\n",
       "\n",
       "    .dataframe thead th {\n",
       "        text-align: right;\n",
       "    }\n",
       "</style>\n",
       "<table border=\"1\" class=\"dataframe\">\n",
       "  <thead>\n",
       "    <tr style=\"text-align: right;\">\n",
       "      <th></th>\n",
       "      <th>date</th>\n",
       "      <th>Date</th>\n",
       "      <th>Year</th>\n",
       "      <th>Type</th>\n",
       "      <th>Country</th>\n",
       "      <th>Area</th>\n",
       "      <th>Location</th>\n",
       "      <th>Activity</th>\n",
       "      <th>Name</th>\n",
       "      <th>Sex</th>\n",
       "      <th>Age</th>\n",
       "      <th>Injury</th>\n",
       "      <th>Fatal</th>\n",
       "      <th>Species</th>\n",
       "      <th>Investigator or Source</th>\n",
       "      <th>pdf</th>\n",
       "      <th>href</th>\n",
       "      <th>original order</th>\n",
       "      <th>time</th>\n",
       "    </tr>\n",
       "  </thead>\n",
       "  <tbody>\n",
       "    <tr>\n",
       "      <th>0</th>\n",
       "      <td>2018-06-25</td>\n",
       "      <td>25-Jun-2018</td>\n",
       "      <td>2018.0</td>\n",
       "      <td>Boating</td>\n",
       "      <td>USA</td>\n",
       "      <td>California</td>\n",
       "      <td>Oceanside, San Diego County</td>\n",
       "      <td>Paddling</td>\n",
       "      <td>Julie Wolfe</td>\n",
       "      <td>F</td>\n",
       "      <td>57</td>\n",
       "      <td>No injury to occupant, outrigger canoe and pad...</td>\n",
       "      <td>N</td>\n",
       "      <td>White shark</td>\n",
       "      <td>R. Collier, GSAF</td>\n",
       "      <td>2018.06.25-Wolfe.pdf</td>\n",
       "      <td>http://sharkattackfile.net/spreadsheets/pdf_di...</td>\n",
       "      <td>6303.0</td>\n",
       "      <td>18:00</td>\n",
       "    </tr>\n",
       "    <tr>\n",
       "      <th>1</th>\n",
       "      <td>2018-06-18</td>\n",
       "      <td>18-Jun-2018</td>\n",
       "      <td>2018.0</td>\n",
       "      <td>Unprovoked</td>\n",
       "      <td>USA</td>\n",
       "      <td>Georgia</td>\n",
       "      <td>St. Simon Island, Glynn County</td>\n",
       "      <td>Standing</td>\n",
       "      <td>Adyson McNeely</td>\n",
       "      <td>F</td>\n",
       "      <td>11</td>\n",
       "      <td>Minor injury to left thigh</td>\n",
       "      <td>N</td>\n",
       "      <td>unknown</td>\n",
       "      <td>K.McMurray, TrackingSharks.com</td>\n",
       "      <td>2018.06.18-McNeely.pdf</td>\n",
       "      <td>http://sharkattackfile.net/spreadsheets/pdf_di...</td>\n",
       "      <td>6302.0</td>\n",
       "      <td>14:00</td>\n",
       "    </tr>\n",
       "    <tr>\n",
       "      <th>2</th>\n",
       "      <td>2018-06-09</td>\n",
       "      <td>09-Jun-2018</td>\n",
       "      <td>2018.0</td>\n",
       "      <td>Invalid</td>\n",
       "      <td>USA</td>\n",
       "      <td>Hawaii</td>\n",
       "      <td>Habush, Oahu</td>\n",
       "      <td>Surfing</td>\n",
       "      <td>John Denges</td>\n",
       "      <td>M</td>\n",
       "      <td>48</td>\n",
       "      <td>Injury to left lower leg from surfboard skeg</td>\n",
       "      <td>N</td>\n",
       "      <td>unknown</td>\n",
       "      <td>K.McMurray, TrackingSharks.com</td>\n",
       "      <td>2018.06.09-Denges.pdf</td>\n",
       "      <td>http://sharkattackfile.net/spreadsheets/pdf_di...</td>\n",
       "      <td>6301.0</td>\n",
       "      <td>07:45</td>\n",
       "    </tr>\n",
       "    <tr>\n",
       "      <th>3</th>\n",
       "      <td>2018-06-08</td>\n",
       "      <td>08-Jun-2018</td>\n",
       "      <td>2018.0</td>\n",
       "      <td>Unprovoked</td>\n",
       "      <td>AUSTRALIA</td>\n",
       "      <td>New South Wales</td>\n",
       "      <td>Arrawarra Headland</td>\n",
       "      <td>Surfing</td>\n",
       "      <td>male</td>\n",
       "      <td>M</td>\n",
       "      <td>27</td>\n",
       "      <td>Minor injury to lower leg</td>\n",
       "      <td>N</td>\n",
       "      <td>2 m shark</td>\n",
       "      <td>B. Myatt, GSAF</td>\n",
       "      <td>2018.06.08-Arrawarra.pdf</td>\n",
       "      <td>http://sharkattackfile.net/spreadsheets/pdf_di...</td>\n",
       "      <td>6300.0</td>\n",
       "      <td>unknown</td>\n",
       "    </tr>\n",
       "    <tr>\n",
       "      <th>4</th>\n",
       "      <td>2018-06-04</td>\n",
       "      <td>04-Jun-2018</td>\n",
       "      <td>2018.0</td>\n",
       "      <td>Provoked</td>\n",
       "      <td>MEXICO</td>\n",
       "      <td>Colima</td>\n",
       "      <td>La Ticla</td>\n",
       "      <td>Free diving</td>\n",
       "      <td>Gustavo Ramos</td>\n",
       "      <td>M</td>\n",
       "      <td>27</td>\n",
       "      <td>Lacerations to leg &amp; hand shark PROVOKED INCIDENT</td>\n",
       "      <td>N</td>\n",
       "      <td>Tiger shark, 3m</td>\n",
       "      <td>A .Kipper</td>\n",
       "      <td>2018.06.04-Ramos.pdf</td>\n",
       "      <td>http://sharkattackfile.net/spreadsheets/pdf_di...</td>\n",
       "      <td>6299.0</td>\n",
       "      <td>unknown</td>\n",
       "    </tr>\n",
       "  </tbody>\n",
       "</table>\n",
       "</div>"
      ],
      "text/plain": [
       "         date         Date    Year        Type    Country             Area  \\\n",
       "0  2018-06-25  25-Jun-2018  2018.0     Boating        USA       California   \n",
       "1  2018-06-18  18-Jun-2018  2018.0  Unprovoked        USA          Georgia   \n",
       "2  2018-06-09  09-Jun-2018  2018.0     Invalid        USA           Hawaii   \n",
       "3  2018-06-08  08-Jun-2018  2018.0  Unprovoked  AUSTRALIA  New South Wales   \n",
       "4  2018-06-04  04-Jun-2018  2018.0    Provoked     MEXICO           Colima   \n",
       "\n",
       "                         Location     Activity             Name Sex  Age  \\\n",
       "0     Oceanside, San Diego County     Paddling      Julie Wolfe   F   57   \n",
       "1  St. Simon Island, Glynn County     Standing  Adyson McNeely    F   11   \n",
       "2                    Habush, Oahu      Surfing      John Denges   M   48   \n",
       "3              Arrawarra Headland      Surfing             male   M   27   \n",
       "4                        La Ticla  Free diving   Gustavo Ramos    M   27   \n",
       "\n",
       "                                              Injury Fatal          Species  \\\n",
       "0  No injury to occupant, outrigger canoe and pad...     N      White shark   \n",
       "1                         Minor injury to left thigh     N          unknown   \n",
       "2       Injury to left lower leg from surfboard skeg     N          unknown   \n",
       "3                          Minor injury to lower leg     N        2 m shark   \n",
       "4  Lacerations to leg & hand shark PROVOKED INCIDENT     N  Tiger shark, 3m   \n",
       "\n",
       "           Investigator or Source                       pdf  \\\n",
       "0                R. Collier, GSAF      2018.06.25-Wolfe.pdf   \n",
       "1  K.McMurray, TrackingSharks.com    2018.06.18-McNeely.pdf   \n",
       "2  K.McMurray, TrackingSharks.com     2018.06.09-Denges.pdf   \n",
       "3                  B. Myatt, GSAF  2018.06.08-Arrawarra.pdf   \n",
       "4                       A .Kipper      2018.06.04-Ramos.pdf   \n",
       "\n",
       "                                                href original order     time  \n",
       "0  http://sharkattackfile.net/spreadsheets/pdf_di...         6303.0    18:00  \n",
       "1  http://sharkattackfile.net/spreadsheets/pdf_di...         6302.0    14:00  \n",
       "2  http://sharkattackfile.net/spreadsheets/pdf_di...         6301.0    07:45  \n",
       "3  http://sharkattackfile.net/spreadsheets/pdf_di...         6300.0  unknown  \n",
       "4  http://sharkattackfile.net/spreadsheets/pdf_di...         6299.0  unknown  "
      ]
     },
     "execution_count": 265,
     "metadata": {},
     "output_type": "execute_result"
    }
   ],
   "source": [
    "sk.head()"
   ]
  },
  {
   "cell_type": "code",
   "execution_count": 266,
   "id": "d7867425",
   "metadata": {},
   "outputs": [
    {
     "name": "stdout",
     "output_type": "stream",
     "text": [
      "<class 'pandas.core.frame.DataFrame'>\n",
      "Int64Index: 8703 entries, 0 to 25722\n",
      "Data columns (total 19 columns):\n",
      " #   Column                  Non-Null Count  Dtype  \n",
      "---  ------                  --------------  -----  \n",
      " 0   date                    8703 non-null   object \n",
      " 1   Date                    6302 non-null   object \n",
      " 2   Year                    6300 non-null   float64\n",
      " 3   Type                    8703 non-null   object \n",
      " 4   Country                 8703 non-null   object \n",
      " 5   Area                    8703 non-null   object \n",
      " 6   Location                8703 non-null   object \n",
      " 7   Activity                8703 non-null   object \n",
      " 8   Name                    8703 non-null   object \n",
      " 9   Sex                     8703 non-null   object \n",
      " 10  Age                     8703 non-null   int8   \n",
      " 11  Injury                  8703 non-null   object \n",
      " 12  Fatal                   8703 non-null   object \n",
      " 13  Species                 8703 non-null   object \n",
      " 14  Investigator or Source  8703 non-null   object \n",
      " 15  pdf                     8703 non-null   object \n",
      " 16  href                    8703 non-null   object \n",
      " 17  original order          8703 non-null   object \n",
      " 18  time                    8703 non-null   object \n",
      "dtypes: float64(1), int8(1), object(17)\n",
      "memory usage: 10.2 MB\n"
     ]
    }
   ],
   "source": [
    "sk.info(memory_usage='deep')"
   ]
  },
  {
   "cell_type": "code",
   "execution_count": 267,
   "id": "b2346ce1",
   "metadata": {},
   "outputs": [
    {
     "data": {
      "text/plain": [
       "0        2018.0\n",
       "1        2018.0\n",
       "2        2018.0\n",
       "3        2018.0\n",
       "4        2018.0\n",
       "          ...  \n",
       "8698        NaN\n",
       "8699        NaN\n",
       "8700        NaN\n",
       "8701        NaN\n",
       "25722       NaN\n",
       "Name: Year, Length: 8703, dtype: float64"
      ]
     },
     "execution_count": 267,
     "metadata": {},
     "output_type": "execute_result"
    }
   ],
   "source": [
    "pd.to_numeric(sk.Year, errors='coerce',downcast='integer')"
   ]
  },
  {
   "cell_type": "code",
   "execution_count": 268,
   "id": "427b91c8",
   "metadata": {},
   "outputs": [],
   "source": [
    "sk.Year.fillna('unknown', inplace=True)"
   ]
  },
  {
   "cell_type": "code",
   "execution_count": 269,
   "id": "9d56f4bd",
   "metadata": {},
   "outputs": [
    {
     "data": {
      "text/plain": [
       "Date    27.588188\n",
       "dtype: float64"
      ]
     },
     "execution_count": 269,
     "metadata": {},
     "output_type": "execute_result"
    }
   ],
   "source": [
    "nan_cols=sk.isna().mean() * 100  # porcentaje de nulos por columna\n",
    "\n",
    "pepe= nan_cols[nan_cols>0].sort_values(ascending=False)\n",
    "\n",
    "pepe"
   ]
  },
  {
   "cell_type": "code",
   "execution_count": 270,
   "id": "62bd5114",
   "metadata": {},
   "outputs": [],
   "source": [
    "sk.drop(columns='Date',inplace=True)"
   ]
  },
  {
   "cell_type": "code",
   "execution_count": 271,
   "id": "37bc4eb9",
   "metadata": {},
   "outputs": [
    {
     "data": {
      "text/plain": [
       "Series([], dtype: float64)"
      ]
     },
     "execution_count": 271,
     "metadata": {},
     "output_type": "execute_result"
    }
   ],
   "source": [
    "nan_cols=sk.isna().mean() * 100  # porcentaje de nulos por columna\n",
    "\n",
    "pepe= nan_cols[nan_cols>0].sort_values(ascending=False)\n",
    "\n",
    "pepe"
   ]
  },
  {
   "cell_type": "markdown",
   "id": "7d622e80",
   "metadata": {},
   "source": [
    "Hemos eliminado TODOS los valores nulos."
   ]
  },
  {
   "cell_type": "markdown",
   "id": "4b0a4e98",
   "metadata": {},
   "source": [
    "Ahora, vamos a analizar los valores de las columnas y dejarlos homogéneos."
   ]
  },
  {
   "cell_type": "code",
   "execution_count": 272,
   "id": "8c8524f2",
   "metadata": {},
   "outputs": [
    {
     "data": {
      "text/plain": [
       "M          5094\n",
       "unknown    2966\n",
       "F           637\n",
       "M             2\n",
       "N             2\n",
       "lli           1\n",
       ".             1\n",
       "Name: Sex, dtype: int64"
      ]
     },
     "execution_count": 272,
     "metadata": {},
     "output_type": "execute_result"
    }
   ],
   "source": [
    "sk.Sex.value_counts()"
   ]
  },
  {
   "cell_type": "code",
   "execution_count": 273,
   "id": "30c5535e",
   "metadata": {},
   "outputs": [],
   "source": [
    "sk.Sex.replace({'lli': 'unknown','.':'unknown','N':'unknown','M ':'M'}, inplace=True)"
   ]
  },
  {
   "cell_type": "code",
   "execution_count": 274,
   "id": "92dcc212",
   "metadata": {},
   "outputs": [
    {
     "data": {
      "text/plain": [
       "M          5096\n",
       "unknown    2970\n",
       "F           637\n",
       "Name: Sex, dtype: int64"
      ]
     },
     "execution_count": 274,
     "metadata": {},
     "output_type": "execute_result"
    }
   ],
   "source": [
    "sk.Sex.value_counts()"
   ]
  },
  {
   "cell_type": "code",
   "execution_count": 275,
   "id": "4058ec48",
   "metadata": {
    "scrolled": true
   },
   "outputs": [
    {
     "data": {
      "text/plain": [
       "<bound method Series.unique of Unprovoked      4595\n",
       "unknown         2405\n",
       "Provoked         574\n",
       "Invalid          547\n",
       "Sea Disaster     239\n",
       "Boating          203\n",
       "Boat             137\n",
       "Questionable       2\n",
       "Boatomg            1\n",
       "Name: Type, dtype: int64>"
      ]
     },
     "execution_count": 275,
     "metadata": {},
     "output_type": "execute_result"
    }
   ],
   "source": [
    "sk.Type.value_counts().unique"
   ]
  },
  {
   "cell_type": "code",
   "execution_count": 276,
   "id": "ad0b52fb",
   "metadata": {},
   "outputs": [],
   "source": [
    "sk.Type.replace({'Boatomg':'Boating','Boat':'Boating','Questionable':'Invalid'}, inplace=True)"
   ]
  },
  {
   "cell_type": "code",
   "execution_count": 277,
   "id": "c91568a0",
   "metadata": {},
   "outputs": [
    {
     "data": {
      "text/plain": [
       "<bound method Series.unique of Unprovoked      4595\n",
       "unknown         2405\n",
       "Provoked         574\n",
       "Invalid          549\n",
       "Boating          341\n",
       "Sea Disaster     239\n",
       "Name: Type, dtype: int64>"
      ]
     },
     "execution_count": 277,
     "metadata": {},
     "output_type": "execute_result"
    }
   ],
   "source": [
    "sk.Type.value_counts().unique"
   ]
  },
  {
   "cell_type": "code",
   "execution_count": 278,
   "id": "80ef5aed",
   "metadata": {},
   "outputs": [
    {
     "data": {
      "text/plain": [
       "unknown                                                                                                                          5239\n",
       "White shark                                                                                                                       163\n",
       "Shark involvement prior to death was not confirmed                                                                                105\n",
       "Invalid                                                                                                                           102\n",
       "Shark involvement not confirmed                                                                                                    88\n",
       "                                                                                                                                 ... \n",
       "1.2 m to 1.5 m [4.5' to 5'] shark                                                                                                   1\n",
       "Bull shark, 2.3 m [7.5']                                                                                                            1\n",
       "0.9 m  [3'] shark                                                                                                                   1\n",
       "Mako shark, 14'                                                                                                                     1\n",
       "Said to involve a grey nurse shark that leapt out of the water and  seized the boy but species identification is questionable       1\n",
       "Name: Species, Length: 1550, dtype: int64"
      ]
     },
     "execution_count": 278,
     "metadata": {},
     "output_type": "execute_result"
    }
   ],
   "source": [
    "sk.Species.value_counts()"
   ]
  },
  {
   "cell_type": "code",
   "execution_count": 279,
   "id": "26718e58",
   "metadata": {},
   "outputs": [],
   "source": [
    "sk.Species.replace({'Shark involvement prior to death was not confirmed':'Invalid','Said to involve a grey nurse shark that leapt out of the water and  seized the boy but species identification is questionable':'Invalid','Shark involvement not confirmed':'Invalid'}, inplace=True)"
   ]
  },
  {
   "cell_type": "code",
   "execution_count": 280,
   "id": "db2b2e7a",
   "metadata": {},
   "outputs": [
    {
     "data": {
      "text/plain": [
       "unknown                                         5239\n",
       "Invalid                                          296\n",
       "White shark                                      163\n",
       "Tiger shark                                       73\n",
       "Shark involvement prior to death unconfirmed      68\n",
       "                                                ... \n",
       "1.2 m to 1.5 m [4.5' to 5'] shark                  1\n",
       "Bull shark, 2.3 m [7.5']                           1\n",
       "0.9 m  [3'] shark                                  1\n",
       "Mako shark, 14'                                    1\n",
       "Blue pointers                                      1\n",
       "Name: Species, Length: 1547, dtype: int64"
      ]
     },
     "execution_count": 280,
     "metadata": {},
     "output_type": "execute_result"
    }
   ],
   "source": [
    "sk.Species.value_counts()"
   ]
  },
  {
   "cell_type": "code",
   "execution_count": 281,
   "id": "d961b1dc",
   "metadata": {},
   "outputs": [],
   "source": [
    "sk.Species.replace({'Shark involvement prior to death unconfirmed':'unknown','Invalid':'unknown','Blue pointers':'Mako shark'}, inplace=True)"
   ]
  },
  {
   "cell_type": "code",
   "execution_count": 282,
   "id": "04302342",
   "metadata": {},
   "outputs": [
    {
     "data": {
      "text/plain": [
       "array(['White shark', 'unknown', '2 m shark', ...,\n",
       "       \"Bull shark caught, leg recovered & buried beside the man's body\",\n",
       "       '\"a black-tipped shark\"', \"12' tiger shark\"], dtype=object)"
      ]
     },
     "execution_count": 282,
     "metadata": {},
     "output_type": "execute_result"
    }
   ],
   "source": [
    "sk.Species.unique()"
   ]
  },
  {
   "cell_type": "code",
   "execution_count": 283,
   "id": "46d1eb73",
   "metadata": {},
   "outputs": [],
   "source": [
    "sk.Species.replace({\"Bull shark caught, leg recovered & buried beside the man's body\":'Bull shark','a black-tipped shark':'Blacktip shark'}, inplace=True)"
   ]
  },
  {
   "cell_type": "code",
   "execution_count": 284,
   "id": "01723431",
   "metadata": {},
   "outputs": [
    {
     "data": {
      "text/plain": [
       "unknown                      5603\n",
       "White shark                   163\n",
       "Tiger shark                    73\n",
       "Bull shark                     53\n",
       "4' shark                       40\n",
       "                             ... \n",
       "Bull shark, 2.3 m [7.5']        1\n",
       "0.9 m  [3'] shark               1\n",
       "Mako shark, 14'                 1\n",
       "1.9 m [6.5'] bull shark         1\n",
       "12' tiger shark                 1\n",
       "Name: Species, Length: 1543, dtype: int64"
      ]
     },
     "execution_count": 284,
     "metadata": {},
     "output_type": "execute_result"
    }
   ],
   "source": [
    "sk.Species.value_counts()"
   ]
  },
  {
   "cell_type": "code",
   "execution_count": 285,
   "id": "2defc990",
   "metadata": {},
   "outputs": [],
   "source": [
    "sk.Species.replace({\"4' shark\":'unknown',\"0.9 m  [3'] shark\":'unknown',\"Mako shark, 14'\":'Mako shark',\"1.9 m [6.5'] bull shark\":'Bull shark',\"12' tiger shark\":'Tiger shark',\"Bull shark, 2.3 m [7.5']\":'Bull shark'}, inplace=True)"
   ]
  },
  {
   "cell_type": "code",
   "execution_count": 286,
   "id": "c894aa8d",
   "metadata": {},
   "outputs": [
    {
     "data": {
      "text/plain": [
       "unknown                              5644\n",
       "White shark                           163\n",
       "Tiger shark                            74\n",
       "Bull shark                             54\n",
       "6' shark                               40\n",
       "                                     ... \n",
       "1.2 m to 1.5 m [4.5' to 5'] shark       1\n",
       "Bull shark, 2.3 m [7.5']                1\n",
       "Mako shark, 14'                         1\n",
       "Blacktip shark, 5' to 6'                1\n",
       "\"a black-tipped shark\"                  1\n",
       "Name: Species, Length: 1539, dtype: int64"
      ]
     },
     "execution_count": 286,
     "metadata": {},
     "output_type": "execute_result"
    }
   ],
   "source": [
    "sk.Species.value_counts()"
   ]
  },
  {
   "cell_type": "code",
   "execution_count": 287,
   "id": "6127381d",
   "metadata": {},
   "outputs": [],
   "source": [
    "sk.Species.replace({\"6' shark\":'unknown',\"1.2 m to 1.5 m [4.5' to 5'] shark\":'unknown',\"Bull shark, 2.3 m [7.5']\":'Bull shark',\"Mako shark, 14'\":'Mako shark',\"Blacktip shark, 5' to 6'\":'Blacktip shark', '''\"a black-tipped shark\"''':'Blacktip shark'}, inplace=True)"
   ]
  },
  {
   "cell_type": "code",
   "execution_count": 288,
   "id": "f3f14506",
   "metadata": {},
   "outputs": [],
   "source": [
    "pd.set_option('display.max_rows',25)"
   ]
  },
  {
   "cell_type": "code",
   "execution_count": 289,
   "id": "cfdb9c87",
   "metadata": {},
   "outputs": [
    {
     "data": {
      "text/plain": [
       "array(['White shark', 'unknown', '2 m shark', ..., '\"A pack of sharks\"',\n",
       "       \"White shark, 7' to 8'\", 'White shark, 1,900-lb '], dtype=object)"
      ]
     },
     "execution_count": 289,
     "metadata": {},
     "output_type": "execute_result"
    }
   ],
   "source": [
    "sk.Species.unique()"
   ]
  },
  {
   "cell_type": "code",
   "execution_count": 290,
   "id": "dd42a6da",
   "metadata": {},
   "outputs": [],
   "source": [
    "sk.Species.replace({'''\"A pack of sharks\"''':'unknown',\"White shark, 7' to 8'\":'White shark','White shark, 1,900-lb ':'White shark','2 m shark':'unknown'}, inplace=True)"
   ]
  },
  {
   "cell_type": "code",
   "execution_count": 291,
   "id": "bd632c2b",
   "metadata": {},
   "outputs": [
    {
     "data": {
      "text/plain": [
       "array(['White shark', 'unknown', 'Tiger shark, 3m', ...,\n",
       "       'A large hammerhead shark', \"Nurse shark, 2.1 m [7'] \",\n",
       "       'Shovelnose guitarfish, adult male '], dtype=object)"
      ]
     },
     "execution_count": 291,
     "metadata": {},
     "output_type": "execute_result"
    }
   ],
   "source": [
    "sk.Species.unique()"
   ]
  },
  {
   "cell_type": "code",
   "execution_count": 292,
   "id": "2c112f26",
   "metadata": {},
   "outputs": [],
   "source": [
    "sk.Species.replace({'Tiger shark, 3m':'Tiger shark','A large hammerhead shark':'Hammerhead shark',\"Nurse shark, 2.1 m [7'] \":'Nurse shark'}, inplace=True)"
   ]
  },
  {
   "cell_type": "code",
   "execution_count": 293,
   "id": "b4a43c8b",
   "metadata": {
    "scrolled": true
   },
   "outputs": [
    {
     "data": {
      "text/plain": [
       "unknown                                            5711\n",
       "White shark                                         165\n",
       "Tiger shark                                          76\n",
       "Bull shark                                           54\n",
       "Questionable incident                                35\n",
       "                                                   ... \n",
       "Mako shark, 14'                                       1\n",
       "Blacktip shark, 5' to 6'                              1\n",
       "3' shark, possibly  a blacktip or spinner shark       1\n",
       "Possibly  a blacktip or spinner shark                 1\n",
       "Shovelnose guitarfish, adult male                     1\n",
       "Name: Species, Length: 1528, dtype: int64"
      ]
     },
     "execution_count": 293,
     "metadata": {},
     "output_type": "execute_result"
    }
   ],
   "source": [
    "sk.Species.value_counts()"
   ]
  },
  {
   "cell_type": "code",
   "execution_count": 294,
   "id": "c104357a",
   "metadata": {},
   "outputs": [
    {
     "data": {
      "text/plain": [
       "Int64Index([1900, 2539, 2542, 2564, 2571, 2611, 2764, 2938, 2946, 2968, 3164,\n",
       "            3207, 3325, 3329, 3441, 3445, 3450, 3490, 3491, 3493, 3523, 3618,\n",
       "            3648, 3810, 3925, 3958, 3998, 4063, 4067, 4098, 4133, 4313, 4779,\n",
       "            4780, 4781, 4782, 4824, 5965],\n",
       "           dtype='int64')"
      ]
     },
     "execution_count": 294,
     "metadata": {},
     "output_type": "execute_result"
    }
   ],
   "source": [
    "sk[sk.Species.str.contains('Questionable incident')].index"
   ]
  },
  {
   "cell_type": "code",
   "execution_count": 295,
   "id": "ad81997b",
   "metadata": {},
   "outputs": [],
   "source": [
    "sk.Species.replace({'Questionable incident':'unknown',\"Mako shark, 14'\":'Mako shark',\"Blacktip shark, 5' to 6'\":'Blacktip shark',\"3' shark, possibly  a blacktip or spinner shark\":'Blacktip shark'}, inplace=True)"
   ]
  },
  {
   "cell_type": "code",
   "execution_count": 296,
   "id": "adba77b6",
   "metadata": {},
   "outputs": [
    {
     "data": {
      "text/plain": [
       "unknown                                  5746\n",
       "White shark                               165\n",
       "Tiger shark                                76\n",
       "Bull shark                                 54\n",
       "1.8 m [6'] shark                           35\n",
       "                                         ... \n",
       "Bull shark, 2.3 m [7.5']                    1\n",
       "Mako shark, 14'                             1\n",
       "Blacktip shark, 5' to 6'                    1\n",
       "Possibly  a blacktip or spinner shark       1\n",
       "Shovelnose guitarfish, adult male           1\n",
       "Name: Species, Length: 1526, dtype: int64"
      ]
     },
     "execution_count": 296,
     "metadata": {},
     "output_type": "execute_result"
    }
   ],
   "source": [
    "sk.Species.value_counts()"
   ]
  },
  {
   "cell_type": "code",
   "execution_count": 297,
   "id": "36ced48f",
   "metadata": {},
   "outputs": [],
   "source": [
    "species_question=sk[sk.Species.str.contains('Questionable incident')].index"
   ]
  },
  {
   "cell_type": "code",
   "execution_count": 298,
   "id": "c3fa25ef",
   "metadata": {},
   "outputs": [],
   "source": [
    "sk.at[species_question, 'Species'] = 'unknown'"
   ]
  },
  {
   "cell_type": "code",
   "execution_count": 299,
   "id": "c88d207d",
   "metadata": {},
   "outputs": [],
   "source": [
    "species_mako=sk[sk.Species.str.contains('Mako shark')].index"
   ]
  },
  {
   "cell_type": "code",
   "execution_count": 300,
   "id": "2da2b103",
   "metadata": {},
   "outputs": [],
   "source": [
    "sk.at[species_mako, 'Species'] = 'Mako shark'"
   ]
  },
  {
   "cell_type": "code",
   "execution_count": 301,
   "id": "58d1089d",
   "metadata": {},
   "outputs": [
    {
     "data": {
      "text/plain": [
       "unknown                                   5749\n",
       "White shark                                165\n",
       "Tiger shark                                 76\n",
       "Bull shark                                  54\n",
       "Mako shark                                  45\n",
       "                                          ... \n",
       "White shark, 2.7 m to 3 m [9' to 10']        1\n",
       "Bull shark, 2.3 m [7.5']                     1\n",
       "Blacktip shark, 5' to 6'                     1\n",
       "Possibly  a blacktip or spinner shark        1\n",
       "Shovelnose guitarfish, adult male            1\n",
       "Name: Species, Length: 1495, dtype: int64"
      ]
     },
     "execution_count": 301,
     "metadata": {},
     "output_type": "execute_result"
    }
   ],
   "source": [
    "sk.Species.value_counts()"
   ]
  },
  {
   "cell_type": "code",
   "execution_count": 302,
   "id": "f9b4214a",
   "metadata": {},
   "outputs": [],
   "source": [
    "species_white=sk[sk.Species.str.contains('White shark' or 'white')].index"
   ]
  },
  {
   "cell_type": "code",
   "execution_count": 303,
   "id": "a90a5df7",
   "metadata": {},
   "outputs": [],
   "source": [
    "sk.at[species_white, 'Species'] = 'White shark'"
   ]
  },
  {
   "cell_type": "code",
   "execution_count": 304,
   "id": "5ab41688",
   "metadata": {},
   "outputs": [],
   "source": [
    "species_tiger=sk[sk.Species.str.contains('Tiger shark' or 'tiger shark' or 'tiger' or 'Tiger')].index"
   ]
  },
  {
   "cell_type": "code",
   "execution_count": 305,
   "id": "94ad22fa",
   "metadata": {},
   "outputs": [],
   "source": [
    "sk.at[species_tiger, 'Species'] = 'Tiger shark'"
   ]
  },
  {
   "cell_type": "code",
   "execution_count": 306,
   "id": "55f55dfc",
   "metadata": {},
   "outputs": [],
   "source": [
    "species_bull=sk[sk.Species.str.contains('Bull shark' or 'bull shark' or 'bull')].index"
   ]
  },
  {
   "cell_type": "code",
   "execution_count": 307,
   "id": "7d9862b2",
   "metadata": {},
   "outputs": [],
   "source": [
    "sk.at[species_bull, 'Species'] = 'Bull shark'"
   ]
  },
  {
   "cell_type": "code",
   "execution_count": 308,
   "id": "b7a0755d",
   "metadata": {},
   "outputs": [
    {
     "data": {
      "text/plain": [
       "unknown                                                          5749\n",
       "White shark                                                       436\n",
       "Tiger shark                                                       238\n",
       "Bull shark                                                        131\n",
       "Mako shark                                                         45\n",
       "                                                                 ... \n",
       "Shark involvement  questionable                                     1\n",
       "Shortfin mako shark, 3 m to 3.4 m [10' to 11']                      1\n",
       "Miami, a 60 cm blacktip  shark and two 60 cm bamboo catsharks       1\n",
       "Thought to involve a white, bull or tiger shark                     1\n",
       "Shovelnose guitarfish, adult male                                   1\n",
       "Name: Species, Length: 1142, dtype: int64"
      ]
     },
     "execution_count": 308,
     "metadata": {},
     "output_type": "execute_result"
    }
   ],
   "source": [
    "sk.Species.value_counts()"
   ]
  },
  {
   "cell_type": "code",
   "execution_count": 309,
   "id": "20acf256",
   "metadata": {},
   "outputs": [
    {
     "data": {
      "text/plain": [
       "Int64Index([4871, 5653, 6230], dtype='int64')"
      ]
     },
     "execution_count": 309,
     "metadata": {},
     "output_type": "execute_result"
    }
   ],
   "source": [
    "species_guitar=sk[sk.Species.str.contains('Shovelnose' or 'shovelnose')].index\n",
    "species_guitar"
   ]
  },
  {
   "cell_type": "code",
   "execution_count": 310,
   "id": "9fade6d3",
   "metadata": {},
   "outputs": [],
   "source": [
    "sk.drop(species_guitar,inplace=True)"
   ]
  },
  {
   "cell_type": "code",
   "execution_count": 311,
   "id": "4648d0ec",
   "metadata": {},
   "outputs": [
    {
     "data": {
      "text/plain": [
       "unknown                                                          5749\n",
       "White shark                                                       436\n",
       "Tiger shark                                                       238\n",
       "Bull shark                                                        131\n",
       "Mako shark                                                         45\n",
       "                                                                 ... \n",
       "Shark involvement  questionable                                     1\n",
       "Shortfin mako shark, 3 m to 3.4 m [10' to 11']                      1\n",
       "Miami, a 60 cm blacktip  shark and two 60 cm bamboo catsharks       1\n",
       "Thought to involve a white, bull or tiger shark                     1\n",
       "Silvertip shark                                                     1\n",
       "Name: Species, Length: 1139, dtype: int64"
      ]
     },
     "execution_count": 311,
     "metadata": {},
     "output_type": "execute_result"
    }
   ],
   "source": [
    "sk.Species.value_counts()"
   ]
  },
  {
   "cell_type": "code",
   "execution_count": 312,
   "id": "7c70f5f8",
   "metadata": {},
   "outputs": [],
   "source": [
    "species_black=sk[sk.Species.str.contains('Blacktip shark' or 'Blacktip' or 'Black-tip' or 'Black tip' or 'blacktip')].index"
   ]
  },
  {
   "cell_type": "code",
   "execution_count": 313,
   "id": "f0d303c0",
   "metadata": {},
   "outputs": [],
   "source": [
    "sk.at[species_black, 'Species'] = 'Blacktip shark'"
   ]
  },
  {
   "cell_type": "code",
   "execution_count": 314,
   "id": "7ae458e3",
   "metadata": {},
   "outputs": [],
   "source": [
    "species_nurse=sk[sk.Species.str.contains('Nurse' or 'nurse')].index"
   ]
  },
  {
   "cell_type": "code",
   "execution_count": 315,
   "id": "969ceb35",
   "metadata": {},
   "outputs": [],
   "source": [
    "sk.at[species_nurse, 'Species'] = 'Nurse shark'"
   ]
  },
  {
   "cell_type": "code",
   "execution_count": 316,
   "id": "88030d41",
   "metadata": {},
   "outputs": [
    {
     "data": {
      "text/plain": [
       "1.8 m [6'] shark                                  35\n",
       "Questionable                                      34\n",
       "1.5 m [5'] shark                                  32\n",
       "1.2 m [4'] shark                                  27\n",
       "3' shark                                          26\n",
       "                                                  ..\n",
       "2.7 m [9']  bull shark or Caribbean reef shark     1\n",
       "Grey reef shark, 1.5 m                             1\n",
       "3 bull sharks                                      1\n",
       "Sevengill shark, 2.4 m [8']                        1\n",
       "Silvertip shark                                    1\n",
       "Name: Species, Length: 1088, dtype: int64"
      ]
     },
     "execution_count": 316,
     "metadata": {},
     "output_type": "execute_result"
    }
   ],
   "source": [
    "sk.Species.value_counts()[7:]"
   ]
  },
  {
   "cell_type": "code",
   "execution_count": 317,
   "id": "57cd25fa",
   "metadata": {},
   "outputs": [
    {
     "data": {
      "text/plain": [
       "unknown                                           5749\n",
       "White shark                                        436\n",
       "Tiger shark                                        238\n",
       "Bull shark                                         131\n",
       "Nurse shark                                         49\n",
       "                                                  ... \n",
       "2.7 m [9']  bull shark or Caribbean reef shark       1\n",
       "Grey reef shark, 1.5 m                               1\n",
       "3 bull sharks                                        1\n",
       "Sevengill shark, 2.4 m [8']                          1\n",
       "Silvertip shark                                      1\n",
       "Name: Species, Length: 1095, dtype: int64"
      ]
     },
     "execution_count": 317,
     "metadata": {},
     "output_type": "execute_result"
    }
   ],
   "source": [
    "sk.Species.value_counts()"
   ]
  },
  {
   "cell_type": "code",
   "execution_count": 318,
   "id": "92ebe32e",
   "metadata": {},
   "outputs": [],
   "source": [
    "species_bull2=sk[sk.Species.str.contains('Bull shark' or 'bull shark' or 'bull')].index"
   ]
  },
  {
   "cell_type": "code",
   "execution_count": 319,
   "id": "99bdd65c",
   "metadata": {},
   "outputs": [
    {
     "data": {
      "text/plain": [
       "Int64Index([   8,   33,   42,   47,   48,  121,  128,  129,  166,  172,\n",
       "            ...\n",
       "            4718, 4818, 5441, 5524, 5814, 6225, 6242, 6243, 6253, 6265],\n",
       "           dtype='int64', length=131)"
      ]
     },
     "execution_count": 319,
     "metadata": {},
     "output_type": "execute_result"
    }
   ],
   "source": [
    "species_bull2"
   ]
  },
  {
   "cell_type": "code",
   "execution_count": 320,
   "id": "219f11e4",
   "metadata": {},
   "outputs": [],
   "source": [
    "sk.at[species_bull2, 'Species'] = 'Bull shark'"
   ]
  },
  {
   "cell_type": "code",
   "execution_count": 321,
   "id": "9b0997ac",
   "metadata": {},
   "outputs": [
    {
     "data": {
      "text/plain": [
       "unknown                                           5749\n",
       "White shark                                        436\n",
       "Tiger shark                                        238\n",
       "Bull shark                                         131\n",
       "Nurse shark                                         49\n",
       "                                                  ... \n",
       "2.7 m [9']  bull shark or Caribbean reef shark       1\n",
       "Grey reef shark, 1.5 m                               1\n",
       "3 bull sharks                                        1\n",
       "Sevengill shark, 2.4 m [8']                          1\n",
       "Silvertip shark                                      1\n",
       "Name: Species, Length: 1095, dtype: int64"
      ]
     },
     "execution_count": 321,
     "metadata": {},
     "output_type": "execute_result"
    }
   ],
   "source": [
    "sk.Species.value_counts()"
   ]
  },
  {
   "cell_type": "code",
   "execution_count": 322,
   "id": "5d461fec",
   "metadata": {},
   "outputs": [],
   "source": [
    "species_quest=sk[sk.Species.str.contains('Questionable' or 'Invalid' or 'questionable' or 'invalid')].index"
   ]
  },
  {
   "cell_type": "code",
   "execution_count": 323,
   "id": "d3d1e868",
   "metadata": {},
   "outputs": [],
   "source": [
    "sk.at[species_quest, 'Species'] = 'unknown'"
   ]
  },
  {
   "cell_type": "code",
   "execution_count": 324,
   "id": "0f66871c",
   "metadata": {
    "scrolled": true
   },
   "outputs": [
    {
     "data": {
      "text/plain": [
       "1.8 m [6'] shark                                  35\n",
       "1.5 m [5'] shark                                  32\n",
       "1.2 m [4'] shark                                  27\n",
       "3' shark                                          26\n",
       "5' shark                                          26\n",
       "                                                  ..\n",
       "2.7 m [9']  bull shark or Caribbean reef shark     1\n",
       "Grey reef shark, 1.5 m                             1\n",
       "3 bull sharks                                      1\n",
       "Sevengill shark, 2.4 m [8']                        1\n",
       "Silvertip shark                                    1\n",
       "Name: Species, Length: 1085, dtype: int64"
      ]
     },
     "execution_count": 324,
     "metadata": {},
     "output_type": "execute_result"
    }
   ],
   "source": [
    "sk.Species.value_counts()[7:]"
   ]
  },
  {
   "cell_type": "code",
   "execution_count": 325,
   "id": "5d953dd2",
   "metadata": {},
   "outputs": [],
   "source": [
    "sk.Species.replace({\"1.8 m [6'] shark\":'unknown',\"1.5 m [5'] shark\":'unknown',\"1.2 m [4'] shark\":'unknown',\"3' shark\":'unknown',\"5' shark\":'unknown'}, inplace=True)"
   ]
  },
  {
   "cell_type": "code",
   "execution_count": 326,
   "id": "a07b047d",
   "metadata": {},
   "outputs": [
    {
     "data": {
      "text/plain": [
       "4' to 5' shark                                    24\n",
       "3 m [10'] shark                                   22\n",
       "Wobbegong shark                                   21\n",
       "No shark involvement                              21\n",
       "3' to 4' shark                                    18\n",
       "                                                  ..\n",
       "2.7 m [9']  bull shark or Caribbean reef shark     1\n",
       "Grey reef shark, 1.5 m                             1\n",
       "3 bull sharks                                      1\n",
       "Sevengill shark, 2.4 m [8']                        1\n",
       "Silvertip shark                                    1\n",
       "Name: Species, Length: 1080, dtype: int64"
      ]
     },
     "execution_count": 326,
     "metadata": {},
     "output_type": "execute_result"
    }
   ],
   "source": [
    "sk.Species.value_counts()[7:]"
   ]
  },
  {
   "cell_type": "code",
   "execution_count": 327,
   "id": "23f54763",
   "metadata": {},
   "outputs": [],
   "source": [
    "sk.Species.replace({\"4' to 5' shark\":'unknown',\"3' to 4' shark\":'unknown',\"3 m [10'] shark\":'unknown'}, inplace=True)"
   ]
  },
  {
   "cell_type": "code",
   "execution_count": 328,
   "id": "909765e9",
   "metadata": {},
   "outputs": [
    {
     "data": {
      "text/plain": [
       "No shark involvement                              21\n",
       "Wobbegong shark                                   21\n",
       "3 m shark                                         17\n",
       "2.4 m [8'] shark                                  16\n",
       "3.7 m [12'] shark                                 15\n",
       "                                                  ..\n",
       "2.7 m [9']  bull shark or Caribbean reef shark     1\n",
       "Grey reef shark, 1.5 m                             1\n",
       "3 bull sharks                                      1\n",
       "Sevengill shark, 2.4 m [8']                        1\n",
       "Silvertip shark                                    1\n",
       "Name: Species, Length: 1077, dtype: int64"
      ]
     },
     "execution_count": 328,
     "metadata": {},
     "output_type": "execute_result"
    }
   ],
   "source": [
    "sk.Species.value_counts()[7:]"
   ]
  },
  {
   "cell_type": "code",
   "execution_count": 329,
   "id": "52b10100",
   "metadata": {},
   "outputs": [],
   "source": [
    "species_wo=sk[sk.Species.str.contains('Wobbegong' or 'wobbegong')].index"
   ]
  },
  {
   "cell_type": "code",
   "execution_count": 330,
   "id": "8a7ad975",
   "metadata": {},
   "outputs": [],
   "source": [
    "sk.at[species_wo, 'Species'] = 'Wobbegong shark'"
   ]
  },
  {
   "cell_type": "code",
   "execution_count": 331,
   "id": "8881f0cb",
   "metadata": {},
   "outputs": [
    {
     "data": {
      "text/plain": [
       "Mako shark                      45\n",
       "Blacktip shark                  36\n",
       "No shark involvement            21\n",
       "3 m shark                       17\n",
       "2.4 m [8'] shark                16\n",
       "                                ..\n",
       "Grey reef shark, 1.5 m           1\n",
       "3 bull sharks                    1\n",
       "Sevengill shark, 2.4 m [8']      1\n",
       "200 to 300 kg shark              1\n",
       "Silvertip shark                  1\n",
       "Name: Species, Length: 1054, dtype: int64"
      ]
     },
     "execution_count": 331,
     "metadata": {},
     "output_type": "execute_result"
    }
   ],
   "source": [
    "sk.Species.value_counts()[6:]"
   ]
  },
  {
   "cell_type": "code",
   "execution_count": 332,
   "id": "9f59d806",
   "metadata": {},
   "outputs": [],
   "source": [
    "species_grey=sk[sk.Species.str.contains('Grey reef' or 'grey reef')].index"
   ]
  },
  {
   "cell_type": "code",
   "execution_count": 333,
   "id": "e3e6e82e",
   "metadata": {},
   "outputs": [],
   "source": [
    "sk.at[species_grey, 'Species'] = 'Grey Reef shark'"
   ]
  },
  {
   "cell_type": "code",
   "execution_count": 334,
   "id": "6c32699a",
   "metadata": {},
   "outputs": [],
   "source": [
    "species_se=sk[sk.Species.str.contains('Sevengill' or 'sevengill')].index"
   ]
  },
  {
   "cell_type": "code",
   "execution_count": 335,
   "id": "f1fbaceb",
   "metadata": {},
   "outputs": [],
   "source": [
    "sk.at[species_se, 'Species'] = 'Sevengill shark'"
   ]
  },
  {
   "cell_type": "code",
   "execution_count": 336,
   "id": "e3a169b2",
   "metadata": {},
   "outputs": [],
   "source": [
    "species_sil=sk[sk.Species.str.contains('Silvertip' or 'silvertip')].index"
   ]
  },
  {
   "cell_type": "code",
   "execution_count": 337,
   "id": "c0ec32db",
   "metadata": {},
   "outputs": [],
   "source": [
    "sk.at[species_sil, 'Species'] = 'Silvertip shark'"
   ]
  },
  {
   "cell_type": "code",
   "execution_count": 338,
   "id": "d90e722f",
   "metadata": {},
   "outputs": [
    {
     "data": {
      "text/plain": [
       "Mako shark                                                45\n",
       "Blacktip shark                                            36\n",
       "No shark involvement                                      21\n",
       "3 m shark                                                 17\n",
       "2.4 m [8'] shark                                          16\n",
       "                                                          ..\n",
       "200 to 300 kg shark                                        1\n",
       "3.7 m to 4.6 m [12' to 15'] shark seen in the vicinity     1\n",
       "Bronze whaler or tiger shark                               1\n",
       "Possibly a white shark                                     1\n",
       "Silvertip shark                                            1\n",
       "Name: Species, Length: 1041, dtype: int64"
      ]
     },
     "execution_count": 338,
     "metadata": {},
     "output_type": "execute_result"
    }
   ],
   "source": [
    "sk.Species.value_counts()[6:]"
   ]
  },
  {
   "cell_type": "code",
   "execution_count": 339,
   "id": "53ca8f80",
   "metadata": {},
   "outputs": [],
   "source": [
    "species_wi=sk[sk.Species.str.contains('white')].index"
   ]
  },
  {
   "cell_type": "code",
   "execution_count": 340,
   "id": "122b93e2",
   "metadata": {},
   "outputs": [],
   "source": [
    "sk.at[species_wi, 'Species'] = 'White shark'"
   ]
  },
  {
   "cell_type": "code",
   "execution_count": 341,
   "id": "c59a6f7a",
   "metadata": {},
   "outputs": [
    {
     "data": {
      "text/plain": [
       "Mako shark                                                 45\n",
       "Blacktip shark                                             36\n",
       "No shark involvement                                       21\n",
       "3 m shark                                                  17\n",
       "2.4 m [8'] shark                                           16\n",
       "                                                           ..\n",
       "Lemon shark, 2.1  m to 2.4 m [7' to 8']                     1\n",
       "0.9 m [3'] shark,  probably a blacktip or spinner shark     1\n",
       "Shark involvement  questionable                             1\n",
       "Shortfin mako shark, 3 m to 3.4 m [10' to 11']              1\n",
       "Silvertip shark                                             1\n",
       "Name: Species, Length: 898, dtype: int64"
      ]
     },
     "execution_count": 341,
     "metadata": {},
     "output_type": "execute_result"
    }
   ],
   "source": [
    "sk.Species.value_counts()[6:]"
   ]
  },
  {
   "cell_type": "code",
   "execution_count": 342,
   "id": "19e6cc79",
   "metadata": {},
   "outputs": [],
   "source": [
    "species_nosk=sk[sk.Species.str.contains('No shark involvement' or 'no shark involvement' or 'Shark involvement  questionable  ' or 'Shark involvement  questionable' or 'questionable')].index"
   ]
  },
  {
   "cell_type": "code",
   "execution_count": 343,
   "id": "cc4df38c",
   "metadata": {},
   "outputs": [],
   "source": [
    "sk.drop(species_nosk,inplace=True)"
   ]
  },
  {
   "cell_type": "code",
   "execution_count": 344,
   "id": "a21570c9",
   "metadata": {},
   "outputs": [
    {
     "data": {
      "text/plain": [
       "Mako shark                                                 45\n",
       "Blacktip shark                                             36\n",
       "3 m shark                                                  17\n",
       "2.4 m [8'] shark                                           16\n",
       "3.7 m [12'] shark                                          15\n",
       "                                                           ..\n",
       "Lemon shark, 2.1  m to 2.4 m [7' to 8']                     1\n",
       "0.9 m [3'] shark,  probably a blacktip or spinner shark     1\n",
       "Shark involvement  questionable                             1\n",
       "Shortfin mako shark, 3 m to 3.4 m [10' to 11']              1\n",
       "Silvertip shark                                             1\n",
       "Name: Species, Length: 897, dtype: int64"
      ]
     },
     "execution_count": 344,
     "metadata": {},
     "output_type": "execute_result"
    }
   ],
   "source": [
    "sk.Species.value_counts()[6:]"
   ]
  },
  {
   "cell_type": "code",
   "execution_count": 345,
   "id": "49b4f5c1",
   "metadata": {},
   "outputs": [],
   "source": [
    "sk.Species.replace({\"Shark involvement  questionable\":'erase'}, inplace=True)"
   ]
  },
  {
   "cell_type": "code",
   "execution_count": 346,
   "id": "586958c8",
   "metadata": {},
   "outputs": [
    {
     "data": {
      "text/plain": [
       "Mako shark                                                 45\n",
       "Blacktip shark                                             36\n",
       "3 m shark                                                  17\n",
       "2.4 m [8'] shark                                           16\n",
       "3.7 m [12'] shark                                          15\n",
       "                                                           ..\n",
       "Lemon shark, 2.1  m to 2.4 m [7' to 8']                     1\n",
       "0.9 m [3'] shark,  probably a blacktip or spinner shark     1\n",
       "erase                                                       1\n",
       "Shortfin mako shark, 3 m to 3.4 m [10' to 11']              1\n",
       "Silvertip shark                                             1\n",
       "Name: Species, Length: 897, dtype: int64"
      ]
     },
     "execution_count": 346,
     "metadata": {},
     "output_type": "execute_result"
    }
   ],
   "source": [
    "sk.Species.value_counts()[6:]"
   ]
  },
  {
   "cell_type": "code",
   "execution_count": 347,
   "id": "6f2c4fea",
   "metadata": {},
   "outputs": [],
   "source": [
    "species_nosk=sk[sk.Species.str.contains('erase')].index"
   ]
  },
  {
   "cell_type": "code",
   "execution_count": 348,
   "id": "d7a529aa",
   "metadata": {},
   "outputs": [],
   "source": [
    "sk.drop(species_nosk,inplace=True)"
   ]
  },
  {
   "cell_type": "code",
   "execution_count": 349,
   "id": "1db88787",
   "metadata": {},
   "outputs": [
    {
     "data": {
      "text/plain": [
       "Mako shark                                                 45\n",
       "Blacktip shark                                             36\n",
       "3 m shark                                                  17\n",
       "2.4 m [8'] shark                                           16\n",
       "3.7 m [12'] shark                                          15\n",
       "                                                           ..\n",
       "1.8 m [6'] grey-colored shark                               1\n",
       "Lemon shark, 2.1  m to 2.4 m [7' to 8']                     1\n",
       "0.9 m [3'] shark,  probably a blacktip or spinner shark     1\n",
       "Shortfin mako shark, 3 m to 3.4 m [10' to 11']              1\n",
       "Silvertip shark                                             1\n",
       "Name: Species, Length: 896, dtype: int64"
      ]
     },
     "execution_count": 349,
     "metadata": {},
     "output_type": "execute_result"
    }
   ],
   "source": [
    "sk.Species.value_counts()[6:]"
   ]
  },
  {
   "cell_type": "code",
   "execution_count": 350,
   "id": "07c0aa77",
   "metadata": {},
   "outputs": [],
   "source": [
    "species_lem=sk[sk.Species.str.contains('Lemon' or 'lemon')].index"
   ]
  },
  {
   "cell_type": "code",
   "execution_count": 351,
   "id": "c7422b12",
   "metadata": {},
   "outputs": [],
   "source": [
    "sk.at[species_lem, 'Species'] = 'Lemon shark'"
   ]
  },
  {
   "cell_type": "code",
   "execution_count": 352,
   "id": "c0729cea",
   "metadata": {},
   "outputs": [
    {
     "data": {
      "text/plain": [
       "Mako shark                                                       45\n",
       "Blacktip shark                                                   36\n",
       "Lemon shark                                                      32\n",
       "3 m shark                                                        17\n",
       "2.4 m [8'] shark                                                 16\n",
       "                                                                 ..\n",
       "Shortfin mako shark, 3 m to 3.4 m [10' to 11']                    1\n",
       "Miami, a 60 cm blacktip  shark and two 60 cm bamboo catsharks     1\n",
       "1.3 to 1.6 m shark                                                1\n",
       "2.7 m [9']  bull shark or Caribbean reef shark                    1\n",
       "Silvertip shark                                                   1\n",
       "Name: Species, Length: 873, dtype: int64"
      ]
     },
     "execution_count": 352,
     "metadata": {},
     "output_type": "execute_result"
    }
   ],
   "source": [
    "sk.Species.value_counts()[6:]"
   ]
  },
  {
   "cell_type": "code",
   "execution_count": 353,
   "id": "3ea7a7e0",
   "metadata": {},
   "outputs": [],
   "source": [
    "species_mm=sk[sk.Species.str.contains('Mako' or 'mako' or ' mako' or 'mako ' or 'Shortfin mako')].index"
   ]
  },
  {
   "cell_type": "code",
   "execution_count": 354,
   "id": "27a794bf",
   "metadata": {},
   "outputs": [],
   "source": [
    "sk.at[species_mm, 'Species'] = 'Mako shark'"
   ]
  },
  {
   "cell_type": "code",
   "execution_count": 355,
   "id": "c17eb056",
   "metadata": {},
   "outputs": [
    {
     "data": {
      "text/plain": [
       "Mako shark                                                       45\n",
       "Blacktip shark                                                   36\n",
       "Lemon shark                                                      32\n",
       "3 m shark                                                        17\n",
       "2.4 m [8'] shark                                                 16\n",
       "                                                                 ..\n",
       "Shortfin mako shark, 3 m to 3.4 m [10' to 11']                    1\n",
       "Miami, a 60 cm blacktip  shark and two 60 cm bamboo catsharks     1\n",
       "1.3 to 1.6 m shark                                                1\n",
       "2.7 m [9']  bull shark or Caribbean reef shark                    1\n",
       "Silvertip shark                                                   1\n",
       "Name: Species, Length: 873, dtype: int64"
      ]
     },
     "execution_count": 355,
     "metadata": {},
     "output_type": "execute_result"
    }
   ],
   "source": [
    "sk.Species.value_counts()[6:]"
   ]
  },
  {
   "cell_type": "code",
   "execution_count": 356,
   "id": "aaf54ee2",
   "metadata": {},
   "outputs": [],
   "source": [
    "sk.Species.replace({\"Shortfin mako shark, 3 m to 3.4 m [10' to 11']\":'Mako Shark',\"Miami, a 60 cm blacktip  shark and two 60 cm bamboo catsharks\":'Blacktip shark',\"1.3 to 1.6 m shark\":'unknown',\"3 m shark\":'unknown',\"2.4 m [8'] shark\":'unknown',\"2.7 m [9']  bull shark or Caribbean reef shark\":'Bull shark'}, inplace=True)"
   ]
  },
  {
   "cell_type": "code",
   "execution_count": 357,
   "id": "ee74d9ee",
   "metadata": {},
   "outputs": [
    {
     "data": {
      "text/plain": [
       "12' shark                                           15\n",
       "3.7 m [12'] shark                                   15\n",
       "Blue shark                                          14\n",
       "1.2 m to 1.5 m [4' to 5'] shark                     14\n",
       "Shark involvement prior to death not confirmed      13\n",
       "                                                    ..\n",
       "Bronze whaler or tiger shark                         1\n",
       "A \"small shark\"                                      1\n",
       "Dusky shark, 12'                                     1\n",
       "Caribbean reef shark, 1.2 m to 1.5 m [4' to 5']      1\n",
       "Silvertip shark                                      1\n",
       "Name: Species, Length: 864, dtype: int64"
      ]
     },
     "execution_count": 357,
     "metadata": {},
     "output_type": "execute_result"
    }
   ],
   "source": [
    "sk.Species.value_counts()[10:]"
   ]
  },
  {
   "cell_type": "code",
   "execution_count": 358,
   "id": "22c70bc0",
   "metadata": {},
   "outputs": [],
   "source": [
    "species_ca=sk[sk.Species.str.contains('Caribbean' or 'caribbean' or 'Caribbean shark' or 'Caribbean reef shark' or 'caribbean reef shark')].index"
   ]
  },
  {
   "cell_type": "code",
   "execution_count": 359,
   "id": "cbacd7db",
   "metadata": {},
   "outputs": [],
   "source": [
    "sk.at[species_ca, 'Species'] = 'Caribbean Reef shark'"
   ]
  },
  {
   "cell_type": "code",
   "execution_count": 360,
   "id": "4ab4696a",
   "metadata": {},
   "outputs": [
    {
     "data": {
      "text/plain": [
       "12' shark                                                 15\n",
       "3.7 m [12'] shark                                         15\n",
       "Blue shark                                                14\n",
       "1.2 m to 1.5 m [4' to 5'] shark                           14\n",
       "7' shark                                                  13\n",
       "                                                          ..\n",
       "3.7 m to 4.6 m [12' to 15'] shark seen in the vicinity     1\n",
       "Bronze whaler or tiger shark                               1\n",
       "A \"small shark\"                                            1\n",
       "Dusky shark, 12'                                           1\n",
       "Silvertip shark                                            1\n",
       "Name: Species, Length: 850, dtype: int64"
      ]
     },
     "execution_count": 360,
     "metadata": {},
     "output_type": "execute_result"
    }
   ],
   "source": [
    "sk.Species.value_counts()[11:]"
   ]
  },
  {
   "cell_type": "code",
   "execution_count": 361,
   "id": "beadab55",
   "metadata": {},
   "outputs": [],
   "source": [
    "species_blue=sk[sk.Species.str.contains('Blue' or 'blue' or 'Blue shark' or 'blue shark')].index"
   ]
  },
  {
   "cell_type": "code",
   "execution_count": 362,
   "id": "c78ea115",
   "metadata": {},
   "outputs": [],
   "source": [
    "sk.at[species_blue, 'Species'] = 'Blue shark'"
   ]
  },
  {
   "cell_type": "code",
   "execution_count": 363,
   "id": "2d9e767f",
   "metadata": {},
   "outputs": [
    {
     "data": {
      "text/plain": [
       "3.7 m [12'] shark                                    15\n",
       "12' shark                                            15\n",
       "1.2 m to 1.5 m [4' to 5'] shark                      14\n",
       "\"a small shark\"                                      13\n",
       "1.5 m shark                                          13\n",
       "                                                     ..\n",
       "1.2 m [4'] spinner shark                              1\n",
       "Shark involvement not confirmed & highly unlikely     1\n",
       ">1.8 m [6'] shark                                     1\n",
       "3 m [10'], 200-kg [441-lb] bull shark                 1\n",
       "Silvertip shark                                       1\n",
       "Name: Species, Length: 825, dtype: int64"
      ]
     },
     "execution_count": 363,
     "metadata": {},
     "output_type": "execute_result"
    }
   ],
   "source": [
    "sk.Species.value_counts()[12:]"
   ]
  },
  {
   "cell_type": "code",
   "execution_count": 364,
   "id": "5157052b",
   "metadata": {},
   "outputs": [],
   "source": [
    "sk.Species.replace({\"3.7 m [12'] shark\":'unknown',\"12' shark\":'unknown',\"1.2 m to 1.5 m [4' to 5'] shark\":'unknown','''\"a small shark\"''':'unknown',\"1.5 m shark\":'unknown',\">1.8 m [6'] shark\":'unknown'}, inplace=True)"
   ]
  },
  {
   "cell_type": "code",
   "execution_count": 365,
   "id": "bbdcc78b",
   "metadata": {},
   "outputs": [
    {
     "data": {
      "text/plain": [
       "Shark involvement prior to death not confirmed            13\n",
       "7' shark                                                  13\n",
       "Bronze whaler shark                                       12\n",
       "Raggedtooth shark                                         12\n",
       "10' shark                                                 12\n",
       "                                                          ..\n",
       "Shortfin mako shark, 3 m to 3.4 m [10' to 11']             1\n",
       "3 bull sharks                                              1\n",
       "200 to 300 kg shark                                        1\n",
       "3.7 m to 4.6 m [12' to 15'] shark seen in the vicinity     1\n",
       "Silvertip shark                                            1\n",
       "Name: Species, Length: 819, dtype: int64"
      ]
     },
     "execution_count": 365,
     "metadata": {},
     "output_type": "execute_result"
    }
   ],
   "source": [
    "sk.Species.value_counts()[12:]"
   ]
  },
  {
   "cell_type": "code",
   "execution_count": 366,
   "id": "68cb1795",
   "metadata": {},
   "outputs": [
    {
     "ename": "SyntaxError",
     "evalue": "unexpected EOF while parsing (47071225.py, line 1)",
     "output_type": "error",
     "traceback": [
      "\u001b[0;36m  File \u001b[0;32m\"/var/folders/s4/79ykyqjn7f16bdl_zqjgsbzh0000gp/T/ipykernel_26603/47071225.py\"\u001b[0;36m, line \u001b[0;32m1\u001b[0m\n\u001b[0;31m    sk.Species.replace({\"7' shark\":'unknown',\u001b[0m\n\u001b[0m                                             ^\u001b[0m\n\u001b[0;31mSyntaxError\u001b[0m\u001b[0;31m:\u001b[0m unexpected EOF while parsing\n"
     ]
    }
   ],
   "source": [
    "sk.Species.replace({\"7' shark\":'unknown',"
   ]
  },
  {
   "cell_type": "markdown",
   "id": "88acf7d7",
   "metadata": {},
   "source": [
    "The copper shark (Carcharhinus brachyurus), bronze whaler, or narrowtooth shark"
   ]
  },
  {
   "cell_type": "code",
   "execution_count": 367,
   "id": "8bc6e63a",
   "metadata": {},
   "outputs": [],
   "source": [
    "species_bz=sk[sk.Species.str.contains('copper' or 'Copper' or 'bronze whaler' or 'Bronze Whaler' or 'Bronze whaler' or 'narrowtooth' or 'Narrowtooth' or 'Bronze whaler shark')].index"
   ]
  },
  {
   "cell_type": "code",
   "execution_count": 368,
   "id": "e6e9a146",
   "metadata": {},
   "outputs": [],
   "source": [
    "sk.at[species_bz, 'Species'] = 'Copper shark'"
   ]
  },
  {
   "cell_type": "code",
   "execution_count": 369,
   "id": "f87198de",
   "metadata": {},
   "outputs": [
    {
     "data": {
      "text/plain": [
       "7' shark                                                  13\n",
       "Shark involvement prior to death not confirmed            13\n",
       "Raggedtooth shark                                         12\n",
       "Bronze whaler shark                                       12\n",
       "10' shark                                                 12\n",
       "                                                          ..\n",
       "Shortfin mako shark, 3 m to 3.4 m [10' to 11']             1\n",
       "3 bull sharks                                              1\n",
       "200 to 300 kg shark                                        1\n",
       "3.7 m to 4.6 m [12' to 15'] shark seen in the vicinity     1\n",
       "Silvertip shark                                            1\n",
       "Name: Species, Length: 816, dtype: int64"
      ]
     },
     "execution_count": 369,
     "metadata": {},
     "output_type": "execute_result"
    }
   ],
   "source": [
    "sk.Species.value_counts()[12:]"
   ]
  },
  {
   "cell_type": "code",
   "execution_count": 370,
   "id": "cfe5b5af",
   "metadata": {},
   "outputs": [],
   "source": [
    "sk.Species.replace({'Bronze whaler shark':'Copper shark'}, inplace=True)"
   ]
  },
  {
   "cell_type": "code",
   "execution_count": 371,
   "id": "6a9afb9b",
   "metadata": {},
   "outputs": [
    {
     "data": {
      "text/plain": [
       "7' shark                                                  13\n",
       "Shark involvement prior to death not confirmed            13\n",
       "Raggedtooth shark                                         12\n",
       "10' shark                                                 12\n",
       "Grey nurse shark                                          11\n",
       "                                                          ..\n",
       "Shortfin mako shark, 3 m to 3.4 m [10' to 11']             1\n",
       "3 bull sharks                                              1\n",
       "200 to 300 kg shark                                        1\n",
       "3.7 m to 4.6 m [12' to 15'] shark seen in the vicinity     1\n",
       "Silvertip shark                                            1\n",
       "Name: Species, Length: 814, dtype: int64"
      ]
     },
     "execution_count": 371,
     "metadata": {},
     "output_type": "execute_result"
    }
   ],
   "source": [
    "sk.Species.value_counts()[13:]"
   ]
  },
  {
   "cell_type": "markdown",
   "id": "07a4d61a",
   "metadata": {},
   "source": [
    "The sand tiger shark (Carcharias taurus), gray nurse shark, spotted ragged-tooth shark or blue-nurse sand tiger"
   ]
  },
  {
   "cell_type": "code",
   "execution_count": 372,
   "id": "e10a2cd5",
   "metadata": {},
   "outputs": [],
   "source": [
    "sk.Species.replace({'sand tiger shark':'Sand Tiger Shark','Grey nurse shark':'Sand Tiger Shark','Raggedtooth shark':'Sand Tiger Shark','blue-nurse sand tiger':'Sand Tiger Shark','spotted ragged-tooth shark':'Sand Tiger Shark',\"7' shark\":'unknown',\"10' shark\":'unknown'}, inplace=True)"
   ]
  },
  {
   "cell_type": "code",
   "execution_count": 373,
   "id": "aa5bef78",
   "metadata": {},
   "outputs": [
    {
     "data": {
      "text/plain": [
       "Grey Reef shark                                      15\n",
       "Shark involvement prior to death not confirmed       13\n",
       "Zambesi shark                                        11\n",
       "Hammerhead shark                                     10\n",
       "1 m shark                                             9\n",
       "                                                     ..\n",
       "1.2 m [4'] spinner shark                              1\n",
       "Shark involvement not confirmed & highly unlikely     1\n",
       "3 m [10'], 200-kg [441-lb] bull shark                 1\n",
       "1.3 m [4'3\"] shark                                    1\n",
       "Silvertip shark                                       1\n",
       "Name: Species, Length: 811, dtype: int64"
      ]
     },
     "execution_count": 373,
     "metadata": {},
     "output_type": "execute_result"
    }
   ],
   "source": [
    "sk.Species.value_counts()[13:]"
   ]
  },
  {
   "cell_type": "code",
   "execution_count": 374,
   "id": "37f88e34",
   "metadata": {},
   "outputs": [],
   "source": [
    "species_err=sk[sk.Species.str.contains('Shark involvement prior to death not confirmed' or 'Shark involvement not confirmed & highly unlikely ')].index"
   ]
  },
  {
   "cell_type": "code",
   "execution_count": 375,
   "id": "fe5ed861",
   "metadata": {},
   "outputs": [],
   "source": [
    "sk.drop(species_err,inplace=True)"
   ]
  },
  {
   "cell_type": "code",
   "execution_count": 376,
   "id": "8a583634",
   "metadata": {},
   "outputs": [
    {
     "data": {
      "text/plain": [
       "Grey Reef shark                                      15\n",
       "Zambesi shark                                        11\n",
       "Hammerhead shark                                     10\n",
       "2.1 m [7'] shark                                      9\n",
       "a small shark                                         9\n",
       "                                                     ..\n",
       "1.2 m [4'] spinner shark                              1\n",
       "Shark involvement not confirmed & highly unlikely     1\n",
       "3 m [10'], 200-kg [441-lb] bull shark                 1\n",
       "1.3 m [4'3\"] shark                                    1\n",
       "Silvertip shark                                       1\n",
       "Name: Species, Length: 810, dtype: int64"
      ]
     },
     "execution_count": 376,
     "metadata": {},
     "output_type": "execute_result"
    }
   ],
   "source": [
    "sk.Species.value_counts()[13:]"
   ]
  },
  {
   "cell_type": "code",
   "execution_count": 377,
   "id": "6824a077",
   "metadata": {},
   "outputs": [
    {
     "data": {
      "text/plain": [
       "array(['White shark', 'unknown', 'Tiger shark', 'Lemon shark',\n",
       "       'Bull shark', 'Grey Reef shark', 'Invalid incident',\n",
       "       'Tawny nurse shark, 2m', 'Juvenile bull shark', 'Wobbegong shark',\n",
       "       '3.5 m shark', '1.8 m shark', 'Blacktip shark',\n",
       "       'Possibly a wobbegong',\n",
       "       'Injury believed caused by an eel, not a shark',\n",
       "       'Galapagos shark?', '2m shark', 'small shark',\n",
       "       'Juvenile nurse shark', 'Nurse shark',\n",
       "       'Some drowned but other may have been killed by blue sharks',\n",
       "       'Cookiecutter shark', 'Spinner shark, 4 to 5 feet', \"8' shark\",\n",
       "       'Death may have been due to drowning', 'Porbeagle, 1.5 m',\n",
       "       \"5' to 6' shark\", 'Shark involvement questionable',\n",
       "       'Possibly a juvenile blacktip shark', 'A small shark',\n",
       "       \"Sandtiger shark  2'\", 'Blue shark', '\"A small shark\"',\n",
       "       'No shark invovlement ', 'Seven-gill shark',\n",
       "       '3m shark, probably a smooth hound', \"9' shark\",\n",
       "       'Shark involvement highly doubtful',\n",
       "       'No shark invovlement - it ws a publicity stunt',\n",
       "       'Caribbean Reef shark', 'a small shark',\n",
       "       'Broadnose sevengill shark, 1.5 m', \" 6' to 8' shark\",\n",
       "       'reef shark, 1m', 'Angel shark', 'dogfish shark',\n",
       "       'Tawny nurse shark', \"3' to 5' shark\",\n",
       "       \"Said to involve an 8' shark but more likely damage caused by debris\",\n",
       "       '3+ m shark', 'Mako shark', 'Bronze whaler sharks x 3',\n",
       "       'Bronze whaler', 'Sandtiger shark', \"Reef shark, 5'\",\n",
       "       \"Silky shark, 6.5'\", \"Bronze whaler shark, 6'\", 'Galapagos shark',\n",
       "       \"Spinner shark, 7'\", \"Spinner shark, 5'\", 'Hammerhead sp.',\n",
       "       'juvenile shark', 'Hammerhead shark', 'Hammerhead shark.',\n",
       "       \"4' shark?\", \"Hammerhead shark. 6' to 7'\",\n",
       "       \"Blacktip or spinner shark, 4'\",\n",
       "       \"Thought to involve a 3' to 4' shark, but shark involvement not confirmed\",\n",
       "       'Bronze whaler shark, 1.5m', 'Shark involvement not cofirmed',\n",
       "       \"6' to 7' shark\", 'small nurse shark', '1m to 1.2 m shark',\n",
       "       '3- to 4-foot shark', 'Blacktip Reef shark ', '3.5 to 4 m shark',\n",
       "       '2 m to  3 m shark', '5 m shark', 'Raggedtooth shark, 1.3 m',\n",
       "       'Shark involvement prior to death still to be determined',\n",
       "       'Shark involvement not confirmed & highly unlikely',\n",
       "       'Goblin shark', \"2' shark\", \"12' to 14' shark\", '1 m shark',\n",
       "       \"8' to 10' shark\", 'Spinner shark',\n",
       "       'Spinner shark or blacktip shark', \"4' to 6' shark\", 'reef shark',\n",
       "       \"4' tp 5' shark\", 'Possibly juvenile tiger shark',\n",
       "       '1.8 metre shark', \"6' to 8' shark\", \" Sandbar shark, 3' to 4'\",\n",
       "       '3m shark', ' Tawney nurse shark, 1m', 'Cow shark', 'reef shark?',\n",
       "       ' Raggedtooth shark, 2m', 'Blacktip or spinner shark?',\n",
       "       'Blacktip reef shark ', '7-gill shark?', '1m shark',\n",
       "       '7-gill shark', 'Reported to involve a bull shark',\n",
       "       'Blacktip reef shark, 1m', 'Thought to involve a bull shark',\n",
       "       \"Whitetip reef shark, 4' to 6'\", 'Small bull shark',\n",
       "       'Salmon shark', 'Grey nurse shark, 3m',\n",
       "       'Possibly a blacktip reef shark',\n",
       "       'shark involvement not confirmed', 'Raggedtooth shark, 1.5 m',\n",
       "       'Bronze whaler shark, 2.5m', '\"small sharks\"',\n",
       "       'Bronze whaler shark, 3m', '2.5 m shark', \"2' to 3' shark\",\n",
       "       'Possibly a 3 m bull shark', \"3.5' to 4' shark\",\n",
       "       \"Porbeagle shark, 7'\", '4.5 m shark',\n",
       "       'Salmon shark suspected, but unlikely', \"14' to 18'shark\",\n",
       "       \"15' shark\", 'possibly a bull shark', 'a small reef shark',\n",
       "       'small blacktip shark?', '18\" to 24\" shark',\n",
       "       'Possibly a bull shark', \"Possibly a 5' to 6' bull shark\",\n",
       "       'Tawny nurse shark, 40cm', 'Sand Tiger Shark',\n",
       "       'Allegedly a 4 m tiger shark', \"7' to 8' shark \",\n",
       "       'Port Jackson shark, 1m', \"10' to 12' shark\", '2 to 2.5 m shark',\n",
       "       \"6' shark, possibly a blactip or spinner shark\",\n",
       "       \"Possibly a 5' to 6' sandtiger shark\", '4 m shark',\n",
       "       'Sevengill shark', 'Zambesi shark', \"Sandbar shark, 8'\",\n",
       "       'reef shark, 1.5m', \"1' to 2' shark\",\n",
       "       'possibly a bronze whaler shark', '3 m to 4 m shark',\n",
       "       \"Porbeagle shark, 8' \", \"Possibly a 6' lemon shark\",\n",
       "       'Possibly a small blacktip shark', \"Sandtiger shark, 4' to 5'\",\n",
       "       'A small spinner shark', '20 to 30kg shark', \"14' shark\",\n",
       "       'Possibly a blue shark', '2 m to 3 m shark', \"Spinner shark, 6'\",\n",
       "       'Thought to involve a juvenile hammerhead shark',\n",
       "       'Whitetip reef shark, 1m', 'Zambesi shark, 2m ',\n",
       "       \"Sandtiger shark, 8'\", 'Thresher shark', 'Spurdog',\n",
       "       'Thought to involve a Bronze whale shark, 2m',\n",
       "       'Shark involvement probable, but not confirmed', '80 kg shark',\n",
       "       \"5' to 8' shark\", 'blacktip or spinner shark',\n",
       "       'Bronze whaler shark?', 'Blacktip reef shark pup',\n",
       "       'Thought to involve a cookie cutter shark', '2.6 m shark',\n",
       "       'Dusky shark, 2m', 'Broadnose sevengill shark',\n",
       "       'Raggedtooth shark, 2m', 'Zambesi shark?', 'Copper shark',\n",
       "       ' reef shark, 1.8m', \"+3' shark\", \"2' to 3' juvenile shark\",\n",
       "       \"3'  shark\", \"2'  shark\", \"2' to 3' reef shark\",\n",
       "       'Starry smoothhound shark, 1m', \"4.5 to 5' shark\", 'Basking shark',\n",
       "       '2 small bull sharks',\n",
       "       'Reported by media as shark attack, but shark involvement prior to death was not confirmed',\n",
       "       'Shark involvement not confirmed; thought to be a barracuda bite',\n",
       "       \"1.5' to 2' shark\", \"2.5' shark\",\n",
       "       'A bull shark, according to some of the divers on the boat',\n",
       "       \"Goblin shark, 4.2'\", 'Bronze whaler shark, 4m',\n",
       "       'Possibly a hammerhead shark', 'Not a shark attack; it was a hoax',\n",
       "       '2.27 m shark', '1.5 to 2 m shark', 'Gray reef shark',\n",
       "       \"9.5' shark?\", 'Possibly a spinner shark', 'Sand shark',\n",
       "       \"Possibly a 6' bull shark\", ' ', \"Possibly a 10' bull shark\",\n",
       "       'Bronze whaler shark, 1.5 m ',\n",
       "       \"3' small spotted catshark, Scyliorhinus canicula\",\n",
       "       'A 10-year-old 94-pound pregnant blacktip reef shark',\n",
       "       'Lesser spotted dogfish, Scyliorhinus canicula, less than 80 cm in length',\n",
       "       '2.4 m shark', '24\" to 30\" shark',\n",
       "       \"6' to 8' shark, possibly a tiger shark\", '2.5 to 3 m shark',\n",
       "       '2 to 3 m shark', 'Raggedtooth shark, 150-kg', \"1' to 4' shark\",\n",
       "       \"3' to 3.5' shark\", 'small catsharks',\n",
       "       'Thought to involve a mako shark, but possibly a sea lion',\n",
       "       'Angel shark, 1.2m ',\n",
       "       'Shark involvement not confirmed, injury may have been caused by a bluefish',\n",
       "       'Bull or tiger shark', \"5' to 6' spinner or bull shark\",\n",
       "       '1.8 m blacktip \"reef\" shark',\n",
       "       \"Possibly a 1' to 3' blacktip or spinner shark\",\n",
       "       'Bronze whaler shark, a  juvenile ',\n",
       "       'Raggedtooth shark, 2.5 m to 3 m ', '3 m, 600-kg shark',\n",
       "       'Bronze whaler shark, 2 m', \"5' to 7' shark\", \"12' to 18' shark\",\n",
       "       'Said to involve a 1.5 m shark', 'Whitetip reef shark',\n",
       "       'Raggedtooth shark, 2.5m ', \"2 m [6.75'] shark, 200-kg shark T\",\n",
       "       'Possibly a sandbar shark or small blacktip shark',\n",
       "       \"3.5 m [11.5']shark\", \"[4.5' to 5'] shark\", \"[4' to 5']\",\n",
       "       \"1.8 m [6'] bull shark\",\n",
       "       'On 8/13/2005 anglers from New Zealand caught a 2.8 m [9\\'3\"], 140-kg [309-lb] shark at the same spot. It was believed this was the same shark that killed Alysha',\n",
       "       'Unknown, but it was reported that a shark tooth was recovered from the wound',\n",
       "       '\"small shark\"', '18\" to 36\" shark', \"1.8 m [6'] blacktip shark\",\n",
       "       'small hammerhead shark', \"4 m [13'] shark\",\n",
       "       \"Sandtiger shark, 2.1 m [7'] \",\n",
       "       \"Bronze whaler shark, 4.3 m [14'] \",\n",
       "       \"Bronze whaler shark, 2 m to 3 m [6.75' to 10']  \",\n",
       "       \"2.5 m [8.25'] bull shark\", \"Bronze whaler shark, 2.4 m [8'] \",\n",
       "       \"Raggedtooth shark, 1.5 to 2 m [5' to 6.75']\",\n",
       "       'Thought to involve a 2.5 m bull or tiger shark',\n",
       "       \"Longfin mako shark, 3.5 m [11.5'], 350-kg [772-lb] \",\n",
       "       '2 sharks, 4.5 m & 3 m ', '\"black tipped\" shark',\n",
       "       \"Bronze whaler shark, 2.5 m [8.25'] \",\n",
       "       \"0.9 m to 1.5 m [3' to 5'] shark\",\n",
       "       \"2.4 m to 3.7 m [8' to 12'] shark\", 'small sharks',\n",
       "       \"1.2 m [4'] bull shark\", 'bull shark',\n",
       "       \"Bronze whaler shark, 1.5 m [5'] \", \"2 m [6.75'] sevengill  shark\",\n",
       "       '60 cm [23.6\"] blind or brown shark',\n",
       "       'Possibily a  1.5 to 2 m sandtiger shark',\n",
       "       'Shark involvement doubtful', \"Raggedtooth shark, 3.5 m [11.5'] \",\n",
       "       'Shortfin mako shark',\n",
       "       \"1.5 m [5'] shark, either a bronze whaler or a grey nurse shark\",\n",
       "       '1.2 m [4\\'] \"grey-colored shark\"', '2 m cow shark',\n",
       "       'Unidentified species', \"1.5 m to 1.8 m [5' to 6'] shark\",\n",
       "       \"2.1 m  [7'] bull shark\", \"8' great hammerhead shark\",\n",
       "       \"106 cm [3.5']  shark\", '\\x93small brown shark\\x94',\n",
       "       \"3.7 m to 4.3 m [12' to 14'] shark\", '\"sand shark\"',\n",
       "       \"1.8 m [6'] reef shark - or a 2.1 m to 2.4 m [7' to 8'] grey-colored shark\",\n",
       "       \"0.9 m to 1.2 m [3' to 4'] shark\", 'A \\x93small\\x94 shark',\n",
       "       '15 cm to 20 cm [6\" to 8\"] bite diameter just below left knee',\n",
       "       \"60 cm [2'] captive shark\", 'Species unidentified',\n",
       "       \"Thought to involve a 2 m [6.75'] grey nurse shark\",\n",
       "       \"Thought to involve a >2 m [6.75'] bull shark\",\n",
       "       'Reported to involve a hammerhead shark',\n",
       "       'Shark involvement not confirmed, injury may be due to a stingray',\n",
       "       \"2.4 m to 3 m [8' to 10'] grey colored shark\",\n",
       "       'Possibly a bull shark or tiger shark',\n",
       "       'Blacktip or spinner shark', \"3.5' to 4.5' shark\",\n",
       "       \"1.2 m [4'] blacktip shark\", \"3 m to 3.7 m [10' to 12'] shark\",\n",
       "       \"1' to 2' hammerhead or bonnethed shark\",\n",
       "       \"0.9 m  to 1.2 m [3' to 4'] shark\", \"Sandtiger shark, 3 m [10'] \",\n",
       "       \"1.2 m [4'] blacktip or sandbar shark\",\n",
       "       \"1.2 m to 1.5 m [4' to 5'] shark, possibly a bull shark\",\n",
       "       \"0.9 m to 1.2 m [3' to 4'] shark; Tooth fragment recovered from hand\",\n",
       "       '\\xa0 ', '1 m  shark', \"3' blacktip shark\",\n",
       "       \"2.1 m to 2.4 m [7' to 8'] shark\", \"0.9 m [3'] shark\",\n",
       "       \"Spinner shark, 3' to 4' \",\n",
       "       'Shark involvement prior to death unconfired',\n",
       "       '1.5 m [5\\'] \"whaler shark\"',\n",
       "       'C. leucas tooth fragment recovered from kayak', 'Unidentified',\n",
       "       \"2' to 3.5' shark\", \"12' sandtiger shark\", \"3 m [10'] bull shark\",\n",
       "       'Possibly  a blacktip or spinner shark',\n",
       "       'Possibly a juvenile blacktip or spinner shark',\n",
       "       \"Possibly a 1.5 m [5'] blacktip or spinner shark\",\n",
       "       \"Spinner shark, 1.2 m to 1.5 m [4' to 5'] \",\n",
       "       \"Bronze whaler shark, 2.5 m [8.25']  k\", \"2 m [6.75'] shark\",\n",
       "       '1.8 m to 2.4 m [6\\' to 8\\'] \"black finned shark\"',\n",
       "       \"6 m [20'] shark\", \"Porbeagle shark, 3 m [10']rk\",\n",
       "       \"1.2 m to 1.8 m [4' to 6'] shark\", \"2.1 to 2.4 m [7' to 8'] shark\",\n",
       "       '100-kg [221-lb] dead blue shark',\n",
       "       \"60 cm to 90 cm [2' to 3'] shark\",\n",
       "       'Thought to involve a Zambesi shark',\n",
       "       \"A 2' shark was seen in the area by witnesses\",\n",
       "       \"Thought to involve a 2.7 m [9'], 400-lb bull shark\",\n",
       "       'Shark involvement  not confirmed',\n",
       "       \"1.8 m [6'] grey-colored shark\",\n",
       "       \"0.9 m [3'] shark,  probably a blacktip or spinner shark\",\n",
       "       \"2 m to 2.5 m [6.75'  to 8.25'] shark\",\n",
       "       \"Shortfin mako shark, 3 m to 3.4 m [10' to 11'] \", '3 bull sharks',\n",
       "       '200 to 300 kg shark',\n",
       "       \"3.7 m to 4.6 m [12' to 15'] shark seen in the vicinity\",\n",
       "       'Bronze whaler or tiger shark', 'A \"small shark\"',\n",
       "       \"Dusky shark, 12' \", \"4.5' to 5' shark\",\n",
       "       'Sandtiger shark, 2 m, male ', \"Raggedtooth shark, 1.2 m [4'] \",\n",
       "       \"1.8 m [6'] shark, possibly a blacktip\", \"5' spinner shark\",\n",
       "       '1.7 m shark', 'Small dusky shark or blackfin shark',\n",
       "       'sandtiger shark',\n",
       "       'Shark involvement prior to death suspected but not confirmed',\n",
       "       'Possibly a blacktip shark', 'Soupfin shark',\n",
       "       'small blacktip shark', '\"juvenile shark\"',\n",
       "       \"1.2 m [4'] shark (spinner shark?)\", 'Possibly a sand shark',\n",
       "       \"1.8 m to 2.1 m [6' to 7'] shark\", '\"a young shark\"',\n",
       "       \"1.8 m to 2.1 m [6' to 7'] hammerhead shark\",\n",
       "       \"60 cm to 90 cm [2' to 3'] blacktip or spinner shark\",\n",
       "       'nurse shark', '\"reef shark\"', 'Possibly a tiger shark',\n",
       "       \"1.2 m to 1.5 m [4' to 5']   shark\",\n",
       "       \"1.5 to 1.8 m [5' to 6'] shark\",\n",
       "       \"3 m to 3.7 m [10' to 12'] bull shark\", '\"sand\" shark',\n",
       "       \"Two 1.2 m to 1.5 m [4' to 5'] sharks\",\n",
       "       'Though to involve a tiger shark', 'Bronze whaler shark, 2 m ',\n",
       "       'Leopard shark', \"Raggedtooth shark, 2.7 m [9'] \",\n",
       "       \"2.7 m [9'] shark\", 'Thought to involve a small sand shark',\n",
       "       'Small shark', \"3 to 3.5 m [10' to 11.5'] bull shark\",\n",
       "       \"1.2 m [4'] spinner shark\", \"2.1 m [7'] shark\",\n",
       "       \"3 m [10'], 200-kg [441-lb] bull shark\", '1.3 m [4\\'3\"] shark',\n",
       "       \"On 11-Jan-1994, his remains washed ashore. A 2.4 m [8'] tiger shark thought to be involved\",\n",
       "       \"1.8 m to 2.4 m [6' to 8'] shark, tooth fragments recovered \",\n",
       "       'Thought to involve a tiger shark', \"6' to 7' blacktip shark\",\n",
       "       '3 m hammerhead shark', 'Unidentified shark', '>2 m shark',\n",
       "       'Bronze whaler shark, 3 m', \"5 m [16.5'] shark\",\n",
       "       '1.8 m grey shark', \"Bronze whaler shark, 2.3 m [7.5'] \",\n",
       "       \"Zambesi shark, 1.7 m [5.5'] \",\n",
       "       \"Possibly a 1.5 m [5'] blacktip shark\",\n",
       "       \"3 m [10'], 270- kg [595-lb] shark\", 'sand shark',\n",
       "       \"2.1 m [7'], 140-lb reef shark\", \"2.7 m [9'] bull or lemon shark\",\n",
       "       '170-kg, 2.8 m shark', \"7' female shark\",\n",
       "       '\"Shark had a very large girth\"', 'Grey nurse shark, 2 m',\n",
       "       \"1.8 m [6'] shark \", \"4' spinner shark\",\n",
       "       \"1.8 m to 2.4 m [6' to 8'] shark\",\n",
       "       'Shark involvement prior to death could not be determined',\n",
       "       '6 m, 600-kg shark', '2 m hammerhead',\n",
       "       \"Two sharks seen in vicinity: 2.4 m & 4.25 m  [8' & 14'] TL\",\n",
       "       '2 m shark, possibly a bronze whaler',\n",
       "       'Shark involvement suspected but not confirmed', '150-lb shark',\n",
       "       'Sandbar shark', \"Bronze whaler shark, 3 m [10'] \",\n",
       "       \"1.8 m [6'] sandtiger shark\", \"3 m [10'] gaffed shark\",\n",
       "       \"1.8 m to 2.4 m [6' to 8'] hammerhead shark\", \"7' silvertip shark\",\n",
       "       '2 m to 2.5 m shark', 'Sand shark?',\n",
       "       \"1.5 m to 2 m [5' to 6.75'] shark\", 'Raggedtooth shark, 2 m ',\n",
       "       '1 m \"grey-colored\" shark',\n",
       "       'Zambezi shark (tooth fragments recovered)', '6 m shark',\n",
       "       '40 to 50 sharks attacked survivors in the water',\n",
       "       \"1.5 m [5'] blacktip shark\", '4.3 m shark',\n",
       "       'Bronze whaler shark, 2 m to 3 m ',\n",
       "       'Doubtful / Unconfirmed attack / Unable to verify in local records',\n",
       "       \"Raggedtooth shark, 2.5 m [8.25'] \",\n",
       "       \"1.8 m to 2.1 m [6' to 7'] spinner or blacktip shark\",\n",
       "       'Raggedtooth shark, 1.96 m, 140-kg ', '1.6 m shark',\n",
       "       \"1.2 m [4'] dusky shark\", '>1 m shark',\n",
       "       \"Raggedtooth shark, 2 m [6.75'] \", 'Bronze whaler shark, 3.5 m ',\n",
       "       \"2 m to 2.5 m [6.75'  to 8.25'] sixgill or sevengill shark\",\n",
       "       \"6', 100-lb shark\", '1.8 m silky shark',\n",
       "       'Possibly a small hammerhead shark', '30-kg [66-lb] shark',\n",
       "       \"1.5 m [5'] dusky shark\",\n",
       "       'Shark involvement not confirmed; officials considered barracua',\n",
       "       'Hammerhead shark?+O2356', 'small blue shark',\n",
       "       'Raggedtooth shark ', \"1.2 m to 1.5 m [4' to 5'] hammerhead shark\",\n",
       "       \"2.5 m [8.25'] shark\", 'Raggedtooth shark, 56-kg [123-lb] ',\n",
       "       \" 1.5 m [5'] dusky shark\", 'Raggedtooth shark, 1 m ',\n",
       "       'Raggedtooth shark, >1 m ', '.5 m shark', \"4.5' shark\",\n",
       "       \"6' to 8' bull shark\", \"3 m to 4 m [10' to 13'] shark\",\n",
       "       \"3.5' hammerhead shark\", \"6' blacktip shark\",\n",
       "       \"Raggedtooth shark, 1.5 m [5'] (tooth fragment recovered)\",\n",
       "       \"1.8 m [6'] Zambezi shark\",\n",
       "       \"2.1 m [7'] shark, possibly a spinner shark\",\n",
       "       'Reported as a shark attack, the story was a hoax',\n",
       "       '1.2 m to 1.5 m [4\\' to 5\\'] \"reef shark\"',\n",
       "       '2.1 m [7\\'] shark with \"a very flat head\\x94 that had followed the boat for 3 days',\n",
       "       'Said to involve a tiger shark or a hammerhead shark',\n",
       "       \"1.8 m [6'] shark, species identity questionable\",\n",
       "       'Shark involvement prior to death remains unconfirmed',\n",
       "       '\"sandshark\"', \"Possibly a  1.8 m [6'] Zambezi shark\",\n",
       "       '\"gray shark\"', \"13', 400-lb thresher shark\",\n",
       "       \"1.2 m to 1.5 m [4' to 5'] bull, sandbar or dusky shark\",\n",
       "       'C. maculpinnis or C. limbatus',\n",
       "       'Juvenile dusky or blacktip shark', '1 m hammerhead shark',\n",
       "       \"3.5 m [11.5'] shark\", \"4' to 8' shark\",\n",
       "       \"1.5 m [5'] hammerhead shark\", '2.2 m shark',\n",
       "       '2 m [6\\'9\"] Zambesi shark', 'Raggedtooth shark, 2 m [6\\'9\"] ',\n",
       "       \"1.8 m [6'] dogfish\",\n",
       "       \"Raggedtooth shark, 50-kg [110-lb], 2 m [6.75'] gaffed \",\n",
       "       '2 m [6\\'9\"] shark', '270 kg shark',\n",
       "       'Thought to involve a blacktip shark',\n",
       "       \"1.5 to 2 m [5' to 6.75'] shark\",\n",
       "       \"2.1 m [7'] lemon shark or bull shark\", \"2.7 m  [9'] shark\",\n",
       "       'Whale shark', \"Grey nurse shark, 10' \", 'Juvenile dusky shark',\n",
       "       'Shark involvement unconfirmed', \"2.4 m [8'] whaler shark\",\n",
       "       \"1.5 m [5']  shark\", \"Carpet shark, 10' \",\n",
       "       'Copper shark, 50-kg [110-b] ', \"8' blue shark\",\n",
       "       \"Shortfin mako shark, 2.3 m [7.5'] \", \"small sharks'\",\n",
       "       \"3.7 m [12'] sharks\", \"Raggedtooth shark, 1.5 m [5'] \",\n",
       "       \"Bronze whaler shark, 4' \", \"7' to 8' bull shark\",\n",
       "       \"1.5 m to 1.8 m [5' to 6']  blacktip shark\",\n",
       "       '2 m shark, possibly a dusky or blacktip shark',\n",
       "       \"1.2 m to 1.8 m [4' to 6'] shark observed in area\",\n",
       "       \"Bronze whaler shark, 10' \", '1.5 m grey reef shark',\n",
       "       \"1.8 m [6'] grey reef shark\", '1.5 m to 2 m shark',\n",
       "       \"Grey nurse shark, 11'\", '3.6 m  porbeagle shark',\n",
       "       '1.8 to 2 m C. albimarginatus', '\"Dog shark\"', \"7.5' shark\",\n",
       "       'Raggedtooth shark, 2 m [6\\'9\"], 5-year-old, captive female ',\n",
       "       'Carpet shark', \">2.4 m [8'] shark\",\n",
       "       'Considered a \"Doubtful\" incident',\n",
       "       \"2 scalloped hammerhead sharks, 1.5 m & 1.8 m [5' & 6']\",\n",
       "       '90-kg \"blackfin\" shark', 'a small hammerhead shark',\n",
       "       \"4m [13'] shark\", 'Not authenticated', \"2.7 m [9'] silky shark\",\n",
       "       \"Bronze whaler shark, 1.8 m [6'] \",\n",
       "       \"1.5 m to 1.8m [5' to 6'] shark\", \"5' blue shark\",\n",
       "       \"1.5 m to 1.8 m [5' to 6'] sandbar shark\",\n",
       "       \"2.1 m [7'] sandtiger shark\", \"Grey nurse shark, 1.5 m [5'] \",\n",
       "       \"Grey nurse shark, 1.5 m [5']\",\n",
       "       \"Bronze whaler shark, 2.1 m [7'], a tooth was embedded in the speargun \",\n",
       "       'A pack of 6 sharks', \"1.5 m to 2.1 m  [5' to 7'] shark\",\n",
       "       'Spinner or blacktip sharks',\n",
       "       \"Local authorities speculated that the water was too cold for sharks, but a 2.1 m [7'], 200-lb pregnant sandbar shark was caught next day\",\n",
       "       \"1.2 m [4'] hammerhead shark\",\n",
       "       \"1.5 m to 1.8 m [5' to 6'] Zambesi shark\",\n",
       "       \"76 cm [2.5'] carpet shark\", '1.8 m to 2 m [6\\' to 6\\'9\"] shark',\n",
       "       \"1.8 m [6'] carpet shark\", \"4.6 m [15'] shark\",\n",
       "       \"Grey nurse shark, 2.4 m [8'] \", \"1.8 m [6'], 180-lb shark\",\n",
       "       '2 sharks involved', '300-kg [662-lb] shark',\n",
       "       \"1.8 m [6'], 136-kg [300-lb] shark \", \"4.9 m [16'] whaler\",\n",
       "       \"1.5 m to 2.1 m [5' to 7'] shark, possibly a mako shark\",\n",
       "       \"Grey nurse shark, 1.8 m [6']\", \"1.8 to 2.4 m [6' to 8'] shark\",\n",
       "       \"Less than 1.2 m [4']\", \"1.7 m [5.5'] shark\",\n",
       "       \"2.1 m to 2.4 m  [7' to 8'] shark\", \"Zambesi shark, 1.8 m [6'] \",\n",
       "       \"1.8 m [6']  shark\", \"4.3 m [14'], 1000-lb shark\",\n",
       "       'Dusky shark, 1 m ', '300- to 400-lb Zambesi shark',\n",
       "       'Possibly a broadnose 7-gill shark', \">1.2 m [4'] tiger shark\",\n",
       "       \"Silky shark, 1.9 m [6.5']\",\n",
       "       'Dooley believed his Injury was caused by stingray (Dasyatidae family)',\n",
       "       '500-lb shark', \"5.5 m [18'] shark\", '8 sharks',\n",
       "       'Hand found in gut of 2.9 m to 3.3 m [9\\'7\" to 10\\'11\"] Galapagos shark, C. galapagensis',\n",
       "       \"1.8 m to 2.4 m  [6' to 8'] shark\",\n",
       "       \"3.7 to 4.5 m [12' to 15'] shark seen in vicinity\",\n",
       "       'Tooth fragments of \\x93whaler\\x94 shark were recovered, a bull shark, according to Edwards',\n",
       "       '193-lb shark', \"Grey nurse shark, 1.8 m [6'] \", '<1.5 m shark',\n",
       "       'Zambesi shark, 2 m [6\\'9\"] ',\n",
       "       '2 m [6\\'9\"], 87.5-kg [193-lb]  shark', \"3 m [10'] blue whaler\",\n",
       "       '\"A long thin brown-colored shark\"',\n",
       "       \"Horn shar,k Heterodontus francisci, 1.2 m [4'] \",\n",
       "       \"4.3 m [14'] shark\", 'Unknown', \"2.7 m to 3 m [9' to 10'] sharks\",\n",
       "       'Possibly a bronze whaler shark',\n",
       "       \"Bronze whaler shark, 3.7 m [12'] \", \"Zambesi shark, 1.2 m [4'] \",\n",
       "       \"4.9 m [16']shark\", \"Bronze whaler shark, 4.6 m [15'] \",\n",
       "       \"1.2 m  [4'] shark\", '60 cm  shark ',\n",
       "       \"Bronze whaler shark,  3m [10'] \",\n",
       "       'Said to involve a 4.9 m [16\\'] \"red shark\"',\n",
       "       \" Grey nurse shark,  3 m [10'] \",\n",
       "       \"Bronze whaler shark, 2.1 m [7'] shark\",\n",
       "       \"Said to involve a Grey nurse shark 3.7 m [12'] \", '36\"  shark',\n",
       "       \"Next morning a 3 m [10'] shark was caught that had Andrews' leg in its gut\",\n",
       "       \"Two shark's teeth recovered from canoe\",\n",
       "       \"1.5 m to 1.8 m  [5' to 6'] shark\", '43\" shark', \"2.7 m [9']shark\",\n",
       "       'Hammerhead shark, 500-llb ',\n",
       "       '2 m  \"yellow belly\" captive shark. Shark destroyed by aquarium staff next day',\n",
       "       ' \"gummy\" shark (Rhizoprionodon or Loxodon) 1.2 m [4\\']',\n",
       "       \"Grey nurse shark, 2,7 m [9'], 200-lb \",\n",
       "       \"Bronze whaler shark, 2.4 m [8'] Identified by Clyde Buttery\",\n",
       "       'Zambesi shark, 4\\'9\"', '2\\' \"banjo shark\"',\n",
       "       \"2.1 m [7'], 90-kg shark\", \"Grey nurse shark, 2.7 m [9'] \",\n",
       "       \"Hammerhead shark, 1.8 m [6'] \",\n",
       "       \"Six Zambesi sharks seen to 1.5 m [5'] in length\", '> 3 m shark',\n",
       "       'Grey nurse shark, 1m ', '1.4 m [4\\'6\"] blacktip shark',\n",
       "       \"2.4 m [8'], 600-lb shark\", '80-lb hooked shark',\n",
       "       \"Dusky shark, 2.7 m [9'] dusky shark C. obscurus identified by S. Springer on tooth recovered\",\n",
       "       \"Bronze whaler shark, 3 m [10'], 200-lb\",\n",
       "       'Raggedtooth shark, 100-lb ',\n",
       "       \"Bronze whaler shark, 3.7 m [12'] identified by G.P. Whitley based on description\",\n",
       "       \"1.2 m [4'], possibly  larger shark\", \"Two 2.1 m [7'] sharks\",\n",
       "       \"Bronze whaler shark,4 m [13'] \",\n",
       "       'According to Benjamin, the injury was inflicted by a barracuda, not a shark',\n",
       "       'Grey nurse shark, 2.9 m [9\\'6\"] ',\n",
       "       'Shark involvement prior to deaths was not confirmed',\n",
       "       '3.5 m [11\\'6\"] shark captured', \"4.9 m [16'] shark\",\n",
       "       \"3.7 m to 4.6 m [12' to 15'] shark\", 'Blacktail reef shark',\n",
       "       'Blacktip reef shark', \"3.7 m [12'] tiger shark\",\n",
       "       \"2.4 m  [8'] shark\", \"2.7 m [9']  shark\",\n",
       "       \"3 m to 4.3 m [10' to 14'] shark\", \"Thresher shark, 3.7 m [12'] \",\n",
       "       \"Carpet shark, 1.5 m [5']\",\n",
       "       'A hammerhead shark, then 8 to 10 other sharks were said to be  involved',\n",
       "       \"5.5' shark\", \"Hammerhead shark, 9' \", '20 kg shark',\n",
       "       \"Hammerhead shark, 1.8 m [6'] S. zygena identified by C. Limbaugh on description\",\n",
       "       \"Hammerhead shark, 2.4 m [8'] \", \"Hammerhead shark, 3 m [10'] \",\n",
       "       \"1.8 to 2.1 m [6' to 7'] shark\",\n",
       "       \"Bitten by several 1.8 m [6'] sharks\",\n",
       "       \"Said to involve 2 sharks: 5.2 m & 6 m [17' & 20'] \",\n",
       "       \"1.4 m [4.5'] shark\", \"1.5 m to 1.8 m [5' to 6'] sharks\",\n",
       "       '200-lb shark', \"Hammerhead shark, 5.2 m [17'] \",\n",
       "       \"Sharks averaged 1.8 m [6'] in length\", '<1 m shark',\n",
       "       'Several sharks involved', \">3 m [10'] shark\",\n",
       "       'Identified as carcharinid shark (based on its behavior) by Dr. D.P. L. Schultz; mako shark according to Huges',\n",
       "       \"2.7 m [9'] bull shark, identified by Capt. W. Gray\",\n",
       "       'Shark seen feeding on turtle scraps thrown overboard prior to incident.',\n",
       "       'Said to involve a large mako shark', \"3.7 m [12'] shark \",\n",
       "       \"2.4 m [8'] tiger shark caught 40 hours later with shorts of the boy in its gut\",\n",
       "       'a sand shark', \"2.3 m [7'] shark\", '8-lb shark',\n",
       "       \"3.7 m [12'] shark & may have been another shark nearby\",\n",
       "       '40-lb sand shark',\n",
       "       \"5' thresher or blue shark. The shark  was killed following the incident\",\n",
       "       'Tooth fragments recovered from hull', \"0.7 m [2.5'] sand shark\",\n",
       "       \"2.4 m [8']  shark\", '\"small brown-colored shark\"',\n",
       "       \"Leopard shark, 3' Triakis semifasciata, identified by J.W. DeWitt (1955)\",\n",
       "       \"4 m [13'] shark x 6\", \"Bronze whaler shark,3.7 m [12'] \",\n",
       "       '\"a little shark\"', \"Blacktip reef shark, 1.5 m [5'] \",\n",
       "       \"20' shark\", '5m shark',\n",
       "       \"2.4 m [8'] shark, possibly a dusky shark\", \"a small shark'\",\n",
       "       \"Said to involve a >4 m [13'] shark\", \"3.7 [12'] shark\",\n",
       "       '80-lb sand shark', \"Hammerhead shark, 1.5 m [5'] \",\n",
       "       \"3 m [10'] shark seen in vicinity\", '2 m [6\\'9\"] shark ',\n",
       "       \"1.5 m [5'] shark, probable bull shark\", \">6.7 m [22']  shark\",\n",
       "       \"Hammerhead shark, 5' \", \"Carpet shark, 5' \",\n",
       "       '\"A 2\\' (0.6 m) brown shark\"', 'a \"small slim brown shark\"',\n",
       "       '\"Attacked by a number of sharks\"', '136-kg [300-lb] shark',\n",
       "       '1,100-lb shark', \"0.7 m [2.5'] shark\", '2.13 m shark',\n",
       "       \"1.5 m to 1.8 m [5' to 6'] \\x93spear-eye\\x94 shark \",\n",
       "       'small carpet shark', 'Possibly a lemon shark',\n",
       "       'Whtietip reef shark',\n",
       "       \"2.7 m [9'] shark with black-tipped pectoral fins\",\n",
       "       \"Grey nurse shark, 2.6 m [8.5']  \", 'Bonita sharkk, 200-lb',\n",
       "       \"Whaler shark, 2.7 m [9'], 350- to 450-lb  identified by G.P. Whitley\",\n",
       "       '3.3 m [10\\'9\"] shark',\n",
       "       \"His hand was found in a 2.4 m [8'] tiger shark caught 1/5/1949\",\n",
       "       \"Said to be 6.4 m [21'] shark\", '\"grey shark\"',\n",
       "       'Possibly C. leucas', 'Most likely, a small shark',\n",
       "       '1.5 m, 45-kg shark', '4.5  m [14\\'9\"] shark', '>1.6 m shark',\n",
       "       \"6 m [20']  shark\", \"1.8 m [6'] blacktip shark or spinner shark\",\n",
       "       'Porbeagle shark', \"Said to involve a 6.5 m [21.5'] shark\",\n",
       "       'Said to be \\x93leopard sharks\\x94, more probably tiger sharks',\n",
       "       '100-lb shark', \"2.6 m [8.5'] shark landed 2 hours later\",\n",
       "       'whaler shark', \"18' shark\", '\"a large shark\"',\n",
       "       'Thought to involve bull sharks', '\"grey-colored shark\"',\n",
       "       \"2.6 m [8.5'] shark\", \"Whaler shark, 4 m [13'] \",\n",
       "       '2 days later a 600-lb shark was caught 100 yards from the site',\n",
       "       '3\\' \"blue nosed\" shark', \"Grey nurse shark, 8'\",\n",
       "       \"0.9 m [3']  shark\",\n",
       "       'Large tiger shark seen in the vicinity the following morning',\n",
       "       '650-lb shark', '2 sharks', 'A 6.5\\' \"blue-nosed shark\"',\n",
       "       \"4.3 m [14'] shark seen in vicinity\",\n",
       "       \"4 m [13'] shark seen in vicinity\",\n",
       "       \"3.4 m [11']  tiger shark & a 5' shark\",\n",
       "       \"4.3 m [14'] shark seen in area previous week\", '3 sharks',\n",
       "       \"Thought to involve a 2.4 m [8'] lemon shark; two 2.4 m lemon sharks caught within 100 yds of the site a week prior to & a week after this incident\",\n",
       "       \"7' to 8' shark\", \"4.4 m [14'] shark\",\n",
       "       'Thought to involve a mako or grey nurse shark',\n",
       "       \"16' 800-lb shark\", '250-lb \"dog shark\"',\n",
       "       \"Raggedtooth shark, 1.2 m to 1.5 m [4' to 5'] \",\n",
       "       \"Hammerhead shark, 2.4 m [8'], according to lifeguard Sam Barrows\",\n",
       "       '\"a school of sharks\"', '1.8 m [6\\'] \"cocktail shark',\n",
       "       \"7 shark's teeth found embedded in the woodwork of the boat\",\n",
       "       '9-foot shark', \"Grey nurse shark, 4' \", '\"a dog shark\"',\n",
       "       \"Moreno\\x92s leg  & part of his swim suit found in 9' shark caught two hours after the attack. Identified as carcharhinid shark by L. Schultz & C. Limbaugh on photograph\",\n",
       "       'Grey nurse shark?', \"Grey nurse shark, 4'\",\n",
       "       '\"whiptail shark\" (thresher shark?)',\n",
       "       \"According to Carlsmith, the shark's mouth was 3' wide\",\n",
       "       '\"a blue shark\"', 'Said to be a \\x93small shark\\x94',\n",
       "       '\"a very large shark\"',\n",
       "       \"Atkins' remains were recovered from a dusky shark, C. obscurus, by Capt. W. F. Young, shark fisherman\",\n",
       "       '2.7 m [9\\'] \"blue\" shark', '\"A pack of 6 sharks\"',\n",
       "       \"2.7 m [9'] shark later captured by Mitchell-Hedges\",\n",
       "       \"Comrades saw shark's tail appear about 5' away\",\n",
       "       '15* to 24\" dog shark', \"15'\",\n",
       "       \"3.7 m [12'], 1200-lb shark. Shark caught & its jaw exhibited at the Carnegie Museum\",\n",
       "       \"3.7 m to 4.3 m [12' to 14']  shark\", \"13' shark\",\n",
       "       \"Said to involve a 2.7 m [9'] shark\",\n",
       "       'A 20\\' shark known as \"Old Tom\"', 'said to involve a tiger shark',\n",
       "       \"Said to involve a 2.4 m [8'] hammerhead shark\",\n",
       "       '2.8 m [9\\'3\"] whaler shark captured 3 days later with his remains in its gut',\n",
       "       'C. macrurus captured 48 hours after attack with tissue removed from man in its gut; species identified by G.P. Whitley,  reported as C. obscurus by  R. Steel',\n",
       "       \"Said to involve  9' blue shark\", \"5.5' to 6' shark\",\n",
       "       '18-foot shark', 'Remains recovered from 3 sharks',\n",
       "       'Allegedly a 33-foot shark', 'Shark involvement probable',\n",
       "       'Shortfin mako shark, 175-lb ', 'Remains recovered 5 days later',\n",
       "       'Fishermen recovered partial remains from shark a week later',\n",
       "       \"1.8 m to 2.7 m [6' to 9'] shark\", '70 kg shark', '13\\'10\" shark',\n",
       "       \"16' shark\", '5\\'7\" shark', '5m, 3500 kg female shark',\n",
       "       'Unknown, but the shark was caught and put on exhibition',\n",
       "       \"4.7 m [15.5'] shark\",\n",
       "       'Shark was said to \\x93have a very rough ½\\x94-thick skin\\x94',\n",
       "       \"3 m [10'] sharks\", 'Said to involve 2 sharks',\n",
       "       'a school of sharks', ' a small shark', '68\" shark',\n",
       "       'Identified as C. gangeticus by Dr. J. Fayrer',\n",
       "       '\"Shark caught later\"', '4\\' \"ground shark\"',\n",
       "       'Remains recovered from shark caught days later',\n",
       "       'Shark involvement prior to deaths unconfirmed', '234-lb shark',\n",
       "       \"Said to involve a 6 m to 7.3 m [20' to 24'] shark\",\n",
       "       \"Said to be a 7.6 m [25'] shark\",\n",
       "       'Thought to involve a porbeagle or mako shark',\n",
       "       'Description of shark does not ring true',\n",
       "       '\"The fish was harpooned, dried, and presented to the sailor, who went round Europe exhibiting it  It was said to be 20 feet long.',\n",
       "       \" Galapagos shark, 6'\", 'said to involve 2.5 m hammerhead sharks',\n",
       "       'Silvertip shark'], dtype=object)"
      ]
     },
     "execution_count": 377,
     "metadata": {},
     "output_type": "execute_result"
    }
   ],
   "source": [
    "sk.Species.unique()"
   ]
  },
  {
   "cell_type": "code",
   "execution_count": 378,
   "id": "cd38e3e0",
   "metadata": {},
   "outputs": [],
   "source": [
    "lemon=sk.Species.str.contains(\"lemon\", case=False)"
   ]
  },
  {
   "cell_type": "code",
   "execution_count": 379,
   "id": "d50703b2",
   "metadata": {},
   "outputs": [
    {
     "data": {
      "text/plain": [
       "(8665,)"
      ]
     },
     "execution_count": 379,
     "metadata": {},
     "output_type": "execute_result"
    }
   ],
   "source": [
    "lemon.shape"
   ]
  },
  {
   "cell_type": "code",
   "execution_count": 380,
   "id": "fdde5bb9",
   "metadata": {},
   "outputs": [],
   "source": [
    "sk.at[lemon, 'Species'] = 'Lemon shark'"
   ]
  },
  {
   "cell_type": "code",
   "execution_count": 381,
   "id": "d49137f2",
   "metadata": {},
   "outputs": [
    {
     "data": {
      "text/plain": [
       "Grey Reef shark                                      15\n",
       "Zambesi shark                                        11\n",
       "Hammerhead shark                                     10\n",
       "2.1 m [7'] shark                                      9\n",
       "a small shark                                         9\n",
       "                                                     ..\n",
       "1.2 m [4'] spinner shark                              1\n",
       "Shark involvement not confirmed & highly unlikely     1\n",
       "3 m [10'], 200-kg [441-lb] bull shark                 1\n",
       "1.3 m [4'3\"] shark                                    1\n",
       "Silvertip shark                                       1\n",
       "Name: Species, Length: 805, dtype: int64"
      ]
     },
     "execution_count": 381,
     "metadata": {},
     "output_type": "execute_result"
    }
   ],
   "source": [
    "sk.Species.value_counts()[13:]"
   ]
  },
  {
   "cell_type": "code",
   "execution_count": 382,
   "id": "37b3fd62",
   "metadata": {},
   "outputs": [],
   "source": [
    "zam=sk.Species.str.contains(\"Zambesi\", case=False)"
   ]
  },
  {
   "cell_type": "code",
   "execution_count": 383,
   "id": "8a2debd4",
   "metadata": {},
   "outputs": [],
   "source": [
    "sk.at[zam, 'Species'] = 'Zambesi shark'"
   ]
  },
  {
   "cell_type": "code",
   "execution_count": 384,
   "id": "a6632404",
   "metadata": {},
   "outputs": [],
   "source": [
    "bull=sk.Species.str.contains(\"bull\", case=False)"
   ]
  },
  {
   "cell_type": "code",
   "execution_count": 385,
   "id": "7076431c",
   "metadata": {},
   "outputs": [],
   "source": [
    "sk.at[bull, 'Species'] = 'Bull shark'"
   ]
  },
  {
   "cell_type": "code",
   "execution_count": 386,
   "id": "24be8bf6",
   "metadata": {},
   "outputs": [
    {
     "data": {
      "text/plain": [
       "Copper shark                16\n",
       "Grey Reef shark             15\n",
       "Hammerhead shark            10\n",
       "Sevengill shark              9\n",
       "a small shark                9\n",
       "                            ..\n",
       "Unidentified shark           1\n",
       ">2 m shark                   1\n",
       "Bronze whaler shark, 3 m     1\n",
       "5 m [16.5'] shark            1\n",
       "Silvertip shark              1\n",
       "Name: Species, Length: 757, dtype: int64"
      ]
     },
     "execution_count": 386,
     "metadata": {},
     "output_type": "execute_result"
    }
   ],
   "source": [
    "sk.Species.value_counts()[13:]"
   ]
  },
  {
   "cell_type": "code",
   "execution_count": 387,
   "id": "2e3c620b",
   "metadata": {},
   "outputs": [],
   "source": [
    "un=sk.Species.str.contains(\"Unidentified\", case=False)"
   ]
  },
  {
   "cell_type": "code",
   "execution_count": 388,
   "id": "2a2f175e",
   "metadata": {},
   "outputs": [],
   "source": [
    "sk.at[un, 'Species'] = 'Unknown'"
   ]
  },
  {
   "cell_type": "code",
   "execution_count": 389,
   "id": "cd7168bc",
   "metadata": {},
   "outputs": [
    {
     "data": {
      "text/plain": [
       "Copper shark                             16\n",
       "Grey Reef shark                          15\n",
       "Unknown                                  14\n",
       "Hammerhead shark                         10\n",
       "a small shark                             9\n",
       "                                         ..\n",
       "Dusky shark, 12'                          1\n",
       "4.5' to 5' shark                          1\n",
       "Sandtiger shark, 2 m, male                1\n",
       "1.8 m [6'] shark, possibly a blacktip     1\n",
       "Silvertip shark                           1\n",
       "Name: Species, Length: 753, dtype: int64"
      ]
     },
     "execution_count": 389,
     "metadata": {},
     "output_type": "execute_result"
    }
   ],
   "source": [
    "sk.Species.value_counts()[13:]"
   ]
  },
  {
   "cell_type": "code",
   "execution_count": 391,
   "id": "fad1c5dd",
   "metadata": {},
   "outputs": [
    {
     "name": "stdout",
     "output_type": "stream",
     "text": [
      "<class 'pandas.core.frame.DataFrame'>\n",
      "Int64Index: 8665 entries, 0 to 25722\n",
      "Data columns (total 18 columns):\n",
      " #   Column                  Non-Null Count  Dtype \n",
      "---  ------                  --------------  ----- \n",
      " 0   date                    8665 non-null   object\n",
      " 1   Year                    8665 non-null   object\n",
      " 2   Type                    8665 non-null   object\n",
      " 3   Country                 8665 non-null   object\n",
      " 4   Area                    8665 non-null   object\n",
      " 5   Location                8665 non-null   object\n",
      " 6   Activity                8665 non-null   object\n",
      " 7   Name                    8665 non-null   object\n",
      " 8   Sex                     8665 non-null   object\n",
      " 9   Age                     8665 non-null   int8  \n",
      " 10  Injury                  8665 non-null   object\n",
      " 11  Fatal                   8665 non-null   object\n",
      " 12  Species                 8665 non-null   object\n",
      " 13  Investigator or Source  8665 non-null   object\n",
      " 14  pdf                     8665 non-null   object\n",
      " 15  href                    8665 non-null   object\n",
      " 16  original order          8665 non-null   object\n",
      " 17  time                    8665 non-null   object\n",
      "dtypes: int8(1), object(17)\n",
      "memory usage: 10.0 MB\n"
     ]
    }
   ],
   "source": [
    "sk2=sk.copy()\n",
    "\n",
    "sk2.info(memory_usage='deep')"
   ]
  },
  {
   "cell_type": "code",
   "execution_count": 394,
   "id": "6ba28f46",
   "metadata": {},
   "outputs": [
    {
     "data": {
      "text/html": [
       "<div>\n",
       "<style scoped>\n",
       "    .dataframe tbody tr th:only-of-type {\n",
       "        vertical-align: middle;\n",
       "    }\n",
       "\n",
       "    .dataframe tbody tr th {\n",
       "        vertical-align: top;\n",
       "    }\n",
       "\n",
       "    .dataframe thead th {\n",
       "        text-align: right;\n",
       "    }\n",
       "</style>\n",
       "<table border=\"1\" class=\"dataframe\">\n",
       "  <thead>\n",
       "    <tr style=\"text-align: right;\">\n",
       "      <th></th>\n",
       "      <th>date</th>\n",
       "      <th>Year</th>\n",
       "      <th>Type</th>\n",
       "      <th>Country</th>\n",
       "      <th>Area</th>\n",
       "      <th>Location</th>\n",
       "      <th>Activity</th>\n",
       "      <th>Name</th>\n",
       "      <th>Sex</th>\n",
       "      <th>Age</th>\n",
       "      <th>Injury</th>\n",
       "      <th>Fatal</th>\n",
       "      <th>Species</th>\n",
       "      <th>Investigator or Source</th>\n",
       "      <th>pdf</th>\n",
       "      <th>href</th>\n",
       "      <th>original order</th>\n",
       "      <th>time</th>\n",
       "    </tr>\n",
       "  </thead>\n",
       "  <tbody>\n",
       "    <tr>\n",
       "      <th>112</th>\n",
       "      <td>2017-07-23</td>\n",
       "      <td>2017.0</td>\n",
       "      <td>Unprovoked</td>\n",
       "      <td>USA</td>\n",
       "      <td>New Jersey</td>\n",
       "      <td>Ventnor</td>\n",
       "      <td>unknown</td>\n",
       "      <td>Isabella Smith</td>\n",
       "      <td>F</td>\n",
       "      <td>27</td>\n",
       "      <td>Minor injury to hand</td>\n",
       "      <td>N</td>\n",
       "      <td>Sandtiger shark  2'</td>\n",
       "      <td>A. Smith</td>\n",
       "      <td>2017.07.23.b-Smith.pdf</td>\n",
       "      <td>http://sharkattackfile.net/spreadsheets/pdf_di...</td>\n",
       "      <td>6191.0</td>\n",
       "      <td>unknown</td>\n",
       "    </tr>\n",
       "    <tr>\n",
       "      <th>302</th>\n",
       "      <td>2016-03-02</td>\n",
       "      <td>2016.0</td>\n",
       "      <td>Unprovoked</td>\n",
       "      <td>BRAZIL</td>\n",
       "      <td>Santa Catarina State</td>\n",
       "      <td>Escalerio Beach Balneário Camboriú</td>\n",
       "      <td>Swimming</td>\n",
       "      <td>Rafael Hermes Thomas</td>\n",
       "      <td>M</td>\n",
       "      <td>41</td>\n",
       "      <td>Minor injury to head</td>\n",
       "      <td>N</td>\n",
       "      <td>Sandtiger shark</td>\n",
       "      <td>Misones Online, 3/4/2016</td>\n",
       "      <td>2016.03.02-Thomas.pdf</td>\n",
       "      <td>http://sharkattackfile.net/spreadsheets/pdf_di...</td>\n",
       "      <td>6001.0</td>\n",
       "      <td>unknown</td>\n",
       "    </tr>\n",
       "    <tr>\n",
       "      <th>310</th>\n",
       "      <td>2016-02-02</td>\n",
       "      <td>2016.0</td>\n",
       "      <td>Unprovoked</td>\n",
       "      <td>BRAZIL</td>\n",
       "      <td>Balneário Camboriú</td>\n",
       "      <td>Estaleirinho beach</td>\n",
       "      <td>Swimming</td>\n",
       "      <td>Rafael Hermes Thomas</td>\n",
       "      <td>M</td>\n",
       "      <td>41</td>\n",
       "      <td>Lacerations to scalp</td>\n",
       "      <td>N</td>\n",
       "      <td>Sandtiger shark</td>\n",
       "      <td>Globo, 2/3/2016</td>\n",
       "      <td>2016.02.02-Thomas.pdf</td>\n",
       "      <td>http://sharkattackfile.net/spreadsheets/pdf_di...</td>\n",
       "      <td>5993.0</td>\n",
       "      <td>unknown</td>\n",
       "    </tr>\n",
       "    <tr>\n",
       "      <th>407</th>\n",
       "      <td>2015-06-24</td>\n",
       "      <td>2015.0</td>\n",
       "      <td>Unprovoked</td>\n",
       "      <td>USA</td>\n",
       "      <td>North Carolina</td>\n",
       "      <td>Surf City</td>\n",
       "      <td>Swimming</td>\n",
       "      <td>Brady Noyes</td>\n",
       "      <td>M</td>\n",
       "      <td>6</td>\n",
       "      <td>Minor injury to foot</td>\n",
       "      <td>N</td>\n",
       "      <td>Sandtiger shark</td>\n",
       "      <td>C. Creswell, GSAF</td>\n",
       "      <td>2015.06.24.b-Noyes.pdf</td>\n",
       "      <td>http://sharkattackfile.net/spreadsheets/pdf_di...</td>\n",
       "      <td>5896.0</td>\n",
       "      <td>12:25</td>\n",
       "    </tr>\n",
       "    <tr>\n",
       "      <th>718</th>\n",
       "      <td>2012-12-02</td>\n",
       "      <td>2012.0</td>\n",
       "      <td>Unprovoked</td>\n",
       "      <td>AUSTRALIA</td>\n",
       "      <td>New South Wales</td>\n",
       "      <td>Green Island</td>\n",
       "      <td>Spearfishing</td>\n",
       "      <td>male</td>\n",
       "      <td>M</td>\n",
       "      <td>31</td>\n",
       "      <td>Minor puncture wounds to knee</td>\n",
       "      <td>N</td>\n",
       "      <td>Sandtiger shark</td>\n",
       "      <td>ABC News, 12/2/2012</td>\n",
       "      <td>2012.12.02-Green-Island.pdf</td>\n",
       "      <td>http://sharkattackfile.net/spreadsheets/pdf_di...</td>\n",
       "      <td>5585.0</td>\n",
       "      <td>16:45</td>\n",
       "    </tr>\n",
       "    <tr>\n",
       "      <th>1009</th>\n",
       "      <td>2010-07-17</td>\n",
       "      <td>2010.0</td>\n",
       "      <td>Unprovoked</td>\n",
       "      <td>USA</td>\n",
       "      <td>North Carolina</td>\n",
       "      <td>Wrightsville Beach, New Hanover County</td>\n",
       "      <td>Swimming</td>\n",
       "      <td>Kendall Parker</td>\n",
       "      <td>F</td>\n",
       "      <td>13</td>\n",
       "      <td>Lacerations to right forearm</td>\n",
       "      <td>N</td>\n",
       "      <td>Sandtiger shark, 4' to 5'</td>\n",
       "      <td>C. Creswell, GSAF</td>\n",
       "      <td>2010.07.17.b-Parker.pdf</td>\n",
       "      <td>http://sharkattackfile.net/spreadsheets/pdf_di...</td>\n",
       "      <td>5294.0</td>\n",
       "      <td>13:30</td>\n",
       "    </tr>\n",
       "    <tr>\n",
       "      <th>1068</th>\n",
       "      <td>2009-12-06</td>\n",
       "      <td>2009.0</td>\n",
       "      <td>Provoked</td>\n",
       "      <td>USA</td>\n",
       "      <td>New Jersey</td>\n",
       "      <td>Adventure Aquarium, Camden</td>\n",
       "      <td>Diving</td>\n",
       "      <td>Robert Large</td>\n",
       "      <td>M</td>\n",
       "      <td>58</td>\n",
       "      <td>Lacerations &amp; puncture wounds to right calf &amp; ...</td>\n",
       "      <td>N</td>\n",
       "      <td>Sandtiger shark, 8'</td>\n",
       "      <td>R. Large; Philadelphia Daily News, 4/22/2010</td>\n",
       "      <td>2009.12.06-Large.pdf</td>\n",
       "      <td>http://sharkattackfile.net/spreadsheets/pdf_di...</td>\n",
       "      <td>5235.0</td>\n",
       "      <td>13:00</td>\n",
       "    </tr>\n",
       "    <tr>\n",
       "      <th>1343</th>\n",
       "      <td>2007-08-20</td>\n",
       "      <td>2007.0</td>\n",
       "      <td>Provoked</td>\n",
       "      <td>USA</td>\n",
       "      <td>Delaware</td>\n",
       "      <td>Indian River Inlet, Rehoboth Beach</td>\n",
       "      <td>Fishing</td>\n",
       "      <td>male</td>\n",
       "      <td>M</td>\n",
       "      <td>27</td>\n",
       "      <td>Forearm bitten by hooked shark PROVOKED INCIDENT</td>\n",
       "      <td>N</td>\n",
       "      <td>Sandtiger shark</td>\n",
       "      <td>Delaware Coast Press, 8/24/2007</td>\n",
       "      <td>2007.08.20-DelawareFisherman.pdf</td>\n",
       "      <td>http://sharkattackfile.net/spreadsheets/pdf_di...</td>\n",
       "      <td>4960.0</td>\n",
       "      <td>19:45</td>\n",
       "    </tr>\n",
       "    <tr>\n",
       "      <th>1605</th>\n",
       "      <td>2005-03-12</td>\n",
       "      <td>2005.0</td>\n",
       "      <td>Provoked</td>\n",
       "      <td>USA</td>\n",
       "      <td>New Mexico</td>\n",
       "      <td>Albuquerue Aquarium, Albuquerue</td>\n",
       "      <td>Diving in aquarium display tank</td>\n",
       "      <td>Ken Pitts</td>\n",
       "      <td>M</td>\n",
       "      <td>45</td>\n",
       "      <td>2 punctures on forearm as captive shark collid...</td>\n",
       "      <td>N</td>\n",
       "      <td>Sandtiger shark, 2.1 m [7']</td>\n",
       "      <td>H. Casman; T. Dukart, KOBTV</td>\n",
       "      <td>2005.03.12-Pitts.pdf</td>\n",
       "      <td>http://sharkattackfile.net/spreadsheets/pdf_di...</td>\n",
       "      <td>4698.0</td>\n",
       "      <td>15:30</td>\n",
       "    </tr>\n",
       "    <tr>\n",
       "      <th>1838</th>\n",
       "      <td>2002-08-06</td>\n",
       "      <td>2002.0</td>\n",
       "      <td>Provoked</td>\n",
       "      <td>UNITED KINGDOM</td>\n",
       "      <td>Cheshire</td>\n",
       "      <td>Blue Planet Aquarium, Ellesmere Port</td>\n",
       "      <td>Diving</td>\n",
       "      <td>Rob Bennett</td>\n",
       "      <td>M</td>\n",
       "      <td>30</td>\n",
       "      <td>Hand bitten by captive shark PROVOKED INCIDENT</td>\n",
       "      <td>N</td>\n",
       "      <td>Sandtiger shark, 3 m [10']</td>\n",
       "      <td>Evening Standard (London, England)</td>\n",
       "      <td>2002.08.06-Bennet.pdf</td>\n",
       "      <td>http://sharkattackfile.net/spreadsheets/pdf_di...</td>\n",
       "      <td>4465.0</td>\n",
       "      <td>unknown</td>\n",
       "    </tr>\n",
       "    <tr>\n",
       "      <th>2173</th>\n",
       "      <td>1998-08-12</td>\n",
       "      <td>1998.0</td>\n",
       "      <td>Provoked</td>\n",
       "      <td>SOUTH AFRICA</td>\n",
       "      <td>Transvaal</td>\n",
       "      <td>National Zoological Gardens Aquarium, Pretoria</td>\n",
       "      <td>Moving a shark in a net</td>\n",
       "      <td>Kobus Goosen</td>\n",
       "      <td>M</td>\n",
       "      <td>27</td>\n",
       "      <td>Lacerations to right shin  PROVOKED INCIDENT</td>\n",
       "      <td>N</td>\n",
       "      <td>Sandtiger shark, 2 m, male</td>\n",
       "      <td>Daily Dispatch, 8/13/1998</td>\n",
       "      <td>1998.08.12-Goosen.pdf</td>\n",
       "      <td>http://sharkattackfile.net/spreadsheets/pdf_di...</td>\n",
       "      <td>4130.0</td>\n",
       "      <td>unknown</td>\n",
       "    </tr>\n",
       "    <tr>\n",
       "      <th>2729</th>\n",
       "      <td>1988-06-16</td>\n",
       "      <td>1988.0</td>\n",
       "      <td>Unprovoked</td>\n",
       "      <td>USA</td>\n",
       "      <td>North Carolina</td>\n",
       "      <td>Ocracoke, Hyde County</td>\n",
       "      <td>Scuba diving</td>\n",
       "      <td>male</td>\n",
       "      <td>M</td>\n",
       "      <td>42</td>\n",
       "      <td>Survived</td>\n",
       "      <td>N</td>\n",
       "      <td>Sandtiger shark</td>\n",
       "      <td>C. Creswell, GSAF</td>\n",
       "      <td>1988.06.16-diver.pdf</td>\n",
       "      <td>http://sharkattackfile.net/spreadsheets/pdf_di...</td>\n",
       "      <td>3574.0</td>\n",
       "      <td>unknown</td>\n",
       "    </tr>\n",
       "    <tr>\n",
       "      <th>2833</th>\n",
       "      <td>1985-12-10</td>\n",
       "      <td>1985.0</td>\n",
       "      <td>Unprovoked</td>\n",
       "      <td>USA</td>\n",
       "      <td>North Carolina</td>\n",
       "      <td>New Hanover County</td>\n",
       "      <td>unknown</td>\n",
       "      <td>male</td>\n",
       "      <td>M</td>\n",
       "      <td>27</td>\n",
       "      <td>Survived</td>\n",
       "      <td>N</td>\n",
       "      <td>Sandtiger shark</td>\n",
       "      <td>C. Creswell, GSAF</td>\n",
       "      <td>1985.12.10-NV-NorthCarolina.pdf</td>\n",
       "      <td>http://sharkattackfile.net/spreadsheets/pdf_di...</td>\n",
       "      <td>3470.0</td>\n",
       "      <td>unknown</td>\n",
       "    </tr>\n",
       "    <tr>\n",
       "      <th>4000</th>\n",
       "      <td>1960-04-10</td>\n",
       "      <td>1960.0</td>\n",
       "      <td>Provoked</td>\n",
       "      <td>AUSTRALIA</td>\n",
       "      <td>Western Australia</td>\n",
       "      <td>Off Rottnest Island</td>\n",
       "      <td>Spearfishing, shot a sandtiger shark. Cord to ...</td>\n",
       "      <td>Mick Coleman</td>\n",
       "      <td>M</td>\n",
       "      <td>27</td>\n",
       "      <td>Bruises &amp; minor injuries from reef, not the sh...</td>\n",
       "      <td>N</td>\n",
       "      <td>Sandtiger shark, 2.1 m [7']</td>\n",
       "      <td>V.M. Coppleson (1962), p.252</td>\n",
       "      <td>1960.04.10-Coleman.pdf</td>\n",
       "      <td>http://sharkattackfile.net/spreadsheets/pdf_di...</td>\n",
       "      <td>2303.0</td>\n",
       "      <td>unknown</td>\n",
       "    </tr>\n",
       "  </tbody>\n",
       "</table>\n",
       "</div>"
      ],
      "text/plain": [
       "            date    Year        Type         Country                  Area  \\\n",
       "112   2017-07-23  2017.0  Unprovoked             USA            New Jersey   \n",
       "302   2016-03-02  2016.0  Unprovoked          BRAZIL  Santa Catarina State   \n",
       "310   2016-02-02  2016.0  Unprovoked          BRAZIL    Balneário Camboriú   \n",
       "407   2015-06-24  2015.0  Unprovoked             USA        North Carolina   \n",
       "718   2012-12-02  2012.0  Unprovoked       AUSTRALIA       New South Wales   \n",
       "1009  2010-07-17  2010.0  Unprovoked             USA        North Carolina   \n",
       "1068  2009-12-06  2009.0    Provoked             USA            New Jersey   \n",
       "1343  2007-08-20  2007.0    Provoked             USA              Delaware   \n",
       "1605  2005-03-12  2005.0    Provoked             USA            New Mexico   \n",
       "1838  2002-08-06  2002.0    Provoked  UNITED KINGDOM              Cheshire   \n",
       "2173  1998-08-12  1998.0    Provoked    SOUTH AFRICA             Transvaal   \n",
       "2729  1988-06-16  1988.0  Unprovoked             USA        North Carolina   \n",
       "2833  1985-12-10  1985.0  Unprovoked             USA        North Carolina   \n",
       "4000  1960-04-10  1960.0    Provoked       AUSTRALIA     Western Australia   \n",
       "\n",
       "                                            Location  \\\n",
       "112                                          Ventnor   \n",
       "302               Escalerio Beach Balneário Camboriú   \n",
       "310                               Estaleirinho beach   \n",
       "407                                        Surf City   \n",
       "718                                     Green Island   \n",
       "1009          Wrightsville Beach, New Hanover County   \n",
       "1068                      Adventure Aquarium, Camden   \n",
       "1343              Indian River Inlet, Rehoboth Beach   \n",
       "1605                 Albuquerue Aquarium, Albuquerue   \n",
       "1838            Blue Planet Aquarium, Ellesmere Port   \n",
       "2173  National Zoological Gardens Aquarium, Pretoria   \n",
       "2729                           Ocracoke, Hyde County   \n",
       "2833                              New Hanover County   \n",
       "4000                             Off Rottnest Island   \n",
       "\n",
       "                                               Activity                  Name  \\\n",
       "112                                             unknown        Isabella Smith   \n",
       "302                                            Swimming  Rafael Hermes Thomas   \n",
       "310                                            Swimming  Rafael Hermes Thomas   \n",
       "407                                            Swimming           Brady Noyes   \n",
       "718                                        Spearfishing                  male   \n",
       "1009                                           Swimming        Kendall Parker   \n",
       "1068                                             Diving          Robert Large   \n",
       "1343                                            Fishing                  male   \n",
       "1605                    Diving in aquarium display tank             Ken Pitts   \n",
       "1838                                             Diving           Rob Bennett   \n",
       "2173                           Moving a shark in a net           Kobus Goosen   \n",
       "2729                                       Scuba diving                  male   \n",
       "2833                                            unknown                  male   \n",
       "4000  Spearfishing, shot a sandtiger shark. Cord to ...          Mick Coleman   \n",
       "\n",
       "     Sex  Age                                             Injury Fatal  \\\n",
       "112    F   27                               Minor injury to hand     N   \n",
       "302    M   41                               Minor injury to head     N   \n",
       "310    M   41                               Lacerations to scalp     N   \n",
       "407    M    6                               Minor injury to foot     N   \n",
       "718    M   31                      Minor puncture wounds to knee     N   \n",
       "1009   F   13                       Lacerations to right forearm     N   \n",
       "1068   M   58  Lacerations & puncture wounds to right calf & ...     N   \n",
       "1343   M   27   Forearm bitten by hooked shark PROVOKED INCIDENT     N   \n",
       "1605   M   45  2 punctures on forearm as captive shark collid...     N   \n",
       "1838   M   30     Hand bitten by captive shark PROVOKED INCIDENT     N   \n",
       "2173   M   27       Lacerations to right shin  PROVOKED INCIDENT     N   \n",
       "2729   M   42                                           Survived     N   \n",
       "2833   M   27                                           Survived     N   \n",
       "4000   M   27  Bruises & minor injuries from reef, not the sh...     N   \n",
       "\n",
       "                           Species  \\\n",
       "112            Sandtiger shark  2'   \n",
       "302                Sandtiger shark   \n",
       "310                Sandtiger shark   \n",
       "407                Sandtiger shark   \n",
       "718                Sandtiger shark   \n",
       "1009     Sandtiger shark, 4' to 5'   \n",
       "1068           Sandtiger shark, 8'   \n",
       "1343               Sandtiger shark   \n",
       "1605  Sandtiger shark, 2.1 m [7']    \n",
       "1838   Sandtiger shark, 3 m [10']    \n",
       "2173   Sandtiger shark, 2 m, male    \n",
       "2729               Sandtiger shark   \n",
       "2833               Sandtiger shark   \n",
       "4000  Sandtiger shark, 2.1 m [7']    \n",
       "\n",
       "                            Investigator or Source  \\\n",
       "112                                       A. Smith   \n",
       "302                       Misones Online, 3/4/2016   \n",
       "310                                Globo, 2/3/2016   \n",
       "407                              C. Creswell, GSAF   \n",
       "718                            ABC News, 12/2/2012   \n",
       "1009                             C. Creswell, GSAF   \n",
       "1068  R. Large; Philadelphia Daily News, 4/22/2010   \n",
       "1343               Delaware Coast Press, 8/24/2007   \n",
       "1605                   H. Casman; T. Dukart, KOBTV   \n",
       "1838            Evening Standard (London, England)   \n",
       "2173                     Daily Dispatch, 8/13/1998   \n",
       "2729                             C. Creswell, GSAF   \n",
       "2833                             C. Creswell, GSAF   \n",
       "4000                  V.M. Coppleson (1962), p.252   \n",
       "\n",
       "                                   pdf  \\\n",
       "112             2017.07.23.b-Smith.pdf   \n",
       "302              2016.03.02-Thomas.pdf   \n",
       "310              2016.02.02-Thomas.pdf   \n",
       "407             2015.06.24.b-Noyes.pdf   \n",
       "718        2012.12.02-Green-Island.pdf   \n",
       "1009           2010.07.17.b-Parker.pdf   \n",
       "1068              2009.12.06-Large.pdf   \n",
       "1343  2007.08.20-DelawareFisherman.pdf   \n",
       "1605              2005.03.12-Pitts.pdf   \n",
       "1838             2002.08.06-Bennet.pdf   \n",
       "2173             1998.08.12-Goosen.pdf   \n",
       "2729              1988.06.16-diver.pdf   \n",
       "2833   1985.12.10-NV-NorthCarolina.pdf   \n",
       "4000            1960.04.10-Coleman.pdf   \n",
       "\n",
       "                                                   href original order  \\\n",
       "112   http://sharkattackfile.net/spreadsheets/pdf_di...         6191.0   \n",
       "302   http://sharkattackfile.net/spreadsheets/pdf_di...         6001.0   \n",
       "310   http://sharkattackfile.net/spreadsheets/pdf_di...         5993.0   \n",
       "407   http://sharkattackfile.net/spreadsheets/pdf_di...         5896.0   \n",
       "718   http://sharkattackfile.net/spreadsheets/pdf_di...         5585.0   \n",
       "1009  http://sharkattackfile.net/spreadsheets/pdf_di...         5294.0   \n",
       "1068  http://sharkattackfile.net/spreadsheets/pdf_di...         5235.0   \n",
       "1343  http://sharkattackfile.net/spreadsheets/pdf_di...         4960.0   \n",
       "1605  http://sharkattackfile.net/spreadsheets/pdf_di...         4698.0   \n",
       "1838  http://sharkattackfile.net/spreadsheets/pdf_di...         4465.0   \n",
       "2173  http://sharkattackfile.net/spreadsheets/pdf_di...         4130.0   \n",
       "2729  http://sharkattackfile.net/spreadsheets/pdf_di...         3574.0   \n",
       "2833  http://sharkattackfile.net/spreadsheets/pdf_di...         3470.0   \n",
       "4000  http://sharkattackfile.net/spreadsheets/pdf_di...         2303.0   \n",
       "\n",
       "         time  \n",
       "112   unknown  \n",
       "302   unknown  \n",
       "310   unknown  \n",
       "407     12:25  \n",
       "718     16:45  \n",
       "1009    13:30  \n",
       "1068    13:00  \n",
       "1343    19:45  \n",
       "1605    15:30  \n",
       "1838  unknown  \n",
       "2173  unknown  \n",
       "2729  unknown  \n",
       "2833  unknown  \n",
       "4000  unknown  "
      ]
     },
     "execution_count": 394,
     "metadata": {},
     "output_type": "execute_result"
    }
   ],
   "source": [
    "sk[sk.Species.str.contains('Sandtiger')]"
   ]
  },
  {
   "cell_type": "code",
   "execution_count": 396,
   "id": "1ed97845",
   "metadata": {},
   "outputs": [],
   "source": [
    "sd=sk.Species.str.contains('Sandtiger', case=False)"
   ]
  },
  {
   "cell_type": "code",
   "execution_count": 397,
   "id": "46fc5a98",
   "metadata": {},
   "outputs": [],
   "source": [
    "sk.at[sd, 'Species'] = 'Sand Tiger shark'"
   ]
  },
  {
   "cell_type": "code",
   "execution_count": 399,
   "id": "49edfa02",
   "metadata": {},
   "outputs": [
    {
     "data": {
      "text/html": [
       "<div>\n",
       "<style scoped>\n",
       "    .dataframe tbody tr th:only-of-type {\n",
       "        vertical-align: middle;\n",
       "    }\n",
       "\n",
       "    .dataframe tbody tr th {\n",
       "        vertical-align: top;\n",
       "    }\n",
       "\n",
       "    .dataframe thead th {\n",
       "        text-align: right;\n",
       "    }\n",
       "</style>\n",
       "<table border=\"1\" class=\"dataframe\">\n",
       "  <thead>\n",
       "    <tr style=\"text-align: right;\">\n",
       "      <th></th>\n",
       "      <th>date</th>\n",
       "      <th>Year</th>\n",
       "      <th>Type</th>\n",
       "      <th>Country</th>\n",
       "      <th>Area</th>\n",
       "      <th>Location</th>\n",
       "      <th>Activity</th>\n",
       "      <th>Name</th>\n",
       "      <th>Sex</th>\n",
       "      <th>Age</th>\n",
       "      <th>Injury</th>\n",
       "      <th>Fatal</th>\n",
       "      <th>Species</th>\n",
       "      <th>Investigator or Source</th>\n",
       "      <th>pdf</th>\n",
       "      <th>href</th>\n",
       "      <th>original order</th>\n",
       "      <th>time</th>\n",
       "    </tr>\n",
       "  </thead>\n",
       "  <tbody>\n",
       "    <tr>\n",
       "      <th>112</th>\n",
       "      <td>2017-07-23</td>\n",
       "      <td>2017.0</td>\n",
       "      <td>Unprovoked</td>\n",
       "      <td>USA</td>\n",
       "      <td>New Jersey</td>\n",
       "      <td>Ventnor</td>\n",
       "      <td>unknown</td>\n",
       "      <td>Isabella Smith</td>\n",
       "      <td>F</td>\n",
       "      <td>27</td>\n",
       "      <td>Minor injury to hand</td>\n",
       "      <td>N</td>\n",
       "      <td>Sand Tiger shark</td>\n",
       "      <td>A. Smith</td>\n",
       "      <td>2017.07.23.b-Smith.pdf</td>\n",
       "      <td>http://sharkattackfile.net/spreadsheets/pdf_di...</td>\n",
       "      <td>6191.0</td>\n",
       "      <td>unknown</td>\n",
       "    </tr>\n",
       "    <tr>\n",
       "      <th>302</th>\n",
       "      <td>2016-03-02</td>\n",
       "      <td>2016.0</td>\n",
       "      <td>Unprovoked</td>\n",
       "      <td>BRAZIL</td>\n",
       "      <td>Santa Catarina State</td>\n",
       "      <td>Escalerio Beach Balneário Camboriú</td>\n",
       "      <td>Swimming</td>\n",
       "      <td>Rafael Hermes Thomas</td>\n",
       "      <td>M</td>\n",
       "      <td>41</td>\n",
       "      <td>Minor injury to head</td>\n",
       "      <td>N</td>\n",
       "      <td>Sand Tiger shark</td>\n",
       "      <td>Misones Online, 3/4/2016</td>\n",
       "      <td>2016.03.02-Thomas.pdf</td>\n",
       "      <td>http://sharkattackfile.net/spreadsheets/pdf_di...</td>\n",
       "      <td>6001.0</td>\n",
       "      <td>unknown</td>\n",
       "    </tr>\n",
       "    <tr>\n",
       "      <th>310</th>\n",
       "      <td>2016-02-02</td>\n",
       "      <td>2016.0</td>\n",
       "      <td>Unprovoked</td>\n",
       "      <td>BRAZIL</td>\n",
       "      <td>Balneário Camboriú</td>\n",
       "      <td>Estaleirinho beach</td>\n",
       "      <td>Swimming</td>\n",
       "      <td>Rafael Hermes Thomas</td>\n",
       "      <td>M</td>\n",
       "      <td>41</td>\n",
       "      <td>Lacerations to scalp</td>\n",
       "      <td>N</td>\n",
       "      <td>Sand Tiger shark</td>\n",
       "      <td>Globo, 2/3/2016</td>\n",
       "      <td>2016.02.02-Thomas.pdf</td>\n",
       "      <td>http://sharkattackfile.net/spreadsheets/pdf_di...</td>\n",
       "      <td>5993.0</td>\n",
       "      <td>unknown</td>\n",
       "    </tr>\n",
       "    <tr>\n",
       "      <th>407</th>\n",
       "      <td>2015-06-24</td>\n",
       "      <td>2015.0</td>\n",
       "      <td>Unprovoked</td>\n",
       "      <td>USA</td>\n",
       "      <td>North Carolina</td>\n",
       "      <td>Surf City</td>\n",
       "      <td>Swimming</td>\n",
       "      <td>Brady Noyes</td>\n",
       "      <td>M</td>\n",
       "      <td>6</td>\n",
       "      <td>Minor injury to foot</td>\n",
       "      <td>N</td>\n",
       "      <td>Sand Tiger shark</td>\n",
       "      <td>C. Creswell, GSAF</td>\n",
       "      <td>2015.06.24.b-Noyes.pdf</td>\n",
       "      <td>http://sharkattackfile.net/spreadsheets/pdf_di...</td>\n",
       "      <td>5896.0</td>\n",
       "      <td>12:25</td>\n",
       "    </tr>\n",
       "    <tr>\n",
       "      <th>718</th>\n",
       "      <td>2012-12-02</td>\n",
       "      <td>2012.0</td>\n",
       "      <td>Unprovoked</td>\n",
       "      <td>AUSTRALIA</td>\n",
       "      <td>New South Wales</td>\n",
       "      <td>Green Island</td>\n",
       "      <td>Spearfishing</td>\n",
       "      <td>male</td>\n",
       "      <td>M</td>\n",
       "      <td>31</td>\n",
       "      <td>Minor puncture wounds to knee</td>\n",
       "      <td>N</td>\n",
       "      <td>Sand Tiger shark</td>\n",
       "      <td>ABC News, 12/2/2012</td>\n",
       "      <td>2012.12.02-Green-Island.pdf</td>\n",
       "      <td>http://sharkattackfile.net/spreadsheets/pdf_di...</td>\n",
       "      <td>5585.0</td>\n",
       "      <td>16:45</td>\n",
       "    </tr>\n",
       "    <tr>\n",
       "      <th>...</th>\n",
       "      <td>...</td>\n",
       "      <td>...</td>\n",
       "      <td>...</td>\n",
       "      <td>...</td>\n",
       "      <td>...</td>\n",
       "      <td>...</td>\n",
       "      <td>...</td>\n",
       "      <td>...</td>\n",
       "      <td>...</td>\n",
       "      <td>...</td>\n",
       "      <td>...</td>\n",
       "      <td>...</td>\n",
       "      <td>...</td>\n",
       "      <td>...</td>\n",
       "      <td>...</td>\n",
       "      <td>...</td>\n",
       "      <td>...</td>\n",
       "      <td>...</td>\n",
       "    </tr>\n",
       "    <tr>\n",
       "      <th>3752</th>\n",
       "      <td>1963-04-22</td>\n",
       "      <td>1963.0</td>\n",
       "      <td>Provoked</td>\n",
       "      <td>AUSTRALIA</td>\n",
       "      <td>New South Wales</td>\n",
       "      <td>Clarence Head</td>\n",
       "      <td>Fishing</td>\n",
       "      <td>Jack Sonter</td>\n",
       "      <td>M</td>\n",
       "      <td>27</td>\n",
       "      <td>Foot lacerated by netted shark PROVOKED INCIDENT</td>\n",
       "      <td>N</td>\n",
       "      <td>Sand Tiger Shark</td>\n",
       "      <td>H.D. Baldridge (1994) SAF Case #1472</td>\n",
       "      <td>1963.04.22-NV-Sonter.pdf</td>\n",
       "      <td>http://sharkattackfile.net/spreadsheets/pdf_di...</td>\n",
       "      <td>2551.0</td>\n",
       "      <td>unknown</td>\n",
       "    </tr>\n",
       "    <tr>\n",
       "      <th>3787</th>\n",
       "      <td>1962-10-14</td>\n",
       "      <td>1962.0</td>\n",
       "      <td>Boating</td>\n",
       "      <td>AUSTRALIA</td>\n",
       "      <td>South Australia</td>\n",
       "      <td>Port Phillip Bay</td>\n",
       "      <td>Adrift after wave swamped engine</td>\n",
       "      <td>speedboat, occupant: Michael Wilson</td>\n",
       "      <td>M</td>\n",
       "      <td>27</td>\n",
       "      <td>No injury to occupant, shark \"nibbled\" at boat</td>\n",
       "      <td>N</td>\n",
       "      <td>Sand Tiger Shark</td>\n",
       "      <td>Strand (London), 10/15/1962</td>\n",
       "      <td>1962.10.14-Wilson-boat.pdf</td>\n",
       "      <td>http://sharkattackfile.net/spreadsheets/pdf_di...</td>\n",
       "      <td>2516.0</td>\n",
       "      <td>unknown</td>\n",
       "    </tr>\n",
       "    <tr>\n",
       "      <th>4000</th>\n",
       "      <td>1960-04-10</td>\n",
       "      <td>1960.0</td>\n",
       "      <td>Provoked</td>\n",
       "      <td>AUSTRALIA</td>\n",
       "      <td>Western Australia</td>\n",
       "      <td>Off Rottnest Island</td>\n",
       "      <td>Spearfishing, shot a sandtiger shark. Cord to ...</td>\n",
       "      <td>Mick Coleman</td>\n",
       "      <td>M</td>\n",
       "      <td>27</td>\n",
       "      <td>Bruises &amp; minor injuries from reef, not the sh...</td>\n",
       "      <td>N</td>\n",
       "      <td>Sand Tiger shark</td>\n",
       "      <td>V.M. Coppleson (1962), p.252</td>\n",
       "      <td>1960.04.10-Coleman.pdf</td>\n",
       "      <td>http://sharkattackfile.net/spreadsheets/pdf_di...</td>\n",
       "      <td>2303.0</td>\n",
       "      <td>unknown</td>\n",
       "    </tr>\n",
       "    <tr>\n",
       "      <th>4559</th>\n",
       "      <td>1947-12-21</td>\n",
       "      <td>1947.0</td>\n",
       "      <td>Unprovoked</td>\n",
       "      <td>AUSTRALIA</td>\n",
       "      <td>New South Wales</td>\n",
       "      <td>Watson Taylor's Lake, 25 miles south of Port M...</td>\n",
       "      <td>Fishing</td>\n",
       "      <td>Don Ireland</td>\n",
       "      <td>M</td>\n",
       "      <td>9</td>\n",
       "      <td>Leg gashed</td>\n",
       "      <td>N</td>\n",
       "      <td>Sand Tiger Shark</td>\n",
       "      <td>Canberra Times, 12/22/1947</td>\n",
       "      <td>1947.12.21-Ireland.pdf</td>\n",
       "      <td>http://sharkattackfile.net/spreadsheets/pdf_di...</td>\n",
       "      <td>1744.0</td>\n",
       "      <td>unknown</td>\n",
       "    </tr>\n",
       "    <tr>\n",
       "      <th>4998</th>\n",
       "      <td>1932-01-11</td>\n",
       "      <td>1932.0</td>\n",
       "      <td>Boating</td>\n",
       "      <td>AUSTRALIA</td>\n",
       "      <td>Victoria</td>\n",
       "      <td>Frankston</td>\n",
       "      <td>Fishing</td>\n",
       "      <td>boat</td>\n",
       "      <td>unknown</td>\n",
       "      <td>27</td>\n",
       "      <td>No details</td>\n",
       "      <td>UNKNOWN</td>\n",
       "      <td>Sand Tiger Shark</td>\n",
       "      <td>G.P. Whitley citing Herald (Melbourne) 1/12/1932</td>\n",
       "      <td>1932.01.11-boatFrankston.pdf</td>\n",
       "      <td>http://sharkattackfile.net/spreadsheets/pdf_di...</td>\n",
       "      <td>1305.0</td>\n",
       "      <td>unknown</td>\n",
       "    </tr>\n",
       "  </tbody>\n",
       "</table>\n",
       "<p>43 rows × 18 columns</p>\n",
       "</div>"
      ],
      "text/plain": [
       "            date    Year        Type    Country                  Area  \\\n",
       "112   2017-07-23  2017.0  Unprovoked        USA            New Jersey   \n",
       "302   2016-03-02  2016.0  Unprovoked     BRAZIL  Santa Catarina State   \n",
       "310   2016-02-02  2016.0  Unprovoked     BRAZIL    Balneário Camboriú   \n",
       "407   2015-06-24  2015.0  Unprovoked        USA        North Carolina   \n",
       "718   2012-12-02  2012.0  Unprovoked  AUSTRALIA       New South Wales   \n",
       "...          ...     ...         ...        ...                   ...   \n",
       "3752  1963-04-22  1963.0    Provoked  AUSTRALIA       New South Wales   \n",
       "3787  1962-10-14  1962.0     Boating  AUSTRALIA       South Australia   \n",
       "4000  1960-04-10  1960.0    Provoked  AUSTRALIA     Western Australia   \n",
       "4559  1947-12-21  1947.0  Unprovoked  AUSTRALIA       New South Wales   \n",
       "4998  1932-01-11  1932.0     Boating  AUSTRALIA              Victoria   \n",
       "\n",
       "                                               Location  \\\n",
       "112                                             Ventnor   \n",
       "302                  Escalerio Beach Balneário Camboriú   \n",
       "310                                  Estaleirinho beach   \n",
       "407                                           Surf City   \n",
       "718                                        Green Island   \n",
       "...                                                 ...   \n",
       "3752                                      Clarence Head   \n",
       "3787                                   Port Phillip Bay   \n",
       "4000                                Off Rottnest Island   \n",
       "4559  Watson Taylor's Lake, 25 miles south of Port M...   \n",
       "4998                                          Frankston   \n",
       "\n",
       "                                               Activity  \\\n",
       "112                                             unknown   \n",
       "302                                            Swimming   \n",
       "310                                            Swimming   \n",
       "407                                            Swimming   \n",
       "718                                        Spearfishing   \n",
       "...                                                 ...   \n",
       "3752                                            Fishing   \n",
       "3787                   Adrift after wave swamped engine   \n",
       "4000  Spearfishing, shot a sandtiger shark. Cord to ...   \n",
       "4559                                            Fishing   \n",
       "4998                                            Fishing   \n",
       "\n",
       "                                     Name      Sex  Age  \\\n",
       "112                        Isabella Smith        F   27   \n",
       "302                  Rafael Hermes Thomas        M   41   \n",
       "310                  Rafael Hermes Thomas        M   41   \n",
       "407                           Brady Noyes        M    6   \n",
       "718                                  male        M   31   \n",
       "...                                   ...      ...  ...   \n",
       "3752                          Jack Sonter        M   27   \n",
       "3787  speedboat, occupant: Michael Wilson        M   27   \n",
       "4000                         Mick Coleman        M   27   \n",
       "4559                          Don Ireland        M    9   \n",
       "4998                                 boat  unknown   27   \n",
       "\n",
       "                                                 Injury    Fatal  \\\n",
       "112                                Minor injury to hand        N   \n",
       "302                                Minor injury to head        N   \n",
       "310                                Lacerations to scalp        N   \n",
       "407                                Minor injury to foot        N   \n",
       "718                       Minor puncture wounds to knee        N   \n",
       "...                                                 ...      ...   \n",
       "3752   Foot lacerated by netted shark PROVOKED INCIDENT        N   \n",
       "3787     No injury to occupant, shark \"nibbled\" at boat        N   \n",
       "4000  Bruises & minor injuries from reef, not the sh...        N   \n",
       "4559                                         Leg gashed        N   \n",
       "4998                                         No details  UNKNOWN   \n",
       "\n",
       "               Species                             Investigator or Source  \\\n",
       "112   Sand Tiger shark                                           A. Smith   \n",
       "302   Sand Tiger shark                           Misones Online, 3/4/2016   \n",
       "310   Sand Tiger shark                                    Globo, 2/3/2016   \n",
       "407   Sand Tiger shark                                  C. Creswell, GSAF   \n",
       "718   Sand Tiger shark                                ABC News, 12/2/2012   \n",
       "...                ...                                                ...   \n",
       "3752  Sand Tiger Shark               H.D. Baldridge (1994) SAF Case #1472   \n",
       "3787  Sand Tiger Shark                        Strand (London), 10/15/1962   \n",
       "4000  Sand Tiger shark                       V.M. Coppleson (1962), p.252   \n",
       "4559  Sand Tiger Shark                         Canberra Times, 12/22/1947   \n",
       "4998  Sand Tiger Shark  G.P. Whitley citing Herald (Melbourne) 1/12/1932    \n",
       "\n",
       "                               pdf  \\\n",
       "112         2017.07.23.b-Smith.pdf   \n",
       "302          2016.03.02-Thomas.pdf   \n",
       "310          2016.02.02-Thomas.pdf   \n",
       "407         2015.06.24.b-Noyes.pdf   \n",
       "718    2012.12.02-Green-Island.pdf   \n",
       "...                            ...   \n",
       "3752      1963.04.22-NV-Sonter.pdf   \n",
       "3787    1962.10.14-Wilson-boat.pdf   \n",
       "4000        1960.04.10-Coleman.pdf   \n",
       "4559        1947.12.21-Ireland.pdf   \n",
       "4998  1932.01.11-boatFrankston.pdf   \n",
       "\n",
       "                                                   href original order  \\\n",
       "112   http://sharkattackfile.net/spreadsheets/pdf_di...         6191.0   \n",
       "302   http://sharkattackfile.net/spreadsheets/pdf_di...         6001.0   \n",
       "310   http://sharkattackfile.net/spreadsheets/pdf_di...         5993.0   \n",
       "407   http://sharkattackfile.net/spreadsheets/pdf_di...         5896.0   \n",
       "718   http://sharkattackfile.net/spreadsheets/pdf_di...         5585.0   \n",
       "...                                                 ...            ...   \n",
       "3752  http://sharkattackfile.net/spreadsheets/pdf_di...         2551.0   \n",
       "3787  http://sharkattackfile.net/spreadsheets/pdf_di...         2516.0   \n",
       "4000  http://sharkattackfile.net/spreadsheets/pdf_di...         2303.0   \n",
       "4559  http://sharkattackfile.net/spreadsheets/pdf_di...         1744.0   \n",
       "4998  http://sharkattackfile.net/spreadsheets/pdf_di...         1305.0   \n",
       "\n",
       "         time  \n",
       "112   unknown  \n",
       "302   unknown  \n",
       "310   unknown  \n",
       "407     12:25  \n",
       "718     16:45  \n",
       "...       ...  \n",
       "3752  unknown  \n",
       "3787  unknown  \n",
       "4000  unknown  \n",
       "4559  unknown  \n",
       "4998  unknown  \n",
       "\n",
       "[43 rows x 18 columns]"
      ]
     },
     "execution_count": 399,
     "metadata": {},
     "output_type": "execute_result"
    }
   ],
   "source": []
  },
  {
   "cell_type": "code",
   "execution_count": 400,
   "id": "53416e0c",
   "metadata": {},
   "outputs": [
    {
     "data": {
      "text/plain": [
       "Caribbean Reef shark                   18\n",
       "Copper shark                           16\n",
       "Grey Reef shark                        15\n",
       "Unknown                                14\n",
       "Hammerhead shark                       10\n",
       "                                       ..\n",
       "5' spinner shark                        1\n",
       "1.7 m shark                             1\n",
       "Small dusky shark or blackfin shark     1\n",
       "Possibly a blacktip shark               1\n",
       "Silvertip shark                         1\n",
       "Name: Species, Length: 741, dtype: int64"
      ]
     },
     "execution_count": 400,
     "metadata": {},
     "output_type": "execute_result"
    }
   ],
   "source": [
    "sk.Species.value_counts()[13:]"
   ]
  },
  {
   "cell_type": "code",
   "execution_count": 401,
   "id": "dd5fb778",
   "metadata": {},
   "outputs": [],
   "source": [
    "sk.Species.replace('Unknown','unknown', inplace=True)"
   ]
  },
  {
   "cell_type": "code",
   "execution_count": 408,
   "id": "e0d0accb",
   "metadata": {},
   "outputs": [
    {
     "data": {
      "text/plain": [
       "Blacktip shark                         37\n",
       "Zambesi shark                          29\n",
       "Sand Tiger Shark                       23\n",
       "Sand Tiger shark                       20\n",
       "Caribbean Reef shark                   18\n",
       "                                       ..\n",
       "5' spinner shark                        1\n",
       "1.7 m shark                             1\n",
       "Small dusky shark or blackfin shark     1\n",
       "Possibly a blacktip shark               1\n",
       "Silvertip shark                         1\n",
       "Name: Species, Length: 744, dtype: int64"
      ]
     },
     "execution_count": 408,
     "metadata": {},
     "output_type": "execute_result"
    }
   ],
   "source": [
    "sk.Species.value_counts()[9:]"
   ]
  },
  {
   "cell_type": "code",
   "execution_count": 409,
   "id": "5709aaf3",
   "metadata": {},
   "outputs": [],
   "source": [
    "bk=sk.Species.str.contains('black', case=False)"
   ]
  },
  {
   "cell_type": "code",
   "execution_count": 410,
   "id": "c35ca123",
   "metadata": {},
   "outputs": [],
   "source": [
    "sk.at[bk, 'Species'] = 'Blacktip shark'"
   ]
  },
  {
   "cell_type": "code",
   "execution_count": 421,
   "id": "ef4e7717",
   "metadata": {},
   "outputs": [
    {
     "data": {
      "text/plain": [
       "Copper shark                                              16\n",
       "Grey Reef shark                                           15\n",
       "Hammerhead shark                                          10\n",
       "Sevengill shark                                            9\n",
       "2.1 m [7'] shark                                           9\n",
       "                                                          ..\n",
       "Bronze whaler or tiger shark                               1\n",
       "3.7 m to 4.6 m [12' to 15'] shark seen in the vicinity     1\n",
       "200 to 300 kg shark                                        1\n",
       "Shortfin mako shark, 3 m to 3.4 m [10' to 11']             1\n",
       "Silvertip shark                                            1\n",
       "Name: Species, Length: 660, dtype: int64"
      ]
     },
     "execution_count": 421,
     "metadata": {},
     "output_type": "execute_result"
    }
   ],
   "source": [
    "sk.Species.value_counts()[14:]"
   ]
  },
  {
   "cell_type": "code",
   "execution_count": 414,
   "id": "3fbbd669",
   "metadata": {},
   "outputs": [],
   "source": [
    "nrs=sk.Species.str.contains('nurse', case=False)"
   ]
  },
  {
   "cell_type": "code",
   "execution_count": 415,
   "id": "7042fdd5",
   "metadata": {},
   "outputs": [],
   "source": [
    "sk.at[nrs, 'Species'] = 'Nurse shark'"
   ]
  },
  {
   "cell_type": "code",
   "execution_count": 422,
   "id": "f0cf1678",
   "metadata": {},
   "outputs": [],
   "source": [
    "hamme=sk.Species.str.contains('hammerhead', case=False)"
   ]
  },
  {
   "cell_type": "code",
   "execution_count": 423,
   "id": "e3658831",
   "metadata": {},
   "outputs": [],
   "source": [
    "sk.at[hamme, 'Species'] = 'Hammerhead shark'"
   ]
  },
  {
   "cell_type": "code",
   "execution_count": 424,
   "id": "e2b605bf",
   "metadata": {},
   "outputs": [],
   "source": [
    "mkkkk=sk.Species.str.contains('mako', case=False)"
   ]
  },
  {
   "cell_type": "code",
   "execution_count": 425,
   "id": "19d77c8e",
   "metadata": {},
   "outputs": [],
   "source": [
    "sk.at[mkkkk, 'Species'] = 'Mako shark'"
   ]
  },
  {
   "cell_type": "code",
   "execution_count": 426,
   "id": "b9717391",
   "metadata": {},
   "outputs": [
    {
     "data": {
      "text/plain": [
       "Caribbean Reef shark                                      18\n",
       "Copper shark                                              16\n",
       "Grey Reef shark                                           15\n",
       "Sevengill shark                                            9\n",
       "1 m shark                                                  9\n",
       "                                                          ..\n",
       "Bronze whaler or tiger shark                               1\n",
       "3.7 m to 4.6 m [12' to 15'] shark seen in the vicinity     1\n",
       "200 to 300 kg shark                                        1\n",
       "1.8 m [6'] grey-colored shark                              1\n",
       "Silvertip shark                                            1\n",
       "Name: Species, Length: 614, dtype: int64"
      ]
     },
     "execution_count": 426,
     "metadata": {},
     "output_type": "execute_result"
    }
   ],
   "source": [
    "sk.Species.value_counts()[14:]"
   ]
  },
  {
   "cell_type": "code",
   "execution_count": null,
   "id": "37738cc4",
   "metadata": {},
   "outputs": [],
   "source": []
  }
 ],
 "metadata": {
  "kernelspec": {
   "display_name": "clase",
   "language": "python",
   "name": "clase"
  },
  "language_info": {
   "codemirror_mode": {
    "name": "ipython",
    "version": 3
   },
   "file_extension": ".py",
   "mimetype": "text/x-python",
   "name": "python",
   "nbconvert_exporter": "python",
   "pygments_lexer": "ipython3",
   "version": "3.7.13"
  }
 },
 "nbformat": 4,
 "nbformat_minor": 5
}

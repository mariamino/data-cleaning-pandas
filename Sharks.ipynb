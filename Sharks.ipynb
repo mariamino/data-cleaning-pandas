{
 "cells": [
  {
   "cell_type": "code",
   "execution_count": 69,
   "id": "558fbd86",
   "metadata": {},
   "outputs": [
    {
     "name": "stdout",
     "output_type": "stream",
     "text": [
      "Requirement already satisfied: ipython in /Users/maria/opt/anaconda3/envs/clase/lib/python3.7/site-packages (7.34.0)\n",
      "Requirement already satisfied: pickleshare in /Users/maria/opt/anaconda3/envs/clase/lib/python3.7/site-packages (from ipython) (0.7.5)\n",
      "Requirement already satisfied: pexpect>4.3 in /Users/maria/opt/anaconda3/envs/clase/lib/python3.7/site-packages (from ipython) (4.8.0)\n",
      "Requirement already satisfied: decorator in /Users/maria/opt/anaconda3/envs/clase/lib/python3.7/site-packages (from ipython) (5.1.1)\n",
      "Requirement already satisfied: matplotlib-inline in /Users/maria/opt/anaconda3/envs/clase/lib/python3.7/site-packages (from ipython) (0.1.6)\n",
      "Requirement already satisfied: traitlets>=4.2 in /Users/maria/opt/anaconda3/envs/clase/lib/python3.7/site-packages (from ipython) (5.4.0)\n",
      "Requirement already satisfied: backcall in /Users/maria/opt/anaconda3/envs/clase/lib/python3.7/site-packages (from ipython) (0.2.0)\n",
      "Requirement already satisfied: prompt-toolkit!=3.0.0,!=3.0.1,<3.1.0,>=2.0.0 in /Users/maria/opt/anaconda3/envs/clase/lib/python3.7/site-packages (from ipython) (3.0.31)\n",
      "Requirement already satisfied: pygments in /Users/maria/opt/anaconda3/envs/clase/lib/python3.7/site-packages (from ipython) (2.13.0)\n",
      "Requirement already satisfied: appnope in /Users/maria/opt/anaconda3/envs/clase/lib/python3.7/site-packages (from ipython) (0.1.3)\n",
      "Requirement already satisfied: setuptools>=18.5 in /Users/maria/opt/anaconda3/envs/clase/lib/python3.7/site-packages (from ipython) (63.4.1)\n",
      "Requirement already satisfied: jedi>=0.16 in /Users/maria/opt/anaconda3/envs/clase/lib/python3.7/site-packages (from ipython) (0.18.1)\n",
      "Requirement already satisfied: parso<0.9.0,>=0.8.0 in /Users/maria/opt/anaconda3/envs/clase/lib/python3.7/site-packages (from jedi>=0.16->ipython) (0.8.3)\n",
      "Requirement already satisfied: ptyprocess>=0.5 in /Users/maria/opt/anaconda3/envs/clase/lib/python3.7/site-packages (from pexpect>4.3->ipython) (0.7.0)\n",
      "Requirement already satisfied: wcwidth in /Users/maria/opt/anaconda3/envs/clase/lib/python3.7/site-packages (from prompt-toolkit!=3.0.0,!=3.0.1,<3.1.0,>=2.0.0->ipython) (0.2.5)\n",
      "Note: you may need to restart the kernel to use updated packages.\n",
      "Requirement already satisfied: seaborn in /Users/maria/opt/anaconda3/envs/clase/lib/python3.7/site-packages (0.12.1)\n",
      "Requirement already satisfied: pandas>=0.25 in /Users/maria/opt/anaconda3/envs/clase/lib/python3.7/site-packages (from seaborn) (1.3.5)\n",
      "Requirement already satisfied: matplotlib!=3.6.1,>=3.1 in /Users/maria/opt/anaconda3/envs/clase/lib/python3.7/site-packages (from seaborn) (3.5.3)\n",
      "Requirement already satisfied: numpy>=1.17 in /Users/maria/opt/anaconda3/envs/clase/lib/python3.7/site-packages (from seaborn) (1.21.6)\n",
      "Requirement already satisfied: typing_extensions in /Users/maria/opt/anaconda3/envs/clase/lib/python3.7/site-packages (from seaborn) (4.4.0)\n",
      "Requirement already satisfied: cycler>=0.10 in /Users/maria/opt/anaconda3/envs/clase/lib/python3.7/site-packages (from matplotlib!=3.6.1,>=3.1->seaborn) (0.11.0)\n",
      "Requirement already satisfied: fonttools>=4.22.0 in /Users/maria/opt/anaconda3/envs/clase/lib/python3.7/site-packages (from matplotlib!=3.6.1,>=3.1->seaborn) (4.38.0)\n",
      "Requirement already satisfied: pillow>=6.2.0 in /Users/maria/opt/anaconda3/envs/clase/lib/python3.7/site-packages (from matplotlib!=3.6.1,>=3.1->seaborn) (9.2.0)\n",
      "Requirement already satisfied: pyparsing>=2.2.1 in /Users/maria/opt/anaconda3/envs/clase/lib/python3.7/site-packages (from matplotlib!=3.6.1,>=3.1->seaborn) (3.0.9)\n",
      "Requirement already satisfied: packaging>=20.0 in /Users/maria/opt/anaconda3/envs/clase/lib/python3.7/site-packages (from matplotlib!=3.6.1,>=3.1->seaborn) (21.3)\n",
      "Requirement already satisfied: python-dateutil>=2.7 in /Users/maria/opt/anaconda3/envs/clase/lib/python3.7/site-packages (from matplotlib!=3.6.1,>=3.1->seaborn) (2.8.2)\n",
      "Requirement already satisfied: kiwisolver>=1.0.1 in /Users/maria/opt/anaconda3/envs/clase/lib/python3.7/site-packages (from matplotlib!=3.6.1,>=3.1->seaborn) (1.4.4)\n",
      "Requirement already satisfied: pytz>=2017.3 in /Users/maria/opt/anaconda3/envs/clase/lib/python3.7/site-packages (from pandas>=0.25->seaborn) (2022.4)\n",
      "Requirement already satisfied: six>=1.5 in /Users/maria/opt/anaconda3/envs/clase/lib/python3.7/site-packages (from python-dateutil>=2.7->matplotlib!=3.6.1,>=3.1->seaborn) (1.16.0)\n",
      "Note: you may need to restart the kernel to use updated packages.\n"
     ]
    }
   ],
   "source": [
    "%pip install ipython\n",
    "%pip install seaborn"
   ]
  },
  {
   "cell_type": "code",
   "execution_count": 70,
   "id": "95e191ca",
   "metadata": {},
   "outputs": [],
   "source": [
    "import pandas as pd\n",
    "pd.set_option('display.max_columns', None)\n",
    "\n",
    "import numpy as np\n",
    "\n",
    "import warnings\n",
    "warnings.filterwarnings('ignore')\n",
    "\n",
    "\n",
    "# para pintar\n",
    "import pylab as plt\n",
    "import seaborn as sns\n",
    "\n",
    "#para que salga el grafico\n",
    "%matplotlib inline\n",
    "\n",
    "import csv"
   ]
  },
  {
   "cell_type": "code",
   "execution_count": 71,
   "id": "1d3613fc",
   "metadata": {},
   "outputs": [
    {
     "data": {
      "text/html": [
       "<div>\n",
       "<style scoped>\n",
       "    .dataframe tbody tr th:only-of-type {\n",
       "        vertical-align: middle;\n",
       "    }\n",
       "\n",
       "    .dataframe tbody tr th {\n",
       "        vertical-align: top;\n",
       "    }\n",
       "\n",
       "    .dataframe thead th {\n",
       "        text-align: right;\n",
       "    }\n",
       "</style>\n",
       "<table border=\"1\" class=\"dataframe\">\n",
       "  <thead>\n",
       "    <tr style=\"text-align: right;\">\n",
       "      <th></th>\n",
       "      <th>Case Number</th>\n",
       "      <th>Date</th>\n",
       "      <th>Year</th>\n",
       "      <th>Type</th>\n",
       "      <th>Country</th>\n",
       "      <th>Area</th>\n",
       "      <th>Location</th>\n",
       "      <th>Activity</th>\n",
       "      <th>Name</th>\n",
       "      <th>Sex</th>\n",
       "      <th>Age</th>\n",
       "      <th>Injury</th>\n",
       "      <th>Fatal (Y/N)</th>\n",
       "      <th>Time</th>\n",
       "      <th>Species</th>\n",
       "      <th>Investigator or Source</th>\n",
       "      <th>pdf</th>\n",
       "      <th>href formula</th>\n",
       "      <th>href</th>\n",
       "      <th>Case Number.1</th>\n",
       "      <th>Case Number.2</th>\n",
       "      <th>original order</th>\n",
       "      <th>Unnamed: 22</th>\n",
       "      <th>Unnamed: 23</th>\n",
       "    </tr>\n",
       "  </thead>\n",
       "  <tbody>\n",
       "    <tr>\n",
       "      <th>0</th>\n",
       "      <td>2018.06.25</td>\n",
       "      <td>25-Jun-2018</td>\n",
       "      <td>2018.0</td>\n",
       "      <td>Boating</td>\n",
       "      <td>USA</td>\n",
       "      <td>California</td>\n",
       "      <td>Oceanside, San Diego County</td>\n",
       "      <td>Paddling</td>\n",
       "      <td>Julie Wolfe</td>\n",
       "      <td>F</td>\n",
       "      <td>57</td>\n",
       "      <td>No injury to occupant, outrigger canoe and pad...</td>\n",
       "      <td>N</td>\n",
       "      <td>18h00</td>\n",
       "      <td>White shark</td>\n",
       "      <td>R. Collier, GSAF</td>\n",
       "      <td>2018.06.25-Wolfe.pdf</td>\n",
       "      <td>http://sharkattackfile.net/spreadsheets/pdf_di...</td>\n",
       "      <td>http://sharkattackfile.net/spreadsheets/pdf_di...</td>\n",
       "      <td>2018.06.25</td>\n",
       "      <td>2018.06.25</td>\n",
       "      <td>6303.0</td>\n",
       "      <td>NaN</td>\n",
       "      <td>NaN</td>\n",
       "    </tr>\n",
       "    <tr>\n",
       "      <th>1</th>\n",
       "      <td>2018.06.18</td>\n",
       "      <td>18-Jun-2018</td>\n",
       "      <td>2018.0</td>\n",
       "      <td>Unprovoked</td>\n",
       "      <td>USA</td>\n",
       "      <td>Georgia</td>\n",
       "      <td>St. Simon Island, Glynn County</td>\n",
       "      <td>Standing</td>\n",
       "      <td>Adyson McNeely</td>\n",
       "      <td>F</td>\n",
       "      <td>11</td>\n",
       "      <td>Minor injury to left thigh</td>\n",
       "      <td>N</td>\n",
       "      <td>14h00  -15h00</td>\n",
       "      <td>NaN</td>\n",
       "      <td>K.McMurray, TrackingSharks.com</td>\n",
       "      <td>2018.06.18-McNeely.pdf</td>\n",
       "      <td>http://sharkattackfile.net/spreadsheets/pdf_di...</td>\n",
       "      <td>http://sharkattackfile.net/spreadsheets/pdf_di...</td>\n",
       "      <td>2018.06.18</td>\n",
       "      <td>2018.06.18</td>\n",
       "      <td>6302.0</td>\n",
       "      <td>NaN</td>\n",
       "      <td>NaN</td>\n",
       "    </tr>\n",
       "    <tr>\n",
       "      <th>2</th>\n",
       "      <td>2018.06.09</td>\n",
       "      <td>09-Jun-2018</td>\n",
       "      <td>2018.0</td>\n",
       "      <td>Invalid</td>\n",
       "      <td>USA</td>\n",
       "      <td>Hawaii</td>\n",
       "      <td>Habush, Oahu</td>\n",
       "      <td>Surfing</td>\n",
       "      <td>John Denges</td>\n",
       "      <td>M</td>\n",
       "      <td>48</td>\n",
       "      <td>Injury to left lower leg from surfboard skeg</td>\n",
       "      <td>N</td>\n",
       "      <td>07h45</td>\n",
       "      <td>NaN</td>\n",
       "      <td>K.McMurray, TrackingSharks.com</td>\n",
       "      <td>2018.06.09-Denges.pdf</td>\n",
       "      <td>http://sharkattackfile.net/spreadsheets/pdf_di...</td>\n",
       "      <td>http://sharkattackfile.net/spreadsheets/pdf_di...</td>\n",
       "      <td>2018.06.09</td>\n",
       "      <td>2018.06.09</td>\n",
       "      <td>6301.0</td>\n",
       "      <td>NaN</td>\n",
       "      <td>NaN</td>\n",
       "    </tr>\n",
       "    <tr>\n",
       "      <th>3</th>\n",
       "      <td>2018.06.08</td>\n",
       "      <td>08-Jun-2018</td>\n",
       "      <td>2018.0</td>\n",
       "      <td>Unprovoked</td>\n",
       "      <td>AUSTRALIA</td>\n",
       "      <td>New South Wales</td>\n",
       "      <td>Arrawarra Headland</td>\n",
       "      <td>Surfing</td>\n",
       "      <td>male</td>\n",
       "      <td>M</td>\n",
       "      <td>NaN</td>\n",
       "      <td>Minor injury to lower leg</td>\n",
       "      <td>N</td>\n",
       "      <td>NaN</td>\n",
       "      <td>2 m shark</td>\n",
       "      <td>B. Myatt, GSAF</td>\n",
       "      <td>2018.06.08-Arrawarra.pdf</td>\n",
       "      <td>http://sharkattackfile.net/spreadsheets/pdf_di...</td>\n",
       "      <td>http://sharkattackfile.net/spreadsheets/pdf_di...</td>\n",
       "      <td>2018.06.08</td>\n",
       "      <td>2018.06.08</td>\n",
       "      <td>6300.0</td>\n",
       "      <td>NaN</td>\n",
       "      <td>NaN</td>\n",
       "    </tr>\n",
       "    <tr>\n",
       "      <th>4</th>\n",
       "      <td>2018.06.04</td>\n",
       "      <td>04-Jun-2018</td>\n",
       "      <td>2018.0</td>\n",
       "      <td>Provoked</td>\n",
       "      <td>MEXICO</td>\n",
       "      <td>Colima</td>\n",
       "      <td>La Ticla</td>\n",
       "      <td>Free diving</td>\n",
       "      <td>Gustavo Ramos</td>\n",
       "      <td>M</td>\n",
       "      <td>NaN</td>\n",
       "      <td>Lacerations to leg &amp; hand shark PROVOKED INCIDENT</td>\n",
       "      <td>N</td>\n",
       "      <td>NaN</td>\n",
       "      <td>Tiger shark, 3m</td>\n",
       "      <td>A .Kipper</td>\n",
       "      <td>2018.06.04-Ramos.pdf</td>\n",
       "      <td>http://sharkattackfile.net/spreadsheets/pdf_di...</td>\n",
       "      <td>http://sharkattackfile.net/spreadsheets/pdf_di...</td>\n",
       "      <td>2018.06.04</td>\n",
       "      <td>2018.06.04</td>\n",
       "      <td>6299.0</td>\n",
       "      <td>NaN</td>\n",
       "      <td>NaN</td>\n",
       "    </tr>\n",
       "  </tbody>\n",
       "</table>\n",
       "</div>"
      ],
      "text/plain": [
       "  Case Number         Date    Year        Type    Country             Area  \\\n",
       "0  2018.06.25  25-Jun-2018  2018.0     Boating        USA       California   \n",
       "1  2018.06.18  18-Jun-2018  2018.0  Unprovoked        USA          Georgia   \n",
       "2  2018.06.09  09-Jun-2018  2018.0     Invalid        USA           Hawaii   \n",
       "3  2018.06.08  08-Jun-2018  2018.0  Unprovoked  AUSTRALIA  New South Wales   \n",
       "4  2018.06.04  04-Jun-2018  2018.0    Provoked     MEXICO           Colima   \n",
       "\n",
       "                         Location     Activity             Name Sex   Age  \\\n",
       "0     Oceanside, San Diego County     Paddling      Julie Wolfe    F   57   \n",
       "1  St. Simon Island, Glynn County     Standing  Adyson McNeely     F   11   \n",
       "2                    Habush, Oahu      Surfing      John Denges    M   48   \n",
       "3              Arrawarra Headland      Surfing             male    M  NaN   \n",
       "4                        La Ticla  Free diving   Gustavo Ramos     M  NaN   \n",
       "\n",
       "                                              Injury Fatal (Y/N)  \\\n",
       "0  No injury to occupant, outrigger canoe and pad...           N   \n",
       "1                         Minor injury to left thigh           N   \n",
       "2       Injury to left lower leg from surfboard skeg           N   \n",
       "3                          Minor injury to lower leg           N   \n",
       "4  Lacerations to leg & hand shark PROVOKED INCIDENT           N   \n",
       "\n",
       "            Time         Species           Investigator or Source  \\\n",
       "0          18h00      White shark                R. Collier, GSAF   \n",
       "1  14h00  -15h00              NaN  K.McMurray, TrackingSharks.com   \n",
       "2          07h45              NaN  K.McMurray, TrackingSharks.com   \n",
       "3            NaN        2 m shark                  B. Myatt, GSAF   \n",
       "4            NaN  Tiger shark, 3m                       A .Kipper   \n",
       "\n",
       "                        pdf  \\\n",
       "0      2018.06.25-Wolfe.pdf   \n",
       "1    2018.06.18-McNeely.pdf   \n",
       "2     2018.06.09-Denges.pdf   \n",
       "3  2018.06.08-Arrawarra.pdf   \n",
       "4      2018.06.04-Ramos.pdf   \n",
       "\n",
       "                                        href formula  \\\n",
       "0  http://sharkattackfile.net/spreadsheets/pdf_di...   \n",
       "1  http://sharkattackfile.net/spreadsheets/pdf_di...   \n",
       "2  http://sharkattackfile.net/spreadsheets/pdf_di...   \n",
       "3  http://sharkattackfile.net/spreadsheets/pdf_di...   \n",
       "4  http://sharkattackfile.net/spreadsheets/pdf_di...   \n",
       "\n",
       "                                                href Case Number.1  \\\n",
       "0  http://sharkattackfile.net/spreadsheets/pdf_di...    2018.06.25   \n",
       "1  http://sharkattackfile.net/spreadsheets/pdf_di...    2018.06.18   \n",
       "2  http://sharkattackfile.net/spreadsheets/pdf_di...    2018.06.09   \n",
       "3  http://sharkattackfile.net/spreadsheets/pdf_di...    2018.06.08   \n",
       "4  http://sharkattackfile.net/spreadsheets/pdf_di...    2018.06.04   \n",
       "\n",
       "  Case Number.2  original order Unnamed: 22 Unnamed: 23  \n",
       "0    2018.06.25          6303.0         NaN         NaN  \n",
       "1    2018.06.18          6302.0         NaN         NaN  \n",
       "2    2018.06.09          6301.0         NaN         NaN  \n",
       "3    2018.06.08          6300.0         NaN         NaN  \n",
       "4    2018.06.04          6299.0         NaN         NaN  "
      ]
     },
     "execution_count": 71,
     "metadata": {},
     "output_type": "execute_result"
    }
   ],
   "source": [
    "sharks_ori = pd.read_csv('data/attacks.csv', encoding='latin1')\n",
    "\n",
    "sk=sharks_ori.copy()\n",
    "\n",
    "sk.head()"
   ]
  },
  {
   "cell_type": "code",
   "execution_count": 72,
   "id": "1499c44d",
   "metadata": {},
   "outputs": [
    {
     "data": {
      "text/plain": [
       "(25723, 24)"
      ]
     },
     "execution_count": 72,
     "metadata": {},
     "output_type": "execute_result"
    }
   ],
   "source": [
    "sharks_ori.shape"
   ]
  },
  {
   "cell_type": "code",
   "execution_count": 73,
   "id": "452a789a",
   "metadata": {
    "scrolled": true
   },
   "outputs": [
    {
     "data": {
      "text/plain": [
       "(25723, 24)"
      ]
     },
     "execution_count": 73,
     "metadata": {},
     "output_type": "execute_result"
    }
   ],
   "source": [
    "sk.shape"
   ]
  },
  {
   "cell_type": "code",
   "execution_count": 74,
   "id": "40e9e9a6",
   "metadata": {
    "scrolled": true
   },
   "outputs": [
    {
     "name": "stdout",
     "output_type": "stream",
     "text": [
      "<class 'pandas.core.frame.DataFrame'>\n",
      "RangeIndex: 25723 entries, 0 to 25722\n",
      "Data columns (total 24 columns):\n",
      " #   Column                  Non-Null Count  Dtype  \n",
      "---  ------                  --------------  -----  \n",
      " 0   Case Number             8702 non-null   object \n",
      " 1   Date                    6302 non-null   object \n",
      " 2   Year                    6300 non-null   float64\n",
      " 3   Type                    6298 non-null   object \n",
      " 4   Country                 6252 non-null   object \n",
      " 5   Area                    5847 non-null   object \n",
      " 6   Location                5762 non-null   object \n",
      " 7   Activity                5758 non-null   object \n",
      " 8   Name                    6092 non-null   object \n",
      " 9   Sex                     5737 non-null   object \n",
      " 10  Age                     3471 non-null   object \n",
      " 11  Injury                  6274 non-null   object \n",
      " 12  Fatal (Y/N)             5763 non-null   object \n",
      " 13  Time                    2948 non-null   object \n",
      " 14  Species                 3464 non-null   object \n",
      " 15  Investigator or Source  6285 non-null   object \n",
      " 16  pdf                     6302 non-null   object \n",
      " 17  href formula            6301 non-null   object \n",
      " 18  href                    6302 non-null   object \n",
      " 19  Case Number.1           6302 non-null   object \n",
      " 20  Case Number.2           6302 non-null   object \n",
      " 21  original order          6309 non-null   float64\n",
      " 22  Unnamed: 22             1 non-null      object \n",
      " 23  Unnamed: 23             2 non-null      object \n",
      "dtypes: float64(2), object(22)\n",
      "memory usage: 22.8 MB\n"
     ]
    }
   ],
   "source": [
    "sk.info(memory_usage='deep')"
   ]
  },
  {
   "cell_type": "code",
   "execution_count": 75,
   "id": "17095ba0",
   "metadata": {
    "scrolled": true
   },
   "outputs": [
    {
     "data": {
      "text/plain": [
       "Index(['Case Number', 'Date', 'Year', 'Type', 'Country', 'Area', 'Location',\n",
       "       'Activity', 'Name', 'Sex ', 'Age', 'Injury', 'Fatal (Y/N)', 'Time',\n",
       "       'Species ', 'Investigator or Source', 'pdf', 'href formula', 'href',\n",
       "       'Case Number.1', 'Case Number.2', 'original order', 'Unnamed: 22',\n",
       "       'Unnamed: 23'],\n",
       "      dtype='object')"
      ]
     },
     "execution_count": 75,
     "metadata": {},
     "output_type": "execute_result"
    }
   ],
   "source": [
    "sk.columns"
   ]
  },
  {
   "cell_type": "code",
   "execution_count": 76,
   "id": "eab44b24",
   "metadata": {},
   "outputs": [],
   "source": [
    "sk = sk.rename(columns={'Sex ': 'Sex','Fatal (Y/N)': 'Fatal','Species ': 'Species' })"
   ]
  },
  {
   "cell_type": "code",
   "execution_count": 77,
   "id": "cd5cbd26",
   "metadata": {},
   "outputs": [
    {
     "data": {
      "text/plain": [
       "Int64Index([ 8702,  8703,  8704,  8705,  8706,  8707,  8708,  8709,  8710,\n",
       "             8711,\n",
       "            ...\n",
       "            25712, 25713, 25714, 25715, 25716, 25717, 25718, 25719, 25720,\n",
       "            25721],\n",
       "           dtype='int64', length=17020)"
      ]
     },
     "execution_count": 77,
     "metadata": {},
     "output_type": "execute_result"
    }
   ],
   "source": [
    "selected_rows = sk[sk.isnull().all(axis=1)]\n",
    "selected_rows.index"
   ]
  },
  {
   "cell_type": "code",
   "execution_count": 78,
   "id": "42d25d13",
   "metadata": {},
   "outputs": [],
   "source": [
    "sk.drop(selected_rows.index,inplace=True)"
   ]
  },
  {
   "cell_type": "code",
   "execution_count": 79,
   "id": "e875bf7f",
   "metadata": {},
   "outputs": [
    {
     "data": {
      "text/plain": [
       "(8703, 24)"
      ]
     },
     "execution_count": 79,
     "metadata": {},
     "output_type": "execute_result"
    }
   ],
   "source": [
    "sk.shape"
   ]
  },
  {
   "cell_type": "code",
   "execution_count": 80,
   "id": "6a9a760b",
   "metadata": {},
   "outputs": [
    {
     "data": {
      "text/plain": [
       "Unnamed: 22               99.988510\n",
       "Unnamed: 23               99.977019\n",
       "Time                      66.126623\n",
       "Species                   60.197633\n",
       "Age                       60.117201\n",
       "Sex                       34.080202\n",
       "Activity                  33.838906\n",
       "Location                  33.792945\n",
       "Fatal                     33.781455\n",
       "Area                      32.816270\n",
       "Name                      30.001149\n",
       "Country                   28.162703\n",
       "Injury                    27.909916\n",
       "Investigator or Source    27.783523\n",
       "Type                      27.634149\n",
       "Year                      27.611169\n",
       "href formula              27.599678\n",
       "Date                      27.588188\n",
       "pdf                       27.588188\n",
       "href                      27.588188\n",
       "Case Number.1             27.588188\n",
       "Case Number.2             27.588188\n",
       "original order            27.507756\n",
       "Case Number                0.011490\n",
       "dtype: float64"
      ]
     },
     "execution_count": 80,
     "metadata": {},
     "output_type": "execute_result"
    }
   ],
   "source": [
    "nan_cols=sk.isna().mean() * 100  # porcentaje de nulos por columna\n",
    "\n",
    "pepe= nan_cols[nan_cols>0].sort_values(ascending=False)\n",
    "\n",
    "pepe"
   ]
  },
  {
   "cell_type": "code",
   "execution_count": 81,
   "id": "a4c21548",
   "metadata": {},
   "outputs": [],
   "source": [
    "sk.drop(columns=['Unnamed: 22', 'Unnamed: 23'], inplace=True)"
   ]
  },
  {
   "cell_type": "code",
   "execution_count": 82,
   "id": "7a49ecef",
   "metadata": {},
   "outputs": [
    {
     "data": {
      "text/plain": [
       "(8703, 22)"
      ]
     },
     "execution_count": 82,
     "metadata": {},
     "output_type": "execute_result"
    }
   ],
   "source": [
    "sk.shape"
   ]
  },
  {
   "cell_type": "code",
   "execution_count": 83,
   "id": "24fc29e1",
   "metadata": {
    "scrolled": true
   },
   "outputs": [],
   "source": [
    "sk.Species.fillna('unknown', inplace=True)"
   ]
  },
  {
   "cell_type": "code",
   "execution_count": 84,
   "id": "faecd7e8",
   "metadata": {
    "scrolled": true
   },
   "outputs": [
    {
     "data": {
      "text/plain": [
       "Time                      66.126623\n",
       "Age                       60.117201\n",
       "Sex                       34.080202\n",
       "Activity                  33.838906\n",
       "Location                  33.792945\n",
       "Fatal                     33.781455\n",
       "Area                      32.816270\n",
       "Name                      30.001149\n",
       "Country                   28.162703\n",
       "Injury                    27.909916\n",
       "Investigator or Source    27.783523\n",
       "Type                      27.634149\n",
       "Year                      27.611169\n",
       "href formula              27.599678\n",
       "Case Number.2             27.588188\n",
       "Date                      27.588188\n",
       "pdf                       27.588188\n",
       "href                      27.588188\n",
       "Case Number.1             27.588188\n",
       "original order            27.507756\n",
       "Case Number                0.011490\n",
       "dtype: float64"
      ]
     },
     "execution_count": 84,
     "metadata": {},
     "output_type": "execute_result"
    }
   ],
   "source": [
    "nan_cols=sk.isna().mean() * 100  # porcentaje de nulos por columna\n",
    "\n",
    "pepe= nan_cols[nan_cols>0].sort_values(ascending=False)\n",
    "\n",
    "pepe"
   ]
  },
  {
   "cell_type": "code",
   "execution_count": 85,
   "id": "d4186106",
   "metadata": {},
   "outputs": [
    {
     "name": "stdout",
     "output_type": "stream",
     "text": [
      "<class 'pandas.core.frame.DataFrame'>\n",
      "Int64Index: 8703 entries, 0 to 25722\n",
      "Data columns (total 22 columns):\n",
      " #   Column                  Non-Null Count  Dtype  \n",
      "---  ------                  --------------  -----  \n",
      " 0   Case Number             8702 non-null   object \n",
      " 1   Date                    6302 non-null   object \n",
      " 2   Year                    6300 non-null   float64\n",
      " 3   Type                    6298 non-null   object \n",
      " 4   Country                 6252 non-null   object \n",
      " 5   Area                    5847 non-null   object \n",
      " 6   Location                5762 non-null   object \n",
      " 7   Activity                5758 non-null   object \n",
      " 8   Name                    6092 non-null   object \n",
      " 9   Sex                     5737 non-null   object \n",
      " 10  Age                     3471 non-null   object \n",
      " 11  Injury                  6274 non-null   object \n",
      " 12  Fatal                   5763 non-null   object \n",
      " 13  Time                    2948 non-null   object \n",
      " 14  Species                 8703 non-null   object \n",
      " 15  Investigator or Source  6285 non-null   object \n",
      " 16  pdf                     6302 non-null   object \n",
      " 17  href formula            6301 non-null   object \n",
      " 18  href                    6302 non-null   object \n",
      " 19  Case Number.1           6302 non-null   object \n",
      " 20  Case Number.2           6302 non-null   object \n",
      " 21  original order          6309 non-null   float64\n",
      "dtypes: float64(2), object(20)\n",
      "memory usage: 10.8 MB\n"
     ]
    }
   ],
   "source": [
    "sk.info(memory_usage='deep')"
   ]
  },
  {
   "cell_type": "markdown",
   "id": "9fcf2a32",
   "metadata": {},
   "source": [
    "Convertir las columnas numéricas a float:"
   ]
  },
  {
   "cell_type": "code",
   "execution_count": 86,
   "id": "a7597e6a",
   "metadata": {},
   "outputs": [],
   "source": [
    "col_deberian_num=['Age']"
   ]
  },
  {
   "cell_type": "code",
   "execution_count": 87,
   "id": "59f7e9f6",
   "metadata": {},
   "outputs": [],
   "source": [
    "sk['Age'] = pd.to_numeric(sk['Age'], errors='coerce',downcast='integer')"
   ]
  },
  {
   "cell_type": "code",
   "execution_count": 88,
   "id": "0c52f420",
   "metadata": {
    "scrolled": true
   },
   "outputs": [
    {
     "data": {
      "text/plain": [
       "dtype('float64')"
      ]
     },
     "execution_count": 88,
     "metadata": {},
     "output_type": "execute_result"
    }
   ],
   "source": [
    "sk.Age.dtype"
   ]
  },
  {
   "cell_type": "markdown",
   "id": "2764d439",
   "metadata": {},
   "source": [
    "Convertir las columnas con contenido temporal a datetime:"
   ]
  },
  {
   "cell_type": "code",
   "execution_count": 89,
   "id": "db76808d",
   "metadata": {},
   "outputs": [],
   "source": [
    "col_deberian_daytime=['Date','Case Number.1','Case Number.2']"
   ]
  },
  {
   "cell_type": "code",
   "execution_count": 90,
   "id": "7e5cd54c",
   "metadata": {},
   "outputs": [],
   "source": [
    "sk['Date'] = pd.to_datetime(sk['Date'], errors='coerce')"
   ]
  },
  {
   "cell_type": "code",
   "execution_count": 91,
   "id": "cd5e4460",
   "metadata": {},
   "outputs": [],
   "source": [
    "sk['Case Number.1'] = pd.to_datetime(sk['Case Number.1'], errors='coerce')"
   ]
  },
  {
   "cell_type": "code",
   "execution_count": 92,
   "id": "8a676d2e",
   "metadata": {},
   "outputs": [],
   "source": [
    "sk['Case Number.2'] = pd.to_datetime(sk['Case Number.2'], errors='coerce')"
   ]
  },
  {
   "cell_type": "code",
   "execution_count": 93,
   "id": "b7491a0d",
   "metadata": {},
   "outputs": [
    {
     "name": "stdout",
     "output_type": "stream",
     "text": [
      "<class 'pandas.core.frame.DataFrame'>\n",
      "Int64Index: 8703 entries, 0 to 25722\n",
      "Data columns (total 22 columns):\n",
      " #   Column                  Non-Null Count  Dtype         \n",
      "---  ------                  --------------  -----         \n",
      " 0   Case Number             8702 non-null   object        \n",
      " 1   Date                    5458 non-null   datetime64[ns]\n",
      " 2   Year                    6300 non-null   float64       \n",
      " 3   Type                    6298 non-null   object        \n",
      " 4   Country                 6252 non-null   object        \n",
      " 5   Area                    5847 non-null   object        \n",
      " 6   Location                5762 non-null   object        \n",
      " 7   Activity                5758 non-null   object        \n",
      " 8   Name                    6092 non-null   object        \n",
      " 9   Sex                     5737 non-null   object        \n",
      " 10  Age                     3369 non-null   float64       \n",
      " 11  Injury                  6274 non-null   object        \n",
      " 12  Fatal                   5763 non-null   object        \n",
      " 13  Time                    2948 non-null   object        \n",
      " 14  Species                 8703 non-null   object        \n",
      " 15  Investigator or Source  6285 non-null   object        \n",
      " 16  pdf                     6302 non-null   object        \n",
      " 17  href formula            6301 non-null   object        \n",
      " 18  href                    6302 non-null   object        \n",
      " 19  Case Number.1           3815 non-null   datetime64[ns]\n",
      " 20  Case Number.2           3813 non-null   datetime64[ns]\n",
      " 21  original order          6309 non-null   float64       \n",
      "dtypes: datetime64[ns](3), float64(3), object(16)\n",
      "memory usage: 9.2 MB\n"
     ]
    }
   ],
   "source": [
    "sk.info(memory_usage='deep')"
   ]
  },
  {
   "cell_type": "markdown",
   "id": "b63b0e3e",
   "metadata": {},
   "source": [
    "Convetir los NaN a 'unknown':"
   ]
  },
  {
   "cell_type": "code",
   "execution_count": 94,
   "id": "1a42fbaf",
   "metadata": {},
   "outputs": [],
   "source": [
    "sk.Time.fillna('unknown', inplace=True)"
   ]
  },
  {
   "cell_type": "code",
   "execution_count": 95,
   "id": "46962797",
   "metadata": {},
   "outputs": [
    {
     "data": {
      "text/plain": [
       "array(['18h00', '14h00  -15h00', '07h45', 'unknown', 'Late afternoon',\n",
       "       '17h00', '14h00', 'Morning', '15h00', '08h15', '11h00', '10h30',\n",
       "       '10h40', '16h50', '07h00', '09h30', 'Afternoon', '21h50', '09h40',\n",
       "       '08h00', '17h35', '15h30', '07h30', '19h00, Dusk', 'Night',\n",
       "       '16h00', '15h01', '12h00', '13h45', '23h30', '09h00', '14h30',\n",
       "       '18h30', '12h30', '16h30', '18h45', '06h00', '10h00', '10h44',\n",
       "       '13h19', 'Midday', '13h30', '10h45', '11h20', '11h45', '19h30',\n",
       "       '08h30', '15h45', 'Shortly before 12h00', '17h34', '17h10',\n",
       "       '11h15', '08h50', '17h45', '13h00', '10h20', '13h20', '02h00',\n",
       "       '09h50', '11h30', '17h30', '9h00', '10h43', 'After noon', '15h15',\n",
       "       '15h40', '19h05', '1300', '14h30 / 15h30', '22h00', '16h20',\n",
       "       '14h34', '15h25', '14h55', '17h46', 'Morning ', '15h49', '19h00',\n",
       "       'Midnight', '09h30 / 10h00', '10h15', '18h15', '04h00', '14h50',\n",
       "       '13h50', '19h20', '10h25', '10h45-11h15', '16h45', '15h52',\n",
       "       '06h15', '14h40', '19h45', '10h10', '08h45', 'Evening', '12h10',\n",
       "       '18h05', '11h41', '12h25', '17h51', '16h12', '12h45', '10h50',\n",
       "       '14h15', '09h45', '06h45', '05h00', '03h30',\n",
       "       'Sometime between 06h00 & 08hoo', '06h30', '17h20', '20h00',\n",
       "       '16h40', '16h18', '11h10', 'Early afternoon', '17h50',\n",
       "       '07h00 - 08h00', '18h15-18h30', '17h01', '09h57', '08h20', '17h58',\n",
       "       '20h30', '15h19', '10h55', '15h55', '23h00', '12h40', '13h55',\n",
       "       '16h05', '14h10', '15h20', '12h50', '14h45', '13h40', '13h24',\n",
       "       '09h00 - 09h30', '0830', '11h40', '08h10', '15h56', '14h20',\n",
       "       'Just before noon', '07h56', '1600', '17h17', '16h35', '09h05',\n",
       "       '07h15', '07h20', '19h28', '12h38', '05h50', '15h50', '11h05',\n",
       "       'Early morning', 'Dawn', '05h45', '13h25', '12h20', '13h26',\n",
       "       '09h11', '12h15', '13h15', '18h20', '15h35', 'AM', '13h51', 'A.M.',\n",
       "       '08h05', '19h15', '10h35', '15h44', 'Dusk', '21h00', 'Lunchtime',\n",
       "       '15j45', '09h35', '10h27', '10h16', '0500', 'Before 07h00',\n",
       "       '09h20', '10h00 -- 11h00', '12h05', '14h21', '18h50', '15h53',\n",
       "       '\"Just before 11h00\"', '11h115', '13h42', '20h15', '12h39',\n",
       "       '07h05', 'Sunset', '  ', '13h05', '11h50', '\"Evening\"',\n",
       "       'Just before sundown', '17h55', '22h30', '17h15', '16h10',\n",
       "       '11h30 ', '06h10', '16h15', 'Between 05h00 and 08h00', '07h08',\n",
       "       '17h00 or 17h40', '03h00', '>08h00', '--', '12h02', '12h55',\n",
       "       '16h14', '17h11', '00h30', '14h37', '10h07', '13h53', '11h55',\n",
       "       '13h23', 'Just after 12h00', '02h30', '08h40', '11h56', '14h35',\n",
       "       ' ', 'Early Morning', '07h50', 'Shortly after midnight', '14h25',\n",
       "       '13h345', '\\xa0 ', '06h47', '09h00 -10h00', '20h45 (Sunset)',\n",
       "       'Late morning', 'P.M.', '18h40', '13h14', '13h06',\n",
       "       'Shortly before 13h00', '12h34', '11h53', '8:04 pm', '12h46',\n",
       "       '12h48', '17h42', '12h35', 'Possibly same incident as 2000.08.21',\n",
       "       'After Dusk', '11h57', 'Noon', '17h40', '11h25', '18h25', '10h28',\n",
       "       '09h15', '14h16', '09h55', '2 hours after Opperman', '15h05',\n",
       "       '09h30 ', 'Mid afternoon', 'Mid morning', '11h48', '11h00 / 11h30',\n",
       "       '07h19', '13h37', '11h06', '\"Night\"', '18h30?', '11h58', '11h51',\n",
       "       '18h12', '07h10', '07h40', '12h33',\n",
       "       '30 minutes after 1992.07.08.a', '>06h45', '15h06', '12h54',\n",
       "       'Between 06h00 & 07h20', '16h55', '05h40', '<07h30', '21h30',\n",
       "       '17h00 Sunset', 'Nightfall', 'X', '08h57', '18h30 (Sunset)',\n",
       "       '06j00', '08h35', '10h22', '02h45', 'Prior to 10h37', 'Daybreak',\n",
       "       '18h10', '>12h00', 'Mid-morning', '08h55', '16h30 or 18h00',\n",
       "       'Just before dawn', ' 14h00', 'Daytime', '06h50', '01h00', 'Dark',\n",
       "       '10h00 / 11h00', '\"After lunch\"', '07h32', '15h00 or 15h45',\n",
       "       '>17h00', '19h00 / 20h00', '12h45 / 13h45', '14h00 - 15h00',\n",
       "       'night', '03h45 - 04h00', '13h10', '09h30 / 15h30',\n",
       "       '08h00 / 09h30', '19h35', '12h00 to 14h00', '13h35', 'Late night',\n",
       "       '01h32', '10h30 or 13h30', '16h23', '15h00j', 'Midday.',\n",
       "       '\"After dark\"', '10h00 or 14h00', '19h10', '16h25',\n",
       "       '2 hrs before sunset', '18h15 to 21h30', '1500',\n",
       "       '\"shortly before dusk\"', '>17h30', '>14h30',\n",
       "       'Between 11h00 & 12h00', 'After 04h00',\n",
       "       '11h01 -time of ship sinking', 'Ship aban-doned at 03h10', '19h55',\n",
       "       'After dusk',\n",
       "       'FATAL  (Wire netting installed at local beaches after this incident.)',\n",
       "       '01h30', 'After midnight', 'Late afternon', '05h30', '08h58',\n",
       "       '\"Early evening\"', 'Late Afternoon', '   ', 'Before daybreak',\n",
       "       'dusk', 'Before 10h30', '06h00 -- 07h00', '01h50', '17h00-18h00',\n",
       "       '19h00-20h00'], dtype=object)"
      ]
     },
     "execution_count": 95,
     "metadata": {},
     "output_type": "execute_result"
    }
   ],
   "source": [
    "sk['Time'].unique()"
   ]
  },
  {
   "cell_type": "code",
   "execution_count": 96,
   "id": "e2b4d5a6",
   "metadata": {},
   "outputs": [],
   "source": [
    "import re\n",
    "def limpiar_time(x):\n",
    "    \n",
    "    let=re.findall('/[hH]', x)\n",
    "    \n",
    "    if let:\n",
    "        return x.remove(let)\n",
    "    else:\n",
    "        return x"
   ]
  },
  {
   "cell_type": "code",
   "execution_count": 97,
   "id": "b3cd045c",
   "metadata": {},
   "outputs": [],
   "source": [
    "def limpiar_time(x):\n",
    "    try:\n",
    "        return ''.join(filter(str.isdigit, x))\n",
    "    except:\n",
    "        return str(x)"
   ]
  },
  {
   "cell_type": "code",
   "execution_count": 98,
   "id": "5072ce7d",
   "metadata": {
    "scrolled": true
   },
   "outputs": [
    {
     "data": {
      "text/html": [
       "<div>\n",
       "<style scoped>\n",
       "    .dataframe tbody tr th:only-of-type {\n",
       "        vertical-align: middle;\n",
       "    }\n",
       "\n",
       "    .dataframe tbody tr th {\n",
       "        vertical-align: top;\n",
       "    }\n",
       "\n",
       "    .dataframe thead th {\n",
       "        text-align: right;\n",
       "    }\n",
       "</style>\n",
       "<table border=\"1\" class=\"dataframe\">\n",
       "  <thead>\n",
       "    <tr style=\"text-align: right;\">\n",
       "      <th></th>\n",
       "      <th>Case Number</th>\n",
       "      <th>Date</th>\n",
       "      <th>Year</th>\n",
       "      <th>Type</th>\n",
       "      <th>Country</th>\n",
       "      <th>Area</th>\n",
       "      <th>Location</th>\n",
       "      <th>Activity</th>\n",
       "      <th>Name</th>\n",
       "      <th>Sex</th>\n",
       "      <th>Age</th>\n",
       "      <th>Injury</th>\n",
       "      <th>Fatal</th>\n",
       "      <th>Time</th>\n",
       "      <th>Species</th>\n",
       "      <th>Investigator or Source</th>\n",
       "      <th>pdf</th>\n",
       "      <th>href formula</th>\n",
       "      <th>href</th>\n",
       "      <th>Case Number.1</th>\n",
       "      <th>Case Number.2</th>\n",
       "      <th>original order</th>\n",
       "      <th>time</th>\n",
       "    </tr>\n",
       "  </thead>\n",
       "  <tbody>\n",
       "    <tr>\n",
       "      <th>0</th>\n",
       "      <td>2018.06.25</td>\n",
       "      <td>2018-06-25</td>\n",
       "      <td>2018.0</td>\n",
       "      <td>Boating</td>\n",
       "      <td>USA</td>\n",
       "      <td>California</td>\n",
       "      <td>Oceanside, San Diego County</td>\n",
       "      <td>Paddling</td>\n",
       "      <td>Julie Wolfe</td>\n",
       "      <td>F</td>\n",
       "      <td>57.0</td>\n",
       "      <td>No injury to occupant, outrigger canoe and pad...</td>\n",
       "      <td>N</td>\n",
       "      <td>18h00</td>\n",
       "      <td>White shark</td>\n",
       "      <td>R. Collier, GSAF</td>\n",
       "      <td>2018.06.25-Wolfe.pdf</td>\n",
       "      <td>http://sharkattackfile.net/spreadsheets/pdf_di...</td>\n",
       "      <td>http://sharkattackfile.net/spreadsheets/pdf_di...</td>\n",
       "      <td>2018-06-25</td>\n",
       "      <td>2018-06-25</td>\n",
       "      <td>6303.0</td>\n",
       "      <td>1800</td>\n",
       "    </tr>\n",
       "    <tr>\n",
       "      <th>1</th>\n",
       "      <td>2018.06.18</td>\n",
       "      <td>2018-06-18</td>\n",
       "      <td>2018.0</td>\n",
       "      <td>Unprovoked</td>\n",
       "      <td>USA</td>\n",
       "      <td>Georgia</td>\n",
       "      <td>St. Simon Island, Glynn County</td>\n",
       "      <td>Standing</td>\n",
       "      <td>Adyson McNeely</td>\n",
       "      <td>F</td>\n",
       "      <td>11.0</td>\n",
       "      <td>Minor injury to left thigh</td>\n",
       "      <td>N</td>\n",
       "      <td>14h00  -15h00</td>\n",
       "      <td>unknown</td>\n",
       "      <td>K.McMurray, TrackingSharks.com</td>\n",
       "      <td>2018.06.18-McNeely.pdf</td>\n",
       "      <td>http://sharkattackfile.net/spreadsheets/pdf_di...</td>\n",
       "      <td>http://sharkattackfile.net/spreadsheets/pdf_di...</td>\n",
       "      <td>2018-06-18</td>\n",
       "      <td>2018-06-18</td>\n",
       "      <td>6302.0</td>\n",
       "      <td>14001500</td>\n",
       "    </tr>\n",
       "    <tr>\n",
       "      <th>2</th>\n",
       "      <td>2018.06.09</td>\n",
       "      <td>2018-06-09</td>\n",
       "      <td>2018.0</td>\n",
       "      <td>Invalid</td>\n",
       "      <td>USA</td>\n",
       "      <td>Hawaii</td>\n",
       "      <td>Habush, Oahu</td>\n",
       "      <td>Surfing</td>\n",
       "      <td>John Denges</td>\n",
       "      <td>M</td>\n",
       "      <td>48.0</td>\n",
       "      <td>Injury to left lower leg from surfboard skeg</td>\n",
       "      <td>N</td>\n",
       "      <td>07h45</td>\n",
       "      <td>unknown</td>\n",
       "      <td>K.McMurray, TrackingSharks.com</td>\n",
       "      <td>2018.06.09-Denges.pdf</td>\n",
       "      <td>http://sharkattackfile.net/spreadsheets/pdf_di...</td>\n",
       "      <td>http://sharkattackfile.net/spreadsheets/pdf_di...</td>\n",
       "      <td>2018-06-09</td>\n",
       "      <td>2018-06-09</td>\n",
       "      <td>6301.0</td>\n",
       "      <td>0745</td>\n",
       "    </tr>\n",
       "    <tr>\n",
       "      <th>3</th>\n",
       "      <td>2018.06.08</td>\n",
       "      <td>2018-06-08</td>\n",
       "      <td>2018.0</td>\n",
       "      <td>Unprovoked</td>\n",
       "      <td>AUSTRALIA</td>\n",
       "      <td>New South Wales</td>\n",
       "      <td>Arrawarra Headland</td>\n",
       "      <td>Surfing</td>\n",
       "      <td>male</td>\n",
       "      <td>M</td>\n",
       "      <td>NaN</td>\n",
       "      <td>Minor injury to lower leg</td>\n",
       "      <td>N</td>\n",
       "      <td>unknown</td>\n",
       "      <td>2 m shark</td>\n",
       "      <td>B. Myatt, GSAF</td>\n",
       "      <td>2018.06.08-Arrawarra.pdf</td>\n",
       "      <td>http://sharkattackfile.net/spreadsheets/pdf_di...</td>\n",
       "      <td>http://sharkattackfile.net/spreadsheets/pdf_di...</td>\n",
       "      <td>2018-06-08</td>\n",
       "      <td>2018-06-08</td>\n",
       "      <td>6300.0</td>\n",
       "      <td></td>\n",
       "    </tr>\n",
       "    <tr>\n",
       "      <th>4</th>\n",
       "      <td>2018.06.04</td>\n",
       "      <td>2018-06-04</td>\n",
       "      <td>2018.0</td>\n",
       "      <td>Provoked</td>\n",
       "      <td>MEXICO</td>\n",
       "      <td>Colima</td>\n",
       "      <td>La Ticla</td>\n",
       "      <td>Free diving</td>\n",
       "      <td>Gustavo Ramos</td>\n",
       "      <td>M</td>\n",
       "      <td>NaN</td>\n",
       "      <td>Lacerations to leg &amp; hand shark PROVOKED INCIDENT</td>\n",
       "      <td>N</td>\n",
       "      <td>unknown</td>\n",
       "      <td>Tiger shark, 3m</td>\n",
       "      <td>A .Kipper</td>\n",
       "      <td>2018.06.04-Ramos.pdf</td>\n",
       "      <td>http://sharkattackfile.net/spreadsheets/pdf_di...</td>\n",
       "      <td>http://sharkattackfile.net/spreadsheets/pdf_di...</td>\n",
       "      <td>2018-06-04</td>\n",
       "      <td>2018-06-04</td>\n",
       "      <td>6299.0</td>\n",
       "      <td></td>\n",
       "    </tr>\n",
       "  </tbody>\n",
       "</table>\n",
       "</div>"
      ],
      "text/plain": [
       "  Case Number       Date    Year        Type    Country             Area  \\\n",
       "0  2018.06.25 2018-06-25  2018.0     Boating        USA       California   \n",
       "1  2018.06.18 2018-06-18  2018.0  Unprovoked        USA          Georgia   \n",
       "2  2018.06.09 2018-06-09  2018.0     Invalid        USA           Hawaii   \n",
       "3  2018.06.08 2018-06-08  2018.0  Unprovoked  AUSTRALIA  New South Wales   \n",
       "4  2018.06.04 2018-06-04  2018.0    Provoked     MEXICO           Colima   \n",
       "\n",
       "                         Location     Activity             Name Sex   Age  \\\n",
       "0     Oceanside, San Diego County     Paddling      Julie Wolfe   F  57.0   \n",
       "1  St. Simon Island, Glynn County     Standing  Adyson McNeely    F  11.0   \n",
       "2                    Habush, Oahu      Surfing      John Denges   M  48.0   \n",
       "3              Arrawarra Headland      Surfing             male   M   NaN   \n",
       "4                        La Ticla  Free diving   Gustavo Ramos    M   NaN   \n",
       "\n",
       "                                              Injury Fatal           Time  \\\n",
       "0  No injury to occupant, outrigger canoe and pad...     N          18h00   \n",
       "1                         Minor injury to left thigh     N  14h00  -15h00   \n",
       "2       Injury to left lower leg from surfboard skeg     N          07h45   \n",
       "3                          Minor injury to lower leg     N        unknown   \n",
       "4  Lacerations to leg & hand shark PROVOKED INCIDENT     N        unknown   \n",
       "\n",
       "           Species          Investigator or Source                       pdf  \\\n",
       "0      White shark                R. Collier, GSAF      2018.06.25-Wolfe.pdf   \n",
       "1          unknown  K.McMurray, TrackingSharks.com    2018.06.18-McNeely.pdf   \n",
       "2          unknown  K.McMurray, TrackingSharks.com     2018.06.09-Denges.pdf   \n",
       "3        2 m shark                  B. Myatt, GSAF  2018.06.08-Arrawarra.pdf   \n",
       "4  Tiger shark, 3m                       A .Kipper      2018.06.04-Ramos.pdf   \n",
       "\n",
       "                                        href formula  \\\n",
       "0  http://sharkattackfile.net/spreadsheets/pdf_di...   \n",
       "1  http://sharkattackfile.net/spreadsheets/pdf_di...   \n",
       "2  http://sharkattackfile.net/spreadsheets/pdf_di...   \n",
       "3  http://sharkattackfile.net/spreadsheets/pdf_di...   \n",
       "4  http://sharkattackfile.net/spreadsheets/pdf_di...   \n",
       "\n",
       "                                                href Case Number.1  \\\n",
       "0  http://sharkattackfile.net/spreadsheets/pdf_di...    2018-06-25   \n",
       "1  http://sharkattackfile.net/spreadsheets/pdf_di...    2018-06-18   \n",
       "2  http://sharkattackfile.net/spreadsheets/pdf_di...    2018-06-09   \n",
       "3  http://sharkattackfile.net/spreadsheets/pdf_di...    2018-06-08   \n",
       "4  http://sharkattackfile.net/spreadsheets/pdf_di...    2018-06-04   \n",
       "\n",
       "  Case Number.2  original order      time  \n",
       "0    2018-06-25          6303.0      1800  \n",
       "1    2018-06-18          6302.0  14001500  \n",
       "2    2018-06-09          6301.0      0745  \n",
       "3    2018-06-08          6300.0            \n",
       "4    2018-06-04          6299.0            "
      ]
     },
     "execution_count": 98,
     "metadata": {},
     "output_type": "execute_result"
    }
   ],
   "source": [
    "sk['time']=sk.Time.apply(limpiar_time)\n",
    "\n",
    "sk.head()"
   ]
  },
  {
   "cell_type": "code",
   "execution_count": 99,
   "id": "8b400ef7",
   "metadata": {},
   "outputs": [
    {
     "data": {
      "text/plain": [
       "array(['1800', '14001500', '0745', '', '1700', '1400', '1500', '0815',\n",
       "       '1100', '1030', '1040', '1650', '0700', '0930', '2150', '0940',\n",
       "       '0800', '1735', '1530', '0730', '1900', '1600', '1501', '1200',\n",
       "       '1345', '2330', '0900', '1430', '1830', '1230', '1630', '1845',\n",
       "       '0600', '1000', '1044', '1319', '1330', '1045', '1120', '1145',\n",
       "       '1930', '0830', '1545', '1734', '1710', '1115', '0850', '1745',\n",
       "       '1300', '1020', '1320', '0200', '0950', '1130', '1730', '900',\n",
       "       '1043', '1515', '1540', '1905', '14301530', '2200', '1620', '1434',\n",
       "       '1525', '1455', '1746', '1549', '09301000', '1015', '1815', '0400',\n",
       "       '1450', '1350', '1920', '1025', '10451115', '1645', '1552', '0615',\n",
       "       '1440', '1945', '1010', '0845', '1210', '1805', '1141', '1225',\n",
       "       '1751', '1612', '1245', '1050', '1415', '0945', '0645', '0500',\n",
       "       '0330', '060008', '0630', '1720', '2000', '1640', '1618', '1110',\n",
       "       '1750', '07000800', '18151830', '1701', '0957', '0820', '1758',\n",
       "       '2030', '1519', '1055', '1555', '2300', '1240', '1355', '1605',\n",
       "       '1410', '1520', '1250', '1445', '1340', '1324', '09000930', '1140',\n",
       "       '0810', '1556', '1420', '0756', '1717', '1635', '0905', '0715',\n",
       "       '0720', '1928', '1238', '0550', '1550', '1105', '0545', '1325',\n",
       "       '1220', '1326', '0911', '1215', '1315', '1820', '1535', '1351',\n",
       "       '0805', '1915', '1035', '1544', '2100', '0935', '1027', '1016',\n",
       "       '0920', '10001100', '1205', '1421', '1850', '1553', '11115',\n",
       "       '1342', '2015', '1239', '0705', '1305', '1150', '1755', '2230',\n",
       "       '1715', '1610', '0610', '1615', '05000800', '0708', '17001740',\n",
       "       '0300', '1202', '1255', '1614', '1711', '0030', '1437', '1007',\n",
       "       '1353', '1155', '1323', '0230', '0840', '1156', '1435', '0750',\n",
       "       '1425', '13345', '0647', '09001000', '2045', '1840', '1314',\n",
       "       '1306', '1234', '1153', '804', '1246', '1248', '1742', '1235',\n",
       "       '20000821', '1157', '1740', '1125', '1825', '1028', '0915', '1416',\n",
       "       '0955', '2', '1505', '1148', '11001130', '0719', '1337', '1106',\n",
       "       '1158', '1151', '1812', '0710', '0740', '1233', '3019920708',\n",
       "       '1506', '1254', '06000720', '1655', '0540', '2130', '0857', '0835',\n",
       "       '1022', '0245', '1037', '1810', '0855', '16301800', '0650', '0100',\n",
       "       '0732', '15001545', '19002000', '12451345', '03450400', '1310',\n",
       "       '09301530', '08000930', '1935', '12001400', '1335', '0132',\n",
       "       '10301330', '1623', '10001400', '1910', '1625', '18152130',\n",
       "       '11001200', '1101', '0310', '1955', '0130', '0530', '0858',\n",
       "       '06000700', '0150', '17001800'], dtype=object)"
      ]
     },
     "execution_count": 99,
     "metadata": {},
     "output_type": "execute_result"
    }
   ],
   "source": [
    "sk['time'].unique()"
   ]
  },
  {
   "cell_type": "code",
   "execution_count": 100,
   "id": "323a41a9",
   "metadata": {},
   "outputs": [],
   "source": [
    "def limpiar_time2(x):\n",
    "    try:\n",
    "        return ''.join(x[0:4])\n",
    "    except:\n",
    "        return str(x)"
   ]
  },
  {
   "cell_type": "code",
   "execution_count": 101,
   "id": "eb651437",
   "metadata": {
    "scrolled": false
   },
   "outputs": [
    {
     "data": {
      "text/html": [
       "<div>\n",
       "<style scoped>\n",
       "    .dataframe tbody tr th:only-of-type {\n",
       "        vertical-align: middle;\n",
       "    }\n",
       "\n",
       "    .dataframe tbody tr th {\n",
       "        vertical-align: top;\n",
       "    }\n",
       "\n",
       "    .dataframe thead th {\n",
       "        text-align: right;\n",
       "    }\n",
       "</style>\n",
       "<table border=\"1\" class=\"dataframe\">\n",
       "  <thead>\n",
       "    <tr style=\"text-align: right;\">\n",
       "      <th></th>\n",
       "      <th>Case Number</th>\n",
       "      <th>Date</th>\n",
       "      <th>Year</th>\n",
       "      <th>Type</th>\n",
       "      <th>Country</th>\n",
       "      <th>Area</th>\n",
       "      <th>Location</th>\n",
       "      <th>Activity</th>\n",
       "      <th>Name</th>\n",
       "      <th>Sex</th>\n",
       "      <th>Age</th>\n",
       "      <th>Injury</th>\n",
       "      <th>Fatal</th>\n",
       "      <th>Time</th>\n",
       "      <th>Species</th>\n",
       "      <th>Investigator or Source</th>\n",
       "      <th>pdf</th>\n",
       "      <th>href formula</th>\n",
       "      <th>href</th>\n",
       "      <th>Case Number.1</th>\n",
       "      <th>Case Number.2</th>\n",
       "      <th>original order</th>\n",
       "      <th>time</th>\n",
       "    </tr>\n",
       "  </thead>\n",
       "  <tbody>\n",
       "    <tr>\n",
       "      <th>0</th>\n",
       "      <td>2018.06.25</td>\n",
       "      <td>2018-06-25</td>\n",
       "      <td>2018.0</td>\n",
       "      <td>Boating</td>\n",
       "      <td>USA</td>\n",
       "      <td>California</td>\n",
       "      <td>Oceanside, San Diego County</td>\n",
       "      <td>Paddling</td>\n",
       "      <td>Julie Wolfe</td>\n",
       "      <td>F</td>\n",
       "      <td>57.0</td>\n",
       "      <td>No injury to occupant, outrigger canoe and pad...</td>\n",
       "      <td>N</td>\n",
       "      <td>18h00</td>\n",
       "      <td>White shark</td>\n",
       "      <td>R. Collier, GSAF</td>\n",
       "      <td>2018.06.25-Wolfe.pdf</td>\n",
       "      <td>http://sharkattackfile.net/spreadsheets/pdf_di...</td>\n",
       "      <td>http://sharkattackfile.net/spreadsheets/pdf_di...</td>\n",
       "      <td>2018-06-25</td>\n",
       "      <td>2018-06-25</td>\n",
       "      <td>6303.0</td>\n",
       "      <td>1800</td>\n",
       "    </tr>\n",
       "    <tr>\n",
       "      <th>1</th>\n",
       "      <td>2018.06.18</td>\n",
       "      <td>2018-06-18</td>\n",
       "      <td>2018.0</td>\n",
       "      <td>Unprovoked</td>\n",
       "      <td>USA</td>\n",
       "      <td>Georgia</td>\n",
       "      <td>St. Simon Island, Glynn County</td>\n",
       "      <td>Standing</td>\n",
       "      <td>Adyson McNeely</td>\n",
       "      <td>F</td>\n",
       "      <td>11.0</td>\n",
       "      <td>Minor injury to left thigh</td>\n",
       "      <td>N</td>\n",
       "      <td>14h00  -15h00</td>\n",
       "      <td>unknown</td>\n",
       "      <td>K.McMurray, TrackingSharks.com</td>\n",
       "      <td>2018.06.18-McNeely.pdf</td>\n",
       "      <td>http://sharkattackfile.net/spreadsheets/pdf_di...</td>\n",
       "      <td>http://sharkattackfile.net/spreadsheets/pdf_di...</td>\n",
       "      <td>2018-06-18</td>\n",
       "      <td>2018-06-18</td>\n",
       "      <td>6302.0</td>\n",
       "      <td>1400</td>\n",
       "    </tr>\n",
       "    <tr>\n",
       "      <th>2</th>\n",
       "      <td>2018.06.09</td>\n",
       "      <td>2018-06-09</td>\n",
       "      <td>2018.0</td>\n",
       "      <td>Invalid</td>\n",
       "      <td>USA</td>\n",
       "      <td>Hawaii</td>\n",
       "      <td>Habush, Oahu</td>\n",
       "      <td>Surfing</td>\n",
       "      <td>John Denges</td>\n",
       "      <td>M</td>\n",
       "      <td>48.0</td>\n",
       "      <td>Injury to left lower leg from surfboard skeg</td>\n",
       "      <td>N</td>\n",
       "      <td>07h45</td>\n",
       "      <td>unknown</td>\n",
       "      <td>K.McMurray, TrackingSharks.com</td>\n",
       "      <td>2018.06.09-Denges.pdf</td>\n",
       "      <td>http://sharkattackfile.net/spreadsheets/pdf_di...</td>\n",
       "      <td>http://sharkattackfile.net/spreadsheets/pdf_di...</td>\n",
       "      <td>2018-06-09</td>\n",
       "      <td>2018-06-09</td>\n",
       "      <td>6301.0</td>\n",
       "      <td>0745</td>\n",
       "    </tr>\n",
       "    <tr>\n",
       "      <th>3</th>\n",
       "      <td>2018.06.08</td>\n",
       "      <td>2018-06-08</td>\n",
       "      <td>2018.0</td>\n",
       "      <td>Unprovoked</td>\n",
       "      <td>AUSTRALIA</td>\n",
       "      <td>New South Wales</td>\n",
       "      <td>Arrawarra Headland</td>\n",
       "      <td>Surfing</td>\n",
       "      <td>male</td>\n",
       "      <td>M</td>\n",
       "      <td>NaN</td>\n",
       "      <td>Minor injury to lower leg</td>\n",
       "      <td>N</td>\n",
       "      <td>unknown</td>\n",
       "      <td>2 m shark</td>\n",
       "      <td>B. Myatt, GSAF</td>\n",
       "      <td>2018.06.08-Arrawarra.pdf</td>\n",
       "      <td>http://sharkattackfile.net/spreadsheets/pdf_di...</td>\n",
       "      <td>http://sharkattackfile.net/spreadsheets/pdf_di...</td>\n",
       "      <td>2018-06-08</td>\n",
       "      <td>2018-06-08</td>\n",
       "      <td>6300.0</td>\n",
       "      <td></td>\n",
       "    </tr>\n",
       "    <tr>\n",
       "      <th>4</th>\n",
       "      <td>2018.06.04</td>\n",
       "      <td>2018-06-04</td>\n",
       "      <td>2018.0</td>\n",
       "      <td>Provoked</td>\n",
       "      <td>MEXICO</td>\n",
       "      <td>Colima</td>\n",
       "      <td>La Ticla</td>\n",
       "      <td>Free diving</td>\n",
       "      <td>Gustavo Ramos</td>\n",
       "      <td>M</td>\n",
       "      <td>NaN</td>\n",
       "      <td>Lacerations to leg &amp; hand shark PROVOKED INCIDENT</td>\n",
       "      <td>N</td>\n",
       "      <td>unknown</td>\n",
       "      <td>Tiger shark, 3m</td>\n",
       "      <td>A .Kipper</td>\n",
       "      <td>2018.06.04-Ramos.pdf</td>\n",
       "      <td>http://sharkattackfile.net/spreadsheets/pdf_di...</td>\n",
       "      <td>http://sharkattackfile.net/spreadsheets/pdf_di...</td>\n",
       "      <td>2018-06-04</td>\n",
       "      <td>2018-06-04</td>\n",
       "      <td>6299.0</td>\n",
       "      <td></td>\n",
       "    </tr>\n",
       "  </tbody>\n",
       "</table>\n",
       "</div>"
      ],
      "text/plain": [
       "  Case Number       Date    Year        Type    Country             Area  \\\n",
       "0  2018.06.25 2018-06-25  2018.0     Boating        USA       California   \n",
       "1  2018.06.18 2018-06-18  2018.0  Unprovoked        USA          Georgia   \n",
       "2  2018.06.09 2018-06-09  2018.0     Invalid        USA           Hawaii   \n",
       "3  2018.06.08 2018-06-08  2018.0  Unprovoked  AUSTRALIA  New South Wales   \n",
       "4  2018.06.04 2018-06-04  2018.0    Provoked     MEXICO           Colima   \n",
       "\n",
       "                         Location     Activity             Name Sex   Age  \\\n",
       "0     Oceanside, San Diego County     Paddling      Julie Wolfe   F  57.0   \n",
       "1  St. Simon Island, Glynn County     Standing  Adyson McNeely    F  11.0   \n",
       "2                    Habush, Oahu      Surfing      John Denges   M  48.0   \n",
       "3              Arrawarra Headland      Surfing             male   M   NaN   \n",
       "4                        La Ticla  Free diving   Gustavo Ramos    M   NaN   \n",
       "\n",
       "                                              Injury Fatal           Time  \\\n",
       "0  No injury to occupant, outrigger canoe and pad...     N          18h00   \n",
       "1                         Minor injury to left thigh     N  14h00  -15h00   \n",
       "2       Injury to left lower leg from surfboard skeg     N          07h45   \n",
       "3                          Minor injury to lower leg     N        unknown   \n",
       "4  Lacerations to leg & hand shark PROVOKED INCIDENT     N        unknown   \n",
       "\n",
       "           Species          Investigator or Source                       pdf  \\\n",
       "0      White shark                R. Collier, GSAF      2018.06.25-Wolfe.pdf   \n",
       "1          unknown  K.McMurray, TrackingSharks.com    2018.06.18-McNeely.pdf   \n",
       "2          unknown  K.McMurray, TrackingSharks.com     2018.06.09-Denges.pdf   \n",
       "3        2 m shark                  B. Myatt, GSAF  2018.06.08-Arrawarra.pdf   \n",
       "4  Tiger shark, 3m                       A .Kipper      2018.06.04-Ramos.pdf   \n",
       "\n",
       "                                        href formula  \\\n",
       "0  http://sharkattackfile.net/spreadsheets/pdf_di...   \n",
       "1  http://sharkattackfile.net/spreadsheets/pdf_di...   \n",
       "2  http://sharkattackfile.net/spreadsheets/pdf_di...   \n",
       "3  http://sharkattackfile.net/spreadsheets/pdf_di...   \n",
       "4  http://sharkattackfile.net/spreadsheets/pdf_di...   \n",
       "\n",
       "                                                href Case Number.1  \\\n",
       "0  http://sharkattackfile.net/spreadsheets/pdf_di...    2018-06-25   \n",
       "1  http://sharkattackfile.net/spreadsheets/pdf_di...    2018-06-18   \n",
       "2  http://sharkattackfile.net/spreadsheets/pdf_di...    2018-06-09   \n",
       "3  http://sharkattackfile.net/spreadsheets/pdf_di...    2018-06-08   \n",
       "4  http://sharkattackfile.net/spreadsheets/pdf_di...    2018-06-04   \n",
       "\n",
       "  Case Number.2  original order  time  \n",
       "0    2018-06-25          6303.0  1800  \n",
       "1    2018-06-18          6302.0  1400  \n",
       "2    2018-06-09          6301.0  0745  \n",
       "3    2018-06-08          6300.0        \n",
       "4    2018-06-04          6299.0        "
      ]
     },
     "execution_count": 101,
     "metadata": {},
     "output_type": "execute_result"
    }
   ],
   "source": [
    "sk['time']=sk.time.apply(limpiar_time2)\n",
    "\n",
    "sk.head()"
   ]
  },
  {
   "cell_type": "code",
   "execution_count": 102,
   "id": "e1ae0094",
   "metadata": {
    "scrolled": false
   },
   "outputs": [
    {
     "data": {
      "text/plain": [
       "array(['1800', '1400', '0745', '', '1700', '1500', '0815', '1100', '1030',\n",
       "       '1040', '1650', '0700', '0930', '2150', '0940', '0800', '1735',\n",
       "       '1530', '0730', '1900', '1600', '1501', '1200', '1345', '2330',\n",
       "       '0900', '1430', '1830', '1230', '1630', '1845', '0600', '1000',\n",
       "       '1044', '1319', '1330', '1045', '1120', '1145', '1930', '0830',\n",
       "       '1545', '1734', '1710', '1115', '0850', '1745', '1300', '1020',\n",
       "       '1320', '0200', '0950', '1130', '1730', '900', '1043', '1515',\n",
       "       '1540', '1905', '2200', '1620', '1434', '1525', '1455', '1746',\n",
       "       '1549', '1015', '1815', '0400', '1450', '1350', '1920', '1025',\n",
       "       '1645', '1552', '0615', '1440', '1945', '1010', '0845', '1210',\n",
       "       '1805', '1141', '1225', '1751', '1612', '1245', '1050', '1415',\n",
       "       '0945', '0645', '0500', '0330', '0630', '1720', '2000', '1640',\n",
       "       '1618', '1110', '1750', '1701', '0957', '0820', '1758', '2030',\n",
       "       '1519', '1055', '1555', '2300', '1240', '1355', '1605', '1410',\n",
       "       '1520', '1250', '1445', '1340', '1324', '1140', '0810', '1556',\n",
       "       '1420', '0756', '1717', '1635', '0905', '0715', '0720', '1928',\n",
       "       '1238', '0550', '1550', '1105', '0545', '1325', '1220', '1326',\n",
       "       '0911', '1215', '1315', '1820', '1535', '1351', '0805', '1915',\n",
       "       '1035', '1544', '2100', '0935', '1027', '1016', '0920', '1205',\n",
       "       '1421', '1850', '1553', '1111', '1342', '2015', '1239', '0705',\n",
       "       '1305', '1150', '1755', '2230', '1715', '1610', '0610', '1615',\n",
       "       '0708', '0300', '1202', '1255', '1614', '1711', '0030', '1437',\n",
       "       '1007', '1353', '1155', '1323', '0230', '0840', '1156', '1435',\n",
       "       '0750', '1425', '1334', '0647', '2045', '1840', '1314', '1306',\n",
       "       '1234', '1153', '804', '1246', '1248', '1742', '1235', '1157',\n",
       "       '1740', '1125', '1825', '1028', '0915', '1416', '0955', '2',\n",
       "       '1505', '1148', '0719', '1337', '1106', '1158', '1151', '1812',\n",
       "       '0710', '0740', '1233', '3019', '1506', '1254', '1655', '0540',\n",
       "       '2130', '0857', '0835', '1022', '0245', '1037', '1810', '0855',\n",
       "       '0650', '0100', '0732', '0345', '1310', '1935', '1335', '0132',\n",
       "       '1623', '1910', '1625', '1101', '0310', '1955', '0130', '0530',\n",
       "       '0858', '0150'], dtype=object)"
      ]
     },
     "execution_count": 102,
     "metadata": {},
     "output_type": "execute_result"
    }
   ],
   "source": [
    "sk['time'].unique()"
   ]
  },
  {
   "cell_type": "code",
   "execution_count": 103,
   "id": "cce9703e",
   "metadata": {},
   "outputs": [],
   "source": [
    "def limpiar_time3(x):\n",
    "    try:\n",
    "        return f\"{x[:2]}:{x[2:]}\"\n",
    "    except:\n",
    "        return str(x)"
   ]
  },
  {
   "cell_type": "code",
   "execution_count": 104,
   "id": "c7ae595f",
   "metadata": {},
   "outputs": [
    {
     "data": {
      "text/html": [
       "<div>\n",
       "<style scoped>\n",
       "    .dataframe tbody tr th:only-of-type {\n",
       "        vertical-align: middle;\n",
       "    }\n",
       "\n",
       "    .dataframe tbody tr th {\n",
       "        vertical-align: top;\n",
       "    }\n",
       "\n",
       "    .dataframe thead th {\n",
       "        text-align: right;\n",
       "    }\n",
       "</style>\n",
       "<table border=\"1\" class=\"dataframe\">\n",
       "  <thead>\n",
       "    <tr style=\"text-align: right;\">\n",
       "      <th></th>\n",
       "      <th>Case Number</th>\n",
       "      <th>Date</th>\n",
       "      <th>Year</th>\n",
       "      <th>Type</th>\n",
       "      <th>Country</th>\n",
       "      <th>Area</th>\n",
       "      <th>Location</th>\n",
       "      <th>Activity</th>\n",
       "      <th>Name</th>\n",
       "      <th>Sex</th>\n",
       "      <th>Age</th>\n",
       "      <th>Injury</th>\n",
       "      <th>Fatal</th>\n",
       "      <th>Time</th>\n",
       "      <th>Species</th>\n",
       "      <th>Investigator or Source</th>\n",
       "      <th>pdf</th>\n",
       "      <th>href formula</th>\n",
       "      <th>href</th>\n",
       "      <th>Case Number.1</th>\n",
       "      <th>Case Number.2</th>\n",
       "      <th>original order</th>\n",
       "      <th>time</th>\n",
       "    </tr>\n",
       "  </thead>\n",
       "  <tbody>\n",
       "    <tr>\n",
       "      <th>0</th>\n",
       "      <td>2018.06.25</td>\n",
       "      <td>2018-06-25</td>\n",
       "      <td>2018.0</td>\n",
       "      <td>Boating</td>\n",
       "      <td>USA</td>\n",
       "      <td>California</td>\n",
       "      <td>Oceanside, San Diego County</td>\n",
       "      <td>Paddling</td>\n",
       "      <td>Julie Wolfe</td>\n",
       "      <td>F</td>\n",
       "      <td>57.0</td>\n",
       "      <td>No injury to occupant, outrigger canoe and pad...</td>\n",
       "      <td>N</td>\n",
       "      <td>18h00</td>\n",
       "      <td>White shark</td>\n",
       "      <td>R. Collier, GSAF</td>\n",
       "      <td>2018.06.25-Wolfe.pdf</td>\n",
       "      <td>http://sharkattackfile.net/spreadsheets/pdf_di...</td>\n",
       "      <td>http://sharkattackfile.net/spreadsheets/pdf_di...</td>\n",
       "      <td>2018-06-25</td>\n",
       "      <td>2018-06-25</td>\n",
       "      <td>6303.0</td>\n",
       "      <td>18:00</td>\n",
       "    </tr>\n",
       "    <tr>\n",
       "      <th>1</th>\n",
       "      <td>2018.06.18</td>\n",
       "      <td>2018-06-18</td>\n",
       "      <td>2018.0</td>\n",
       "      <td>Unprovoked</td>\n",
       "      <td>USA</td>\n",
       "      <td>Georgia</td>\n",
       "      <td>St. Simon Island, Glynn County</td>\n",
       "      <td>Standing</td>\n",
       "      <td>Adyson McNeely</td>\n",
       "      <td>F</td>\n",
       "      <td>11.0</td>\n",
       "      <td>Minor injury to left thigh</td>\n",
       "      <td>N</td>\n",
       "      <td>14h00  -15h00</td>\n",
       "      <td>unknown</td>\n",
       "      <td>K.McMurray, TrackingSharks.com</td>\n",
       "      <td>2018.06.18-McNeely.pdf</td>\n",
       "      <td>http://sharkattackfile.net/spreadsheets/pdf_di...</td>\n",
       "      <td>http://sharkattackfile.net/spreadsheets/pdf_di...</td>\n",
       "      <td>2018-06-18</td>\n",
       "      <td>2018-06-18</td>\n",
       "      <td>6302.0</td>\n",
       "      <td>14:00</td>\n",
       "    </tr>\n",
       "    <tr>\n",
       "      <th>2</th>\n",
       "      <td>2018.06.09</td>\n",
       "      <td>2018-06-09</td>\n",
       "      <td>2018.0</td>\n",
       "      <td>Invalid</td>\n",
       "      <td>USA</td>\n",
       "      <td>Hawaii</td>\n",
       "      <td>Habush, Oahu</td>\n",
       "      <td>Surfing</td>\n",
       "      <td>John Denges</td>\n",
       "      <td>M</td>\n",
       "      <td>48.0</td>\n",
       "      <td>Injury to left lower leg from surfboard skeg</td>\n",
       "      <td>N</td>\n",
       "      <td>07h45</td>\n",
       "      <td>unknown</td>\n",
       "      <td>K.McMurray, TrackingSharks.com</td>\n",
       "      <td>2018.06.09-Denges.pdf</td>\n",
       "      <td>http://sharkattackfile.net/spreadsheets/pdf_di...</td>\n",
       "      <td>http://sharkattackfile.net/spreadsheets/pdf_di...</td>\n",
       "      <td>2018-06-09</td>\n",
       "      <td>2018-06-09</td>\n",
       "      <td>6301.0</td>\n",
       "      <td>07:45</td>\n",
       "    </tr>\n",
       "    <tr>\n",
       "      <th>3</th>\n",
       "      <td>2018.06.08</td>\n",
       "      <td>2018-06-08</td>\n",
       "      <td>2018.0</td>\n",
       "      <td>Unprovoked</td>\n",
       "      <td>AUSTRALIA</td>\n",
       "      <td>New South Wales</td>\n",
       "      <td>Arrawarra Headland</td>\n",
       "      <td>Surfing</td>\n",
       "      <td>male</td>\n",
       "      <td>M</td>\n",
       "      <td>NaN</td>\n",
       "      <td>Minor injury to lower leg</td>\n",
       "      <td>N</td>\n",
       "      <td>unknown</td>\n",
       "      <td>2 m shark</td>\n",
       "      <td>B. Myatt, GSAF</td>\n",
       "      <td>2018.06.08-Arrawarra.pdf</td>\n",
       "      <td>http://sharkattackfile.net/spreadsheets/pdf_di...</td>\n",
       "      <td>http://sharkattackfile.net/spreadsheets/pdf_di...</td>\n",
       "      <td>2018-06-08</td>\n",
       "      <td>2018-06-08</td>\n",
       "      <td>6300.0</td>\n",
       "      <td>:</td>\n",
       "    </tr>\n",
       "    <tr>\n",
       "      <th>4</th>\n",
       "      <td>2018.06.04</td>\n",
       "      <td>2018-06-04</td>\n",
       "      <td>2018.0</td>\n",
       "      <td>Provoked</td>\n",
       "      <td>MEXICO</td>\n",
       "      <td>Colima</td>\n",
       "      <td>La Ticla</td>\n",
       "      <td>Free diving</td>\n",
       "      <td>Gustavo Ramos</td>\n",
       "      <td>M</td>\n",
       "      <td>NaN</td>\n",
       "      <td>Lacerations to leg &amp; hand shark PROVOKED INCIDENT</td>\n",
       "      <td>N</td>\n",
       "      <td>unknown</td>\n",
       "      <td>Tiger shark, 3m</td>\n",
       "      <td>A .Kipper</td>\n",
       "      <td>2018.06.04-Ramos.pdf</td>\n",
       "      <td>http://sharkattackfile.net/spreadsheets/pdf_di...</td>\n",
       "      <td>http://sharkattackfile.net/spreadsheets/pdf_di...</td>\n",
       "      <td>2018-06-04</td>\n",
       "      <td>2018-06-04</td>\n",
       "      <td>6299.0</td>\n",
       "      <td>:</td>\n",
       "    </tr>\n",
       "  </tbody>\n",
       "</table>\n",
       "</div>"
      ],
      "text/plain": [
       "  Case Number       Date    Year        Type    Country             Area  \\\n",
       "0  2018.06.25 2018-06-25  2018.0     Boating        USA       California   \n",
       "1  2018.06.18 2018-06-18  2018.0  Unprovoked        USA          Georgia   \n",
       "2  2018.06.09 2018-06-09  2018.0     Invalid        USA           Hawaii   \n",
       "3  2018.06.08 2018-06-08  2018.0  Unprovoked  AUSTRALIA  New South Wales   \n",
       "4  2018.06.04 2018-06-04  2018.0    Provoked     MEXICO           Colima   \n",
       "\n",
       "                         Location     Activity             Name Sex   Age  \\\n",
       "0     Oceanside, San Diego County     Paddling      Julie Wolfe   F  57.0   \n",
       "1  St. Simon Island, Glynn County     Standing  Adyson McNeely    F  11.0   \n",
       "2                    Habush, Oahu      Surfing      John Denges   M  48.0   \n",
       "3              Arrawarra Headland      Surfing             male   M   NaN   \n",
       "4                        La Ticla  Free diving   Gustavo Ramos    M   NaN   \n",
       "\n",
       "                                              Injury Fatal           Time  \\\n",
       "0  No injury to occupant, outrigger canoe and pad...     N          18h00   \n",
       "1                         Minor injury to left thigh     N  14h00  -15h00   \n",
       "2       Injury to left lower leg from surfboard skeg     N          07h45   \n",
       "3                          Minor injury to lower leg     N        unknown   \n",
       "4  Lacerations to leg & hand shark PROVOKED INCIDENT     N        unknown   \n",
       "\n",
       "           Species          Investigator or Source                       pdf  \\\n",
       "0      White shark                R. Collier, GSAF      2018.06.25-Wolfe.pdf   \n",
       "1          unknown  K.McMurray, TrackingSharks.com    2018.06.18-McNeely.pdf   \n",
       "2          unknown  K.McMurray, TrackingSharks.com     2018.06.09-Denges.pdf   \n",
       "3        2 m shark                  B. Myatt, GSAF  2018.06.08-Arrawarra.pdf   \n",
       "4  Tiger shark, 3m                       A .Kipper      2018.06.04-Ramos.pdf   \n",
       "\n",
       "                                        href formula  \\\n",
       "0  http://sharkattackfile.net/spreadsheets/pdf_di...   \n",
       "1  http://sharkattackfile.net/spreadsheets/pdf_di...   \n",
       "2  http://sharkattackfile.net/spreadsheets/pdf_di...   \n",
       "3  http://sharkattackfile.net/spreadsheets/pdf_di...   \n",
       "4  http://sharkattackfile.net/spreadsheets/pdf_di...   \n",
       "\n",
       "                                                href Case Number.1  \\\n",
       "0  http://sharkattackfile.net/spreadsheets/pdf_di...    2018-06-25   \n",
       "1  http://sharkattackfile.net/spreadsheets/pdf_di...    2018-06-18   \n",
       "2  http://sharkattackfile.net/spreadsheets/pdf_di...    2018-06-09   \n",
       "3  http://sharkattackfile.net/spreadsheets/pdf_di...    2018-06-08   \n",
       "4  http://sharkattackfile.net/spreadsheets/pdf_di...    2018-06-04   \n",
       "\n",
       "  Case Number.2  original order   time  \n",
       "0    2018-06-25          6303.0  18:00  \n",
       "1    2018-06-18          6302.0  14:00  \n",
       "2    2018-06-09          6301.0  07:45  \n",
       "3    2018-06-08          6300.0      :  \n",
       "4    2018-06-04          6299.0      :  "
      ]
     },
     "execution_count": 104,
     "metadata": {},
     "output_type": "execute_result"
    }
   ],
   "source": [
    "sk['time']=sk.time.apply(limpiar_time3)\n",
    "\n",
    "sk.head()"
   ]
  },
  {
   "cell_type": "code",
   "execution_count": 105,
   "id": "0e673918",
   "metadata": {},
   "outputs": [],
   "source": [
    "sk.time.replace(':', '',inplace=True)"
   ]
  },
  {
   "cell_type": "code",
   "execution_count": 106,
   "id": "c898e3e8",
   "metadata": {
    "scrolled": false
   },
   "outputs": [
    {
     "data": {
      "text/plain": [
       "0    18:00\n",
       "1    14:00\n",
       "2    07:45\n",
       "3         \n",
       "4         \n",
       "Name: time, dtype: object"
      ]
     },
     "execution_count": 106,
     "metadata": {},
     "output_type": "execute_result"
    }
   ],
   "source": [
    "sk.time.head()"
   ]
  },
  {
   "cell_type": "code",
   "execution_count": 107,
   "id": "e47fb9a3",
   "metadata": {
    "scrolled": true
   },
   "outputs": [
    {
     "data": {
      "text/plain": [
       "array(['18h00', '14h00  -15h00', '07h45', 'unknown', 'Late afternoon',\n",
       "       '17h00', '14h00', 'Morning', '15h00', '08h15', '11h00', '10h30',\n",
       "       '10h40', '16h50', '07h00', '09h30', 'Afternoon', '21h50', '09h40',\n",
       "       '08h00', '17h35', '15h30', '07h30', '19h00, Dusk', 'Night',\n",
       "       '16h00', '15h01', '12h00', '13h45', '23h30', '09h00', '14h30',\n",
       "       '18h30', '12h30', '16h30', '18h45', '06h00', '10h00', '10h44',\n",
       "       '13h19', 'Midday', '13h30', '10h45', '11h20', '11h45', '19h30',\n",
       "       '08h30', '15h45', 'Shortly before 12h00', '17h34', '17h10',\n",
       "       '11h15', '08h50', '17h45', '13h00', '10h20', '13h20', '02h00',\n",
       "       '09h50', '11h30', '17h30', '9h00', '10h43', 'After noon', '15h15',\n",
       "       '15h40', '19h05', '1300', '14h30 / 15h30', '22h00', '16h20',\n",
       "       '14h34', '15h25', '14h55', '17h46', 'Morning ', '15h49', '19h00',\n",
       "       'Midnight', '09h30 / 10h00', '10h15', '18h15', '04h00', '14h50',\n",
       "       '13h50', '19h20', '10h25', '10h45-11h15', '16h45', '15h52',\n",
       "       '06h15', '14h40', '19h45', '10h10', '08h45', 'Evening', '12h10',\n",
       "       '18h05', '11h41', '12h25', '17h51', '16h12', '12h45', '10h50',\n",
       "       '14h15', '09h45', '06h45', '05h00', '03h30',\n",
       "       'Sometime between 06h00 & 08hoo', '06h30', '17h20', '20h00',\n",
       "       '16h40', '16h18', '11h10', 'Early afternoon', '17h50',\n",
       "       '07h00 - 08h00', '18h15-18h30', '17h01', '09h57', '08h20', '17h58',\n",
       "       '20h30', '15h19', '10h55', '15h55', '23h00', '12h40', '13h55',\n",
       "       '16h05', '14h10', '15h20', '12h50', '14h45', '13h40', '13h24',\n",
       "       '09h00 - 09h30', '0830', '11h40', '08h10', '15h56', '14h20',\n",
       "       'Just before noon', '07h56', '1600', '17h17', '16h35', '09h05',\n",
       "       '07h15', '07h20', '19h28', '12h38', '05h50', '15h50', '11h05',\n",
       "       'Early morning', 'Dawn', '05h45', '13h25', '12h20', '13h26',\n",
       "       '09h11', '12h15', '13h15', '18h20', '15h35', 'AM', '13h51', 'A.M.',\n",
       "       '08h05', '19h15', '10h35', '15h44', 'Dusk', '21h00', 'Lunchtime',\n",
       "       '15j45', '09h35', '10h27', '10h16', '0500', 'Before 07h00',\n",
       "       '09h20', '10h00 -- 11h00', '12h05', '14h21', '18h50', '15h53',\n",
       "       '\"Just before 11h00\"', '11h115', '13h42', '20h15', '12h39',\n",
       "       '07h05', 'Sunset', '  ', '13h05', '11h50', '\"Evening\"',\n",
       "       'Just before sundown', '17h55', '22h30', '17h15', '16h10',\n",
       "       '11h30 ', '06h10', '16h15', 'Between 05h00 and 08h00', '07h08',\n",
       "       '17h00 or 17h40', '03h00', '>08h00', '--', '12h02', '12h55',\n",
       "       '16h14', '17h11', '00h30', '14h37', '10h07', '13h53', '11h55',\n",
       "       '13h23', 'Just after 12h00', '02h30', '08h40', '11h56', '14h35',\n",
       "       ' ', 'Early Morning', '07h50', 'Shortly after midnight', '14h25',\n",
       "       '13h345', '\\xa0 ', '06h47', '09h00 -10h00', '20h45 (Sunset)',\n",
       "       'Late morning', 'P.M.', '18h40', '13h14', '13h06',\n",
       "       'Shortly before 13h00', '12h34', '11h53', '8:04 pm', '12h46',\n",
       "       '12h48', '17h42', '12h35', 'Possibly same incident as 2000.08.21',\n",
       "       'After Dusk', '11h57', 'Noon', '17h40', '11h25', '18h25', '10h28',\n",
       "       '09h15', '14h16', '09h55', '2 hours after Opperman', '15h05',\n",
       "       '09h30 ', 'Mid afternoon', 'Mid morning', '11h48', '11h00 / 11h30',\n",
       "       '07h19', '13h37', '11h06', '\"Night\"', '18h30?', '11h58', '11h51',\n",
       "       '18h12', '07h10', '07h40', '12h33',\n",
       "       '30 minutes after 1992.07.08.a', '>06h45', '15h06', '12h54',\n",
       "       'Between 06h00 & 07h20', '16h55', '05h40', '<07h30', '21h30',\n",
       "       '17h00 Sunset', 'Nightfall', 'X', '08h57', '18h30 (Sunset)',\n",
       "       '06j00', '08h35', '10h22', '02h45', 'Prior to 10h37', 'Daybreak',\n",
       "       '18h10', '>12h00', 'Mid-morning', '08h55', '16h30 or 18h00',\n",
       "       'Just before dawn', ' 14h00', 'Daytime', '06h50', '01h00', 'Dark',\n",
       "       '10h00 / 11h00', '\"After lunch\"', '07h32', '15h00 or 15h45',\n",
       "       '>17h00', '19h00 / 20h00', '12h45 / 13h45', '14h00 - 15h00',\n",
       "       'night', '03h45 - 04h00', '13h10', '09h30 / 15h30',\n",
       "       '08h00 / 09h30', '19h35', '12h00 to 14h00', '13h35', 'Late night',\n",
       "       '01h32', '10h30 or 13h30', '16h23', '15h00j', 'Midday.',\n",
       "       '\"After dark\"', '10h00 or 14h00', '19h10', '16h25',\n",
       "       '2 hrs before sunset', '18h15 to 21h30', '1500',\n",
       "       '\"shortly before dusk\"', '>17h30', '>14h30',\n",
       "       'Between 11h00 & 12h00', 'After 04h00',\n",
       "       '11h01 -time of ship sinking', 'Ship aban-doned at 03h10', '19h55',\n",
       "       'After dusk',\n",
       "       'FATAL  (Wire netting installed at local beaches after this incident.)',\n",
       "       '01h30', 'After midnight', 'Late afternon', '05h30', '08h58',\n",
       "       '\"Early evening\"', 'Late Afternoon', '   ', 'Before daybreak',\n",
       "       'dusk', 'Before 10h30', '06h00 -- 07h00', '01h50', '17h00-18h00',\n",
       "       '19h00-20h00'], dtype=object)"
      ]
     },
     "execution_count": 107,
     "metadata": {},
     "output_type": "execute_result"
    }
   ],
   "source": [
    "sk.Time.unique()"
   ]
  },
  {
   "cell_type": "code",
   "execution_count": 108,
   "id": "9181b96e",
   "metadata": {},
   "outputs": [],
   "source": [
    "afternoon_index=sk[sk.Time.str.contains('afternoon' or 'Afternoon')].index"
   ]
  },
  {
   "cell_type": "code",
   "execution_count": 109,
   "id": "2df09e64",
   "metadata": {},
   "outputs": [],
   "source": [
    "sk.at[afternoon_index, 'time'] = '17:00'"
   ]
  },
  {
   "cell_type": "code",
   "execution_count": 110,
   "id": "baa51ed5",
   "metadata": {
    "scrolled": false
   },
   "outputs": [
    {
     "data": {
      "text/html": [
       "<div>\n",
       "<style scoped>\n",
       "    .dataframe tbody tr th:only-of-type {\n",
       "        vertical-align: middle;\n",
       "    }\n",
       "\n",
       "    .dataframe tbody tr th {\n",
       "        vertical-align: top;\n",
       "    }\n",
       "\n",
       "    .dataframe thead th {\n",
       "        text-align: right;\n",
       "    }\n",
       "</style>\n",
       "<table border=\"1\" class=\"dataframe\">\n",
       "  <thead>\n",
       "    <tr style=\"text-align: right;\">\n",
       "      <th></th>\n",
       "      <th>Case Number</th>\n",
       "      <th>Date</th>\n",
       "      <th>Year</th>\n",
       "      <th>Type</th>\n",
       "      <th>Country</th>\n",
       "      <th>Area</th>\n",
       "      <th>Location</th>\n",
       "      <th>Activity</th>\n",
       "      <th>Name</th>\n",
       "      <th>Sex</th>\n",
       "      <th>Age</th>\n",
       "      <th>Injury</th>\n",
       "      <th>Fatal</th>\n",
       "      <th>Time</th>\n",
       "      <th>Species</th>\n",
       "      <th>Investigator or Source</th>\n",
       "      <th>pdf</th>\n",
       "      <th>href formula</th>\n",
       "      <th>href</th>\n",
       "      <th>Case Number.1</th>\n",
       "      <th>Case Number.2</th>\n",
       "      <th>original order</th>\n",
       "      <th>time</th>\n",
       "    </tr>\n",
       "  </thead>\n",
       "  <tbody>\n",
       "    <tr>\n",
       "      <th>6</th>\n",
       "      <td>2018.06.03.a</td>\n",
       "      <td>2018-06-03</td>\n",
       "      <td>2018.0</td>\n",
       "      <td>Unprovoked</td>\n",
       "      <td>BRAZIL</td>\n",
       "      <td>Pernambuco</td>\n",
       "      <td>Piedade Beach, Recife</td>\n",
       "      <td>Swimming</td>\n",
       "      <td>Jose Ernesto da Silva</td>\n",
       "      <td>M</td>\n",
       "      <td>18.0</td>\n",
       "      <td>FATAL</td>\n",
       "      <td>Y</td>\n",
       "      <td>Late afternoon</td>\n",
       "      <td>Tiger shark</td>\n",
       "      <td>Diario de Pernambuco, 6/4/2018</td>\n",
       "      <td>2018.06.03.a-daSilva.pdf</td>\n",
       "      <td>http://sharkattackfile.net/spreadsheets/pdf_di...</td>\n",
       "      <td>http://sharkattackfile.net/spreadsheets/pdf_di...</td>\n",
       "      <td>NaT</td>\n",
       "      <td>NaT</td>\n",
       "      <td>6297.0</td>\n",
       "      <td>17:00</td>\n",
       "    </tr>\n",
       "    <tr>\n",
       "      <th>51</th>\n",
       "      <td>2018.01.12</td>\n",
       "      <td>2018-01-12</td>\n",
       "      <td>2018.0</td>\n",
       "      <td>Unprovoked</td>\n",
       "      <td>BRAZIL</td>\n",
       "      <td>Fernando de Noronha</td>\n",
       "      <td>Conceicao Beach</td>\n",
       "      <td>Surfing</td>\n",
       "      <td>Ricardo Ferrari Bulhoes</td>\n",
       "      <td>M</td>\n",
       "      <td>20.0</td>\n",
       "      <td>Minor injury to left forearm</td>\n",
       "      <td>N</td>\n",
       "      <td>Late afternoon</td>\n",
       "      <td>small shark</td>\n",
       "      <td>TrackingSharks.com</td>\n",
       "      <td>2018.01.12-Bulhoes.pdf</td>\n",
       "      <td>http://sharkattackfile.net/spreadsheets/pdf_di...</td>\n",
       "      <td>http://sharkattackfile.net/spreadsheets/pdf_di...</td>\n",
       "      <td>2018-01-12</td>\n",
       "      <td>2018-01-12</td>\n",
       "      <td>6252.0</td>\n",
       "      <td>17:00</td>\n",
       "    </tr>\n",
       "    <tr>\n",
       "      <th>61</th>\n",
       "      <td>2017.11.18</td>\n",
       "      <td>2017-11-18</td>\n",
       "      <td>2017.0</td>\n",
       "      <td>Unprovoked</td>\n",
       "      <td>USA</td>\n",
       "      <td>Florida</td>\n",
       "      <td>Floridana Beach, Brevard County</td>\n",
       "      <td>Surfing</td>\n",
       "      <td>Kaia Anderson</td>\n",
       "      <td>F</td>\n",
       "      <td>14.0</td>\n",
       "      <td>Heel bitten</td>\n",
       "      <td>N</td>\n",
       "      <td>Late afternoon</td>\n",
       "      <td>unknown</td>\n",
       "      <td>Florida Today, 11/21/2017</td>\n",
       "      <td>2017.11.18-Anderson.pdf</td>\n",
       "      <td>http://sharkattackfile.net/spreadsheets/pdf_di...</td>\n",
       "      <td>http://sharkattackfile.net/spreadsheets/pdf_di...</td>\n",
       "      <td>2017-11-18</td>\n",
       "      <td>2017-11-18</td>\n",
       "      <td>6242.0</td>\n",
       "      <td>17:00</td>\n",
       "    </tr>\n",
       "    <tr>\n",
       "      <th>222</th>\n",
       "      <td>2016.09.05.b</td>\n",
       "      <td>2016-09-05</td>\n",
       "      <td>2016.0</td>\n",
       "      <td>Unprovoked</td>\n",
       "      <td>USA</td>\n",
       "      <td>South Carolina</td>\n",
       "      <td>Kingston Plantation, Myrtle Beach, Horry County</td>\n",
       "      <td>Boogie boarding</td>\n",
       "      <td>Rylie Williams</td>\n",
       "      <td>F</td>\n",
       "      <td>12.0</td>\n",
       "      <td>Lacerations &amp; punctures to lower right leg</td>\n",
       "      <td>N</td>\n",
       "      <td>Late afternoon</td>\n",
       "      <td>unknown</td>\n",
       "      <td>C. Creswell, GSAF</td>\n",
       "      <td>2016.09.05.b-Williams.pdf</td>\n",
       "      <td>http://sharkattackfile.net/spreadsheets/pdf_di...</td>\n",
       "      <td>http://sharkattackfile.net/spreadsheets/pdf_di...</td>\n",
       "      <td>NaT</td>\n",
       "      <td>NaT</td>\n",
       "      <td>6081.0</td>\n",
       "      <td>17:00</td>\n",
       "    </tr>\n",
       "    <tr>\n",
       "      <th>223</th>\n",
       "      <td>2016.09.05.a</td>\n",
       "      <td>2016-09-05</td>\n",
       "      <td>2016.0</td>\n",
       "      <td>Unprovoked</td>\n",
       "      <td>AUSTRALIA</td>\n",
       "      <td>Western Australia</td>\n",
       "      <td>Injidup</td>\n",
       "      <td>Surfing</td>\n",
       "      <td>Fraser Penman</td>\n",
       "      <td>M</td>\n",
       "      <td>NaN</td>\n",
       "      <td>No inury, board broken in half by shark</td>\n",
       "      <td>N</td>\n",
       "      <td>Late afternoon</td>\n",
       "      <td>unknown</td>\n",
       "      <td>Perth Now, 9/5/2016</td>\n",
       "      <td>2016.09.05.a-Penman.pdf</td>\n",
       "      <td>http://sharkattackfile.net/spreadsheets/pdf_di...</td>\n",
       "      <td>http://sharkattackfile.net/spreadsheets/pdf_di...</td>\n",
       "      <td>NaT</td>\n",
       "      <td>NaT</td>\n",
       "      <td>6080.0</td>\n",
       "      <td>17:00</td>\n",
       "    </tr>\n",
       "  </tbody>\n",
       "</table>\n",
       "</div>"
      ],
      "text/plain": [
       "      Case Number       Date    Year        Type    Country  \\\n",
       "6    2018.06.03.a 2018-06-03  2018.0  Unprovoked     BRAZIL   \n",
       "51     2018.01.12 2018-01-12  2018.0  Unprovoked     BRAZIL   \n",
       "61     2017.11.18 2017-11-18  2017.0  Unprovoked        USA   \n",
       "222  2016.09.05.b 2016-09-05  2016.0  Unprovoked        USA   \n",
       "223  2016.09.05.a 2016-09-05  2016.0  Unprovoked  AUSTRALIA   \n",
       "\n",
       "                    Area                                         Location  \\\n",
       "6             Pernambuco                            Piedade Beach, Recife   \n",
       "51   Fernando de Noronha                                  Conceicao Beach   \n",
       "61               Florida                  Floridana Beach, Brevard County   \n",
       "222       South Carolina  Kingston Plantation, Myrtle Beach, Horry County   \n",
       "223    Western Australia                                         Injidup    \n",
       "\n",
       "            Activity                      Name Sex   Age  \\\n",
       "6           Swimming    Jose Ernesto da Silva    M  18.0   \n",
       "51           Surfing  Ricardo Ferrari Bulhoes    M  20.0   \n",
       "61           Surfing             Kaia Anderson   F  14.0   \n",
       "222  Boogie boarding            Rylie Williams   F  12.0   \n",
       "223          Surfing             Fraser Penman   M   NaN   \n",
       "\n",
       "                                         Injury Fatal            Time  \\\n",
       "6                                         FATAL     Y  Late afternoon   \n",
       "51                 Minor injury to left forearm     N  Late afternoon   \n",
       "61                                  Heel bitten     N  Late afternoon   \n",
       "222  Lacerations & punctures to lower right leg     N  Late afternoon   \n",
       "223     No inury, board broken in half by shark     N  Late afternoon   \n",
       "\n",
       "         Species          Investigator or Source                        pdf  \\\n",
       "6    Tiger shark  Diario de Pernambuco, 6/4/2018   2018.06.03.a-daSilva.pdf   \n",
       "51   small shark              TrackingSharks.com     2018.01.12-Bulhoes.pdf   \n",
       "61       unknown       Florida Today, 11/21/2017    2017.11.18-Anderson.pdf   \n",
       "222      unknown               C. Creswell, GSAF  2016.09.05.b-Williams.pdf   \n",
       "223      unknown             Perth Now, 9/5/2016    2016.09.05.a-Penman.pdf   \n",
       "\n",
       "                                          href formula  \\\n",
       "6    http://sharkattackfile.net/spreadsheets/pdf_di...   \n",
       "51   http://sharkattackfile.net/spreadsheets/pdf_di...   \n",
       "61   http://sharkattackfile.net/spreadsheets/pdf_di...   \n",
       "222  http://sharkattackfile.net/spreadsheets/pdf_di...   \n",
       "223  http://sharkattackfile.net/spreadsheets/pdf_di...   \n",
       "\n",
       "                                                  href Case Number.1  \\\n",
       "6    http://sharkattackfile.net/spreadsheets/pdf_di...           NaT   \n",
       "51   http://sharkattackfile.net/spreadsheets/pdf_di...    2018-01-12   \n",
       "61   http://sharkattackfile.net/spreadsheets/pdf_di...    2017-11-18   \n",
       "222  http://sharkattackfile.net/spreadsheets/pdf_di...           NaT   \n",
       "223  http://sharkattackfile.net/spreadsheets/pdf_di...           NaT   \n",
       "\n",
       "    Case Number.2  original order   time  \n",
       "6             NaT          6297.0  17:00  \n",
       "51     2018-01-12          6252.0  17:00  \n",
       "61     2017-11-18          6242.0  17:00  \n",
       "222           NaT          6081.0  17:00  \n",
       "223           NaT          6080.0  17:00  "
      ]
     },
     "execution_count": 110,
     "metadata": {},
     "output_type": "execute_result"
    }
   ],
   "source": [
    "sk[sk.Time.str.contains('afternoon' or 'Afternoon')].head()"
   ]
  },
  {
   "cell_type": "code",
   "execution_count": 111,
   "id": "2f8369cd",
   "metadata": {},
   "outputs": [],
   "source": [
    "morning_index=sk[sk.Time.str.contains('morning' or 'Morning')].index"
   ]
  },
  {
   "cell_type": "code",
   "execution_count": 112,
   "id": "e511ec6a",
   "metadata": {},
   "outputs": [],
   "source": [
    "sk.at[morning_index, 'time'] = '10:00'"
   ]
  },
  {
   "cell_type": "code",
   "execution_count": 113,
   "id": "ce2866ba",
   "metadata": {
    "scrolled": true
   },
   "outputs": [
    {
     "data": {
      "text/html": [
       "<div>\n",
       "<style scoped>\n",
       "    .dataframe tbody tr th:only-of-type {\n",
       "        vertical-align: middle;\n",
       "    }\n",
       "\n",
       "    .dataframe tbody tr th {\n",
       "        vertical-align: top;\n",
       "    }\n",
       "\n",
       "    .dataframe thead th {\n",
       "        text-align: right;\n",
       "    }\n",
       "</style>\n",
       "<table border=\"1\" class=\"dataframe\">\n",
       "  <thead>\n",
       "    <tr style=\"text-align: right;\">\n",
       "      <th></th>\n",
       "      <th>Case Number</th>\n",
       "      <th>Date</th>\n",
       "      <th>Year</th>\n",
       "      <th>Type</th>\n",
       "      <th>Country</th>\n",
       "      <th>Area</th>\n",
       "      <th>Location</th>\n",
       "      <th>Activity</th>\n",
       "      <th>Name</th>\n",
       "      <th>Sex</th>\n",
       "      <th>Age</th>\n",
       "      <th>Injury</th>\n",
       "      <th>Fatal</th>\n",
       "      <th>Time</th>\n",
       "      <th>Species</th>\n",
       "      <th>Investigator or Source</th>\n",
       "      <th>pdf</th>\n",
       "      <th>href formula</th>\n",
       "      <th>href</th>\n",
       "      <th>Case Number.1</th>\n",
       "      <th>Case Number.2</th>\n",
       "      <th>original order</th>\n",
       "      <th>time</th>\n",
       "    </tr>\n",
       "  </thead>\n",
       "  <tbody>\n",
       "    <tr>\n",
       "      <th>830</th>\n",
       "      <td>2011.12.26.R</td>\n",
       "      <td>NaT</td>\n",
       "      <td>2011.0</td>\n",
       "      <td>Invalid</td>\n",
       "      <td>ANTIGUA</td>\n",
       "      <td>St John's</td>\n",
       "      <td>Fort James Beach</td>\n",
       "      <td>Swimming</td>\n",
       "      <td>Veron Edwards, Sr.</td>\n",
       "      <td>M</td>\n",
       "      <td>NaN</td>\n",
       "      <td>Bitten on right hand &amp; wrist</td>\n",
       "      <td>NaN</td>\n",
       "      <td>Early morning</td>\n",
       "      <td>Shark involvement not confirmed</td>\n",
       "      <td>D. Francis, Caribarena, 12/26/2011</td>\n",
       "      <td>2011.12.26.R-Edwards.pdf</td>\n",
       "      <td>http://sharkattackfile.net/spreadsheets/pdf_di...</td>\n",
       "      <td>http://sharkattackfile.net/spreadsheets/pdf_di...</td>\n",
       "      <td>NaT</td>\n",
       "      <td>NaT</td>\n",
       "      <td>5473.0</td>\n",
       "      <td>10:00</td>\n",
       "    </tr>\n",
       "    <tr>\n",
       "      <th>1144</th>\n",
       "      <td>2009.03.19.b</td>\n",
       "      <td>2009-03-19</td>\n",
       "      <td>2009.0</td>\n",
       "      <td>Unprovoked</td>\n",
       "      <td>AUSTRALIA</td>\n",
       "      <td>New South Wales</td>\n",
       "      <td>South Broulee</td>\n",
       "      <td>Surfing</td>\n",
       "      <td>male</td>\n",
       "      <td>M</td>\n",
       "      <td>NaN</td>\n",
       "      <td>No injury, shark damaged surfboard</td>\n",
       "      <td>N</td>\n",
       "      <td>Early morning</td>\n",
       "      <td>unknown</td>\n",
       "      <td>ABC News, 3/19/2009</td>\n",
       "      <td>2009.03.19.b-SouthBroulee.pdf</td>\n",
       "      <td>http://sharkattackfile.net/spreadsheets/pdf_di...</td>\n",
       "      <td>http://sharkattackfile.net/spreadsheets/pdf_di...</td>\n",
       "      <td>NaT</td>\n",
       "      <td>NaT</td>\n",
       "      <td>5159.0</td>\n",
       "      <td>10:00</td>\n",
       "    </tr>\n",
       "    <tr>\n",
       "      <th>1256</th>\n",
       "      <td>2008.05.24.a</td>\n",
       "      <td>2008-05-24</td>\n",
       "      <td>2008.0</td>\n",
       "      <td>Unprovoked</td>\n",
       "      <td>MEXICO</td>\n",
       "      <td>Guerro</td>\n",
       "      <td>Playa Linda</td>\n",
       "      <td>Surfing</td>\n",
       "      <td>Bruce Grimes</td>\n",
       "      <td>M</td>\n",
       "      <td>49.0</td>\n",
       "      <td>Lacerations to right forearm and hand</td>\n",
       "      <td>N</td>\n",
       "      <td>Early morning</td>\n",
       "      <td>3 m shark</td>\n",
       "      <td>Associated Press</td>\n",
       "      <td>2008.05.24.a-Grimes.pdf</td>\n",
       "      <td>http://sharkattackfile.net/spreadsheets/pdf_di...</td>\n",
       "      <td>http://sharkattackfile.net/spreadsheets/pdf_di...</td>\n",
       "      <td>NaT</td>\n",
       "      <td>NaT</td>\n",
       "      <td>5047.0</td>\n",
       "      <td>10:00</td>\n",
       "    </tr>\n",
       "    <tr>\n",
       "      <th>1322</th>\n",
       "      <td>2007.09.30.a</td>\n",
       "      <td>2007-09-30</td>\n",
       "      <td>2007.0</td>\n",
       "      <td>Unprovoked</td>\n",
       "      <td>NEW CALEDONIA</td>\n",
       "      <td>Loyalty Islands</td>\n",
       "      <td>Bay of Luengoni, Lifou Island</td>\n",
       "      <td>Swimming</td>\n",
       "      <td>Stéphanie Belliard</td>\n",
       "      <td>F</td>\n",
       "      <td>23.0</td>\n",
       "      <td>FATAL</td>\n",
       "      <td>Y</td>\n",
       "      <td>Early morning</td>\n",
       "      <td>Tiger shark</td>\n",
       "      <td>Les Nouvelles Caledoniennes, 10/1/2007</td>\n",
       "      <td>2007.09.30.a-Belliard.pdf</td>\n",
       "      <td>http://sharkattackfile.net/spreadsheets/pdf_di...</td>\n",
       "      <td>http://sharkattackfile.net/spreadsheets/pdf_di...</td>\n",
       "      <td>NaT</td>\n",
       "      <td>NaT</td>\n",
       "      <td>4981.0</td>\n",
       "      <td>10:00</td>\n",
       "    </tr>\n",
       "    <tr>\n",
       "      <th>1331</th>\n",
       "      <td>2007.09.16.a</td>\n",
       "      <td>2007-09-16</td>\n",
       "      <td>2007.0</td>\n",
       "      <td>Unprovoked</td>\n",
       "      <td>USA</td>\n",
       "      <td>Florida</td>\n",
       "      <td>Flagler Beach, Flagler County</td>\n",
       "      <td>Surfing</td>\n",
       "      <td>Jessica Riley</td>\n",
       "      <td>F</td>\n",
       "      <td>NaN</td>\n",
       "      <td>No injury, surfboard bitten</td>\n",
       "      <td>N</td>\n",
       "      <td>Early morning</td>\n",
       "      <td>9.5' shark?</td>\n",
       "      <td>wsbtv.com</td>\n",
       "      <td>2007.09.16.a-Riley.pdf</td>\n",
       "      <td>http://sharkattackfile.net/spreadsheets/pdf_di...</td>\n",
       "      <td>http://sharkattackfile.net/spreadsheets/pdf_di...</td>\n",
       "      <td>NaT</td>\n",
       "      <td>NaT</td>\n",
       "      <td>4972.0</td>\n",
       "      <td>10:00</td>\n",
       "    </tr>\n",
       "  </tbody>\n",
       "</table>\n",
       "</div>"
      ],
      "text/plain": [
       "       Case Number       Date    Year        Type        Country  \\\n",
       "830   2011.12.26.R        NaT  2011.0     Invalid        ANTIGUA   \n",
       "1144  2009.03.19.b 2009-03-19  2009.0  Unprovoked      AUSTRALIA   \n",
       "1256  2008.05.24.a 2008-05-24  2008.0  Unprovoked         MEXICO   \n",
       "1322  2007.09.30.a 2007-09-30  2007.0  Unprovoked  NEW CALEDONIA   \n",
       "1331  2007.09.16.a 2007-09-16  2007.0  Unprovoked            USA   \n",
       "\n",
       "                 Area                       Location  Activity  \\\n",
       "830         St John's               Fort James Beach  Swimming   \n",
       "1144  New South Wales                  South Broulee   Surfing   \n",
       "1256           Guerro                    Playa Linda   Surfing   \n",
       "1322  Loyalty Islands  Bay of Luengoni, Lifou Island  Swimming   \n",
       "1331          Florida  Flagler Beach, Flagler County   Surfing   \n",
       "\n",
       "                     Name Sex   Age                                 Injury  \\\n",
       "830   Veron Edwards, Sr.    M   NaN           Bitten on right hand & wrist   \n",
       "1144                 male   M   NaN     No injury, shark damaged surfboard   \n",
       "1256         Bruce Grimes   M  49.0  Lacerations to right forearm and hand   \n",
       "1322  Stéphanie Belliard    F  23.0                                  FATAL   \n",
       "1331        Jessica Riley   F   NaN            No injury, surfboard bitten   \n",
       "\n",
       "     Fatal           Time                          Species  \\\n",
       "830    NaN  Early morning  Shark involvement not confirmed   \n",
       "1144     N  Early morning                          unknown   \n",
       "1256     N  Early morning                        3 m shark   \n",
       "1322     Y  Early morning                      Tiger shark   \n",
       "1331     N  Early morning                      9.5' shark?   \n",
       "\n",
       "                       Investigator or Source                            pdf  \\\n",
       "830        D. Francis, Caribarena, 12/26/2011       2011.12.26.R-Edwards.pdf   \n",
       "1144                      ABC News, 3/19/2009  2009.03.19.b-SouthBroulee.pdf   \n",
       "1256                         Associated Press        2008.05.24.a-Grimes.pdf   \n",
       "1322  Les Nouvelles Caledoniennes, 10/1/2007       2007.09.30.a-Belliard.pdf   \n",
       "1331                                wsbtv.com         2007.09.16.a-Riley.pdf   \n",
       "\n",
       "                                           href formula  \\\n",
       "830   http://sharkattackfile.net/spreadsheets/pdf_di...   \n",
       "1144  http://sharkattackfile.net/spreadsheets/pdf_di...   \n",
       "1256  http://sharkattackfile.net/spreadsheets/pdf_di...   \n",
       "1322  http://sharkattackfile.net/spreadsheets/pdf_di...   \n",
       "1331  http://sharkattackfile.net/spreadsheets/pdf_di...   \n",
       "\n",
       "                                                   href Case Number.1  \\\n",
       "830   http://sharkattackfile.net/spreadsheets/pdf_di...           NaT   \n",
       "1144  http://sharkattackfile.net/spreadsheets/pdf_di...           NaT   \n",
       "1256  http://sharkattackfile.net/spreadsheets/pdf_di...           NaT   \n",
       "1322  http://sharkattackfile.net/spreadsheets/pdf_di...           NaT   \n",
       "1331  http://sharkattackfile.net/spreadsheets/pdf_di...           NaT   \n",
       "\n",
       "     Case Number.2  original order   time  \n",
       "830            NaT          5473.0  10:00  \n",
       "1144           NaT          5159.0  10:00  \n",
       "1256           NaT          5047.0  10:00  \n",
       "1322           NaT          4981.0  10:00  \n",
       "1331           NaT          4972.0  10:00  "
      ]
     },
     "execution_count": 113,
     "metadata": {},
     "output_type": "execute_result"
    }
   ],
   "source": [
    "sk[sk.Time.str.contains('morning' or 'Morning')].head()"
   ]
  },
  {
   "cell_type": "code",
   "execution_count": 114,
   "id": "f3a0ce53",
   "metadata": {},
   "outputs": [
    {
     "name": "stdout",
     "output_type": "stream",
     "text": [
      "<class 'pandas.core.frame.DataFrame'>\n",
      "Int64Index: 8703 entries, 0 to 25722\n",
      "Data columns (total 23 columns):\n",
      " #   Column                  Non-Null Count  Dtype         \n",
      "---  ------                  --------------  -----         \n",
      " 0   Case Number             8702 non-null   object        \n",
      " 1   Date                    5458 non-null   datetime64[ns]\n",
      " 2   Year                    6300 non-null   float64       \n",
      " 3   Type                    6298 non-null   object        \n",
      " 4   Country                 6252 non-null   object        \n",
      " 5   Area                    5847 non-null   object        \n",
      " 6   Location                5762 non-null   object        \n",
      " 7   Activity                5758 non-null   object        \n",
      " 8   Name                    6092 non-null   object        \n",
      " 9   Sex                     5737 non-null   object        \n",
      " 10  Age                     3369 non-null   float64       \n",
      " 11  Injury                  6274 non-null   object        \n",
      " 12  Fatal                   5763 non-null   object        \n",
      " 13  Time                    8703 non-null   object        \n",
      " 14  Species                 8703 non-null   object        \n",
      " 15  Investigator or Source  6285 non-null   object        \n",
      " 16  pdf                     6302 non-null   object        \n",
      " 17  href formula            6301 non-null   object        \n",
      " 18  href                    6302 non-null   object        \n",
      " 19  Case Number.1           3815 non-null   datetime64[ns]\n",
      " 20  Case Number.2           3813 non-null   datetime64[ns]\n",
      " 21  original order          6309 non-null   float64       \n",
      " 22  time                    8703 non-null   object        \n",
      "dtypes: datetime64[ns](3), float64(3), object(17)\n",
      "memory usage: 10.1 MB\n"
     ]
    }
   ],
   "source": [
    "sk.info(memory_usage='deep')"
   ]
  },
  {
   "cell_type": "code",
   "execution_count": 121,
   "id": "4263575d",
   "metadata": {},
   "outputs": [
    {
     "data": {
      "text/plain": [
       "array(['18:00', '14:00', '07:45', '', '17:00', '15:00', '08:15', '11:00',\n",
       "       '10:30', '10:40', '16:50', '07:00', '09:30', '21:50', '09:40',\n",
       "       '08:00', '17:35', '15:30', '07:30', '19:00', '16:00', '15:01',\n",
       "       '12:00', '13:45', '23:30', '09:00', '14:30', '18:30', '12:30',\n",
       "       '16:30', '18:45', '06:00', '10:00', '10:44', '13:19', '13:30',\n",
       "       '10:45', '11:20', '11:45', '19:30', '08:30', '15:45', '17:34',\n",
       "       '17:10', '11:15', '08:50', '17:45', '13:00', '10:20', '13:20',\n",
       "       '02:00', '09:50', '11:30', '17:30', '90:0', '10:43', '15:15',\n",
       "       '15:40', '19:05', '22:00', '16:20', '14:34', '15:25', '14:55',\n",
       "       '17:46', '15:49', '10:15', '18:15', '04:00', '14:50', '13:50',\n",
       "       '19:20', '10:25', '16:45', '15:52', '06:15', '14:40', '19:45',\n",
       "       '10:10', '08:45', '12:10', '18:05', '11:41', '12:25', '17:51',\n",
       "       '16:12', '12:45', '10:50', '14:15', '09:45', '06:45', '05:00',\n",
       "       '03:30', '06:30', '17:20', '20:00', '16:40', '16:18', '11:10',\n",
       "       '17:50', '17:01', '09:57', '08:20', '17:58', '20:30', '15:19',\n",
       "       '10:55', '15:55', '23:00', '12:40', '13:55', '16:05', '14:10',\n",
       "       '15:20', '12:50', '14:45', '13:40', '13:24', '11:40', '08:10',\n",
       "       '15:56', '14:20', '07:56', '17:17', '16:35', '09:05', '07:15',\n",
       "       '07:20', '19:28', '12:38', '05:50', '15:50', '11:05', '05:45',\n",
       "       '13:25', '12:20', '13:26', '09:11', '12:15', '13:15', '18:20',\n",
       "       '15:35', '13:51', '08:05', '19:15', '10:35', '15:44', '21:00',\n",
       "       '09:35', '10:27', '10:16', '09:20', '12:05', '14:21', '18:50',\n",
       "       '15:53', '11:11', '13:42', '20:15', '12:39', '07:05', '13:05',\n",
       "       '11:50', '17:55', '22:30', '17:15', '16:10', '06:10', '16:15',\n",
       "       '07:08', '03:00', '12:02', '12:55', '16:14', '17:11', '00:30',\n",
       "       '14:37', '10:07', '13:53', '11:55', '13:23', '02:30', '08:40',\n",
       "       '11:56', '14:35', '07:50', '14:25', '13:34', '06:47', '20:45',\n",
       "       '18:40', '13:14', '13:06', '12:34', '11:53', '80:4', '12:46',\n",
       "       '12:48', '17:42', '12:35', '11:57', '17:40', '11:25', '18:25',\n",
       "       '10:28', '09:15', '14:16', '09:55', '2:', '15:05', '11:48',\n",
       "       '07:19', '13:37', '11:06', '11:58', '11:51', '18:12', '07:10',\n",
       "       '07:40', '12:33', '30:19', '15:06', '12:54', '16:55', '05:40',\n",
       "       '21:30', '08:57', '08:35', '10:22', '02:45', '10:37', '18:10',\n",
       "       '08:55', '06:50', '01:00', '07:32', '03:45', '13:10', '19:35',\n",
       "       '13:35', '01:32', '16:23', '19:10', '16:25', '11:01', '03:10',\n",
       "       '19:55', '01:30', '05:30', '08:58', '01:50'], dtype=object)"
      ]
     },
     "execution_count": 121,
     "metadata": {},
     "output_type": "execute_result"
    }
   ],
   "source": [
    "sk.time.unique()"
   ]
  },
  {
   "cell_type": "code",
   "execution_count": 122,
   "id": "a1e614de",
   "metadata": {},
   "outputs": [],
   "source": [
    "reemplazar=['2:','80:4','90:0','']"
   ]
  },
  {
   "cell_type": "code",
   "execution_count": 123,
   "id": "11729b01",
   "metadata": {},
   "outputs": [],
   "source": [
    "sk.time.replace(reemplazar, 'unknown', inplace=True)"
   ]
  },
  {
   "cell_type": "code",
   "execution_count": 124,
   "id": "adc54f21",
   "metadata": {},
   "outputs": [
    {
     "data": {
      "text/plain": [
       "array(['18:00', '14:00', '07:45', 'unknown', '17:00', '15:00', '08:15',\n",
       "       '11:00', '10:30', '10:40', '16:50', '07:00', '09:30', '21:50',\n",
       "       '09:40', '08:00', '17:35', '15:30', '07:30', '19:00', '16:00',\n",
       "       '15:01', '12:00', '13:45', '23:30', '09:00', '14:30', '18:30',\n",
       "       '12:30', '16:30', '18:45', '06:00', '10:00', '10:44', '13:19',\n",
       "       '13:30', '10:45', '11:20', '11:45', '19:30', '08:30', '15:45',\n",
       "       '17:34', '17:10', '11:15', '08:50', '17:45', '13:00', '10:20',\n",
       "       '13:20', '02:00', '09:50', '11:30', '17:30', '10:43', '15:15',\n",
       "       '15:40', '19:05', '22:00', '16:20', '14:34', '15:25', '14:55',\n",
       "       '17:46', '15:49', '10:15', '18:15', '04:00', '14:50', '13:50',\n",
       "       '19:20', '10:25', '16:45', '15:52', '06:15', '14:40', '19:45',\n",
       "       '10:10', '08:45', '12:10', '18:05', '11:41', '12:25', '17:51',\n",
       "       '16:12', '12:45', '10:50', '14:15', '09:45', '06:45', '05:00',\n",
       "       '03:30', '06:30', '17:20', '20:00', '16:40', '16:18', '11:10',\n",
       "       '17:50', '17:01', '09:57', '08:20', '17:58', '20:30', '15:19',\n",
       "       '10:55', '15:55', '23:00', '12:40', '13:55', '16:05', '14:10',\n",
       "       '15:20', '12:50', '14:45', '13:40', '13:24', '11:40', '08:10',\n",
       "       '15:56', '14:20', '07:56', '17:17', '16:35', '09:05', '07:15',\n",
       "       '07:20', '19:28', '12:38', '05:50', '15:50', '11:05', '05:45',\n",
       "       '13:25', '12:20', '13:26', '09:11', '12:15', '13:15', '18:20',\n",
       "       '15:35', '13:51', '08:05', '19:15', '10:35', '15:44', '21:00',\n",
       "       '09:35', '10:27', '10:16', '09:20', '12:05', '14:21', '18:50',\n",
       "       '15:53', '11:11', '13:42', '20:15', '12:39', '07:05', '13:05',\n",
       "       '11:50', '17:55', '22:30', '17:15', '16:10', '06:10', '16:15',\n",
       "       '07:08', '03:00', '12:02', '12:55', '16:14', '17:11', '00:30',\n",
       "       '14:37', '10:07', '13:53', '11:55', '13:23', '02:30', '08:40',\n",
       "       '11:56', '14:35', '07:50', '14:25', '13:34', '06:47', '20:45',\n",
       "       '18:40', '13:14', '13:06', '12:34', '11:53', '12:46', '12:48',\n",
       "       '17:42', '12:35', '11:57', '17:40', '11:25', '18:25', '10:28',\n",
       "       '09:15', '14:16', '09:55', '15:05', '11:48', '07:19', '13:37',\n",
       "       '11:06', '11:58', '11:51', '18:12', '07:10', '07:40', '12:33',\n",
       "       '30:19', '15:06', '12:54', '16:55', '05:40', '21:30', '08:57',\n",
       "       '08:35', '10:22', '02:45', '10:37', '18:10', '08:55', '06:50',\n",
       "       '01:00', '07:32', '03:45', '13:10', '19:35', '13:35', '01:32',\n",
       "       '16:23', '19:10', '16:25', '11:01', '03:10', '19:55', '01:30',\n",
       "       '05:30', '08:58', '01:50'], dtype=object)"
      ]
     },
     "execution_count": 124,
     "metadata": {},
     "output_type": "execute_result"
    }
   ],
   "source": [
    "sk.time.unique()"
   ]
  },
  {
   "cell_type": "code",
   "execution_count": 127,
   "id": "1057086a",
   "metadata": {},
   "outputs": [],
   "source": [
    "sk.drop(columns='Time',inplace=True)"
   ]
  },
  {
   "cell_type": "code",
   "execution_count": 128,
   "id": "f1328400",
   "metadata": {
    "scrolled": true
   },
   "outputs": [
    {
     "data": {
      "text/html": [
       "<div>\n",
       "<style scoped>\n",
       "    .dataframe tbody tr th:only-of-type {\n",
       "        vertical-align: middle;\n",
       "    }\n",
       "\n",
       "    .dataframe tbody tr th {\n",
       "        vertical-align: top;\n",
       "    }\n",
       "\n",
       "    .dataframe thead th {\n",
       "        text-align: right;\n",
       "    }\n",
       "</style>\n",
       "<table border=\"1\" class=\"dataframe\">\n",
       "  <thead>\n",
       "    <tr style=\"text-align: right;\">\n",
       "      <th></th>\n",
       "      <th>Case Number</th>\n",
       "      <th>Date</th>\n",
       "      <th>Year</th>\n",
       "      <th>Type</th>\n",
       "      <th>Country</th>\n",
       "      <th>Area</th>\n",
       "      <th>Location</th>\n",
       "      <th>Activity</th>\n",
       "      <th>Name</th>\n",
       "      <th>Sex</th>\n",
       "      <th>Age</th>\n",
       "      <th>Injury</th>\n",
       "      <th>Fatal</th>\n",
       "      <th>Species</th>\n",
       "      <th>Investigator or Source</th>\n",
       "      <th>pdf</th>\n",
       "      <th>href formula</th>\n",
       "      <th>href</th>\n",
       "      <th>Case Number.1</th>\n",
       "      <th>Case Number.2</th>\n",
       "      <th>original order</th>\n",
       "      <th>time</th>\n",
       "    </tr>\n",
       "  </thead>\n",
       "  <tbody>\n",
       "    <tr>\n",
       "      <th>0</th>\n",
       "      <td>2018.06.25</td>\n",
       "      <td>2018-06-25</td>\n",
       "      <td>2018.0</td>\n",
       "      <td>Boating</td>\n",
       "      <td>USA</td>\n",
       "      <td>California</td>\n",
       "      <td>Oceanside, San Diego County</td>\n",
       "      <td>Paddling</td>\n",
       "      <td>Julie Wolfe</td>\n",
       "      <td>F</td>\n",
       "      <td>57.0</td>\n",
       "      <td>No injury to occupant, outrigger canoe and pad...</td>\n",
       "      <td>N</td>\n",
       "      <td>White shark</td>\n",
       "      <td>R. Collier, GSAF</td>\n",
       "      <td>2018.06.25-Wolfe.pdf</td>\n",
       "      <td>http://sharkattackfile.net/spreadsheets/pdf_di...</td>\n",
       "      <td>http://sharkattackfile.net/spreadsheets/pdf_di...</td>\n",
       "      <td>2018-06-25</td>\n",
       "      <td>2018-06-25</td>\n",
       "      <td>6303.0</td>\n",
       "      <td>18:00</td>\n",
       "    </tr>\n",
       "    <tr>\n",
       "      <th>1</th>\n",
       "      <td>2018.06.18</td>\n",
       "      <td>2018-06-18</td>\n",
       "      <td>2018.0</td>\n",
       "      <td>Unprovoked</td>\n",
       "      <td>USA</td>\n",
       "      <td>Georgia</td>\n",
       "      <td>St. Simon Island, Glynn County</td>\n",
       "      <td>Standing</td>\n",
       "      <td>Adyson McNeely</td>\n",
       "      <td>F</td>\n",
       "      <td>11.0</td>\n",
       "      <td>Minor injury to left thigh</td>\n",
       "      <td>N</td>\n",
       "      <td>unknown</td>\n",
       "      <td>K.McMurray, TrackingSharks.com</td>\n",
       "      <td>2018.06.18-McNeely.pdf</td>\n",
       "      <td>http://sharkattackfile.net/spreadsheets/pdf_di...</td>\n",
       "      <td>http://sharkattackfile.net/spreadsheets/pdf_di...</td>\n",
       "      <td>2018-06-18</td>\n",
       "      <td>2018-06-18</td>\n",
       "      <td>6302.0</td>\n",
       "      <td>14:00</td>\n",
       "    </tr>\n",
       "    <tr>\n",
       "      <th>2</th>\n",
       "      <td>2018.06.09</td>\n",
       "      <td>2018-06-09</td>\n",
       "      <td>2018.0</td>\n",
       "      <td>Invalid</td>\n",
       "      <td>USA</td>\n",
       "      <td>Hawaii</td>\n",
       "      <td>Habush, Oahu</td>\n",
       "      <td>Surfing</td>\n",
       "      <td>John Denges</td>\n",
       "      <td>M</td>\n",
       "      <td>48.0</td>\n",
       "      <td>Injury to left lower leg from surfboard skeg</td>\n",
       "      <td>N</td>\n",
       "      <td>unknown</td>\n",
       "      <td>K.McMurray, TrackingSharks.com</td>\n",
       "      <td>2018.06.09-Denges.pdf</td>\n",
       "      <td>http://sharkattackfile.net/spreadsheets/pdf_di...</td>\n",
       "      <td>http://sharkattackfile.net/spreadsheets/pdf_di...</td>\n",
       "      <td>2018-06-09</td>\n",
       "      <td>2018-06-09</td>\n",
       "      <td>6301.0</td>\n",
       "      <td>07:45</td>\n",
       "    </tr>\n",
       "    <tr>\n",
       "      <th>3</th>\n",
       "      <td>2018.06.08</td>\n",
       "      <td>2018-06-08</td>\n",
       "      <td>2018.0</td>\n",
       "      <td>Unprovoked</td>\n",
       "      <td>AUSTRALIA</td>\n",
       "      <td>New South Wales</td>\n",
       "      <td>Arrawarra Headland</td>\n",
       "      <td>Surfing</td>\n",
       "      <td>male</td>\n",
       "      <td>M</td>\n",
       "      <td>NaN</td>\n",
       "      <td>Minor injury to lower leg</td>\n",
       "      <td>N</td>\n",
       "      <td>2 m shark</td>\n",
       "      <td>B. Myatt, GSAF</td>\n",
       "      <td>2018.06.08-Arrawarra.pdf</td>\n",
       "      <td>http://sharkattackfile.net/spreadsheets/pdf_di...</td>\n",
       "      <td>http://sharkattackfile.net/spreadsheets/pdf_di...</td>\n",
       "      <td>2018-06-08</td>\n",
       "      <td>2018-06-08</td>\n",
       "      <td>6300.0</td>\n",
       "      <td>unknown</td>\n",
       "    </tr>\n",
       "    <tr>\n",
       "      <th>4</th>\n",
       "      <td>2018.06.04</td>\n",
       "      <td>2018-06-04</td>\n",
       "      <td>2018.0</td>\n",
       "      <td>Provoked</td>\n",
       "      <td>MEXICO</td>\n",
       "      <td>Colima</td>\n",
       "      <td>La Ticla</td>\n",
       "      <td>Free diving</td>\n",
       "      <td>Gustavo Ramos</td>\n",
       "      <td>M</td>\n",
       "      <td>NaN</td>\n",
       "      <td>Lacerations to leg &amp; hand shark PROVOKED INCIDENT</td>\n",
       "      <td>N</td>\n",
       "      <td>Tiger shark, 3m</td>\n",
       "      <td>A .Kipper</td>\n",
       "      <td>2018.06.04-Ramos.pdf</td>\n",
       "      <td>http://sharkattackfile.net/spreadsheets/pdf_di...</td>\n",
       "      <td>http://sharkattackfile.net/spreadsheets/pdf_di...</td>\n",
       "      <td>2018-06-04</td>\n",
       "      <td>2018-06-04</td>\n",
       "      <td>6299.0</td>\n",
       "      <td>unknown</td>\n",
       "    </tr>\n",
       "  </tbody>\n",
       "</table>\n",
       "</div>"
      ],
      "text/plain": [
       "  Case Number       Date    Year        Type    Country             Area  \\\n",
       "0  2018.06.25 2018-06-25  2018.0     Boating        USA       California   \n",
       "1  2018.06.18 2018-06-18  2018.0  Unprovoked        USA          Georgia   \n",
       "2  2018.06.09 2018-06-09  2018.0     Invalid        USA           Hawaii   \n",
       "3  2018.06.08 2018-06-08  2018.0  Unprovoked  AUSTRALIA  New South Wales   \n",
       "4  2018.06.04 2018-06-04  2018.0    Provoked     MEXICO           Colima   \n",
       "\n",
       "                         Location     Activity             Name Sex   Age  \\\n",
       "0     Oceanside, San Diego County     Paddling      Julie Wolfe   F  57.0   \n",
       "1  St. Simon Island, Glynn County     Standing  Adyson McNeely    F  11.0   \n",
       "2                    Habush, Oahu      Surfing      John Denges   M  48.0   \n",
       "3              Arrawarra Headland      Surfing             male   M   NaN   \n",
       "4                        La Ticla  Free diving   Gustavo Ramos    M   NaN   \n",
       "\n",
       "                                              Injury Fatal          Species  \\\n",
       "0  No injury to occupant, outrigger canoe and pad...     N      White shark   \n",
       "1                         Minor injury to left thigh     N          unknown   \n",
       "2       Injury to left lower leg from surfboard skeg     N          unknown   \n",
       "3                          Minor injury to lower leg     N        2 m shark   \n",
       "4  Lacerations to leg & hand shark PROVOKED INCIDENT     N  Tiger shark, 3m   \n",
       "\n",
       "           Investigator or Source                       pdf  \\\n",
       "0                R. Collier, GSAF      2018.06.25-Wolfe.pdf   \n",
       "1  K.McMurray, TrackingSharks.com    2018.06.18-McNeely.pdf   \n",
       "2  K.McMurray, TrackingSharks.com     2018.06.09-Denges.pdf   \n",
       "3                  B. Myatt, GSAF  2018.06.08-Arrawarra.pdf   \n",
       "4                       A .Kipper      2018.06.04-Ramos.pdf   \n",
       "\n",
       "                                        href formula  \\\n",
       "0  http://sharkattackfile.net/spreadsheets/pdf_di...   \n",
       "1  http://sharkattackfile.net/spreadsheets/pdf_di...   \n",
       "2  http://sharkattackfile.net/spreadsheets/pdf_di...   \n",
       "3  http://sharkattackfile.net/spreadsheets/pdf_di...   \n",
       "4  http://sharkattackfile.net/spreadsheets/pdf_di...   \n",
       "\n",
       "                                                href Case Number.1  \\\n",
       "0  http://sharkattackfile.net/spreadsheets/pdf_di...    2018-06-25   \n",
       "1  http://sharkattackfile.net/spreadsheets/pdf_di...    2018-06-18   \n",
       "2  http://sharkattackfile.net/spreadsheets/pdf_di...    2018-06-09   \n",
       "3  http://sharkattackfile.net/spreadsheets/pdf_di...    2018-06-08   \n",
       "4  http://sharkattackfile.net/spreadsheets/pdf_di...    2018-06-04   \n",
       "\n",
       "  Case Number.2  original order     time  \n",
       "0    2018-06-25          6303.0    18:00  \n",
       "1    2018-06-18          6302.0    14:00  \n",
       "2    2018-06-09          6301.0    07:45  \n",
       "3    2018-06-08          6300.0  unknown  \n",
       "4    2018-06-04          6299.0  unknown  "
      ]
     },
     "execution_count": 128,
     "metadata": {},
     "output_type": "execute_result"
    }
   ],
   "source": [
    "sk.head()"
   ]
  },
  {
   "cell_type": "markdown",
   "id": "9db5fb94",
   "metadata": {},
   "source": [
    "Convertir los NaN de las columnas objeto a 'unknown':"
   ]
  },
  {
   "cell_type": "code",
   "execution_count": 130,
   "id": "878a9ec4",
   "metadata": {
    "scrolled": true
   },
   "outputs": [
    {
     "data": {
      "text/plain": [
       "['Case Number',\n",
       " 'Type',\n",
       " 'Country',\n",
       " 'Area',\n",
       " 'Location',\n",
       " 'Activity',\n",
       " 'Name',\n",
       " 'Sex',\n",
       " 'Injury',\n",
       " 'Fatal',\n",
       " 'Species',\n",
       " 'Investigator or Source',\n",
       " 'pdf',\n",
       " 'href formula',\n",
       " 'href']"
      ]
     },
     "execution_count": 130,
     "metadata": {},
     "output_type": "execute_result"
    }
   ],
   "source": [
    "str_cols = ['Case Number', 'Type', 'Country', 'Area', 'Location', 'Activity',\n",
    "       'Name', 'Sex', 'Injury', 'Fatal', 'Species', 'Investigator or Source',\n",
    "       'pdf', 'href formula', 'href']\n",
    "str_cols"
   ]
  },
  {
   "cell_type": "code",
   "execution_count": 131,
   "id": "1c77ddd0",
   "metadata": {},
   "outputs": [],
   "source": [
    "sk[str_cols] = sk[str_cols].fillna('unknown')"
   ]
  },
  {
   "cell_type": "markdown",
   "id": "701e7a32",
   "metadata": {},
   "source": [
    "Columnas repetidas:"
   ]
  },
  {
   "cell_type": "code",
   "execution_count": 139,
   "id": "9f826290",
   "metadata": {},
   "outputs": [],
   "source": [
    "#sk['href formula']==sk['href'] esta formula da True"
   ]
  },
  {
   "cell_type": "code",
   "execution_count": 140,
   "id": "c6f90331",
   "metadata": {},
   "outputs": [],
   "source": [
    "sk.drop(columns='href formula', inplace=True)"
   ]
  },
  {
   "cell_type": "code",
   "execution_count": 142,
   "id": "8cb82c07",
   "metadata": {},
   "outputs": [
    {
     "data": {
      "text/plain": [
       "(8703, 21)"
      ]
     },
     "execution_count": 142,
     "metadata": {},
     "output_type": "execute_result"
    }
   ],
   "source": [
    "sk.shape"
   ]
  },
  {
   "cell_type": "code",
   "execution_count": 143,
   "id": "3bccc16e",
   "metadata": {
    "scrolled": true
   },
   "outputs": [
    {
     "data": {
      "text/plain": [
       "Age               61.289211\n",
       "Case Number.2     56.187522\n",
       "Case Number.1     56.164541\n",
       "Date              37.285993\n",
       "Year              27.611169\n",
       "original order    27.507756\n",
       "dtype: float64"
      ]
     },
     "execution_count": 143,
     "metadata": {},
     "output_type": "execute_result"
    }
   ],
   "source": [
    "nan_cols=sk.isna().mean() * 100  # porcentaje de nulos por columna\n",
    "\n",
    "pepe= nan_cols[nan_cols>0].sort_values(ascending=False)\n",
    "\n",
    "pepe"
   ]
  },
  {
   "cell_type": "markdown",
   "id": "459c21b2",
   "metadata": {},
   "source": [
    "Eliminar columnas que no aportan valor (Case Number.1,Case Number.2) ya que equivalen a Date:"
   ]
  },
  {
   "cell_type": "code",
   "execution_count": 145,
   "id": "20e3beef",
   "metadata": {},
   "outputs": [],
   "source": [
    "sk.drop(columns=['Case Number.1', 'Case Number.2'], inplace=True)"
   ]
  },
  {
   "cell_type": "code",
   "execution_count": 146,
   "id": "a23d0c6f",
   "metadata": {},
   "outputs": [
    {
     "data": {
      "text/plain": [
       "(8703, 19)"
      ]
     },
     "execution_count": 146,
     "metadata": {},
     "output_type": "execute_result"
    }
   ],
   "source": [
    "sk.shape"
   ]
  },
  {
   "cell_type": "markdown",
   "id": "428d352f",
   "metadata": {},
   "source": [
    "Convertir NaN de original order en 'unknown':"
   ]
  },
  {
   "cell_type": "code",
   "execution_count": 147,
   "id": "4c039fc2",
   "metadata": {},
   "outputs": [],
   "source": [
    "sk['original order'].fillna('unknown', inplace=True)"
   ]
  },
  {
   "cell_type": "code",
   "execution_count": 148,
   "id": "f573a32d",
   "metadata": {
    "scrolled": true
   },
   "outputs": [
    {
     "data": {
      "text/plain": [
       "Age     61.289211\n",
       "Date    37.285993\n",
       "Year    27.611169\n",
       "dtype: float64"
      ]
     },
     "execution_count": 148,
     "metadata": {},
     "output_type": "execute_result"
    }
   ],
   "source": [
    "nan_cols=sk.isna().mean() * 100  # porcentaje de nulos por columna\n",
    "\n",
    "pepe= nan_cols[nan_cols>0].sort_values(ascending=False)\n",
    "\n",
    "pepe"
   ]
  },
  {
   "cell_type": "markdown",
   "id": "468d53c0",
   "metadata": {},
   "source": [
    "Convertir los NaN de Age en la media:"
   ]
  },
  {
   "cell_type": "code",
   "execution_count": 161,
   "id": "12279f6d",
   "metadata": {},
   "outputs": [
    {
     "data": {
      "text/plain": [
       "array([57., 11., 48., nan, 18., 52., 15., 12., 32., 10., 21., 34., 30.,\n",
       "       60., 33., 29., 54., 41., 37., 56., 19., 25., 69., 38., 55., 35.,\n",
       "       46., 45., 14., 28., 20., 24., 26., 49., 22.,  7., 31., 17., 40.,\n",
       "       13., 42.,  3.,  8., 50., 16., 82., 73., 68., 51., 39., 58., 47.,\n",
       "       61., 65., 36., 66., 43.,  9., 72., 59.,  6., 27., 64., 23., 71.,\n",
       "       44., 62., 63., 70., 53., 77., 74.,  5., 86., 84., 75., 87., 67.,\n",
       "        1., 81., 78.])"
      ]
     },
     "execution_count": 161,
     "metadata": {},
     "output_type": "execute_result"
    }
   ],
   "source": [
    "sk.Age.unique()"
   ]
  },
  {
   "cell_type": "code",
   "execution_count": 160,
   "id": "71453f85",
   "metadata": {},
   "outputs": [
    {
     "data": {
      "text/plain": [
       "27.36835856337192"
      ]
     },
     "execution_count": 160,
     "metadata": {},
     "output_type": "execute_result"
    }
   ],
   "source": [
    "sk.Age.mean()"
   ]
  },
  {
   "cell_type": "code",
   "execution_count": 162,
   "id": "d9bd21a8",
   "metadata": {},
   "outputs": [],
   "source": [
    "sk.Age = sk.Age.fillna(27.36).astype(int)"
   ]
  },
  {
   "cell_type": "code",
   "execution_count": 163,
   "id": "173f81e8",
   "metadata": {},
   "outputs": [
    {
     "data": {
      "text/plain": [
       "array([57, 11, 48, 27, 18, 52, 15, 12, 32, 10, 21, 34, 30, 60, 33, 29, 54,\n",
       "       41, 37, 56, 19, 25, 69, 38, 55, 35, 46, 45, 14, 28, 20, 24, 26, 49,\n",
       "       22,  7, 31, 17, 40, 13, 42,  3,  8, 50, 16, 82, 73, 68, 51, 39, 58,\n",
       "       47, 61, 65, 36, 66, 43,  9, 72, 59,  6, 64, 23, 71, 44, 62, 63, 70,\n",
       "       53, 77, 74,  5, 86, 84, 75, 87, 67,  1, 81, 78])"
      ]
     },
     "execution_count": 163,
     "metadata": {},
     "output_type": "execute_result"
    }
   ],
   "source": [
    "sk.Age.unique()"
   ]
  },
  {
   "cell_type": "code",
   "execution_count": 164,
   "id": "f3db0f81",
   "metadata": {},
   "outputs": [],
   "source": [
    "sk['Age'] = pd.to_numeric(sk['Age'], errors='coerce',downcast='integer')"
   ]
  },
  {
   "cell_type": "code",
   "execution_count": 165,
   "id": "20f87a4e",
   "metadata": {},
   "outputs": [
    {
     "name": "stdout",
     "output_type": "stream",
     "text": [
      "<class 'pandas.core.frame.DataFrame'>\n",
      "Int64Index: 8703 entries, 0 to 25722\n",
      "Data columns (total 19 columns):\n",
      " #   Column                  Non-Null Count  Dtype         \n",
      "---  ------                  --------------  -----         \n",
      " 0   Case Number             8703 non-null   object        \n",
      " 1   Date                    5458 non-null   datetime64[ns]\n",
      " 2   Year                    6300 non-null   float64       \n",
      " 3   Type                    8703 non-null   object        \n",
      " 4   Country                 8703 non-null   object        \n",
      " 5   Area                    8703 non-null   object        \n",
      " 6   Location                8703 non-null   object        \n",
      " 7   Activity                8703 non-null   object        \n",
      " 8   Name                    8703 non-null   object        \n",
      " 9   Sex                     8703 non-null   object        \n",
      " 10  Age                     8703 non-null   int8          \n",
      " 11  Injury                  8703 non-null   object        \n",
      " 12  Fatal                   8703 non-null   object        \n",
      " 13  Species                 8703 non-null   object        \n",
      " 14  Investigator or Source  8703 non-null   object        \n",
      " 15  pdf                     8703 non-null   object        \n",
      " 16  href                    8703 non-null   object        \n",
      " 17  original order          8703 non-null   object        \n",
      " 18  time                    8703 non-null   object        \n",
      "dtypes: datetime64[ns](1), float64(1), int8(1), object(16)\n",
      "memory usage: 9.8 MB\n"
     ]
    }
   ],
   "source": [
    "sk.info(memory_usage='deep')"
   ]
  },
  {
   "cell_type": "code",
   "execution_count": null,
   "id": "91beb452",
   "metadata": {},
   "outputs": [],
   "source": []
  },
  {
   "cell_type": "code",
   "execution_count": 52,
   "id": "10486943",
   "metadata": {},
   "outputs": [
    {
     "data": {
      "text/plain": [
       "M          5094\n",
       "unknown    2966\n",
       "F           637\n",
       "M             2\n",
       "N             2\n",
       "lli           1\n",
       ".             1\n",
       "Name: Sex, dtype: int64"
      ]
     },
     "execution_count": 52,
     "metadata": {},
     "output_type": "execute_result"
    }
   ],
   "source": [
    "sk.Sex.value_counts()"
   ]
  },
  {
   "cell_type": "code",
   "execution_count": 53,
   "id": "da02c01f",
   "metadata": {},
   "outputs": [],
   "source": [
    "sk.Sex.fillna('unknown', inplace=True)"
   ]
  },
  {
   "cell_type": "code",
   "execution_count": 54,
   "id": "e69bc732",
   "metadata": {},
   "outputs": [
    {
     "data": {
      "text/plain": [
       "M          5094\n",
       "unknown    2966\n",
       "F           637\n",
       "M             2\n",
       "N             2\n",
       "lli           1\n",
       ".             1\n",
       "Name: Sex, dtype: int64"
      ]
     },
     "execution_count": 54,
     "metadata": {},
     "output_type": "execute_result"
    }
   ],
   "source": [
    "sk.Sex.value_counts()"
   ]
  },
  {
   "cell_type": "code",
   "execution_count": 55,
   "id": "537b14e0",
   "metadata": {},
   "outputs": [],
   "source": [
    "sk.Sex.replace('N', 'unknown', inplace=True)"
   ]
  },
  {
   "cell_type": "code",
   "execution_count": 56,
   "id": "2d91759f",
   "metadata": {},
   "outputs": [
    {
     "data": {
      "text/plain": [
       "M          5094\n",
       "unknown    2968\n",
       "F           637\n",
       "M             2\n",
       "lli           1\n",
       ".             1\n",
       "Name: Sex, dtype: int64"
      ]
     },
     "execution_count": 56,
     "metadata": {},
     "output_type": "execute_result"
    }
   ],
   "source": [
    "sk.Sex.value_counts()"
   ]
  },
  {
   "cell_type": "code",
   "execution_count": 57,
   "id": "d5d1c34a",
   "metadata": {},
   "outputs": [],
   "source": [
    "sk.Sex.replace('M ', 'M', inplace=True)"
   ]
  },
  {
   "cell_type": "code",
   "execution_count": 58,
   "id": "f0f1b6ce",
   "metadata": {},
   "outputs": [
    {
     "data": {
      "text/plain": [
       "M          5096\n",
       "unknown    2968\n",
       "F           637\n",
       "lli           1\n",
       ".             1\n",
       "Name: Sex, dtype: int64"
      ]
     },
     "execution_count": 58,
     "metadata": {},
     "output_type": "execute_result"
    }
   ],
   "source": [
    "sk.Sex.value_counts()"
   ]
  },
  {
   "cell_type": "code",
   "execution_count": 59,
   "id": "297e7a60",
   "metadata": {},
   "outputs": [],
   "source": [
    "sk.Sex.replace({'lli': 'unknown','.':'unknown'}, inplace=True)"
   ]
  },
  {
   "cell_type": "code",
   "execution_count": 60,
   "id": "a9f9e3d6",
   "metadata": {},
   "outputs": [
    {
     "data": {
      "text/plain": [
       "M          5096\n",
       "unknown    2970\n",
       "F           637\n",
       "Name: Sex, dtype: int64"
      ]
     },
     "execution_count": 60,
     "metadata": {},
     "output_type": "execute_result"
    }
   ],
   "source": [
    "sk.Sex.value_counts()"
   ]
  },
  {
   "cell_type": "code",
   "execution_count": 61,
   "id": "6e6edb55",
   "metadata": {},
   "outputs": [
    {
     "data": {
      "text/plain": [
       "time              72.044123\n",
       "Case Number.2     56.187522\n",
       "Case Number.1     56.164541\n",
       "Date              37.285993\n",
       "Year              27.611169\n",
       "original order    27.507756\n",
       "dtype: float64"
      ]
     },
     "execution_count": 61,
     "metadata": {},
     "output_type": "execute_result"
    }
   ],
   "source": [
    "nan_cols=sk.isna().mean() * 100  # porcentaje de nulos por columna\n",
    "\n",
    "pepe= nan_cols[nan_cols>0].sort_values(ascending=False)\n",
    "\n",
    "pepe"
   ]
  },
  {
   "cell_type": "code",
   "execution_count": 62,
   "id": "cd9bb771",
   "metadata": {},
   "outputs": [
    {
     "data": {
      "text/plain": [
       "Case Number                       object\n",
       "Date                      datetime64[ns]\n",
       "Year                             float64\n",
       "Type                              object\n",
       "Country                           object\n",
       "Area                              object\n",
       "Location                          object\n",
       "Activity                          object\n",
       "Name                              object\n",
       "Sex                               object\n",
       "Injury                            object\n",
       "Fatal                             object\n",
       "Species                           object\n",
       "Investigator or Source            object\n",
       "pdf                               object\n",
       "href formula                      object\n",
       "href                              object\n",
       "Case Number.1             datetime64[ns]\n",
       "Case Number.2             datetime64[ns]\n",
       "original order                   float64\n",
       "time                      datetime64[ns]\n",
       "dtype: object"
      ]
     },
     "execution_count": 62,
     "metadata": {},
     "output_type": "execute_result"
    }
   ],
   "source": [
    "sk.dtypes"
   ]
  },
  {
   "cell_type": "code",
   "execution_count": 63,
   "id": "047925f5",
   "metadata": {},
   "outputs": [
    {
     "data": {
      "text/html": [
       "<div>\n",
       "<style scoped>\n",
       "    .dataframe tbody tr th:only-of-type {\n",
       "        vertical-align: middle;\n",
       "    }\n",
       "\n",
       "    .dataframe tbody tr th {\n",
       "        vertical-align: top;\n",
       "    }\n",
       "\n",
       "    .dataframe thead th {\n",
       "        text-align: right;\n",
       "    }\n",
       "</style>\n",
       "<table border=\"1\" class=\"dataframe\">\n",
       "  <thead>\n",
       "    <tr style=\"text-align: right;\">\n",
       "      <th></th>\n",
       "      <th>Case Number</th>\n",
       "      <th>Date</th>\n",
       "      <th>Year</th>\n",
       "      <th>Type</th>\n",
       "      <th>Country</th>\n",
       "      <th>Area</th>\n",
       "      <th>Location</th>\n",
       "      <th>Activity</th>\n",
       "      <th>Name</th>\n",
       "      <th>Sex</th>\n",
       "      <th>Injury</th>\n",
       "      <th>Fatal</th>\n",
       "      <th>Species</th>\n",
       "      <th>Investigator or Source</th>\n",
       "      <th>pdf</th>\n",
       "      <th>href formula</th>\n",
       "      <th>href</th>\n",
       "      <th>Case Number.1</th>\n",
       "      <th>Case Number.2</th>\n",
       "      <th>original order</th>\n",
       "      <th>time</th>\n",
       "    </tr>\n",
       "  </thead>\n",
       "  <tbody>\n",
       "    <tr>\n",
       "      <th>8698</th>\n",
       "      <td>0</td>\n",
       "      <td>NaT</td>\n",
       "      <td>NaN</td>\n",
       "      <td>unknown</td>\n",
       "      <td>unknown</td>\n",
       "      <td>unknown</td>\n",
       "      <td>unknown</td>\n",
       "      <td>unknown</td>\n",
       "      <td>unknown</td>\n",
       "      <td>unknown</td>\n",
       "      <td>unknown</td>\n",
       "      <td>unknown</td>\n",
       "      <td>unknown</td>\n",
       "      <td>unknown</td>\n",
       "      <td>unknown</td>\n",
       "      <td>unknown</td>\n",
       "      <td>unknown</td>\n",
       "      <td>NaT</td>\n",
       "      <td>NaT</td>\n",
       "      <td>NaN</td>\n",
       "      <td>NaT</td>\n",
       "    </tr>\n",
       "    <tr>\n",
       "      <th>8699</th>\n",
       "      <td>0</td>\n",
       "      <td>NaT</td>\n",
       "      <td>NaN</td>\n",
       "      <td>unknown</td>\n",
       "      <td>unknown</td>\n",
       "      <td>unknown</td>\n",
       "      <td>unknown</td>\n",
       "      <td>unknown</td>\n",
       "      <td>unknown</td>\n",
       "      <td>unknown</td>\n",
       "      <td>unknown</td>\n",
       "      <td>unknown</td>\n",
       "      <td>unknown</td>\n",
       "      <td>unknown</td>\n",
       "      <td>unknown</td>\n",
       "      <td>unknown</td>\n",
       "      <td>unknown</td>\n",
       "      <td>NaT</td>\n",
       "      <td>NaT</td>\n",
       "      <td>NaN</td>\n",
       "      <td>NaT</td>\n",
       "    </tr>\n",
       "    <tr>\n",
       "      <th>8700</th>\n",
       "      <td>0</td>\n",
       "      <td>NaT</td>\n",
       "      <td>NaN</td>\n",
       "      <td>unknown</td>\n",
       "      <td>unknown</td>\n",
       "      <td>unknown</td>\n",
       "      <td>unknown</td>\n",
       "      <td>unknown</td>\n",
       "      <td>unknown</td>\n",
       "      <td>unknown</td>\n",
       "      <td>unknown</td>\n",
       "      <td>unknown</td>\n",
       "      <td>unknown</td>\n",
       "      <td>unknown</td>\n",
       "      <td>unknown</td>\n",
       "      <td>unknown</td>\n",
       "      <td>unknown</td>\n",
       "      <td>NaT</td>\n",
       "      <td>NaT</td>\n",
       "      <td>NaN</td>\n",
       "      <td>NaT</td>\n",
       "    </tr>\n",
       "    <tr>\n",
       "      <th>8701</th>\n",
       "      <td>0</td>\n",
       "      <td>NaT</td>\n",
       "      <td>NaN</td>\n",
       "      <td>unknown</td>\n",
       "      <td>unknown</td>\n",
       "      <td>unknown</td>\n",
       "      <td>unknown</td>\n",
       "      <td>unknown</td>\n",
       "      <td>unknown</td>\n",
       "      <td>unknown</td>\n",
       "      <td>unknown</td>\n",
       "      <td>unknown</td>\n",
       "      <td>unknown</td>\n",
       "      <td>unknown</td>\n",
       "      <td>unknown</td>\n",
       "      <td>unknown</td>\n",
       "      <td>unknown</td>\n",
       "      <td>NaT</td>\n",
       "      <td>NaT</td>\n",
       "      <td>NaN</td>\n",
       "      <td>NaT</td>\n",
       "    </tr>\n",
       "    <tr>\n",
       "      <th>25722</th>\n",
       "      <td>xx</td>\n",
       "      <td>NaT</td>\n",
       "      <td>NaN</td>\n",
       "      <td>unknown</td>\n",
       "      <td>unknown</td>\n",
       "      <td>unknown</td>\n",
       "      <td>unknown</td>\n",
       "      <td>unknown</td>\n",
       "      <td>unknown</td>\n",
       "      <td>unknown</td>\n",
       "      <td>unknown</td>\n",
       "      <td>unknown</td>\n",
       "      <td>unknown</td>\n",
       "      <td>unknown</td>\n",
       "      <td>unknown</td>\n",
       "      <td>unknown</td>\n",
       "      <td>unknown</td>\n",
       "      <td>NaT</td>\n",
       "      <td>NaT</td>\n",
       "      <td>NaN</td>\n",
       "      <td>NaT</td>\n",
       "    </tr>\n",
       "  </tbody>\n",
       "</table>\n",
       "</div>"
      ],
      "text/plain": [
       "      Case Number Date  Year     Type  Country     Area Location Activity  \\\n",
       "8698            0  NaT   NaN  unknown  unknown  unknown  unknown  unknown   \n",
       "8699            0  NaT   NaN  unknown  unknown  unknown  unknown  unknown   \n",
       "8700            0  NaT   NaN  unknown  unknown  unknown  unknown  unknown   \n",
       "8701            0  NaT   NaN  unknown  unknown  unknown  unknown  unknown   \n",
       "25722          xx  NaT   NaN  unknown  unknown  unknown  unknown  unknown   \n",
       "\n",
       "          Name      Sex   Injury    Fatal  Species Investigator or Source  \\\n",
       "8698   unknown  unknown  unknown  unknown  unknown                unknown   \n",
       "8699   unknown  unknown  unknown  unknown  unknown                unknown   \n",
       "8700   unknown  unknown  unknown  unknown  unknown                unknown   \n",
       "8701   unknown  unknown  unknown  unknown  unknown                unknown   \n",
       "25722  unknown  unknown  unknown  unknown  unknown                unknown   \n",
       "\n",
       "           pdf href formula     href Case Number.1 Case Number.2  \\\n",
       "8698   unknown      unknown  unknown           NaT           NaT   \n",
       "8699   unknown      unknown  unknown           NaT           NaT   \n",
       "8700   unknown      unknown  unknown           NaT           NaT   \n",
       "8701   unknown      unknown  unknown           NaT           NaT   \n",
       "25722  unknown      unknown  unknown           NaT           NaT   \n",
       "\n",
       "       original order time  \n",
       "8698              NaN  NaT  \n",
       "8699              NaN  NaT  \n",
       "8700              NaN  NaT  \n",
       "8701              NaN  NaT  \n",
       "25722             NaN  NaT  "
      ]
     },
     "execution_count": 63,
     "metadata": {},
     "output_type": "execute_result"
    }
   ],
   "source": [
    "sk.tail()"
   ]
  },
  {
   "cell_type": "code",
   "execution_count": 64,
   "id": "4928ab2c",
   "metadata": {},
   "outputs": [
    {
     "data": {
      "text/plain": [
       "Index(['Year', 'original order'], dtype='object')"
      ]
     },
     "execution_count": 64,
     "metadata": {},
     "output_type": "execute_result"
    }
   ],
   "source": [
    "str_cols = sk.columns[sk.dtypes=='float64']\n",
    "str_cols"
   ]
  },
  {
   "cell_type": "code",
   "execution_count": 65,
   "id": "7ac9e0c4",
   "metadata": {},
   "outputs": [],
   "source": [
    "sk[str_cols] = sk[str_cols].fillna('0')"
   ]
  },
  {
   "cell_type": "code",
   "execution_count": 66,
   "id": "44f3d65f",
   "metadata": {},
   "outputs": [
    {
     "data": {
      "text/plain": [
       "time             72.044123\n",
       "Case Number.2    56.187522\n",
       "Case Number.1    56.164541\n",
       "Date             37.285993\n",
       "dtype: float64"
      ]
     },
     "execution_count": 66,
     "metadata": {},
     "output_type": "execute_result"
    }
   ],
   "source": [
    "nan_cols=sk.isna().mean() * 100  # porcentaje de nulos por columna\n",
    "\n",
    "pepe= nan_cols[nan_cols>0].sort_values(ascending=False)\n",
    "\n",
    "pepe"
   ]
  },
  {
   "cell_type": "code",
   "execution_count": 67,
   "id": "f47d4049",
   "metadata": {},
   "outputs": [
    {
     "data": {
      "text/plain": [
       "Case Number                       object\n",
       "Date                      datetime64[ns]\n",
       "Year                              object\n",
       "Type                              object\n",
       "Country                           object\n",
       "Area                              object\n",
       "Location                          object\n",
       "Activity                          object\n",
       "Name                              object\n",
       "Sex                               object\n",
       "Injury                            object\n",
       "Fatal                             object\n",
       "Species                           object\n",
       "Investigator or Source            object\n",
       "pdf                               object\n",
       "href formula                      object\n",
       "href                              object\n",
       "Case Number.1             datetime64[ns]\n",
       "Case Number.2             datetime64[ns]\n",
       "original order                    object\n",
       "time                      datetime64[ns]\n",
       "dtype: object"
      ]
     },
     "execution_count": 67,
     "metadata": {},
     "output_type": "execute_result"
    }
   ],
   "source": [
    "sk.dtypes"
   ]
  },
  {
   "cell_type": "code",
   "execution_count": 68,
   "id": "59ab07de",
   "metadata": {
    "scrolled": true
   },
   "outputs": [
    {
     "data": {
      "text/plain": [
       "<bound method Series.unique of Unprovoked      4595\n",
       "unknown         2405\n",
       "Provoked         574\n",
       "Invalid          547\n",
       "Sea Disaster     239\n",
       "Boating          203\n",
       "Boat             137\n",
       "Questionable       2\n",
       "Boatomg            1\n",
       "Name: Type, dtype: int64>"
      ]
     },
     "execution_count": 68,
     "metadata": {},
     "output_type": "execute_result"
    }
   ],
   "source": [
    "sk.Type.value_counts().unique"
   ]
  },
  {
   "cell_type": "code",
   "execution_count": null,
   "id": "8c71b724",
   "metadata": {},
   "outputs": [],
   "source": []
  },
  {
   "cell_type": "code",
   "execution_count": null,
   "id": "cfb4b0f0",
   "metadata": {},
   "outputs": [],
   "source": []
  }
 ],
 "metadata": {
  "kernelspec": {
   "display_name": "clase",
   "language": "python",
   "name": "clase"
  },
  "language_info": {
   "codemirror_mode": {
    "name": "ipython",
    "version": 3
   },
   "file_extension": ".py",
   "mimetype": "text/x-python",
   "name": "python",
   "nbconvert_exporter": "python",
   "pygments_lexer": "ipython3",
   "version": "3.7.13"
  }
 },
 "nbformat": 4,
 "nbformat_minor": 5
}
